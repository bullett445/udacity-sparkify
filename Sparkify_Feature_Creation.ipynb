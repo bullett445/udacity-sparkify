{
 "cells": [
  {
   "cell_type": "code",
   "execution_count": 1,
   "id": "524d55e2-28bc-46c7-9dd1-0f8646d648e1",
   "metadata": {
    "execution": {
     "iopub.execute_input": "2022-05-23T08:40:43.416175Z",
     "iopub.status.busy": "2022-05-23T08:40:43.415941Z",
     "iopub.status.idle": "2022-05-23T08:41:14.159144Z",
     "shell.execute_reply": "2022-05-23T08:41:14.158525Z",
     "shell.execute_reply.started": "2022-05-23T08:40:43.416148Z"
    },
    "tags": []
   },
   "outputs": [
    {
     "data": {
      "application/vnd.jupyter.widget-view+json": {
       "model_id": "657bb99d101d4dd8a7f259eed8b87653",
       "version_major": 2,
       "version_minor": 0
      },
      "text/plain": [
       "VBox()"
      ]
     },
     "metadata": {},
     "output_type": "display_data"
    },
    {
     "name": "stdout",
     "output_type": "stream",
     "text": [
      "Starting Spark application\n"
     ]
    },
    {
     "data": {
      "text/html": [
       "<table>\n",
       "<tr><th>ID</th><th>YARN Application ID</th><th>Kind</th><th>State</th><th>Spark UI</th><th>Driver log</th><th>Current session?</th></tr><tr><td>0</td><td>application_1653294769412_0002</td><td>pyspark</td><td>idle</td><td><a target=\"_blank\" href=\"http://ip-192-168-5-154.eu-central-1.compute.internal:20888/proxy/application_1653294769412_0002/\" class=\"emr-proxy-link\" emr-resource=\"j-PL6H0K7US5TK\n",
       "\" application-id=\"application_1653294769412_0002\">Link</a></td><td><a target=\"_blank\" href=\"http://ip-192-168-5-149.eu-central-1.compute.internal:8042/node/containerlogs/container_1653294769412_0002_01_000001/livy\" >Link</a></td><td>✔</td></tr></table>"
      ],
      "text/plain": [
       "<IPython.core.display.HTML object>"
      ]
     },
     "metadata": {},
     "output_type": "display_data"
    },
    {
     "data": {
      "application/vnd.jupyter.widget-view+json": {
       "model_id": "",
       "version_major": 2,
       "version_minor": 0
      },
      "text/plain": [
       "FloatProgress(value=0.0, bar_style='info', description='Progress:', layout=Layout(height='25px', width='50%'),…"
      ]
     },
     "metadata": {},
     "output_type": "display_data"
    },
    {
     "name": "stdout",
     "output_type": "stream",
     "text": [
      "SparkSession available as 'spark'.\n"
     ]
    },
    {
     "data": {
      "application/vnd.jupyter.widget-view+json": {
       "model_id": "",
       "version_major": 2,
       "version_minor": 0
      },
      "text/plain": [
       "FloatProgress(value=0.0, bar_style='info', description='Progress:', layout=Layout(height='25px', width='50%'),…"
      ]
     },
     "metadata": {},
     "output_type": "display_data"
    },
    {
     "name": "stdout",
     "output_type": "stream",
     "text": [
      "Welcome to my EMR Notebook!\n",
      "aws-cfn-bootstrap (2.0)\n",
      "beautifulsoup4 (4.9.3)\n",
      "boto (2.49.0)\n",
      "boto3 (1.18.46)\n",
      "botocore (1.21.65)\n",
      "certifi (2021.5.30)\n",
      "click (8.0.3)\n",
      "cppy (1.1.0)\n",
      "cycler (0.11.0)\n",
      "Cython (0.29.24)\n",
      "docutils (0.14)\n",
      "jmespath (0.10.0)\n",
      "joblib (1.1.0)\n",
      "kiwisolver (1.4.2)\n",
      "lockfile (0.11.0)\n",
      "lxml (4.6.3)\n",
      "matplotlib (3.4.3)\n",
      "mysqlclient (1.4.2)\n",
      "nltk (3.6.5)\n",
      "nose (1.3.4)\n",
      "numpy (1.21.2)\n",
      "pandas (1.3.3)\n",
      "Pillow (9.1.1)\n",
      "pip (9.0.1)\n",
      "py-dateutil (2.2)\n",
      "pyparsing (3.0.9)\n",
      "pystache (0.5.4)\n",
      "python-daemon (2.2.3)\n",
      "python-dateutil (2.8.2)\n",
      "python37-sagemaker-pyspark (1.4.1)\n",
      "pytz (2021.3)\n",
      "PyYAML (5.4.1)\n",
      "regex (2021.10.21)\n",
      "s3transfer (0.5.2)\n",
      "scipy (1.7.3)\n",
      "seaborn (0.11.2)\n",
      "setuptools (28.8.0)\n",
      "simplejson (3.2.0)\n",
      "six (1.13.0)\n",
      "tqdm (4.62.3)\n",
      "typing-extensions (4.2.0)\n",
      "ua-parser (0.10.0)\n",
      "urllib3 (1.26.9)\n",
      "user-agents (2.2.0)\n",
      "wheel (0.29.0)\n",
      "windmill (1.6)\n",
      "\n",
      "DEPRECATION: The default format will switch to columns in the future. You can use --format=(legacy|columns) (or define a format=(legacy|columns) in your pip.conf under the [list] section) to disable this warning.\n",
      "You are using pip version 9.0.1, however version 22.1.1 is available.\n",
      "You should consider upgrading via the 'pip install --upgrade pip' command."
     ]
    }
   ],
   "source": [
    "print(\"Welcome to my EMR Notebook!\")\n",
    "sc.list_packages()"
   ]
  },
  {
   "cell_type": "code",
   "execution_count": 2,
   "id": "78a86154-88d1-4de7-bdce-d8a771b430df",
   "metadata": {
    "execution": {
     "iopub.execute_input": "2022-05-23T08:41:20.252835Z",
     "iopub.status.busy": "2022-05-23T08:41:20.252587Z",
     "iopub.status.idle": "2022-05-23T08:44:00.477952Z",
     "shell.execute_reply": "2022-05-23T08:44:00.477211Z",
     "shell.execute_reply.started": "2022-05-23T08:41:20.252809Z"
    },
    "tags": []
   },
   "outputs": [
    {
     "data": {
      "application/vnd.jupyter.widget-view+json": {
       "model_id": "edc6bd8cd1a44235b71f5481e12deb33",
       "version_major": 2,
       "version_minor": 0
      },
      "text/plain": [
       "VBox()"
      ]
     },
     "metadata": {},
     "output_type": "display_data"
    },
    {
     "data": {
      "application/vnd.jupyter.widget-view+json": {
       "model_id": "",
       "version_major": 2,
       "version_minor": 0
      },
      "text/plain": [
       "FloatProgress(value=0.0, bar_style='info', description='Progress:', layout=Layout(height='25px', width='50%'),…"
      ]
     },
     "metadata": {},
     "output_type": "display_data"
    },
    {
     "name": "stdout",
     "output_type": "stream",
     "text": [
      "Row(artist='Popol Vuh', auth='Logged In', firstName='Shlok', gender='M', itemInSession=278, lastName='Johnson', length=524.32934, level='paid', location='Dallas-Fort Worth-Arlington, TX', method='PUT', page='NextSong', registration=1533734541000, sessionId=22683, song='Ich mache einen Spiegel - Dream Part 4', status=200, ts=1538352001000, userAgent='\"Mozilla/5.0 (Windows NT 6.1; WOW64) AppleWebKit/537.36 (KHTML, like Gecko) Chrome/36.0.1985.143 Safari/537.36\"', userId='1749042')"
     ]
    }
   ],
   "source": [
    "# Starter code\n",
    "\n",
    "#from pyspark.sql import SparkSession\n",
    "\n",
    "#os.environ['PYSPARK_PYTHON'] = \"./pyspark_venv/bin/python\"\n",
    "# Create spark session\n",
    "#spark = SparkSession \\\n",
    "#    .builder \\\n",
    "#    .appName(\"Sparkify\") \\\n",
    "#    .getOrCreate()\n",
    "\n",
    "#    .config( \\\n",
    "#    \"spark.archives\",  \\\n",
    "#    \"pyspark_venv.tar.gz#environment\") \\\n",
    "\n",
    "# Read in full sparkify dataset\n",
    "#event_data = \"./mini_sparkify_event_data.json\"\n",
    "#event_data = \"s3n://udacity-dsnd/sparkify/mini_sparkify_event_data.json\"\n",
    "event_data = \"s3n://udacity-dsnd/sparkify/sparkify_event_data.json\"\n",
    "df = spark.read.json(event_data)\n",
    "df.persist()\n",
    "df.createOrReplaceTempView('df')\n",
    "df.head()"
   ]
  },
  {
   "cell_type": "code",
   "execution_count": 36,
   "id": "9b8453a6-d250-4cad-958d-1838e9806fa0",
   "metadata": {
    "execution": {
     "iopub.execute_input": "2022-05-23T09:07:52.122716Z",
     "iopub.status.busy": "2022-05-23T09:07:52.122401Z",
     "iopub.status.idle": "2022-05-23T09:07:52.190500Z",
     "shell.execute_reply": "2022-05-23T09:07:52.189943Z",
     "shell.execute_reply.started": "2022-05-23T09:07:52.122685Z"
    },
    "tags": []
   },
   "outputs": [
    {
     "data": {
      "application/vnd.jupyter.widget-view+json": {
       "model_id": "567cb30a8ee142c4babd91973c2d3dfb",
       "version_major": 2,
       "version_minor": 0
      },
      "text/plain": [
       "VBox()"
      ]
     },
     "metadata": {},
     "output_type": "display_data"
    },
    {
     "data": {
      "application/vnd.jupyter.widget-view+json": {
       "model_id": "",
       "version_major": 2,
       "version_minor": 0
      },
      "text/plain": [
       "FloatProgress(value=0.0, bar_style='info', description='Progress:', layout=Layout(height='25px', width='50%'),…"
      ]
     },
     "metadata": {},
     "output_type": "display_data"
    }
   ],
   "source": [
    "import datetime \n",
    "import user_agents \n",
    "import numpy as np\n",
    "import pandas as pd\n",
    "from pyspark.sql.types import IntegerType\n",
    "import matplotlib as plt\n",
    "import seaborn as sns\n"
   ]
  },
  {
   "cell_type": "code",
   "execution_count": 4,
   "id": "58fde272-14e7-4f3a-bc5f-c1891e97395d",
   "metadata": {
    "execution": {
     "iopub.execute_input": "2022-05-23T08:44:20.235590Z",
     "iopub.status.busy": "2022-05-23T08:44:20.235368Z",
     "iopub.status.idle": "2022-05-23T08:47:30.233456Z",
     "shell.execute_reply": "2022-05-23T08:47:30.232570Z",
     "shell.execute_reply.started": "2022-05-23T08:44:20.235568Z"
    },
    "tags": []
   },
   "outputs": [
    {
     "data": {
      "application/vnd.jupyter.widget-view+json": {
       "model_id": "7a8bd956c8d341e0b4f3e94d6bb78c82",
       "version_major": 2,
       "version_minor": 0
      },
      "text/plain": [
       "VBox()"
      ]
     },
     "metadata": {},
     "output_type": "display_data"
    },
    {
     "data": {
      "application/vnd.jupyter.widget-view+json": {
       "model_id": "",
       "version_major": 2,
       "version_minor": 0
      },
      "text/plain": [
       "FloatProgress(value=0.0, bar_style='info', description='Progress:', layout=Layout(height='25px', width='50%'),…"
      ]
     },
     "metadata": {},
     "output_type": "display_data"
    },
    {
     "name": "stdout",
     "output_type": "stream",
     "text": [
      "+------------------+---------+---------+------+-------------+--------+---------+-----+--------------------+------+-----------+-------------+---------+--------------------+------+-------------+--------------------+-------+\n",
      "|            artist|     auth|firstName|gender|itemInSession|lastName|   length|level|            location|method|       page| registration|sessionId|                song|status|           ts|           userAgent| userId|\n",
      "+------------------+---------+---------+------+-------------+--------+---------+-----+--------------------+------+-----------+-------------+---------+--------------------+------+-------------+--------------------+-------+\n",
      "|      Ryan Cabrera|Logged In|  Karissa|     F|           66|    Hill|216.94649| paid|    St. Louis, MO-IL|   PUT|   NextSong|1537348076000|    18524|Photo (Album Vers...|   200|1538507092000|\"Mozilla/5.0 (Win...|1174391|\n",
      "|       Ace of Base|Logged In|     Emma|     F|            0|Jacobson|228.38812| free|         Holland, MI|   PUT|   NextSong|1533182327000|    11723|   Don't Turn Around|   200|1538507092000|\"Mozilla/5.0 (Mac...|1005829|\n",
      "|      Beastie Boys|Logged In|    Aiden|     M|          100| Mendoza|  211.722| paid|Washington-Arling...|   PUT|   NextSong|1536823765000|    20191|Unite (2009 Digit...|   200|1538507092000|\"Mozilla/5.0 (Mac...|1164295|\n",
      "|              null|Logged In|  Zachary|     M|           94|     Ray|     null| paid|Miami-Fort Lauder...|   PUT|  Thumbs Up|1537047811000|    30980|                null|   307|1538507092000|\"Mozilla/5.0 (Mac...|1140512|\n",
      "|Crash Test Dummies|Logged In|     Maya|     F|          109|    Hall|214.67383| paid|Denver-Aurora-Lak...|   PUT|   NextSong|1535140438000|    29501|     Mmm Mmm Mmm Mmm|   200|1538507093000|\"Mozilla/5.0 (Win...|1099620|\n",
      "|      Cyndi Lauper|Logged In|    Tevin|     M|           68| Jenkins|267.31057| free|      Greensburg, IN|   PUT|   NextSong|1537753941000|    32667|      If You Go Away|   200|1538507093000|\"Mozilla/5.0 (Win...|1663482|\n",
      "|      Nevertheless|Logged In|  Kendall|     F|           76|  Miller|201.19465| free|Portland-Vancouve...|   PUT|   NextSong|1530841412000|    14416|Patience And Devo...|   200|1538507093000|\"Mozilla/5.0 (Win...|1411968|\n",
      "|      Beastie Boys|Logged In| Benjamin|     M|           37| Goodman|  211.722| free|Phoenix-Mesa-Scot...|   PUT|   NextSong|1527615250000|    26160|Unite (2009 Digit...|   200|1538507093000|\"Mozilla/5.0 (Mac...|1078300|\n",
      "|              null|Logged In|Alexander|     M|           50|  Powers|     null| free|Los Angeles-Long ...|   GET|Roll Advert|1534310799000|    32594|                null|   200|1538507093000|Mozilla/5.0 (Wind...|1663073|\n",
      "| Empire Of The Sun|Logged In|Katherine|     F|           99| Jenkins|275.56526| paid|New York-Newark-J...|   PUT|   NextSong|1534486969000|    23068|           The World|   200|1538507094000|\"Mozilla/5.0 (X11...|1446921|\n",
      "+------------------+---------+---------+------+-------------+--------+---------+-----+--------------------+------+-----------+-------------+---------+--------------------+------+-------------+--------------------+-------+"
     ]
    }
   ],
   "source": [
    "# hello world\n",
    "df.limit(10).show()"
   ]
  },
  {
   "cell_type": "markdown",
   "id": "4fe25a84-f50a-470e-a662-24d05ae398b1",
   "metadata": {},
   "source": [
    "## Data cleaning"
   ]
  },
  {
   "cell_type": "code",
   "execution_count": 5,
   "id": "a556efce-bfa5-4e75-97e8-b35ee14fae31",
   "metadata": {
    "execution": {
     "iopub.execute_input": "2022-05-20T14:45:55.094614Z",
     "iopub.status.busy": "2022-05-20T14:45:55.094379Z",
     "iopub.status.idle": "2022-05-20T14:45:55.887751Z",
     "shell.execute_reply": "2022-05-20T14:45:55.887059Z",
     "shell.execute_reply.started": "2022-05-20T14:45:55.094591Z"
    },
    "tags": []
   },
   "outputs": [
    {
     "data": {
      "application/vnd.jupyter.widget-view+json": {
       "model_id": "382710039855443aa10aac72227b5c5d",
       "version_major": 2,
       "version_minor": 0
      },
      "text/plain": [
       "VBox()"
      ]
     },
     "metadata": {},
     "output_type": "display_data"
    },
    {
     "data": {
      "application/vnd.jupyter.widget-view+json": {
       "model_id": "",
       "version_major": 2,
       "version_minor": 0
      },
      "text/plain": [
       "FloatProgress(value=0.0, bar_style='info', description='Progress:', layout=Layout(height='25px', width='50%'),…"
      ]
     },
     "metadata": {},
     "output_type": "display_data"
    },
    {
     "name": "stdout",
     "output_type": "stream",
     "text": [
      "+------+----------+---------+------+-------------+--------+------+-----+--------+------+-----+------------+---------+----+------+-------------+---------+-------+\n",
      "|artist|      auth|firstName|gender|itemInSession|lastName|length|level|location|method| page|registration|sessionId|song|status|           ts|userAgent| userId|\n",
      "+------+----------+---------+------+-------------+--------+------+-----+--------+------+-----+------------+---------+----+------+-------------+---------+-------+\n",
      "|  null|Logged Out|     null|  null|           87|    null|  null| paid|    null|   GET| Home|        null|     8615|null|   200|1538352008000|     null|1261737|\n",
      "|  null|Logged Out|     null|  null|            0|    null|  null| free|    null|   PUT|Login|        null|     7433|null|   307|1538352041000|     null|1261737|\n",
      "|  null|Logged Out|     null|  null|            4|    null|  null| free|    null|   GET| Home|        null|    25003|null|   200|1538352182000|     null|1261737|\n",
      "|  null|Logged Out|     null|  null|            2|    null|  null| free|    null|   GET| Home|        null|     9930|null|   200|1538352254000|     null|1261737|\n",
      "|  null|Logged Out|     null|  null|            3|    null|  null| free|    null|   PUT|Login|        null|     9930|null|   307|1538352255000|     null|1261737|\n",
      "|  null|Logged Out|     null|  null|            0|    null|  null| free|    null|   PUT|Login|        null|    23471|null|   307|1538352259000|     null|1261737|\n",
      "|  null|Logged Out|     null|  null|           44|    null|  null| free|    null|   GET| Home|        null|     6317|null|   200|1538352278000|     null|1261737|\n",
      "|  null|Logged Out|     null|  null|           43|    null|  null| free|    null|   GET| Home|        null|    22951|null|   200|1538352361000|     null|1261737|\n",
      "|  null|Logged Out|     null|  null|           44|    null|  null| free|    null|   GET| Home|        null|    22951|null|   200|1538352365000|     null|1261737|\n",
      "|  null|Logged Out|     null|  null|           95|    null|  null| paid|    null|   GET| Home|        null|     6071|null|   200|1538352404000|     null|1261737|\n",
      "|  null|Logged Out|     null|  null|           96|    null|  null| paid|    null|   PUT|Login|        null|     6071|null|   307|1538352405000|     null|1261737|\n",
      "|  null|Logged Out|     null|  null|          137|    null|  null| paid|    null|   GET| Home|        null|     9422|null|   200|1538352461000|     null|1261737|\n",
      "|  null|Logged Out|     null|  null|           68|    null|  null| paid|    null|   GET| Home|        null|    21447|null|   200|1538352464000|     null|1261737|\n",
      "|  null|Logged Out|     null|  null|           69|    null|  null| paid|    null|   PUT|Login|        null|    21447|null|   307|1538352465000|     null|1261737|\n",
      "|  null|Logged Out|     null|  null|          138|    null|  null| paid|    null|   GET| Home|        null|     9422|null|   200|1538352481000|     null|1261737|\n",
      "|  null|Logged Out|     null|  null|          139|    null|  null| paid|    null|   PUT|Login|        null|     9422|null|   307|1538352482000|     null|1261737|\n",
      "|  null|Logged Out|     null|  null|          279|    null|  null| paid|    null|   GET| Home|        null|     9659|null|   200|1538352501000|     null|1261737|\n",
      "|  null|Logged Out|     null|  null|           29|    null|  null| free|    null|   GET| Home|        null|    10467|null|   200|1538352507000|     null|1261737|\n",
      "|  null|Logged Out|     null|  null|          150|    null|  null| paid|    null|   GET| Home|        null|    13098|null|   200|1538352520000|     null|1261737|\n",
      "|  null|Logged Out|     null|  null|          280|    null|  null| paid|    null|   GET| Home|        null|     9659|null|   200|1538352542000|     null|1261737|\n",
      "+------+----------+---------+------+-------------+--------+------+-----+--------+------+-----+------------+---------+----+------+-------------+---------+-------+\n",
      "only showing top 20 rows"
     ]
    }
   ],
   "source": [
    "# check for null values in the dataset\n",
    "spark.sql('''\n",
    "select * from df \n",
    "where userId is null or sessionId is null or itemInsession is null or page is null or registration is null or ts is null\n",
    "''').show()"
   ]
  },
  {
   "cell_type": "code",
   "execution_count": 6,
   "id": "a64318d2-ccdd-4853-9eeb-84de11436f71",
   "metadata": {
    "execution": {
     "iopub.execute_input": "2022-05-20T14:46:01.807963Z",
     "iopub.status.busy": "2022-05-20T14:46:01.807627Z",
     "iopub.status.idle": "2022-05-20T14:46:04.136897Z",
     "shell.execute_reply": "2022-05-20T14:46:04.136182Z",
     "shell.execute_reply.started": "2022-05-20T14:46:01.807924Z"
    },
    "tags": []
   },
   "outputs": [
    {
     "data": {
      "application/vnd.jupyter.widget-view+json": {
       "model_id": "f62c6a37c221482588e1f61cf055a603",
       "version_major": 2,
       "version_minor": 0
      },
      "text/plain": [
       "VBox()"
      ]
     },
     "metadata": {},
     "output_type": "display_data"
    },
    {
     "data": {
      "application/vnd.jupyter.widget-view+json": {
       "model_id": "",
       "version_major": 2,
       "version_minor": 0
      },
      "text/plain": [
       "FloatProgress(value=0.0, bar_style='info', description='Progress:', layout=Layout(height='25px', width='50%'),…"
      ]
     },
     "metadata": {},
     "output_type": "display_data"
    },
    {
     "name": "stdout",
     "output_type": "stream",
     "text": [
      "+-------+\n",
      "| userId|\n",
      "+-------+\n",
      "|1261737|\n",
      "+-------+"
     ]
    }
   ],
   "source": [
    "# how do we know the userid if the auth state is Logged Out ?\n",
    "spark.sql('''\n",
    "select distinct userId from df \n",
    "where auth = 'Logged Out' \n",
    "''').show()"
   ]
  },
  {
   "cell_type": "code",
   "execution_count": 7,
   "id": "7b96ccfd-a441-46d3-94c1-93e5ed517acf",
   "metadata": {
    "execution": {
     "iopub.execute_input": "2022-05-20T14:46:05.441704Z",
     "iopub.status.busy": "2022-05-20T14:46:05.441470Z",
     "iopub.status.idle": "2022-05-20T14:46:10.765783Z",
     "shell.execute_reply": "2022-05-20T14:46:10.765223Z",
     "shell.execute_reply.started": "2022-05-20T14:46:05.441679Z"
    },
    "tags": []
   },
   "outputs": [
    {
     "data": {
      "application/vnd.jupyter.widget-view+json": {
       "model_id": "8778b900194848ac9af0374d5c9099f3",
       "version_major": 2,
       "version_minor": 0
      },
      "text/plain": [
       "VBox()"
      ]
     },
     "metadata": {},
     "output_type": "display_data"
    },
    {
     "data": {
      "application/vnd.jupyter.widget-view+json": {
       "model_id": "",
       "version_major": 2,
       "version_minor": 0
      },
      "text/plain": [
       "FloatProgress(value=0.0, bar_style='info', description='Progress:', layout=Layout(height='25px', width='50%'),…"
      ]
     },
     "metadata": {},
     "output_type": "display_data"
    },
    {
     "name": "stdout",
     "output_type": "stream",
     "text": [
      "+----------+\n",
      "|      auth|\n",
      "+----------+\n",
      "|Logged Out|\n",
      "|     Guest|\n",
      "+----------+\n",
      "\n",
      "+----------+\n",
      "|      auth|\n",
      "+----------+\n",
      "|Logged Out|\n",
      "|     Guest|\n",
      "| Cancelled|\n",
      "| Logged In|\n",
      "+----------+\n",
      "\n",
      "+--------------------+\n",
      "|                page|\n",
      "+--------------------+\n",
      "|Cancellation Conf...|\n",
      "+--------------------+"
     ]
    }
   ],
   "source": [
    "# seems to be a pseudo user id used for logged out users\n",
    "spark.sql('''\n",
    "select distinct auth from df \n",
    "where userId = '1261737'\n",
    "''').show()\n",
    "\n",
    "# let's see which auth states may happen?\n",
    "spark.sql('''\n",
    "select distinct auth from df \n",
    "--where userId = '1261737'\n",
    "''').show()\n",
    "\n",
    "# what pages is auth state Cancelled used for?\n",
    "spark.sql('''\n",
    "select distinct page from df \n",
    "where auth = 'Cancelled'\n",
    "''').show()\n"
   ]
  },
  {
   "cell_type": "code",
   "execution_count": 8,
   "id": "8e9e5b93-8b07-4ee3-a0d7-346d99b84fdc",
   "metadata": {
    "execution": {
     "iopub.execute_input": "2022-05-20T14:46:13.607232Z",
     "iopub.status.busy": "2022-05-20T14:46:13.607005Z",
     "iopub.status.idle": "2022-05-20T14:46:14.916941Z",
     "shell.execute_reply": "2022-05-20T14:46:14.916351Z",
     "shell.execute_reply.started": "2022-05-20T14:46:13.607209Z"
    },
    "tags": []
   },
   "outputs": [
    {
     "data": {
      "application/vnd.jupyter.widget-view+json": {
       "model_id": "ee111ff3e6da46a7a3f30cb1fa0cd40b",
       "version_major": 2,
       "version_minor": 0
      },
      "text/plain": [
       "VBox()"
      ]
     },
     "metadata": {},
     "output_type": "display_data"
    },
    {
     "data": {
      "application/vnd.jupyter.widget-view+json": {
       "model_id": "",
       "version_major": 2,
       "version_minor": 0
      },
      "text/plain": [
       "FloatProgress(value=0.0, bar_style='info', description='Progress:', layout=Layout(height='25px', width='50%'),…"
      ]
     },
     "metadata": {},
     "output_type": "display_data"
    },
    {
     "name": "stdout",
     "output_type": "stream",
     "text": [
      "+-----+\n",
      "| page|\n",
      "+-----+\n",
      "|Error|\n",
      "| Help|\n",
      "| Home|\n",
      "|About|\n",
      "|Login|\n",
      "+-----+"
     ]
    }
   ],
   "source": [
    "# interactions in state Logged Out don't help us as they are not assigned to a user\n",
    "spark.sql('''\n",
    "select distinct page \n",
    "from df\n",
    "where auth = 'Logged Out'\n",
    "''').show()"
   ]
  },
  {
   "cell_type": "code",
   "execution_count": 9,
   "id": "59495a7e-aaee-4cdb-af8c-b5aaf6574656",
   "metadata": {
    "execution": {
     "iopub.execute_input": "2022-05-23T08:52:27.446663Z",
     "iopub.status.busy": "2022-05-23T08:52:27.446344Z",
     "iopub.status.idle": "2022-05-23T08:52:27.743565Z",
     "shell.execute_reply": "2022-05-23T08:52:27.742551Z",
     "shell.execute_reply.started": "2022-05-23T08:52:27.446622Z"
    },
    "tags": []
   },
   "outputs": [
    {
     "data": {
      "application/vnd.jupyter.widget-view+json": {
       "model_id": "140ec5bf90b146ed86b9894e8306c433",
       "version_major": 2,
       "version_minor": 0
      },
      "text/plain": [
       "VBox()"
      ]
     },
     "metadata": {},
     "output_type": "display_data"
    },
    {
     "data": {
      "application/vnd.jupyter.widget-view+json": {
       "model_id": "",
       "version_major": 2,
       "version_minor": 0
      },
      "text/plain": [
       "FloatProgress(value=0.0, bar_style='info', description='Progress:', layout=Layout(height='25px', width='50%'),…"
      ]
     },
     "metadata": {},
     "output_type": "display_data"
    }
   ],
   "source": [
    "# Let's get rid of the auth Logged Out and Guest lines in the dataset\n",
    "dfc = spark.sql('''\n",
    "select artist\n",
    "    , auth \n",
    "    , firstName\n",
    "    , gender\n",
    "    , itemInSession\n",
    "    , lastName\n",
    "    , length\n",
    "    , level\n",
    "    , location\n",
    "    , method\n",
    "    , page\n",
    "    , registration\n",
    "    , sessionId\n",
    "    , song\n",
    "    , status\n",
    "    , ts\n",
    "    , sha(userAgent) as agentKey -- surrogate key\n",
    "    , userId\n",
    "from df\n",
    "where auth IN ( 'Logged In', 'Cancelled')\n",
    "''')\n",
    "dfc.persist()\n",
    "dfc.createOrReplaceTempView('dfc')"
   ]
  },
  {
   "cell_type": "markdown",
   "id": "584c4f19-545c-43df-a6cd-d094169e765e",
   "metadata": {},
   "source": [
    "## Funnel analysis\n",
    "\n",
    "Let's figure out if there are particular page/action flows around the downgrade and cancellation"
   ]
  },
  {
   "cell_type": "code",
   "execution_count": 10,
   "id": "88776768-7883-4fe0-935b-8a4261707822",
   "metadata": {
    "execution": {
     "iopub.execute_input": "2022-05-20T14:46:26.043645Z",
     "iopub.status.busy": "2022-05-20T14:46:26.043428Z",
     "iopub.status.idle": "2022-05-20T14:47:15.523616Z",
     "shell.execute_reply": "2022-05-20T14:47:15.522814Z",
     "shell.execute_reply.started": "2022-05-20T14:46:26.043621Z"
    },
    "tags": []
   },
   "outputs": [
    {
     "data": {
      "application/vnd.jupyter.widget-view+json": {
       "model_id": "3a48ea7d55d74b24adb88a80a11d625c",
       "version_major": 2,
       "version_minor": 0
      },
      "text/plain": [
       "VBox()"
      ]
     },
     "metadata": {},
     "output_type": "display_data"
    },
    {
     "data": {
      "application/vnd.jupyter.widget-view+json": {
       "model_id": "",
       "version_major": 2,
       "version_minor": 0
      },
      "text/plain": [
       "FloatProgress(value=0.0, bar_style='info', description='Progress:', layout=Layout(height='25px', width='50%'),…"
      ]
     },
     "metadata": {},
     "output_type": "display_data"
    },
    {
     "name": "stdout",
     "output_type": "stream",
     "text": [
      "+--------+-------------------------+\n",
      "|count(1)|page                     |\n",
      "+--------+-------------------------+\n",
      "|20850272|NextSong                 |\n",
      "|1151465 |Thumbs Up                |\n",
      "|933124  |Home                     |\n",
      "|597921  |Add to Playlist          |\n",
      "|385212  |Roll Advert              |\n",
      "|381664  |Add Friend               |\n",
      "|296005  |Logout                   |\n",
      "|239212  |Thumbs Down              |\n",
      "|184240  |Downgrade                |\n",
      "|147074  |Settings                 |\n",
      "|129448  |Help                     |\n",
      "|50507   |Upgrade                  |\n",
      "|48377   |About                    |\n",
      "|29516   |Save Settings            |\n",
      "|25048   |Error                    |\n",
      "|15135   |Submit Upgrade           |\n",
      "|6494    |Submit Downgrade         |\n",
      "|5003    |Cancel                   |\n",
      "|5003    |Cancellation Confirmation|\n",
      "+--------+-------------------------+"
     ]
    }
   ],
   "source": [
    "# which pages exist and how often are the presented\n",
    "spark.sql('''\n",
    "select count(*), page \n",
    "from dfc\n",
    "group by page\n",
    "order by count(*) desc\n",
    "''').show(truncate=False)"
   ]
  },
  {
   "cell_type": "code",
   "execution_count": 32,
   "id": "42f24b58-452f-497e-af2c-96324ffc1885",
   "metadata": {
    "execution": {
     "iopub.execute_input": "2022-05-20T13:13:59.693878Z",
     "iopub.status.busy": "2022-05-20T13:13:59.693527Z",
     "iopub.status.idle": "2022-05-20T13:15:01.204407Z",
     "shell.execute_reply": "2022-05-20T13:15:01.203712Z",
     "shell.execute_reply.started": "2022-05-20T13:13:59.693836Z"
    },
    "tags": []
   },
   "outputs": [
    {
     "data": {
      "application/vnd.jupyter.widget-view+json": {
       "model_id": "1dbc42f0317343f0822a429648b50daa",
       "version_major": 2,
       "version_minor": 0
      },
      "text/plain": [
       "VBox()"
      ]
     },
     "metadata": {},
     "output_type": "display_data"
    },
    {
     "data": {
      "application/vnd.jupyter.widget-view+json": {
       "model_id": "",
       "version_major": 2,
       "version_minor": 0
      },
      "text/plain": [
       "FloatProgress(value=0.0, bar_style='info', description='Progress:', layout=Layout(height='25px', width='50%'),…"
      ]
     },
     "metadata": {},
     "output_type": "display_data"
    },
    {
     "name": "stdout",
     "output_type": "stream",
     "text": [
      "+--------+------------------+-------------------+-----------+------------+------+-----+--------------------+-----------+----------------+-----------------+\n",
      "|count(1)|before_before_page|before_before_level|before_page|before_level|  page|level|          after_page|after_level|after_after_page|after_after_level|\n",
      "+--------+------------------+-------------------+-----------+------------+------+-----+--------------------+-----------+----------------+-----------------+\n",
      "|    1834|          NextSong|               paid|  Downgrade|        paid|Cancel| paid|Cancellation Conf...|       paid|            null|             null|\n",
      "|    1059|          NextSong|               free|Roll Advert|        free|Cancel| free|Cancellation Conf...|       free|            null|             null|\n",
      "|     468|          NextSong|               paid|   Settings|        paid|Cancel| paid|Cancellation Conf...|       paid|            null|             null|\n",
      "|     337|          NextSong|               paid|Roll Advert|        paid|Cancel| paid|Cancellation Conf...|       paid|            null|             null|\n",
      "|     312|          NextSong|               paid|Thumbs Down|        paid|Cancel| paid|Cancellation Conf...|       paid|            null|             null|\n",
      "|     224|          NextSong|               free|Thumbs Down|        free|Cancel| free|Cancellation Conf...|       free|            null|             null|\n",
      "|     169|         Downgrade|               paid|  Downgrade|        paid|Cancel| paid|Cancellation Conf...|       paid|            null|             null|\n",
      "|     159|          NextSong|               free|   Settings|        free|Cancel| free|Cancellation Conf...|       free|            null|             null|\n",
      "|      75|              Home|               paid|   Settings|        paid|Cancel| paid|Cancellation Conf...|       paid|            null|             null|\n",
      "|      51|       Roll Advert|               free|Roll Advert|        free|Cancel| free|Cancellation Conf...|       free|            null|             null|\n",
      "|      40|       Thumbs Down|               paid|  Downgrade|        paid|Cancel| paid|Cancellation Conf...|       paid|            null|             null|\n",
      "|      38|              Home|               paid|  Downgrade|        paid|Cancel| paid|Cancellation Conf...|       paid|            null|             null|\n",
      "|      30|       Roll Advert|               paid|  Downgrade|        paid|Cancel| paid|Cancellation Conf...|       paid|            null|             null|\n",
      "|      27|              Home|               free|   Settings|        free|Cancel| free|Cancellation Conf...|       free|            null|             null|\n",
      "|      24|          Settings|               paid|   Settings|        paid|Cancel| paid|Cancellation Conf...|       paid|            null|             null|\n",
      "|      24|       Thumbs Down|               paid|   Settings|        paid|Cancel| paid|Cancellation Conf...|       paid|            null|             null|\n",
      "|      24|        Add Friend|               free|   Settings|        free|Cancel| free|Cancellation Conf...|       free|            null|             null|\n",
      "|      21|          Settings|               free|   Settings|        free|Cancel| free|Cancellation Conf...|       free|            null|             null|\n",
      "|      18|          Settings|               paid|  Downgrade|        paid|Cancel| paid|Cancellation Conf...|       paid|            null|             null|\n",
      "|      16|       Roll Advert|               paid|Roll Advert|        paid|Cancel| paid|Cancellation Conf...|       paid|            null|             null|\n",
      "|      15|              Help|               paid|   Settings|        paid|Cancel| paid|Cancellation Conf...|       paid|            null|             null|\n",
      "|      15|     Save Settings|               paid|   Settings|        paid|Cancel| paid|Cancellation Conf...|       paid|            null|             null|\n",
      "|       8|              Help|               free|   Settings|        free|Cancel| free|Cancellation Conf...|       free|            null|             null|\n",
      "|       7|              Help|               paid|  Downgrade|        paid|Cancel| paid|Cancellation Conf...|       paid|            null|             null|\n",
      "|       4|     Save Settings|               free|   Settings|        free|Cancel| free|Cancellation Conf...|       free|            null|             null|\n",
      "|       2|             About|               paid|   Settings|        paid|Cancel| paid|Cancellation Conf...|       paid|            null|             null|\n",
      "|       2|             About|               free|   Settings|        free|Cancel| free|Cancellation Conf...|       free|            null|             null|\n",
      "+--------+------------------+-------------------+-----------+------------+------+-----+--------------------+-----------+----------------+-----------------+\n",
      "\n",
      "+--------+------------------+-------------------+-----------+------------+----------------+-----+----------+-----------+----------------+-----------------+\n",
      "|count(1)|before_before_page|before_before_level|before_page|before_level|            page|level|after_page|after_level|after_after_page|after_after_level|\n",
      "+--------+------------------+-------------------+-----------+------------+----------------+-----+----------+-----------+----------------+-----------------+\n",
      "|    4841|          NextSong|               paid|  Downgrade|        paid|Submit Downgrade| paid|      Home|       free|        NextSong|             free|\n",
      "|     405|         Downgrade|               paid|  Downgrade|        paid|Submit Downgrade| paid|      Home|       free|        NextSong|             free|\n",
      "|     274|          NextSong|               paid|  Downgrade|        paid|Submit Downgrade| paid|      Home|       free|            null|             null|\n",
      "|     266|          NextSong|               paid|  Downgrade|        paid|Submit Downgrade| paid|      Home|       free|      Add Friend|             free|\n",
      "|     119|       Thumbs Down|               paid|  Downgrade|        paid|Submit Downgrade| paid|      Home|       free|        NextSong|             free|\n",
      "|     116|          NextSong|               paid|  Downgrade|        paid|Submit Downgrade| paid|      Home|       free|        Settings|             free|\n",
      "|      97|              Home|               paid|  Downgrade|        paid|Submit Downgrade| paid|      Home|       free|        NextSong|             free|\n",
      "|      59|          NextSong|               paid|  Downgrade|        paid|Submit Downgrade| paid|      Home|       free|          Logout|             free|\n",
      "|      49|          NextSong|               paid|  Downgrade|        paid|Submit Downgrade| paid|      Home|       free|            Home|             free|\n",
      "|      48|       Roll Advert|               paid|  Downgrade|        paid|Submit Downgrade| paid|      Home|       free|        NextSong|             free|\n",
      "|      39|          NextSong|               paid|  Downgrade|        paid|Submit Downgrade| paid|      Home|       free|         Upgrade|             free|\n",
      "|      38|          Settings|               paid|  Downgrade|        paid|Submit Downgrade| paid|      Home|       free|        NextSong|             free|\n",
      "|      23|         Downgrade|               paid|  Downgrade|        paid|Submit Downgrade| paid|      Home|       free|            null|             null|\n",
      "|      17|         Downgrade|               paid|  Downgrade|        paid|Submit Downgrade| paid|      Home|       free|      Add Friend|             free|\n",
      "|      13|          NextSong|               paid|  Downgrade|        paid|Submit Downgrade| paid|      Home|       free|            Help|             free|\n",
      "|      11|              Help|               paid|  Downgrade|        paid|Submit Downgrade| paid|      Home|       free|        NextSong|             free|\n",
      "|      11|         Downgrade|               paid|  Downgrade|        paid|Submit Downgrade| paid|      Home|       free|        Settings|             free|\n",
      "|      10|       Thumbs Down|               paid|  Downgrade|        paid|Submit Downgrade| paid|      Home|       free|            null|             null|\n",
      "|      10|          NextSong|               paid|  Downgrade|        paid|Submit Downgrade| paid|      Home|       free|           About|             free|\n",
      "|       5|       Thumbs Down|               paid|  Downgrade|        paid|Submit Downgrade| paid|      Home|       free|      Add Friend|             free|\n",
      "|       5|              Home|               paid|  Downgrade|        paid|Submit Downgrade| paid|      Home|       free|            null|             null|\n",
      "|       4|              Home|               paid|  Downgrade|        paid|Submit Downgrade| paid|      Home|       free|      Add Friend|             free|\n",
      "|       4|         Downgrade|               paid|  Downgrade|        paid|Submit Downgrade| paid|      Home|       free|          Logout|             free|\n",
      "|       3|          NextSong|               paid|  Downgrade|        paid|Submit Downgrade| paid|      Home|       free|           Error|             free|\n",
      "|       3|       Roll Advert|               paid|  Downgrade|        paid|Submit Downgrade| paid|      Home|       free|      Add Friend|             free|\n",
      "|       3|         Downgrade|               paid|  Downgrade|        paid|Submit Downgrade| paid|      Home|       free|            Home|             free|\n",
      "|       2|       Thumbs Down|               paid|  Downgrade|        paid|Submit Downgrade| paid|      Home|       free|          Logout|             free|\n",
      "|       2|          Settings|               paid|  Downgrade|        paid|Submit Downgrade| paid|      Home|       free|      Add Friend|             free|\n",
      "|       2|              Home|               paid|  Downgrade|        paid|Submit Downgrade| paid|      Home|       free|        Settings|             free|\n",
      "|       2|       Roll Advert|               paid|  Downgrade|        paid|Submit Downgrade| paid|      Home|       free|            null|             null|\n",
      "+--------+------------------+-------------------+-----------+------------+----------------+-----+----------+-----------+----------------+-----------------+\n",
      "only showing top 30 rows\n",
      "\n",
      "+--------+------------------+-------------------+-----------+------------+---------+-----+----------------+-----------+--------------------+-----------------+\n",
      "|count(1)|before_before_page|before_before_level|before_page|before_level|     page|level|      after_page|after_level|    after_after_page|after_after_level|\n",
      "+--------+------------------+-------------------+-----------+------------+---------+-----+----------------+-----------+--------------------+-----------------+\n",
      "|   74328|          NextSong|               paid|   NextSong|        paid|Downgrade| paid|        NextSong|       paid|            NextSong|             paid|\n",
      "|   12515|          NextSong|               paid|   NextSong|        paid|Downgrade| paid|          Logout|       paid|                Home|             paid|\n",
      "|   11699|          NextSong|               paid|   NextSong|        paid|Downgrade| paid|            Home|       paid|            NextSong|             paid|\n",
      "|    6291|          NextSong|               paid|  Downgrade|        paid|Downgrade| paid|        NextSong|       paid|            NextSong|             paid|\n",
      "|    6274|          NextSong|               paid|   NextSong|        paid|Downgrade| paid|       Downgrade|       paid|            NextSong|             paid|\n",
      "|    4787|          NextSong|               paid|   NextSong|        paid|Downgrade| paid|Submit Downgrade|       paid|                Home|             free|\n",
      "|    4699|          NextSong|               paid|   NextSong|        paid|Downgrade| paid|        NextSong|       paid|           Thumbs Up|             paid|\n",
      "|    4091|         Thumbs Up|               paid|   NextSong|        paid|Downgrade| paid|        NextSong|       paid|            NextSong|             paid|\n",
      "|    3727|          NextSong|               paid|   NextSong|        paid|Downgrade| paid|            null|       null|                null|             null|\n",
      "|    2987|              Home|               paid|   NextSong|        paid|Downgrade| paid|        NextSong|       paid|            NextSong|             paid|\n",
      "|    2414|   Add to Playlist|               paid|   NextSong|        paid|Downgrade| paid|        NextSong|       paid|            NextSong|             paid|\n",
      "|    2255|          NextSong|               paid|   NextSong|        paid|Downgrade| paid|        NextSong|       paid|     Add to Playlist|             paid|\n",
      "|    1898|          NextSong|               paid|Thumbs Down|        paid|Downgrade| paid|        NextSong|       paid|            NextSong|             paid|\n",
      "|    1759|          NextSong|               paid|   NextSong|        paid|Downgrade| paid|        NextSong|       paid|                Home|             paid|\n",
      "|    1531|          NextSong|               paid|   NextSong|        paid|Downgrade| paid|          Cancel|       paid|Cancellation Conf...|             paid|\n",
      "|    1185|          NextSong|               paid|   NextSong|        paid|Downgrade| paid|          Logout|       paid|                null|             null|\n",
      "|    1105|          NextSong|               paid|  Downgrade|        paid|Downgrade| paid|          Logout|       paid|                Home|             paid|\n",
      "|    1051|        Add Friend|               paid|   NextSong|        paid|Downgrade| paid|        NextSong|       paid|            NextSong|             paid|\n",
      "|    1015|          NextSong|               paid|   NextSong|        paid|Downgrade| paid|       Downgrade|       paid|              Logout|             paid|\n",
      "|    1009|          NextSong|               paid|   NextSong|        paid|Downgrade| paid|        NextSong|       paid|         Thumbs Down|             paid|\n",
      "|     996|          NextSong|               paid|  Downgrade|        paid|Downgrade| paid|            Home|       paid|            NextSong|             paid|\n",
      "|     985|          NextSong|               paid|   NextSong|        paid|Downgrade| paid|       Downgrade|       paid|                Home|             paid|\n",
      "|     925|          NextSong|               paid|   NextSong|        paid|Downgrade| paid|        NextSong|       paid|              Logout|             paid|\n",
      "|     895|          NextSong|               paid|   NextSong|        paid|Downgrade| paid|        NextSong|       paid|           Downgrade|             paid|\n",
      "|     841|          NextSong|               paid|   NextSong|        paid|Downgrade| paid|        NextSong|       paid|          Add Friend|             paid|\n",
      "|     839|       Thumbs Down|               paid|   NextSong|        paid|Downgrade| paid|        NextSong|       paid|            NextSong|             paid|\n",
      "|     795|          NextSong|               paid|       Home|        paid|Downgrade| paid|        NextSong|       paid|            NextSong|             paid|\n",
      "|     730|         Thumbs Up|               paid|   NextSong|        paid|Downgrade| paid|          Logout|       paid|                Home|             paid|\n",
      "|     710|          NextSong|               paid|   NextSong|        paid|Downgrade| paid|       Downgrade|       paid|           Downgrade|             paid|\n",
      "|     690|          NextSong|               paid|   NextSong|        paid|Downgrade| paid|            Home|       paid|                null|             null|\n",
      "+--------+------------------+-------------------+-----------+------------+---------+-----+----------------+-----------+--------------------+-----------------+\n",
      "only showing top 30 rows"
     ]
    }
   ],
   "source": [
    "# what happens before and after downgrade and cancellation?\n",
    "def funnel_sql(page):\n",
    "    return '''\n",
    "        WITH surrounding_page AS (\n",
    "        select row_number() over user_sessions as row_number\n",
    "            , LAG(page, 2) over user_sessions as before_before_page\n",
    "            , LAG(level, 2) over user_sessions as before_before_level\n",
    "            , LAG(page, 1) over user_sessions as before_page\n",
    "            , LAG(level, 1) over user_sessions as before_level\n",
    "            , LEAD(page, 1) over user_sessions as after_page\n",
    "            , LEAD(level, 1) over user_sessions as after_level\n",
    "            , LEAD(page, 2) over user_sessions as after_after_page\n",
    "            , LEAD(level, 2) over user_sessions as after_after_level\n",
    "            , dfc.*\n",
    "        from dfc\n",
    "        window user_sessions as (partition by userId, sessionId order by itemInSession)\n",
    "    )\n",
    "\n",
    "    select count(*)\n",
    "        , before_before_page\n",
    "        , before_before_level\n",
    "        , before_page\n",
    "        , before_level\n",
    "        , page\n",
    "        , level\n",
    "        , after_page\n",
    "        , after_level\n",
    "        , after_after_page\n",
    "        , after_after_level\n",
    "    from surrounding_page \n",
    "    where page IN ( '{0}' )\n",
    "    group by before_before_page\n",
    "        , before_before_level\n",
    "        , before_page\n",
    "        , before_level\n",
    "        , page\n",
    "        , level\n",
    "        , after_page\n",
    "        , after_level\n",
    "        , after_after_page\n",
    "        , after_after_level\n",
    "    order by count(*) desc\n",
    "    '''.format(page)\n",
    "\n",
    "for p in ['Cancel', 'Submit Downgrade', 'Downgrade']:\n",
    "    spark.sql(funnel_sql(p)).show(30)"
   ]
  },
  {
   "cell_type": "markdown",
   "id": "b9a67212-02b4-4565-9dae-2d47ff4062ac",
   "metadata": {},
   "source": [
    "### Findings\n",
    "\n",
    "\n",
    "As it seems *Downgrade* is a page which features a downgrade button. The click is logged as *Submit Downgrade* and the user is directed to the *Home* page afterwards. \n",
    "\n",
    "Compared to that *Cancel* seems to be accessible from every page (which is a bit ridiculous as you typically would avoid churn by hiding the button somewhere deep in the settings or so). *Cancel* is followed by the *Cancel confirmation* page and the session ends.\n",
    "\n",
    "As a side finding it might happen that adverts are rolled in the paid level (even twice in a row), which might trigger cancellations. Let's look into this"
   ]
  },
  {
   "cell_type": "code",
   "execution_count": 35,
   "id": "1f897c87-8263-488e-b5a3-540136c2f418",
   "metadata": {
    "execution": {
     "iopub.execute_input": "2022-05-20T13:28:17.998145Z",
     "iopub.status.busy": "2022-05-20T13:28:17.997899Z",
     "iopub.status.idle": "2022-05-20T13:28:21.323607Z",
     "shell.execute_reply": "2022-05-20T13:28:21.322773Z",
     "shell.execute_reply.started": "2022-05-20T13:28:17.998120Z"
    },
    "tags": []
   },
   "outputs": [
    {
     "data": {
      "application/vnd.jupyter.widget-view+json": {
       "model_id": "96fc61d40af24952b5a02cf32875dcdb",
       "version_major": 2,
       "version_minor": 0
      },
      "text/plain": [
       "VBox()"
      ]
     },
     "metadata": {},
     "output_type": "display_data"
    },
    {
     "data": {
      "application/vnd.jupyter.widget-view+json": {
       "model_id": "",
       "version_major": 2,
       "version_minor": 0
      },
      "text/plain": [
       "FloatProgress(value=0.0, bar_style='info', description='Progress:', layout=Layout(height='25px', width='50%'),…"
      ]
     },
     "metadata": {},
     "output_type": "display_data"
    },
    {
     "name": "stdout",
     "output_type": "stream",
     "text": [
      "+-----+--------+\n",
      "|level|count(1)|\n",
      "+-----+--------+\n",
      "| free| 5408240|\n",
      "| paid|20072480|\n",
      "+-----+--------+\n",
      "\n",
      "+-----+--------+\n",
      "|level|count(1)|\n",
      "+-----+--------+\n",
      "| free|  363243|\n",
      "| paid|   21969|\n",
      "+-----+--------+"
     ]
    }
   ],
   "source": [
    "# let's see how many paid and free actions we have\n",
    "spark.sql('''\n",
    "select level, count(*)\n",
    "from dfc\n",
    "group by level\n",
    "''').show()\n",
    "\n",
    "# how many adverts do we roll on each level?\n",
    "spark.sql('''\n",
    "select level, count(*)\n",
    "from dfc\n",
    "where page = 'Roll Advert'\n",
    "group by level\n",
    "''').show()"
   ]
  },
  {
   "cell_type": "markdown",
   "id": "23c9cc94-eac9-48a3-9579-c04d681da204",
   "metadata": {},
   "source": [
    "## User Agent"
   ]
  },
  {
   "cell_type": "code",
   "execution_count": null,
   "id": "f0a6db2d-2253-400d-8273-a32e5fce81f4",
   "metadata": {},
   "outputs": [],
   "source": []
  },
  {
   "cell_type": "code",
   "execution_count": 43,
   "id": "665683b7-5924-4084-9179-0770850748f7",
   "metadata": {
    "execution": {
     "iopub.execute_input": "2022-05-23T09:10:47.213852Z",
     "iopub.status.busy": "2022-05-23T09:10:47.213632Z",
     "iopub.status.idle": "2022-05-23T09:10:52.519655Z",
     "shell.execute_reply": "2022-05-23T09:10:52.518804Z",
     "shell.execute_reply.started": "2022-05-23T09:10:47.213828Z"
    },
    "tags": []
   },
   "outputs": [
    {
     "data": {
      "application/vnd.jupyter.widget-view+json": {
       "model_id": "d16de7d384614bfdb7ade055a3dae625",
       "version_major": 2,
       "version_minor": 0
      },
      "text/plain": [
       "VBox()"
      ]
     },
     "metadata": {},
     "output_type": "display_data"
    },
    {
     "data": {
      "application/vnd.jupyter.widget-view+json": {
       "model_id": "",
       "version_major": 2,
       "version_minor": 0
      },
      "text/plain": [
       "FloatProgress(value=0.0, bar_style='info', description='Progress:', layout=Layout(height='25px', width='50%'),…"
      ]
     },
     "metadata": {},
     "output_type": "display_data"
    },
    {
     "name": "stdout",
     "output_type": "stream",
     "text": [
      "+-------------------------------------------------------------------------------------------------------------------------------------------+--------+\n",
      "|userAgent                                                                                                                                  |count(1)|\n",
      "+-------------------------------------------------------------------------------------------------------------------------------------------+--------+\n",
      "|\"Mozilla/5.0 (Windows NT 6.1; WOW64) AppleWebKit/537.36 (KHTML, like Gecko) Chrome/36.0.1985.143 Safari/537.36\"                            |2400726 |\n",
      "|Mozilla/5.0 (Windows NT 6.1; WOW64; rv:31.0) Gecko/20100101 Firefox/31.0                                                                   |1962722 |\n",
      "|\"Mozilla/5.0 (Windows NT 6.1; WOW64) AppleWebKit/537.36 (KHTML, like Gecko) Chrome/36.0.1985.125 Safari/537.36\"                            |1562542 |\n",
      "|\"Mozilla/5.0 (Macintosh; Intel Mac OS X 10_9_4) AppleWebKit/537.36 (KHTML, like Gecko) Chrome/36.0.1985.143 Safari/537.36\"                 |1523670 |\n",
      "|\"Mozilla/5.0 (Macintosh; Intel Mac OS X 10_9_4) AppleWebKit/537.78.2 (KHTML, like Gecko) Version/7.0.6 Safari/537.78.2\"                    |1354485 |\n",
      "|\"Mozilla/5.0 (Macintosh; Intel Mac OS X 10_9_4) AppleWebKit/537.36 (KHTML, like Gecko) Chrome/36.0.1985.125 Safari/537.36\"                 |1290830 |\n",
      "|\"Mozilla/5.0 (Macintosh; Intel Mac OS X 10_9_4) AppleWebKit/537.77.4 (KHTML, like Gecko) Version/7.0.5 Safari/537.77.4\"                    |1143199 |\n",
      "|Mozilla/5.0 (Macintosh; Intel Mac OS X 10.9; rv:31.0) Gecko/20100101 Firefox/31.0                                                          |1097003 |\n",
      "|\"Mozilla/5.0 (Macintosh; Intel Mac OS X 10_9_4) AppleWebKit/537.36 (KHTML, like Gecko) Chrome/37.0.2062.94 Safari/537.36\"                  |1050341 |\n",
      "|\"Mozilla/5.0 (Windows NT 6.3; WOW64) AppleWebKit/537.36 (KHTML, like Gecko) Chrome/36.0.1985.143 Safari/537.36\"                            |861096  |\n",
      "|null                                                                                                                                       |778479  |\n",
      "|\"Mozilla/5.0 (iPhone; CPU iPhone OS 7_1_2 like Mac OS X) AppleWebKit/537.51.2 (KHTML, like Gecko) Version/7.0 Mobile/11D257 Safari/9537.53\"|621097  |\n",
      "|Mozilla/5.0 (Windows NT 6.1; WOW64; Trident/7.0; rv:11.0) like Gecko                                                                       |605382  |\n",
      "|Mozilla/5.0 (Windows NT 6.3; WOW64; rv:31.0) Gecko/20100101 Firefox/31.0                                                                   |565967  |\n",
      "|\"Mozilla/5.0 (Windows NT 6.3; WOW64) AppleWebKit/537.36 (KHTML, like Gecko) Chrome/36.0.1985.125 Safari/537.36\"                            |558528  |\n",
      "|\"Mozilla/5.0 (Windows NT 6.1) AppleWebKit/537.36 (KHTML, like Gecko) Chrome/36.0.1985.143 Safari/537.36\"                                   |471226  |\n",
      "|Mozilla/5.0 (X11; Ubuntu; Linux x86_64; rv:31.0) Gecko/20100101 Firefox/31.0                                                               |418629  |\n",
      "|\"Mozilla/5.0 (Windows NT 6.1) AppleWebKit/537.36 (KHTML, like Gecko) Chrome/36.0.1985.125 Safari/537.36\"                                   |340499  |\n",
      "|Mozilla/5.0 (Windows NT 6.1; rv:31.0) Gecko/20100101 Firefox/31.0                                                                          |337408  |\n",
      "|\"Mozilla/5.0 (iPad; CPU OS 7_1_2 like Mac OS X) AppleWebKit/537.51.2 (KHTML, like Gecko) Version/7.0 Mobile/11D257 Safari/9537.53\"         |289900  |\n",
      "+-------------------------------------------------------------------------------------------------------------------------------------------+--------+\n",
      "only showing top 20 rows\n",
      "\n",
      "+-------------------------+\n",
      "|count(DISTINCT userAgent)|\n",
      "+-------------------------+\n",
      "|85                       |\n",
      "+-------------------------+"
     ]
    }
   ],
   "source": [
    "# which user agents are present in the dataset, how many?\n",
    "spark.sql('''\n",
    "select userAgent, count(*)\n",
    "from df\n",
    "where 1=1 \n",
    "group by userAgent\n",
    "order by count(*) desc\n",
    "''').show(truncate=False)\n",
    "\n",
    "spark.sql('''\n",
    "select count(distinct userAgent)\n",
    "from df\n",
    "''').show(50, truncate=False)"
   ]
  },
  {
   "cell_type": "code",
   "execution_count": 24,
   "id": "8d2b2f7b-5eed-42b7-ab68-24b47bfbf0e7",
   "metadata": {
    "execution": {
     "iopub.execute_input": "2022-05-23T09:02:51.006800Z",
     "iopub.status.busy": "2022-05-23T09:02:51.006463Z",
     "iopub.status.idle": "2022-05-23T09:02:53.349933Z",
     "shell.execute_reply": "2022-05-23T09:02:53.349207Z",
     "shell.execute_reply.started": "2022-05-23T09:02:51.006768Z"
    },
    "tags": []
   },
   "outputs": [
    {
     "data": {
      "application/vnd.jupyter.widget-view+json": {
       "model_id": "3319ddcae98a4b2f8676c170fc3fa43a",
       "version_major": 2,
       "version_minor": 0
      },
      "text/plain": [
       "VBox()"
      ]
     },
     "metadata": {},
     "output_type": "display_data"
    },
    {
     "data": {
      "application/vnd.jupyter.widget-view+json": {
       "model_id": "",
       "version_major": 2,
       "version_minor": 0
      },
      "text/plain": [
       "FloatProgress(value=0.0, bar_style='info', description='Progress:', layout=Layout(height='25px', width='50%'),…"
      ]
     },
     "metadata": {},
     "output_type": "display_data"
    },
    {
     "name": "stdout",
     "output_type": "stream",
     "text": [
      "+----------+-------------------+\n",
      "|auth      |page               |\n",
      "+----------+-------------------+\n",
      "|Logged Out|Login              |\n",
      "|Guest     |Register           |\n",
      "|Logged Out|Error              |\n",
      "|Guest     |About              |\n",
      "|Guest     |Error              |\n",
      "|Guest     |Submit Registration|\n",
      "|Logged Out|Home               |\n",
      "|Logged Out|Help               |\n",
      "|Guest     |Home               |\n",
      "|Logged Out|About              |\n",
      "|Guest     |Help               |\n",
      "+----------+-------------------+\n",
      "\n",
      "+----+----+\n",
      "|auth|page|\n",
      "+----+----+\n",
      "+----+----+"
     ]
    }
   ],
   "source": [
    "# how about the null user agent?\n",
    "spark.sql('''\n",
    "select distinct auth, page\n",
    "from df\n",
    "where useragent is null\n",
    "''').show(50, truncate=False)\n",
    "\n",
    "spark.sql('''\n",
    "select distinct auth, page\n",
    "from dfc\n",
    "where agentKey is null\n",
    "''').show(50, truncate=False)"
   ]
  },
  {
   "cell_type": "code",
   "execution_count": 42,
   "id": "01e39618-81b8-4049-82a4-8cea7a4b4f36",
   "metadata": {
    "execution": {
     "iopub.execute_input": "2022-05-23T09:10:32.901061Z",
     "iopub.status.busy": "2022-05-23T09:10:32.900822Z",
     "iopub.status.idle": "2022-05-23T09:10:33.572565Z",
     "shell.execute_reply": "2022-05-23T09:10:33.568287Z",
     "shell.execute_reply.started": "2022-05-23T09:10:32.901023Z"
    },
    "tags": []
   },
   "outputs": [
    {
     "data": {
      "application/vnd.jupyter.widget-view+json": {
       "model_id": "482ce64c08cc40f59c7fcf6e56d06fbb",
       "version_major": 2,
       "version_minor": 0
      },
      "text/plain": [
       "VBox()"
      ]
     },
     "metadata": {},
     "output_type": "display_data"
    },
    {
     "data": {
      "application/vnd.jupyter.widget-view+json": {
       "model_id": "",
       "version_major": 2,
       "version_minor": 0
      },
      "text/plain": [
       "FloatProgress(value=0.0, bar_style='info', description='Progress:', layout=Layout(height='25px', width='50%'),…"
      ]
     },
     "metadata": {},
     "output_type": "display_data"
    }
   ],
   "source": [
    "# get an extraction of the user agents to do the compute intensive parsing seperately\n",
    "agents = spark.sql('''\n",
    "select distinct sha(userAgent) as agentKey, userAgent\n",
    "from df\n",
    "where userAgent is not null\n",
    "''')\n",
    "agents.createOrReplaceTempView('agents')"
   ]
  },
  {
   "cell_type": "code",
   "execution_count": 41,
   "id": "c44dbd7c-eb8d-4836-9667-a96038f42987",
   "metadata": {
    "execution": {
     "iopub.execute_input": "2022-05-23T09:09:48.716015Z",
     "iopub.status.busy": "2022-05-23T09:09:48.715793Z",
     "iopub.status.idle": "2022-05-23T09:09:58.020380Z",
     "shell.execute_reply": "2022-05-23T09:09:58.019515Z",
     "shell.execute_reply.started": "2022-05-23T09:09:48.715993Z"
    },
    "tags": []
   },
   "outputs": [
    {
     "data": {
      "application/vnd.jupyter.widget-view+json": {
       "model_id": "1b884f1bc1a8431d95c4cd78b115bc61",
       "version_major": 2,
       "version_minor": 0
      },
      "text/plain": [
       "VBox()"
      ]
     },
     "metadata": {},
     "output_type": "display_data"
    },
    {
     "data": {
      "application/vnd.jupyter.widget-view+json": {
       "model_id": "",
       "version_major": 2,
       "version_minor": 0
      },
      "text/plain": [
       "FloatProgress(value=0.0, bar_style='info', description='Progress:', layout=Layout(height='25px', width='50%'),…"
      ]
     },
     "metadata": {},
     "output_type": "display_data"
    },
    {
     "name": "stdout",
     "output_type": "stream",
     "text": [
      "+--------------------+--------------------+\n",
      "|            agentKey|           userAgent|\n",
      "+--------------------+--------------------+\n",
      "|e28d9e118982f8bc9...|\"Mozilla/5.0 (Mac...|\n",
      "|65ca5417945672c2f...|\"Mozilla/5.0 (Win...|\n",
      "|55a623d0b13d10807...|\"Mozilla/5.0 (Mac...|\n",
      "|d7c4951bf12122a19...|\"Mozilla/5.0 (iPa...|\n",
      "|42c5d6a9cd00dc7a3...|Mozilla/5.0 (Wind...|\n",
      "|533c27032e49077a6...|Mozilla/5.0 (X11;...|\n",
      "|aa739e3aaaa1fbfc8...|Mozilla/5.0 (comp...|\n",
      "|8e31ab4aa4b512786...|\"Mozilla/5.0 (X11...|\n",
      "|6660d6e13c29fa993...|Mozilla/5.0 (Maci...|\n",
      "|a7aeb969fa9c35306...|Mozilla/5.0 (X11;...|\n",
      "|7e59df8b3d2e55069...|Mozilla/5.0 (Wind...|\n",
      "|a313b88168e79f7cc...|Mozilla/5.0 (Wind...|\n",
      "|970a85d655b7aad6d...|Mozilla/5.0 (X11;...|\n",
      "|bfa4fbf28a93a2268...|\"Mozilla/5.0 (Mac...|\n",
      "|60c99777c4a383749...|\"Mozilla/5.0 (Mac...|\n",
      "|145ca45d9bf38520c...|\"Mozilla/5.0 (Mac...|\n",
      "|6a1661efe3c936b49...|Mozilla/5.0 (comp...|\n",
      "|be6e1263118fc8e2f...|\"Mozilla/5.0 (Mac...|\n",
      "|bb58e0b82b2baac6d...|\"Mozilla/5.0 (Win...|\n",
      "|7b10b5771034cd7d2...|Mozilla/5.0 (Maci...|\n",
      "+--------------------+--------------------+\n",
      "only showing top 20 rows"
     ]
    }
   ],
   "source": [
    "agents.show()"
   ]
  },
  {
   "cell_type": "code",
   "execution_count": 37,
   "id": "4b8d0060-c475-4b2d-bb9e-85f2717e016d",
   "metadata": {
    "execution": {
     "iopub.execute_input": "2022-05-23T09:08:01.240717Z",
     "iopub.status.busy": "2022-05-23T09:08:01.240489Z",
     "iopub.status.idle": "2022-05-23T09:08:01.298245Z",
     "shell.execute_reply": "2022-05-23T09:08:01.297691Z",
     "shell.execute_reply.started": "2022-05-23T09:08:01.240694Z"
    },
    "tags": []
   },
   "outputs": [
    {
     "data": {
      "application/vnd.jupyter.widget-view+json": {
       "model_id": "19ae15796acd48fbab59bf7898790dae",
       "version_major": 2,
       "version_minor": 0
      },
      "text/plain": [
       "VBox()"
      ]
     },
     "metadata": {},
     "output_type": "display_data"
    },
    {
     "data": {
      "application/vnd.jupyter.widget-view+json": {
       "model_id": "",
       "version_major": 2,
       "version_minor": 0
      },
      "text/plain": [
       "FloatProgress(value=0.0, bar_style='info', description='Progress:', layout=Layout(height='25px', width='50%'),…"
      ]
     },
     "metadata": {},
     "output_type": "display_data"
    },
    {
     "name": "stdout",
     "output_type": "stream",
     "text": [
      "Chrome\n",
      "<class 'str'>"
     ]
    }
   ],
   "source": [
    "result = user_agents.parse(\"Mozilla/5.0 (Windows NT 6.1; WOW64) AppleWebKit/537.36 (KHTML, like Gecko) Chrome/36.0.1985.143 Safari/537.36\").browser.family\n",
    "print(result)\n",
    "type(result)"
   ]
  },
  {
   "cell_type": "code",
   "execution_count": 38,
   "id": "36a0ae8c-6045-4080-93bc-3a68b6867371",
   "metadata": {
    "execution": {
     "iopub.execute_input": "2022-05-23T09:08:04.102075Z",
     "iopub.status.busy": "2022-05-23T09:08:04.101841Z",
     "iopub.status.idle": "2022-05-23T09:08:04.968038Z",
     "shell.execute_reply": "2022-05-23T09:08:04.962753Z",
     "shell.execute_reply.started": "2022-05-23T09:08:04.102049Z"
    },
    "tags": []
   },
   "outputs": [
    {
     "data": {
      "application/vnd.jupyter.widget-view+json": {
       "model_id": "11cf8db6541848deb1e330a19143f5d5",
       "version_major": 2,
       "version_minor": 0
      },
      "text/plain": [
       "VBox()"
      ]
     },
     "metadata": {},
     "output_type": "display_data"
    },
    {
     "data": {
      "application/vnd.jupyter.widget-view+json": {
       "model_id": "",
       "version_major": 2,
       "version_minor": 0
      },
      "text/plain": [
       "FloatProgress(value=0.0, bar_style='info', description='Progress:', layout=Layout(height='25px', width='50%'),…"
      ]
     },
     "metadata": {},
     "output_type": "display_data"
    },
    {
     "name": "stdout",
     "output_type": "stream",
     "text": [
      "<function <lambda> at 0x7f48bed38a70>"
     ]
    }
   ],
   "source": [
    "spark.udf.register(\"browser_from_agent\", lambda x: user_agents.parse(x).browser.family)\n",
    "spark.udf.register(\"os_from_agent\", lambda x: user_agents.parse(x).os.family)\n",
    "spark.udf.register(\"device_from_agent\", lambda x: user_agents.parse(x).device.family)\n",
    "spark.udf.register(\"mobile_from_agent\", lambda x: user_agents.parse(x).is_mobile)\n",
    "spark.udf.register(\"tablet_from_agent\", lambda x: user_agents.parse(x).is_tablet)\n",
    "spark.udf.register(\"pc_from_agent\", lambda x: user_agents.parse(x).is_pc)"
   ]
  },
  {
   "cell_type": "code",
   "execution_count": null,
   "id": "34e938b6-50d0-4066-81a3-142ba9c630e7",
   "metadata": {},
   "outputs": [],
   "source": [
    "spark.sql('''\n",
    "select distinct sha(userAgent), userAgent\n",
    "from agents\n",
    "where userAgent is not null\n",
    "''')"
   ]
  },
  {
   "cell_type": "code",
   "execution_count": 39,
   "id": "cfe1cc85-97c7-4c4c-ad8e-b709d4435634",
   "metadata": {
    "execution": {
     "iopub.execute_input": "2022-05-23T09:09:04.632544Z",
     "iopub.status.busy": "2022-05-23T09:09:04.632312Z",
     "iopub.status.idle": "2022-05-23T09:09:15.955913Z",
     "shell.execute_reply": "2022-05-23T09:09:15.955198Z",
     "shell.execute_reply.started": "2022-05-23T09:09:04.632518Z"
    },
    "tags": []
   },
   "outputs": [
    {
     "data": {
      "application/vnd.jupyter.widget-view+json": {
       "model_id": "7da8c029966e4b1a8a915cf62a748ff6",
       "version_major": 2,
       "version_minor": 0
      },
      "text/plain": [
       "VBox()"
      ]
     },
     "metadata": {},
     "output_type": "display_data"
    },
    {
     "data": {
      "application/vnd.jupyter.widget-view+json": {
       "model_id": "",
       "version_major": 2,
       "version_minor": 0
      },
      "text/plain": [
       "FloatProgress(value=0.0, bar_style='info', description='Progress:', layout=Layout(height='25px', width='50%'),…"
      ]
     },
     "metadata": {},
     "output_type": "display_data"
    },
    {
     "name": "stdout",
     "output_type": "stream",
     "text": [
      "+--------+-------------+\n",
      "|count(1)|      browser|\n",
      "+--------+-------------+\n",
      "|      38|       Chrome|\n",
      "|      19|      Firefox|\n",
      "|      13|       Safari|\n",
      "|       7|           IE|\n",
      "|       5|Mobile Safari|\n",
      "|       2|     Chromium|\n",
      "|       1|       Google|\n",
      "+--------+-------------+"
     ]
    }
   ],
   "source": [
    "spark.sql('''\n",
    "select count(*)\n",
    "    , browser_from_agent(userAgent) as browser\n",
    "    --, os_from_agent(userAgent) as os\n",
    "    --, device_from_agent(userAgent) as device\n",
    "    --, mobile_from_agent(userAgent) as mobile\n",
    "    --, tablet_from_agent(userAgent) as tablet\n",
    "    --, pc_from_agent(userAgent) as pc\n",
    "from agents \n",
    "group by browser\n",
    "--, os, device, mobile, tablet, pc\n",
    "order by count(*) desc\n",
    "''').show()"
   ]
  },
  {
   "cell_type": "markdown",
   "id": "96dcbfae-0bae-4201-81d2-03dfc502767d",
   "metadata": {},
   "source": [
    "## Get some overview"
   ]
  },
  {
   "cell_type": "code",
   "execution_count": 38,
   "id": "154be40d-4dc6-46af-9ea9-56a26093fb3f",
   "metadata": {
    "execution": {
     "iopub.execute_input": "2022-05-20T13:31:22.369940Z",
     "iopub.status.busy": "2022-05-20T13:31:22.369706Z",
     "iopub.status.idle": "2022-05-20T13:31:25.669001Z",
     "shell.execute_reply": "2022-05-20T13:31:25.668339Z",
     "shell.execute_reply.started": "2022-05-20T13:31:22.369914Z"
    },
    "tags": []
   },
   "outputs": [
    {
     "data": {
      "application/vnd.jupyter.widget-view+json": {
       "model_id": "a1cdfdf2e79c4e52be857e57bfa6bdb4",
       "version_major": 2,
       "version_minor": 0
      },
      "text/plain": [
       "VBox()"
      ]
     },
     "metadata": {},
     "output_type": "display_data"
    },
    {
     "data": {
      "application/vnd.jupyter.widget-view+json": {
       "model_id": "",
       "version_major": 2,
       "version_minor": 0
      },
      "text/plain": [
       "FloatProgress(value=0.0, bar_style='info', description='Progress:', layout=Layout(height='25px', width='50%'),…"
      ]
     },
     "metadata": {},
     "output_type": "display_data"
    },
    {
     "name": "stdout",
     "output_type": "stream",
     "text": [
      "+----------------------+\n",
      "|count(DISTINCT userId)|\n",
      "+----------------------+\n",
      "|                 22277|\n",
      "+----------------------+"
     ]
    }
   ],
   "source": [
    "# how many users do we have in the data\n",
    "spark.sql('''\n",
    "select count(distinct userId)\n",
    "from dfc\n",
    "''').show()"
   ]
  },
  {
   "cell_type": "code",
   "execution_count": 42,
   "id": "aadc4234-2e0e-4ede-8bb1-58d0aa4a48de",
   "metadata": {
    "execution": {
     "iopub.execute_input": "2022-05-20T13:35:04.200055Z",
     "iopub.status.busy": "2022-05-20T13:35:04.199824Z",
     "iopub.status.idle": "2022-05-20T13:35:04.968216Z",
     "shell.execute_reply": "2022-05-20T13:35:04.967442Z",
     "shell.execute_reply.started": "2022-05-20T13:35:04.200030Z"
    },
    "tags": []
   },
   "outputs": [
    {
     "data": {
      "application/vnd.jupyter.widget-view+json": {
       "model_id": "0a340aa1dfb1460590a2cc40c79898f4",
       "version_major": 2,
       "version_minor": 0
      },
      "text/plain": [
       "VBox()"
      ]
     },
     "metadata": {},
     "output_type": "display_data"
    },
    {
     "data": {
      "application/vnd.jupyter.widget-view+json": {
       "model_id": "",
       "version_major": 2,
       "version_minor": 0
      },
      "text/plain": [
       "FloatProgress(value=0.0, bar_style='info', description='Progress:', layout=Layout(height='25px', width='50%'),…"
      ]
     },
     "metadata": {},
     "output_type": "display_data"
    },
    {
     "name": "stdout",
     "output_type": "stream",
     "text": [
      "+-------------------+-------------------+\n",
      "|start              |end                |\n",
      "+-------------------+-------------------+\n",
      "|2018-10-01 00:00:01|2018-12-01 00:00:02|\n",
      "+-------------------+-------------------+"
     ]
    }
   ],
   "source": [
    "# which timespan is covered?\n",
    "spark.sql('''\n",
    "select from_unixtime(min(ts) / 1000) as start\n",
    "    , from_unixtime(max(ts) / 1000) as end\n",
    "from dfc\n",
    "''').show(truncate=False)"
   ]
  },
  {
   "cell_type": "code",
   "execution_count": 46,
   "id": "5040cbbd-0bf2-4993-aa54-945ce293921a",
   "metadata": {
    "execution": {
     "iopub.execute_input": "2022-05-20T13:38:30.328141Z",
     "iopub.status.busy": "2022-05-20T13:38:30.327906Z",
     "iopub.status.idle": "2022-05-20T13:38:35.619549Z",
     "shell.execute_reply": "2022-05-20T13:38:35.618767Z",
     "shell.execute_reply.started": "2022-05-20T13:38:30.328118Z"
    },
    "tags": []
   },
   "outputs": [
    {
     "data": {
      "application/vnd.jupyter.widget-view+json": {
       "model_id": "ddb4f391fcc94ba4bd31eab880bda4e3",
       "version_major": 2,
       "version_minor": 0
      },
      "text/plain": [
       "VBox()"
      ]
     },
     "metadata": {},
     "output_type": "display_data"
    },
    {
     "data": {
      "application/vnd.jupyter.widget-view+json": {
       "model_id": "",
       "version_major": 2,
       "version_minor": 0
      },
      "text/plain": [
       "FloatProgress(value=0.0, bar_style='info', description='Progress:', layout=Layout(height='25px', width='50%'),…"
      ]
     },
     "metadata": {},
     "output_type": "display_data"
    },
    {
     "name": "stdout",
     "output_type": "stream",
     "text": [
      "+---------+----------------------+\n",
      "|sessionId|count(DISTINCT userId)|\n",
      "+---------+----------------------+\n",
      "|        1|                     3|\n",
      "|        2|                     1|\n",
      "|        3|                     2|\n",
      "|        4|                     1|\n",
      "|        5|                     2|\n",
      "|        6|                     2|\n",
      "|        7|                     1|\n",
      "|        9|                     3|\n",
      "|       10|                     3|\n",
      "|       11|                     3|\n",
      "+---------+----------------------+\n",
      "only showing top 10 rows\n",
      "\n",
      "+---------+-------+\n",
      "|sessionId| userId|\n",
      "+---------+-------+\n",
      "|        1|1071257|\n",
      "|        1|1551454|\n",
      "|        1|1265018|\n",
      "+---------+-------+"
     ]
    }
   ],
   "source": [
    "# is the sessionId unique or can multiple users have the same sessionId ?\n",
    "spark.sql('''\n",
    "select sessionId, count(distinct userId)\n",
    "from dfc\n",
    "group by sessionId\n",
    "order by sessionId\n",
    "''').show(10)\n",
    "\n",
    "spark.sql('''\n",
    "select distinct sessionId,  userId\n",
    "from dfc\n",
    "where sessionId=1\n",
    "''').show(10)"
   ]
  },
  {
   "cell_type": "code",
   "execution_count": 48,
   "id": "28558061-e4c6-42fd-8fe3-b9c6820764ba",
   "metadata": {
    "execution": {
     "iopub.execute_input": "2022-05-20T13:42:37.531107Z",
     "iopub.status.busy": "2022-05-20T13:42:37.530876Z",
     "iopub.status.idle": "2022-05-20T13:42:50.918497Z",
     "shell.execute_reply": "2022-05-20T13:42:50.917703Z",
     "shell.execute_reply.started": "2022-05-20T13:42:37.531082Z"
    },
    "tags": []
   },
   "outputs": [
    {
     "data": {
      "application/vnd.jupyter.widget-view+json": {
       "model_id": "903d53e6310f4bd5ac036ea6364981b3",
       "version_major": 2,
       "version_minor": 0
      },
      "text/plain": [
       "VBox()"
      ]
     },
     "metadata": {},
     "output_type": "display_data"
    },
    {
     "data": {
      "application/vnd.jupyter.widget-view+json": {
       "model_id": "",
       "version_major": 2,
       "version_minor": 0
      },
      "text/plain": [
       "FloatProgress(value=0.0, bar_style='info', description='Progress:', layout=Layout(height='25px', width='50%'),…"
      ]
     },
     "metadata": {},
     "output_type": "display_data"
    },
    {
     "name": "stdout",
     "output_type": "stream",
     "text": [
      "+---------+\n",
      "|deltatime|\n",
      "+---------+\n",
      "+---------+"
     ]
    }
   ],
   "source": [
    "# is itemInSession ascending as the timestamp?\n",
    "spark.sql('''\n",
    "WITH timedeltas AS (\n",
    "    select ts - LAG(ts, 1) over user_sessions as deltatime\n",
    "    from dfc\n",
    "    window user_sessions as (partition by userId, sessionId order by itemInSession)\n",
    ")\n",
    "\n",
    "select * from timedeltas\n",
    "where deltatime < 0\n",
    "''').show(10)"
   ]
  },
  {
   "cell_type": "code",
   "execution_count": 49,
   "id": "c95bf6ad-34b5-4ddf-95d5-12e53fbea76f",
   "metadata": {
    "execution": {
     "iopub.execute_input": "2022-05-20T13:46:04.062971Z",
     "iopub.status.busy": "2022-05-20T13:46:04.062726Z",
     "iopub.status.idle": "2022-05-20T13:46:06.489980Z",
     "shell.execute_reply": "2022-05-20T13:46:06.489030Z",
     "shell.execute_reply.started": "2022-05-20T13:46:04.062946Z"
    },
    "tags": []
   },
   "outputs": [
    {
     "data": {
      "application/vnd.jupyter.widget-view+json": {
       "model_id": "5c8ea38c13fc411d9a193810c9be7886",
       "version_major": 2,
       "version_minor": 0
      },
      "text/plain": [
       "VBox()"
      ]
     },
     "metadata": {},
     "output_type": "display_data"
    },
    {
     "data": {
      "application/vnd.jupyter.widget-view+json": {
       "model_id": "",
       "version_major": 2,
       "version_minor": 0
      },
      "text/plain": [
       "FloatProgress(value=0.0, bar_style='info', description='Progress:', layout=Layout(height='25px', width='50%'),…"
      ]
     },
     "metadata": {},
     "output_type": "display_data"
    },
    {
     "name": "stdout",
     "output_type": "stream",
     "text": [
      "+-------+--------+\n",
      "| userId|count(1)|\n",
      "+-------+--------+\n",
      "|1662781|       7|\n",
      "|1343763|       6|\n",
      "|1747195|       6|\n",
      "|1782082|       6|\n",
      "|1287039|       6|\n",
      "|1186318|       5|\n",
      "|1345577|       5|\n",
      "|1255222|       5|\n",
      "|1663631|       5|\n",
      "|1249037|       5|\n",
      "+-------+--------+"
     ]
    }
   ],
   "source": [
    "# do users downgrade multiple times?\n",
    "spark.sql('''\n",
    "select userId, count(*)\n",
    "from dfc\n",
    "where 1=1 \n",
    "and page IN ('Submit Downgrade')\n",
    "group by userId\n",
    "order by count(*) desc\n",
    "''').limit(10).show()"
   ]
  },
  {
   "cell_type": "markdown",
   "id": "345a5840-5f58-4753-948c-f0d1897b3a15",
   "metadata": {
    "execution": {
     "iopub.execute_input": "2022-05-20T13:46:55.102684Z",
     "iopub.status.busy": "2022-05-20T13:46:55.102454Z",
     "iopub.status.idle": "2022-05-20T13:46:55.166242Z",
     "shell.execute_reply": "2022-05-20T13:46:55.165660Z",
     "shell.execute_reply.started": "2022-05-20T13:46:55.102661Z"
    }
   },
   "source": [
    "## Churn analysis"
   ]
  },
  {
   "cell_type": "code",
   "execution_count": 37,
   "id": "ad21a6a7-33c9-4445-ad77-9aa366026d69",
   "metadata": {
    "execution": {
     "iopub.execute_input": "2022-05-20T13:29:46.625484Z",
     "iopub.status.busy": "2022-05-20T13:29:46.625241Z",
     "iopub.status.idle": "2022-05-20T13:29:48.899879Z",
     "shell.execute_reply": "2022-05-20T13:29:48.899154Z",
     "shell.execute_reply.started": "2022-05-20T13:29:46.625458Z"
    },
    "tags": []
   },
   "outputs": [
    {
     "data": {
      "application/vnd.jupyter.widget-view+json": {
       "model_id": "d966a691aed54178a99a8143e6c3d93b",
       "version_major": 2,
       "version_minor": 0
      },
      "text/plain": [
       "VBox()"
      ]
     },
     "metadata": {},
     "output_type": "display_data"
    },
    {
     "data": {
      "application/vnd.jupyter.widget-view+json": {
       "model_id": "",
       "version_major": 2,
       "version_minor": 0
      },
      "text/plain": [
       "FloatProgress(value=0.0, bar_style='info', description='Progress:', layout=Layout(height='25px', width='50%'),…"
      ]
     },
     "metadata": {},
     "output_type": "display_data"
    },
    {
     "name": "stdout",
     "output_type": "stream",
     "text": [
      "+-------------------------+-----+--------+\n",
      "|page                     |level|count(1)|\n",
      "+-------------------------+-----+--------+\n",
      "|About                    |free |10490   |\n",
      "|About                    |paid |37887   |\n",
      "|Add Friend               |free |83453   |\n",
      "|Add Friend               |paid |298211  |\n",
      "|Add to Playlist          |free |112603  |\n",
      "|Add to Playlist          |paid |485318  |\n",
      "|Cancel                   |free |1579    |\n",
      "|Cancel                   |paid |3424    |\n",
      "|Cancellation Confirmation|free |1579    |\n",
      "|Cancellation Confirmation|paid |3424    |\n",
      "|Downgrade                |paid |184240  |\n",
      "|Error                    |free |5474    |\n",
      "|Error                    |paid |19574   |\n",
      "|Help                     |free |28018   |\n",
      "|Help                     |paid |101430  |\n",
      "|Home                     |free |253874  |\n",
      "|Home                     |paid |679250  |\n",
      "|Logout                   |free |90392   |\n",
      "|Logout                   |paid |205613  |\n",
      "|NextSong                 |free |4080447 |\n",
      "|NextSong                 |paid |16769825|\n",
      "|Roll Advert              |free |363243  |\n",
      "|Roll Advert              |paid |21969   |\n",
      "|Save Settings            |free |7157    |\n",
      "|Save Settings            |paid |22359   |\n",
      "|Settings                 |free |35245   |\n",
      "|Settings                 |paid |111829  |\n",
      "|Submit Downgrade         |paid |6494    |\n",
      "|Submit Upgrade           |free |15135   |\n",
      "|Thumbs Down              |free |57769   |\n",
      "|Thumbs Down              |paid |181443  |\n",
      "|Thumbs Up                |free |211275  |\n",
      "|Thumbs Up                |paid |940190  |\n",
      "|Upgrade                  |free |50507   |\n",
      "+-------------------------+-----+--------+"
     ]
    }
   ],
   "source": [
    "spark.sql('''\n",
    "select page, level, count(*)\n",
    "from dfc\n",
    "group by page, level\n",
    "order by page, level\n",
    "''').show(60, truncate=False)"
   ]
  },
  {
   "cell_type": "code",
   "execution_count": 78,
   "id": "88154c12-3780-4f7d-a745-9a962fcc83d5",
   "metadata": {
    "execution": {
     "iopub.execute_input": "2022-05-19T14:08:51.266526Z",
     "iopub.status.busy": "2022-05-19T14:08:51.266291Z",
     "iopub.status.idle": "2022-05-19T14:08:51.528518Z",
     "shell.execute_reply": "2022-05-19T14:08:51.527827Z",
     "shell.execute_reply.started": "2022-05-19T14:08:51.266502Z"
    },
    "tags": []
   },
   "outputs": [
    {
     "data": {
      "application/vnd.jupyter.widget-view+json": {
       "model_id": "ddacc069df41481c9775e49ac7a92360",
       "version_major": 2,
       "version_minor": 0
      },
      "text/plain": [
       "VBox()"
      ]
     },
     "metadata": {},
     "output_type": "display_data"
    },
    {
     "data": {
      "application/vnd.jupyter.widget-view+json": {
       "model_id": "",
       "version_major": 2,
       "version_minor": 0
      },
      "text/plain": [
       "FloatProgress(value=0.0, bar_style='info', description='Progress:', layout=Layout(height='25px', width='50%'),…"
      ]
     },
     "metadata": {},
     "output_type": "display_data"
    },
    {
     "name": "stdout",
     "output_type": "stream",
     "text": [
      "<function <lambda> at 0x7fe15c2e7c20>"
     ]
    }
   ],
   "source": [
    "spark.udf.register(\"get_hour\", lambda x: int(datetime.datetime.utcfromtimestamp(x / 1000.0).hour), IntegerType())\n",
    "spark.udf.register(\"get_day_of_month\", lambda x: int(datetime.datetime.utcfromtimestamp(x / 1000.0).day), IntegerType())\n",
    "\n",
    "spark.udf.register(\"get_hour2\", lambda x: int(x / 3600000), IntegerType())"
   ]
  },
  {
   "cell_type": "code",
   "execution_count": 11,
   "id": "672431ea-00e7-490b-b497-50d8c4c3c1f1",
   "metadata": {
    "execution": {
     "iopub.execute_input": "2022-05-20T15:31:55.884027Z",
     "iopub.status.busy": "2022-05-20T15:31:55.883762Z",
     "iopub.status.idle": "2022-05-20T15:32:11.185035Z",
     "shell.execute_reply": "2022-05-20T15:32:11.184318Z",
     "shell.execute_reply.started": "2022-05-20T15:31:55.884001Z"
    },
    "tags": []
   },
   "outputs": [
    {
     "data": {
      "application/vnd.jupyter.widget-view+json": {
       "model_id": "89ec8b76dfe545b8b04b7c4988ff0113",
       "version_major": 2,
       "version_minor": 0
      },
      "text/plain": [
       "VBox()"
      ]
     },
     "metadata": {},
     "output_type": "display_data"
    },
    {
     "name": "stderr",
     "output_type": "stream",
     "text": [
      "An error was encountered:\n",
      "Session 0 did not reach idle status in time. Current status is busy.\n"
     ]
    }
   ],
   "source": [
    " spark.stop()"
   ]
  },
  {
   "cell_type": "code",
   "execution_count": 86,
   "id": "fed7b3a3-a8c5-43e1-b951-d297e4077fa0",
   "metadata": {
    "execution": {
     "iopub.execute_input": "2022-05-19T14:22:11.466674Z",
     "iopub.status.busy": "2022-05-19T14:22:11.466443Z",
     "iopub.status.idle": "2022-05-19T14:22:11.742409Z",
     "shell.execute_reply": "2022-05-19T14:22:11.741766Z",
     "shell.execute_reply.started": "2022-05-19T14:22:11.466651Z"
    },
    "tags": []
   },
   "outputs": [
    {
     "data": {
      "application/vnd.jupyter.widget-view+json": {
       "model_id": "f02096af475a4b888eddcfbfd91c73af",
       "version_major": 2,
       "version_minor": 0
      },
      "text/plain": [
       "VBox()"
      ]
     },
     "metadata": {},
     "output_type": "display_data"
    },
    {
     "data": {
      "application/vnd.jupyter.widget-view+json": {
       "model_id": "",
       "version_major": 2,
       "version_minor": 0
      },
      "text/plain": [
       "FloatProgress(value=0.0, bar_style='info', description='Progress:', layout=Layout(height='25px', width='50%'),…"
      ]
     },
     "metadata": {},
     "output_type": "display_data"
    },
    {
     "name": "stdout",
     "output_type": "stream",
     "text": [
      "+-------------------+\n",
      "|               hour|\n",
      "+-------------------+\n",
      "|2018-10-01 21:10:38|\n",
      "|2018-10-01 21:15:45|\n",
      "|2018-10-01 21:19:30|\n",
      "|2018-10-01 21:25:21|\n",
      "|2018-10-01 21:29:23|\n",
      "|2018-10-01 21:32:53|\n",
      "|2018-10-01 21:32:54|\n",
      "|2018-10-01 21:36:11|\n",
      "|2018-10-01 21:38:24|\n",
      "|2018-10-01 21:39:31|\n",
      "|2018-10-01 21:39:32|\n",
      "|2018-10-01 21:43:27|\n",
      "|2018-10-01 21:46:41|\n",
      "|2018-10-01 21:46:46|\n",
      "|2018-10-01 21:46:53|\n",
      "|2018-10-01 21:46:54|\n",
      "|2018-10-01 21:49:34|\n",
      "|2018-10-01 21:50:37|\n",
      "|2018-10-01 21:54:03|\n",
      "|2018-10-01 21:55:11|\n",
      "+-------------------+\n",
      "only showing top 20 rows"
     ]
    }
   ],
   "source": [
    "spark.sql('''\n",
    "select from_unixtime(ts / 1000) as hour from dfc\n",
    "--group by hour\n",
    "--order by hour\n",
    "''').show()"
   ]
  },
  {
   "cell_type": "code",
   "execution_count": 77,
   "id": "22c983e3-ad8c-4a83-a108-d0d64c13ae74",
   "metadata": {
    "execution": {
     "iopub.execute_input": "2022-05-19T14:08:18.964428Z",
     "iopub.status.busy": "2022-05-19T14:08:18.964195Z",
     "iopub.status.idle": "2022-05-19T14:08:19.236129Z",
     "shell.execute_reply": "2022-05-19T14:08:19.128206Z",
     "shell.execute_reply.started": "2022-05-19T14:08:18.964399Z"
    },
    "tags": []
   },
   "outputs": [
    {
     "data": {
      "application/vnd.jupyter.widget-view+json": {
       "model_id": "e4f83c54548b4b9c876d5ebbd815f007",
       "version_major": 2,
       "version_minor": 0
      },
      "text/plain": [
       "VBox()"
      ]
     },
     "metadata": {},
     "output_type": "display_data"
    },
    {
     "data": {
      "application/vnd.jupyter.widget-view+json": {
       "model_id": "",
       "version_major": 2,
       "version_minor": 0
      },
      "text/plain": [
       "FloatProgress(value=0.0, bar_style='info', description='Progress:', layout=Layout(height='25px', width='50%'),…"
      ]
     },
     "metadata": {},
     "output_type": "display_data"
    },
    {
     "name": "stderr",
     "output_type": "stream",
     "text": [
      "An error was encountered:\n",
      "name 'sns' is not defined\n",
      "Traceback (most recent call last):\n",
      "NameError: name 'sns' is not defined\n",
      "\n"
     ]
    }
   ],
   "source": [
    "sns.barplot(data=hourly_usage, x=\"hour\", y=\"interaction_count\")"
   ]
  },
  {
   "cell_type": "code",
   "execution_count": 87,
   "id": "7c631c0f-597c-4d7a-b00e-f2433c398ab9",
   "metadata": {
    "execution": {
     "iopub.execute_input": "2022-05-19T14:24:16.949585Z",
     "iopub.status.busy": "2022-05-19T14:24:16.949345Z",
     "iopub.status.idle": "2022-05-19T14:24:28.255591Z",
     "shell.execute_reply": "2022-05-19T14:24:28.255003Z",
     "shell.execute_reply.started": "2022-05-19T14:24:16.949560Z"
    },
    "tags": []
   },
   "outputs": [
    {
     "data": {
      "application/vnd.jupyter.widget-view+json": {
       "model_id": "4e2bab85c6cc47c0b6bd4a06576e58e0",
       "version_major": 2,
       "version_minor": 0
      },
      "text/plain": [
       "VBox()"
      ]
     },
     "metadata": {},
     "output_type": "display_data"
    },
    {
     "data": {
      "application/vnd.jupyter.widget-view+json": {
       "model_id": "",
       "version_major": 2,
       "version_minor": 0
      },
      "text/plain": [
       "FloatProgress(value=0.0, bar_style='info', description='Progress:', layout=Layout(height='25px', width='50%'),…"
      ]
     },
     "metadata": {},
     "output_type": "display_data"
    }
   ],
   "source": [
    "monthly_usage = spark.sql('''\n",
    "select dayofmonth(from_unixtime(ts / 1000)) as day, sum(case when page IN('Submit Downgrade', 'Cancellation Confirmation') then 1 else 0 end) as churn, count(*) as interaction_count from df\n",
    "group by day\n",
    "order by day\n",
    "''').toPandas()"
   ]
  },
  {
   "cell_type": "code",
   "execution_count": 88,
   "id": "64e38c8b-48a9-4363-8304-4f6ef9f605d2",
   "metadata": {
    "execution": {
     "iopub.execute_input": "2022-05-19T14:24:33.459660Z",
     "iopub.status.busy": "2022-05-19T14:24:33.459328Z",
     "iopub.status.idle": "2022-05-19T14:24:33.525285Z",
     "shell.execute_reply": "2022-05-19T14:24:33.524481Z",
     "shell.execute_reply.started": "2022-05-19T14:24:33.459624Z"
    },
    "tags": []
   },
   "outputs": [
    {
     "data": {
      "application/vnd.jupyter.widget-view+json": {
       "model_id": "e03435e45bf447828b6b43b8d5a77dff",
       "version_major": 2,
       "version_minor": 0
      },
      "text/plain": [
       "VBox()"
      ]
     },
     "metadata": {},
     "output_type": "display_data"
    },
    {
     "data": {
      "application/vnd.jupyter.widget-view+json": {
       "model_id": "",
       "version_major": 2,
       "version_minor": 0
      },
      "text/plain": [
       "FloatProgress(value=0.0, bar_style='info', description='Progress:', layout=Layout(height='25px', width='50%'),…"
      ]
     },
     "metadata": {},
     "output_type": "display_data"
    },
    {
     "name": "stdout",
     "output_type": "stream",
     "text": [
      "    day  churn  interaction_count\n",
      "0     1    425             935368\n",
      "1     2    460             982324\n",
      "2     3    375             799309\n",
      "3     4    361             792740\n",
      "4     5    393             938104\n",
      "5     6    358             804919\n",
      "6     7    344             777161\n",
      "7     8    423             966711\n",
      "8     9    414             999356\n",
      "9    10    374             835036\n",
      "10   11    384             798376\n",
      "11   12    431             951970\n",
      "12   13    358             825031\n",
      "13   14    309             759492\n",
      "14   15    443             959315\n",
      "15   16    415             986690\n",
      "16   17    351             809526\n",
      "17   18    330             783562\n",
      "18   19    398             950183\n",
      "19   20    340             799089\n",
      "20   21    319             755016\n",
      "21   22    367             767159\n",
      "22   23    382             912083\n",
      "23   24    358             792532\n",
      "24   25    347             777617\n",
      "25   26    396             914437\n",
      "26   27    338             779472\n",
      "27   28    301             737435\n",
      "28   29    375             909093\n",
      "29   30    414             962314\n",
      "30   31    214             497779"
     ]
    }
   ],
   "source": [
    "monthly_usage"
   ]
  },
  {
   "cell_type": "code",
   "execution_count": 89,
   "id": "95d3d692-4968-4465-9887-4193edd4668f",
   "metadata": {
    "execution": {
     "iopub.execute_input": "2022-05-19T14:24:42.716291Z",
     "iopub.status.busy": "2022-05-19T14:24:42.716070Z",
     "iopub.status.idle": "2022-05-19T14:24:42.771881Z",
     "shell.execute_reply": "2022-05-19T14:24:42.771117Z",
     "shell.execute_reply.started": "2022-05-19T14:24:42.716267Z"
    },
    "tags": []
   },
   "outputs": [
    {
     "data": {
      "application/vnd.jupyter.widget-view+json": {
       "model_id": "7e50b439afb848d191a3f3afc707d999",
       "version_major": 2,
       "version_minor": 0
      },
      "text/plain": [
       "VBox()"
      ]
     },
     "metadata": {},
     "output_type": "display_data"
    },
    {
     "data": {
      "application/vnd.jupyter.widget-view+json": {
       "model_id": "",
       "version_major": 2,
       "version_minor": 0
      },
      "text/plain": [
       "FloatProgress(value=0.0, bar_style='info', description='Progress:', layout=Layout(height='25px', width='50%'),…"
      ]
     },
     "metadata": {},
     "output_type": "display_data"
    },
    {
     "name": "stderr",
     "output_type": "stream",
     "text": [
      "An error was encountered:\n",
      "name 'sns' is not defined\n",
      "Traceback (most recent call last):\n",
      "NameError: name 'sns' is not defined\n",
      "\n"
     ]
    }
   ],
   "source": [
    "sns.barplot(data=monthly_usage, x=\"day\", y=\"interaction_count\")"
   ]
  },
  {
   "cell_type": "code",
   "execution_count": 90,
   "id": "1db1b13b-0232-465c-b40a-202c9f1a7c27",
   "metadata": {
    "execution": {
     "iopub.execute_input": "2022-05-19T14:24:49.853139Z",
     "iopub.status.busy": "2022-05-19T14:24:49.852923Z",
     "iopub.status.idle": "2022-05-19T14:24:50.450755Z",
     "shell.execute_reply": "2022-05-19T14:24:50.450134Z",
     "shell.execute_reply.started": "2022-05-19T14:24:49.853117Z"
    },
    "tags": []
   },
   "outputs": [
    {
     "data": {
      "application/vnd.jupyter.widget-view+json": {
       "model_id": "cba01f1a41cd414d8177feb1f1e626f9",
       "version_major": 2,
       "version_minor": 0
      },
      "text/plain": [
       "VBox()"
      ]
     },
     "metadata": {},
     "output_type": "display_data"
    },
    {
     "data": {
      "application/vnd.jupyter.widget-view+json": {
       "model_id": "",
       "version_major": 2,
       "version_minor": 0
      },
      "text/plain": [
       "FloatProgress(value=0.0, bar_style='info', description='Progress:', layout=Layout(height='25px', width='50%'),…"
      ]
     },
     "metadata": {},
     "output_type": "display_data"
    }
   ],
   "source": [
    "dfc = spark.sql('''\n",
    "with cancel_flagged_df as (\n",
    "    select df.*\n",
    "        , case page when 'Cancellation Confirmation' then 1 else 0 end as cancel_event \n",
    "        from df\n",
    "        where userId is not null and sessionId is not null\n",
    ")\n",
    "\n",
    "select auth, gender, itemInSession, length, level, page, registration, sessionId, status, ts, userAgent, userId\n",
    "    , sum(cancel_event) over (partition by userId rows between unbounded preceding and unbounded following) as churn\n",
    "    from cancel_flagged_df\n",
    "''')"
   ]
  },
  {
   "cell_type": "code",
   "execution_count": 91,
   "id": "164b4d1c-c2c1-45bc-b952-95376f7f9c48",
   "metadata": {
    "execution": {
     "iopub.execute_input": "2022-05-19T14:24:59.891390Z",
     "iopub.status.busy": "2022-05-19T14:24:59.891027Z",
     "iopub.status.idle": "2022-05-19T14:25:00.161690Z",
     "shell.execute_reply": "2022-05-19T14:25:00.161022Z",
     "shell.execute_reply.started": "2022-05-19T14:24:59.891348Z"
    },
    "tags": []
   },
   "outputs": [
    {
     "data": {
      "application/vnd.jupyter.widget-view+json": {
       "model_id": "a55c691674e6490f8dfea46682599eb7",
       "version_major": 2,
       "version_minor": 0
      },
      "text/plain": [
       "VBox()"
      ]
     },
     "metadata": {},
     "output_type": "display_data"
    },
    {
     "data": {
      "application/vnd.jupyter.widget-view+json": {
       "model_id": "",
       "version_major": 2,
       "version_minor": 0
      },
      "text/plain": [
       "FloatProgress(value=0.0, bar_style='info', description='Progress:', layout=Layout(height='25px', width='50%'),…"
      ]
     },
     "metadata": {},
     "output_type": "display_data"
    }
   ],
   "source": [
    "dfc.persist()\n",
    "dfc.createOrReplaceTempView('dfc')"
   ]
  },
  {
   "cell_type": "code",
   "execution_count": 51,
   "id": "510d03e5-4a3c-4ff6-91f8-f33a929949cb",
   "metadata": {
    "execution": {
     "iopub.execute_input": "2022-05-19T13:44:05.517537Z",
     "iopub.status.busy": "2022-05-19T13:44:05.517311Z",
     "iopub.status.idle": "2022-05-19T13:45:09.016501Z",
     "shell.execute_reply": "2022-05-19T13:45:09.015864Z",
     "shell.execute_reply.started": "2022-05-19T13:44:05.517513Z"
    },
    "tags": []
   },
   "outputs": [
    {
     "data": {
      "application/vnd.jupyter.widget-view+json": {
       "model_id": "542fd6517c9c4c0d818e43dd5a677bdc",
       "version_major": 2,
       "version_minor": 0
      },
      "text/plain": [
       "VBox()"
      ]
     },
     "metadata": {},
     "output_type": "display_data"
    },
    {
     "data": {
      "application/vnd.jupyter.widget-view+json": {
       "model_id": "",
       "version_major": 2,
       "version_minor": 0
      },
      "text/plain": [
       "FloatProgress(value=0.0, bar_style='info', description='Progress:', layout=Layout(height='25px', width='50%'),…"
      ]
     },
     "metadata": {},
     "output_type": "display_data"
    },
    {
     "name": "stdout",
     "output_type": "stream",
     "text": [
      "   churn  count(DISTINCT userId)\n",
      "0      1                    5003\n",
      "1      0                   17275"
     ]
    }
   ],
   "source": [
    "spark.sql('''\n",
    "select churn, count(distinct userId) \n",
    "from dfc\n",
    "group by churn\n",
    "''').show()"
   ]
  },
  {
   "cell_type": "code",
   "execution_count": 52,
   "id": "ce8f5ad0-5b96-4999-91e9-fd655d5ac354",
   "metadata": {
    "execution": {
     "iopub.execute_input": "2022-05-19T13:45:15.183269Z",
     "iopub.status.busy": "2022-05-19T13:45:15.183037Z",
     "iopub.status.idle": "2022-05-19T13:45:17.456772Z",
     "shell.execute_reply": "2022-05-19T13:45:17.456150Z",
     "shell.execute_reply.started": "2022-05-19T13:45:15.183245Z"
    },
    "tags": []
   },
   "outputs": [
    {
     "data": {
      "application/vnd.jupyter.widget-view+json": {
       "model_id": "72e11497f08d46f7bed3e8e3c1ce86d1",
       "version_major": 2,
       "version_minor": 0
      },
      "text/plain": [
       "VBox()"
      ]
     },
     "metadata": {},
     "output_type": "display_data"
    },
    {
     "data": {
      "application/vnd.jupyter.widget-view+json": {
       "model_id": "",
       "version_major": 2,
       "version_minor": 0
      },
      "text/plain": [
       "FloatProgress(value=0.0, bar_style='info', description='Progress:', layout=Layout(height='25px', width='50%'),…"
      ]
     },
     "metadata": {},
     "output_type": "display_data"
    }
   ],
   "source": [
    "page_use_by_churn = spark.sql('''\n",
    "with page_activity as (\n",
    "    select page, churn, count(*) as interaction_count\n",
    "    from dfc\n",
    "    group by page, churn\n",
    "    order by page, churn\n",
    ")\n",
    "\n",
    "select page, churn, interaction_count / sum(interaction_count)  over (partition by churn) * 100 as percent\n",
    "from page_activity\n",
    "where page != 'NextSong'\n",
    "order by page, churn\n",
    "''').toPandas().pivot(index='page', columns='churn', values='percent')"
   ]
  },
  {
   "cell_type": "code",
   "execution_count": 64,
   "id": "7f82ae74-5cb3-4b01-ad96-adaac432fe0b",
   "metadata": {
    "execution": {
     "iopub.execute_input": "2022-05-19T13:53:25.125830Z",
     "iopub.status.busy": "2022-05-19T13:53:25.125596Z",
     "iopub.status.idle": "2022-05-19T13:53:25.395982Z",
     "shell.execute_reply": "2022-05-19T13:53:25.395422Z",
     "shell.execute_reply.started": "2022-05-19T13:53:25.125806Z"
    },
    "tags": []
   },
   "outputs": [
    {
     "data": {
      "application/vnd.jupyter.widget-view+json": {
       "model_id": "6373e060c7054f6393f1ee69c1495c92",
       "version_major": 2,
       "version_minor": 0
      },
      "text/plain": [
       "VBox()"
      ]
     },
     "metadata": {},
     "output_type": "display_data"
    },
    {
     "data": {
      "application/vnd.jupyter.widget-view+json": {
       "model_id": "",
       "version_major": 2,
       "version_minor": 0
      },
      "text/plain": [
       "FloatProgress(value=0.0, bar_style='info', description='Progress:', layout=Layout(height='25px', width='50%'),…"
      ]
     },
     "metadata": {},
     "output_type": "display_data"
    },
    {
     "data": {
      "image/png": "[encoded data removed]",
      "text/plain": [
       "<IPython.core.display.Image object>"
      ]
     },
     "metadata": {},
     "output_type": "display_data"
    }
   ],
   "source": [
    "\n",
    "page_use_by_churn.plot.barh(figsize=(8,12))\n",
    "%matplot plt"
   ]
  },
  {
   "cell_type": "code",
   "execution_count": 65,
   "id": "5ce37011-4d96-4340-9d40-e2baa00f2664",
   "metadata": {
    "execution": {
     "iopub.execute_input": "2022-05-19T13:53:59.795267Z",
     "iopub.status.busy": "2022-05-19T13:53:59.795034Z",
     "iopub.status.idle": "2022-05-19T13:53:59.857327Z",
     "shell.execute_reply": "2022-05-19T13:53:59.856748Z",
     "shell.execute_reply.started": "2022-05-19T13:53:59.795243Z"
    },
    "tags": []
   },
   "outputs": [
    {
     "data": {
      "application/vnd.jupyter.widget-view+json": {
       "model_id": "9ffdb215a3e8403ca06b5230a91f5683",
       "version_major": 2,
       "version_minor": 0
      },
      "text/plain": [
       "VBox()"
      ]
     },
     "metadata": {},
     "output_type": "display_data"
    },
    {
     "data": {
      "application/vnd.jupyter.widget-view+json": {
       "model_id": "",
       "version_major": 2,
       "version_minor": 0
      },
      "text/plain": [
       "FloatProgress(value=0.0, bar_style='info', description='Progress:', layout=Layout(height='25px', width='50%'),…"
      ]
     },
     "metadata": {},
     "output_type": "display_data"
    },
    {
     "name": "stdout",
     "output_type": "stream",
     "text": [
      "root\n",
      " |-- auth: string (nullable = true)\n",
      " |-- gender: string (nullable = true)\n",
      " |-- itemInSession: long (nullable = true)\n",
      " |-- length: double (nullable = true)\n",
      " |-- level: string (nullable = true)\n",
      " |-- page: string (nullable = true)\n",
      " |-- registration: long (nullable = true)\n",
      " |-- sessionId: long (nullable = true)\n",
      " |-- status: long (nullable = true)\n",
      " |-- ts: long (nullable = true)\n",
      " |-- userAgent: string (nullable = true)\n",
      " |-- userId: string (nullable = true)\n",
      " |-- churn: long (nullable = true)"
     ]
    }
   ],
   "source": [
    "dfc.printSchema()"
   ]
  },
  {
   "cell_type": "code",
   "execution_count": 66,
   "id": "7463f980-9f41-4d42-8a15-4a9a46ff277f",
   "metadata": {
    "execution": {
     "iopub.execute_input": "2022-05-19T13:54:09.673444Z",
     "iopub.status.busy": "2022-05-19T13:54:09.673164Z",
     "iopub.status.idle": "2022-05-19T13:54:12.951954Z",
     "shell.execute_reply": "2022-05-19T13:54:12.951274Z",
     "shell.execute_reply.started": "2022-05-19T13:54:09.673417Z"
    },
    "tags": []
   },
   "outputs": [
    {
     "data": {
      "application/vnd.jupyter.widget-view+json": {
       "model_id": "c7e80442a42844c598bd67b8df06f01d",
       "version_major": 2,
       "version_minor": 0
      },
      "text/plain": [
       "VBox()"
      ]
     },
     "metadata": {},
     "output_type": "display_data"
    },
    {
     "data": {
      "application/vnd.jupyter.widget-view+json": {
       "model_id": "",
       "version_major": 2,
       "version_minor": 0
      },
      "text/plain": [
       "FloatProgress(value=0.0, bar_style='info', description='Progress:', layout=Layout(height='25px', width='50%'),…"
      ]
     },
     "metadata": {},
     "output_type": "display_data"
    },
    {
     "name": "stdout",
     "output_type": "stream",
     "text": [
      "   churn  free_usage  paid_usage  both\n",
      "0      1        4147        3891  3035\n",
      "1      0       14646       12294  9665"
     ]
    }
   ],
   "source": [
    "spark.sql('''with user_levels as (\n",
    "    select userId, churn, sum(case when level = 'free' then 1 else 0 end) as free\n",
    "    , sum(case when level = 'paid' then 1 else 0 end) as paid, count(*) c\n",
    "    from dfc\n",
    "    group by userId,  churn\n",
    ")\n",
    "\n",
    "select churn, sum(case when free > 0 then 1 else 0 end) as free_usage\n",
    ", sum(case when paid > 0 then 1 else 0 end) as paid_usage\n",
    ", sum(case when paid > 0 and free > 0 then 1 else 0 end) as both\n",
    "from user_levels\n",
    "group by churn\n",
    "''').toPandas()"
   ]
  },
  {
   "cell_type": "code",
   "execution_count": null,
   "id": "ac72efc5-bea6-4bca-bef5-29add5f10852",
   "metadata": {},
   "outputs": [],
   "source": []
  }
 ],
 "metadata": {
  "kernelspec": {
   "display_name": "PySpark",
   "language": "",
   "name": "pysparkkernel"
  },
  "language_info": {
   "codemirror_mode": {
    "name": "python",
    "version": 3
   },
   "mimetype": "text/x-python",
   "name": "pyspark",
   "pygments_lexer": "python3"
  }
 },
 "nbformat": 4,
 "nbformat_minor": 5
}
