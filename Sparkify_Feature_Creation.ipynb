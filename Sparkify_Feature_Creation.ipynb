{
 "cells": [
  {
   "cell_type": "code",
   "execution_count": 1,
   "id": "524d55e2-28bc-46c7-9dd1-0f8646d648e1",
   "metadata": {
    "execution": {
     "iopub.execute_input": "2022-05-23T10:34:32.898050Z",
     "iopub.status.busy": "2022-05-23T10:34:32.897817Z",
     "iopub.status.idle": "2022-05-23T10:34:58.285010Z",
     "shell.execute_reply": "2022-05-23T10:34:58.284309Z",
     "shell.execute_reply.started": "2022-05-23T10:34:32.898024Z"
    },
    "tags": []
   },
   "outputs": [
    {
     "data": {
      "application/vnd.jupyter.widget-view+json": {
       "model_id": "56a2f27d2acd472fba11659da86beaed",
       "version_major": 2,
       "version_minor": 0
      },
      "text/plain": [
       "VBox()"
      ]
     },
     "metadata": {},
     "output_type": "display_data"
    },
    {
     "name": "stdout",
     "output_type": "stream",
     "text": [
      "Starting Spark application\n"
     ]
    },
    {
     "data": {
      "text/html": [
       "<table>\n",
       "<tr><th>ID</th><th>YARN Application ID</th><th>Kind</th><th>State</th><th>Spark UI</th><th>Driver log</th><th>Current session?</th></tr><tr><td>1</td><td>application_1653294769412_0003</td><td>pyspark</td><td>idle</td><td><a target=\"_blank\" href=\"http://ip-192-168-5-154.eu-central-1.compute.internal:20888/proxy/application_1653294769412_0003/\" class=\"emr-proxy-link\" emr-resource=\"j-PL6H0K7US5TK\n",
       "\" application-id=\"application_1653294769412_0003\">Link</a></td><td><a target=\"_blank\" href=\"http://ip-192-168-5-165.eu-central-1.compute.internal:8042/node/containerlogs/container_1653294769412_0003_01_000001/livy\" >Link</a></td><td>✔</td></tr></table>"
      ],
      "text/plain": [
       "<IPython.core.display.HTML object>"
      ]
     },
     "metadata": {},
     "output_type": "display_data"
    },
    {
     "data": {
      "application/vnd.jupyter.widget-view+json": {
       "model_id": "",
       "version_major": 2,
       "version_minor": 0
      },
      "text/plain": [
       "FloatProgress(value=0.0, bar_style='info', description='Progress:', layout=Layout(height='25px', width='50%'),…"
      ]
     },
     "metadata": {},
     "output_type": "display_data"
    },
    {
     "name": "stdout",
     "output_type": "stream",
     "text": [
      "SparkSession available as 'spark'.\n"
     ]
    },
    {
     "data": {
      "application/vnd.jupyter.widget-view+json": {
       "model_id": "",
       "version_major": 2,
       "version_minor": 0
      },
      "text/plain": [
       "FloatProgress(value=0.0, bar_style='info', description='Progress:', layout=Layout(height='25px', width='50%'),…"
      ]
     },
     "metadata": {},
     "output_type": "display_data"
    },
    {
     "name": "stdout",
     "output_type": "stream",
     "text": [
      "Welcome to my EMR Notebook!\n",
      "aws-cfn-bootstrap (2.0)\n",
      "beautifulsoup4 (4.9.3)\n",
      "boto (2.49.0)\n",
      "boto3 (1.18.46)\n",
      "botocore (1.21.65)\n",
      "certifi (2021.5.30)\n",
      "click (8.0.3)\n",
      "cppy (1.1.0)\n",
      "cycler (0.11.0)\n",
      "Cython (0.29.24)\n",
      "docutils (0.14)\n",
      "jmespath (0.10.0)\n",
      "joblib (1.1.0)\n",
      "kiwisolver (1.4.2)\n",
      "lockfile (0.11.0)\n",
      "lxml (4.6.3)\n",
      "matplotlib (3.4.3)\n",
      "mysqlclient (1.4.2)\n",
      "nltk (3.6.5)\n",
      "nose (1.3.4)\n",
      "numpy (1.21.2)\n",
      "pandas (1.3.3)\n",
      "Pillow (9.1.1)\n",
      "pip (9.0.1)\n",
      "py-dateutil (2.2)\n",
      "pyparsing (3.0.9)\n",
      "pystache (0.5.4)\n",
      "python-daemon (2.2.3)\n",
      "python-dateutil (2.8.2)\n",
      "python37-sagemaker-pyspark (1.4.1)\n",
      "pytz (2021.3)\n",
      "PyYAML (5.4.1)\n",
      "regex (2021.10.21)\n",
      "s3transfer (0.5.2)\n",
      "scipy (1.7.3)\n",
      "seaborn (0.11.2)\n",
      "setuptools (28.8.0)\n",
      "simplejson (3.2.0)\n",
      "six (1.13.0)\n",
      "tqdm (4.62.3)\n",
      "typing-extensions (4.2.0)\n",
      "ua-parser (0.10.0)\n",
      "urllib3 (1.26.9)\n",
      "user-agents (2.2.0)\n",
      "wheel (0.29.0)\n",
      "windmill (1.6)\n",
      "\n",
      "DEPRECATION: The default format will switch to columns in the future. You can use --format=(legacy|columns) (or define a format=(legacy|columns) in your pip.conf under the [list] section) to disable this warning.\n",
      "You are using pip version 9.0.1, however version 22.1.1 is available.\n",
      "You should consider upgrading via the 'pip install --upgrade pip' command."
     ]
    }
   ],
   "source": [
    "print(\"Welcome to my EMR Notebook!\")\n",
    "sc.list_packages()"
   ]
  },
  {
   "cell_type": "code",
   "execution_count": 2,
   "id": "78a86154-88d1-4de7-bdce-d8a771b430df",
   "metadata": {
    "execution": {
     "iopub.execute_input": "2022-05-23T10:35:04.106982Z",
     "iopub.status.busy": "2022-05-23T10:35:04.106734Z",
     "iopub.status.idle": "2022-05-23T10:37:17.849001Z",
     "shell.execute_reply": "2022-05-23T10:37:17.848417Z",
     "shell.execute_reply.started": "2022-05-23T10:35:04.106957Z"
    },
    "tags": []
   },
   "outputs": [
    {
     "data": {
      "application/vnd.jupyter.widget-view+json": {
       "model_id": "54029a7200b647d78dc259277eb869ec",
       "version_major": 2,
       "version_minor": 0
      },
      "text/plain": [
       "VBox()"
      ]
     },
     "metadata": {},
     "output_type": "display_data"
    },
    {
     "data": {
      "application/vnd.jupyter.widget-view+json": {
       "model_id": "",
       "version_major": 2,
       "version_minor": 0
      },
      "text/plain": [
       "FloatProgress(value=0.0, bar_style='info', description='Progress:', layout=Layout(height='25px', width='50%'),…"
      ]
     },
     "metadata": {},
     "output_type": "display_data"
    },
    {
     "name": "stdout",
     "output_type": "stream",
     "text": [
      "Row(artist='Popol Vuh', auth='Logged In', firstName='Shlok', gender='M', itemInSession=278, lastName='Johnson', length=524.32934, level='paid', location='Dallas-Fort Worth-Arlington, TX', method='PUT', page='NextSong', registration=1533734541000, sessionId=22683, song='Ich mache einen Spiegel - Dream Part 4', status=200, ts=1538352001000, userAgent='\"Mozilla/5.0 (Windows NT 6.1; WOW64) AppleWebKit/537.36 (KHTML, like Gecko) Chrome/36.0.1985.143 Safari/537.36\"', userId='1749042')"
     ]
    }
   ],
   "source": [
    "# Starter code\n",
    "\n",
    "#from pyspark.sql import SparkSession\n",
    "\n",
    "#os.environ['PYSPARK_PYTHON'] = \"./pyspark_venv/bin/python\"\n",
    "# Create spark session\n",
    "#spark = SparkSession \\\n",
    "#    .builder \\\n",
    "#    .appName(\"Sparkify\") \\\n",
    "#    .getOrCreate()\n",
    "\n",
    "#    .config( \\\n",
    "#    \"spark.archives\",  \\\n",
    "#    \"pyspark_venv.tar.gz#environment\") \\\n",
    "\n",
    "# Read in full sparkify dataset\n",
    "#event_data = \"./mini_sparkify_event_data.json\"\n",
    "#event_data = \"s3n://udacity-dsnd/sparkify/mini_sparkify_event_data.json\"\n",
    "event_data = \"s3n://udacity-dsnd/sparkify/sparkify_event_data.json\"\n",
    "df = spark.read.json(event_data)\n",
    "df.persist()\n",
    "df.createOrReplaceTempView('df')\n",
    "df.head()"
   ]
  },
  {
   "cell_type": "code",
   "execution_count": 55,
   "id": "9b8453a6-d250-4cad-958d-1838e9806fa0",
   "metadata": {
    "execution": {
     "iopub.execute_input": "2022-05-23T11:13:42.694144Z",
     "iopub.status.busy": "2022-05-23T11:13:42.693904Z",
     "iopub.status.idle": "2022-05-23T11:13:42.747562Z",
     "shell.execute_reply": "2022-05-23T11:13:42.746947Z",
     "shell.execute_reply.started": "2022-05-23T11:13:42.694118Z"
    },
    "tags": []
   },
   "outputs": [
    {
     "data": {
      "application/vnd.jupyter.widget-view+json": {
       "model_id": "cab050c1f8dc42c584b83e49d069ec77",
       "version_major": 2,
       "version_minor": 0
      },
      "text/plain": [
       "VBox()"
      ]
     },
     "metadata": {},
     "output_type": "display_data"
    },
    {
     "data": {
      "application/vnd.jupyter.widget-view+json": {
       "model_id": "",
       "version_major": 2,
       "version_minor": 0
      },
      "text/plain": [
       "FloatProgress(value=0.0, bar_style='info', description='Progress:', layout=Layout(height='25px', width='50%'),…"
      ]
     },
     "metadata": {},
     "output_type": "display_data"
    }
   ],
   "source": [
    "import datetime \n",
    "import user_agents \n",
    "import numpy as np\n",
    "import pandas as pd\n",
    "from pyspark.sql.types import IntegerType\n",
    "import matplotlib.pyplot as plt\n",
    "import seaborn as sns"
   ]
  },
  {
   "cell_type": "code",
   "execution_count": 4,
   "id": "58fde272-14e7-4f3a-bc5f-c1891e97395d",
   "metadata": {
    "execution": {
     "iopub.execute_input": "2022-05-23T08:44:20.235590Z",
     "iopub.status.busy": "2022-05-23T08:44:20.235368Z",
     "iopub.status.idle": "2022-05-23T08:47:30.233456Z",
     "shell.execute_reply": "2022-05-23T08:47:30.232570Z",
     "shell.execute_reply.started": "2022-05-23T08:44:20.235568Z"
    },
    "tags": []
   },
   "outputs": [
    {
     "data": {
      "application/vnd.jupyter.widget-view+json": {
       "model_id": "7a8bd956c8d341e0b4f3e94d6bb78c82",
       "version_major": 2,
       "version_minor": 0
      },
      "text/plain": [
       "VBox()"
      ]
     },
     "metadata": {},
     "output_type": "display_data"
    },
    {
     "data": {
      "application/vnd.jupyter.widget-view+json": {
       "model_id": "",
       "version_major": 2,
       "version_minor": 0
      },
      "text/plain": [
       "FloatProgress(value=0.0, bar_style='info', description='Progress:', layout=Layout(height='25px', width='50%'),…"
      ]
     },
     "metadata": {},
     "output_type": "display_data"
    },
    {
     "name": "stdout",
     "output_type": "stream",
     "text": [
      "+------------------+---------+---------+------+-------------+--------+---------+-----+--------------------+------+-----------+-------------+---------+--------------------+------+-------------+--------------------+-------+\n",
      "|            artist|     auth|firstName|gender|itemInSession|lastName|   length|level|            location|method|       page| registration|sessionId|                song|status|           ts|           userAgent| userId|\n",
      "+------------------+---------+---------+------+-------------+--------+---------+-----+--------------------+------+-----------+-------------+---------+--------------------+------+-------------+--------------------+-------+\n",
      "|      Ryan Cabrera|Logged In|  Karissa|     F|           66|    Hill|216.94649| paid|    St. Louis, MO-IL|   PUT|   NextSong|1537348076000|    18524|Photo (Album Vers...|   200|1538507092000|\"Mozilla/5.0 (Win...|1174391|\n",
      "|       Ace of Base|Logged In|     Emma|     F|            0|Jacobson|228.38812| free|         Holland, MI|   PUT|   NextSong|1533182327000|    11723|   Don't Turn Around|   200|1538507092000|\"Mozilla/5.0 (Mac...|1005829|\n",
      "|      Beastie Boys|Logged In|    Aiden|     M|          100| Mendoza|  211.722| paid|Washington-Arling...|   PUT|   NextSong|1536823765000|    20191|Unite (2009 Digit...|   200|1538507092000|\"Mozilla/5.0 (Mac...|1164295|\n",
      "|              null|Logged In|  Zachary|     M|           94|     Ray|     null| paid|Miami-Fort Lauder...|   PUT|  Thumbs Up|1537047811000|    30980|                null|   307|1538507092000|\"Mozilla/5.0 (Mac...|1140512|\n",
      "|Crash Test Dummies|Logged In|     Maya|     F|          109|    Hall|214.67383| paid|Denver-Aurora-Lak...|   PUT|   NextSong|1535140438000|    29501|     Mmm Mmm Mmm Mmm|   200|1538507093000|\"Mozilla/5.0 (Win...|1099620|\n",
      "|      Cyndi Lauper|Logged In|    Tevin|     M|           68| Jenkins|267.31057| free|      Greensburg, IN|   PUT|   NextSong|1537753941000|    32667|      If You Go Away|   200|1538507093000|\"Mozilla/5.0 (Win...|1663482|\n",
      "|      Nevertheless|Logged In|  Kendall|     F|           76|  Miller|201.19465| free|Portland-Vancouve...|   PUT|   NextSong|1530841412000|    14416|Patience And Devo...|   200|1538507093000|\"Mozilla/5.0 (Win...|1411968|\n",
      "|      Beastie Boys|Logged In| Benjamin|     M|           37| Goodman|  211.722| free|Phoenix-Mesa-Scot...|   PUT|   NextSong|1527615250000|    26160|Unite (2009 Digit...|   200|1538507093000|\"Mozilla/5.0 (Mac...|1078300|\n",
      "|              null|Logged In|Alexander|     M|           50|  Powers|     null| free|Los Angeles-Long ...|   GET|Roll Advert|1534310799000|    32594|                null|   200|1538507093000|Mozilla/5.0 (Wind...|1663073|\n",
      "| Empire Of The Sun|Logged In|Katherine|     F|           99| Jenkins|275.56526| paid|New York-Newark-J...|   PUT|   NextSong|1534486969000|    23068|           The World|   200|1538507094000|\"Mozilla/5.0 (X11...|1446921|\n",
      "+------------------+---------+---------+------+-------------+--------+---------+-----+--------------------+------+-----------+-------------+---------+--------------------+------+-------------+--------------------+-------+"
     ]
    }
   ],
   "source": [
    "# hello world\n",
    "df.limit(10).show()"
   ]
  },
  {
   "cell_type": "markdown",
   "id": "4fe25a84-f50a-470e-a662-24d05ae398b1",
   "metadata": {},
   "source": [
    "## Data cleaning"
   ]
  },
  {
   "cell_type": "code",
   "execution_count": 5,
   "id": "a556efce-bfa5-4e75-97e8-b35ee14fae31",
   "metadata": {
    "execution": {
     "iopub.execute_input": "2022-05-20T14:45:55.094614Z",
     "iopub.status.busy": "2022-05-20T14:45:55.094379Z",
     "iopub.status.idle": "2022-05-20T14:45:55.887751Z",
     "shell.execute_reply": "2022-05-20T14:45:55.887059Z",
     "shell.execute_reply.started": "2022-05-20T14:45:55.094591Z"
    },
    "tags": []
   },
   "outputs": [
    {
     "data": {
      "application/vnd.jupyter.widget-view+json": {
       "model_id": "382710039855443aa10aac72227b5c5d",
       "version_major": 2,
       "version_minor": 0
      },
      "text/plain": [
       "VBox()"
      ]
     },
     "metadata": {},
     "output_type": "display_data"
    },
    {
     "data": {
      "application/vnd.jupyter.widget-view+json": {
       "model_id": "",
       "version_major": 2,
       "version_minor": 0
      },
      "text/plain": [
       "FloatProgress(value=0.0, bar_style='info', description='Progress:', layout=Layout(height='25px', width='50%'),…"
      ]
     },
     "metadata": {},
     "output_type": "display_data"
    },
    {
     "name": "stdout",
     "output_type": "stream",
     "text": [
      "+------+----------+---------+------+-------------+--------+------+-----+--------+------+-----+------------+---------+----+------+-------------+---------+-------+\n",
      "|artist|      auth|firstName|gender|itemInSession|lastName|length|level|location|method| page|registration|sessionId|song|status|           ts|userAgent| userId|\n",
      "+------+----------+---------+------+-------------+--------+------+-----+--------+------+-----+------------+---------+----+------+-------------+---------+-------+\n",
      "|  null|Logged Out|     null|  null|           87|    null|  null| paid|    null|   GET| Home|        null|     8615|null|   200|1538352008000|     null|1261737|\n",
      "|  null|Logged Out|     null|  null|            0|    null|  null| free|    null|   PUT|Login|        null|     7433|null|   307|1538352041000|     null|1261737|\n",
      "|  null|Logged Out|     null|  null|            4|    null|  null| free|    null|   GET| Home|        null|    25003|null|   200|1538352182000|     null|1261737|\n",
      "|  null|Logged Out|     null|  null|            2|    null|  null| free|    null|   GET| Home|        null|     9930|null|   200|1538352254000|     null|1261737|\n",
      "|  null|Logged Out|     null|  null|            3|    null|  null| free|    null|   PUT|Login|        null|     9930|null|   307|1538352255000|     null|1261737|\n",
      "|  null|Logged Out|     null|  null|            0|    null|  null| free|    null|   PUT|Login|        null|    23471|null|   307|1538352259000|     null|1261737|\n",
      "|  null|Logged Out|     null|  null|           44|    null|  null| free|    null|   GET| Home|        null|     6317|null|   200|1538352278000|     null|1261737|\n",
      "|  null|Logged Out|     null|  null|           43|    null|  null| free|    null|   GET| Home|        null|    22951|null|   200|1538352361000|     null|1261737|\n",
      "|  null|Logged Out|     null|  null|           44|    null|  null| free|    null|   GET| Home|        null|    22951|null|   200|1538352365000|     null|1261737|\n",
      "|  null|Logged Out|     null|  null|           95|    null|  null| paid|    null|   GET| Home|        null|     6071|null|   200|1538352404000|     null|1261737|\n",
      "|  null|Logged Out|     null|  null|           96|    null|  null| paid|    null|   PUT|Login|        null|     6071|null|   307|1538352405000|     null|1261737|\n",
      "|  null|Logged Out|     null|  null|          137|    null|  null| paid|    null|   GET| Home|        null|     9422|null|   200|1538352461000|     null|1261737|\n",
      "|  null|Logged Out|     null|  null|           68|    null|  null| paid|    null|   GET| Home|        null|    21447|null|   200|1538352464000|     null|1261737|\n",
      "|  null|Logged Out|     null|  null|           69|    null|  null| paid|    null|   PUT|Login|        null|    21447|null|   307|1538352465000|     null|1261737|\n",
      "|  null|Logged Out|     null|  null|          138|    null|  null| paid|    null|   GET| Home|        null|     9422|null|   200|1538352481000|     null|1261737|\n",
      "|  null|Logged Out|     null|  null|          139|    null|  null| paid|    null|   PUT|Login|        null|     9422|null|   307|1538352482000|     null|1261737|\n",
      "|  null|Logged Out|     null|  null|          279|    null|  null| paid|    null|   GET| Home|        null|     9659|null|   200|1538352501000|     null|1261737|\n",
      "|  null|Logged Out|     null|  null|           29|    null|  null| free|    null|   GET| Home|        null|    10467|null|   200|1538352507000|     null|1261737|\n",
      "|  null|Logged Out|     null|  null|          150|    null|  null| paid|    null|   GET| Home|        null|    13098|null|   200|1538352520000|     null|1261737|\n",
      "|  null|Logged Out|     null|  null|          280|    null|  null| paid|    null|   GET| Home|        null|     9659|null|   200|1538352542000|     null|1261737|\n",
      "+------+----------+---------+------+-------------+--------+------+-----+--------+------+-----+------------+---------+----+------+-------------+---------+-------+\n",
      "only showing top 20 rows"
     ]
    }
   ],
   "source": [
    "# check for null values in the dataset\n",
    "spark.sql('''\n",
    "select * from df \n",
    "where userId is null or sessionId is null or itemInsession is null or page is null or registration is null or ts is null\n",
    "''').show()"
   ]
  },
  {
   "cell_type": "code",
   "execution_count": 6,
   "id": "a64318d2-ccdd-4853-9eeb-84de11436f71",
   "metadata": {
    "execution": {
     "iopub.execute_input": "2022-05-20T14:46:01.807963Z",
     "iopub.status.busy": "2022-05-20T14:46:01.807627Z",
     "iopub.status.idle": "2022-05-20T14:46:04.136897Z",
     "shell.execute_reply": "2022-05-20T14:46:04.136182Z",
     "shell.execute_reply.started": "2022-05-20T14:46:01.807924Z"
    },
    "tags": []
   },
   "outputs": [
    {
     "data": {
      "application/vnd.jupyter.widget-view+json": {
       "model_id": "f62c6a37c221482588e1f61cf055a603",
       "version_major": 2,
       "version_minor": 0
      },
      "text/plain": [
       "VBox()"
      ]
     },
     "metadata": {},
     "output_type": "display_data"
    },
    {
     "data": {
      "application/vnd.jupyter.widget-view+json": {
       "model_id": "",
       "version_major": 2,
       "version_minor": 0
      },
      "text/plain": [
       "FloatProgress(value=0.0, bar_style='info', description='Progress:', layout=Layout(height='25px', width='50%'),…"
      ]
     },
     "metadata": {},
     "output_type": "display_data"
    },
    {
     "name": "stdout",
     "output_type": "stream",
     "text": [
      "+-------+\n",
      "| userId|\n",
      "+-------+\n",
      "|1261737|\n",
      "+-------+"
     ]
    }
   ],
   "source": [
    "# how do we know the userid if the auth state is Logged Out ?\n",
    "spark.sql('''\n",
    "select distinct userId from df \n",
    "where auth = 'Logged Out' \n",
    "''').show()"
   ]
  },
  {
   "cell_type": "code",
   "execution_count": 7,
   "id": "7b96ccfd-a441-46d3-94c1-93e5ed517acf",
   "metadata": {
    "execution": {
     "iopub.execute_input": "2022-05-20T14:46:05.441704Z",
     "iopub.status.busy": "2022-05-20T14:46:05.441470Z",
     "iopub.status.idle": "2022-05-20T14:46:10.765783Z",
     "shell.execute_reply": "2022-05-20T14:46:10.765223Z",
     "shell.execute_reply.started": "2022-05-20T14:46:05.441679Z"
    },
    "tags": []
   },
   "outputs": [
    {
     "data": {
      "application/vnd.jupyter.widget-view+json": {
       "model_id": "8778b900194848ac9af0374d5c9099f3",
       "version_major": 2,
       "version_minor": 0
      },
      "text/plain": [
       "VBox()"
      ]
     },
     "metadata": {},
     "output_type": "display_data"
    },
    {
     "data": {
      "application/vnd.jupyter.widget-view+json": {
       "model_id": "",
       "version_major": 2,
       "version_minor": 0
      },
      "text/plain": [
       "FloatProgress(value=0.0, bar_style='info', description='Progress:', layout=Layout(height='25px', width='50%'),…"
      ]
     },
     "metadata": {},
     "output_type": "display_data"
    },
    {
     "name": "stdout",
     "output_type": "stream",
     "text": [
      "+----------+\n",
      "|      auth|\n",
      "+----------+\n",
      "|Logged Out|\n",
      "|     Guest|\n",
      "+----------+\n",
      "\n",
      "+----------+\n",
      "|      auth|\n",
      "+----------+\n",
      "|Logged Out|\n",
      "|     Guest|\n",
      "| Cancelled|\n",
      "| Logged In|\n",
      "+----------+\n",
      "\n",
      "+--------------------+\n",
      "|                page|\n",
      "+--------------------+\n",
      "|Cancellation Conf...|\n",
      "+--------------------+"
     ]
    }
   ],
   "source": [
    "# seems to be a pseudo user id used for logged out users\n",
    "spark.sql('''\n",
    "select distinct auth from df \n",
    "where userId = '1261737'\n",
    "''').show()\n",
    "\n",
    "# let's see which auth states may happen?\n",
    "spark.sql('''\n",
    "select distinct auth from df \n",
    "--where userId = '1261737'\n",
    "''').show()\n",
    "\n",
    "# what pages is auth state Cancelled used for?\n",
    "spark.sql('''\n",
    "select distinct page from df \n",
    "where auth = 'Cancelled'\n",
    "''').show()\n"
   ]
  },
  {
   "cell_type": "code",
   "execution_count": 8,
   "id": "8e9e5b93-8b07-4ee3-a0d7-346d99b84fdc",
   "metadata": {
    "execution": {
     "iopub.execute_input": "2022-05-20T14:46:13.607232Z",
     "iopub.status.busy": "2022-05-20T14:46:13.607005Z",
     "iopub.status.idle": "2022-05-20T14:46:14.916941Z",
     "shell.execute_reply": "2022-05-20T14:46:14.916351Z",
     "shell.execute_reply.started": "2022-05-20T14:46:13.607209Z"
    },
    "tags": []
   },
   "outputs": [
    {
     "data": {
      "application/vnd.jupyter.widget-view+json": {
       "model_id": "ee111ff3e6da46a7a3f30cb1fa0cd40b",
       "version_major": 2,
       "version_minor": 0
      },
      "text/plain": [
       "VBox()"
      ]
     },
     "metadata": {},
     "output_type": "display_data"
    },
    {
     "data": {
      "application/vnd.jupyter.widget-view+json": {
       "model_id": "",
       "version_major": 2,
       "version_minor": 0
      },
      "text/plain": [
       "FloatProgress(value=0.0, bar_style='info', description='Progress:', layout=Layout(height='25px', width='50%'),…"
      ]
     },
     "metadata": {},
     "output_type": "display_data"
    },
    {
     "name": "stdout",
     "output_type": "stream",
     "text": [
      "+-----+\n",
      "| page|\n",
      "+-----+\n",
      "|Error|\n",
      "| Help|\n",
      "| Home|\n",
      "|About|\n",
      "|Login|\n",
      "+-----+"
     ]
    }
   ],
   "source": [
    "# interactions in state Logged Out don't help us as they are not assigned to a user\n",
    "spark.sql('''\n",
    "select distinct page \n",
    "from df\n",
    "where auth = 'Logged Out'\n",
    "''').show()"
   ]
  },
  {
   "cell_type": "code",
   "execution_count": 4,
   "id": "59495a7e-aaee-4cdb-af8c-b5aaf6574656",
   "metadata": {
    "execution": {
     "iopub.execute_input": "2022-05-23T10:37:44.954578Z",
     "iopub.status.busy": "2022-05-23T10:37:44.954262Z",
     "iopub.status.idle": "2022-05-23T10:37:45.743360Z",
     "shell.execute_reply": "2022-05-23T10:37:45.742621Z",
     "shell.execute_reply.started": "2022-05-23T10:37:44.954547Z"
    },
    "tags": []
   },
   "outputs": [
    {
     "data": {
      "application/vnd.jupyter.widget-view+json": {
       "model_id": "b317b11ebc834b5c9c430ba2f30f9e50",
       "version_major": 2,
       "version_minor": 0
      },
      "text/plain": [
       "VBox()"
      ]
     },
     "metadata": {},
     "output_type": "display_data"
    },
    {
     "data": {
      "application/vnd.jupyter.widget-view+json": {
       "model_id": "",
       "version_major": 2,
       "version_minor": 0
      },
      "text/plain": [
       "FloatProgress(value=0.0, bar_style='info', description='Progress:', layout=Layout(height='25px', width='50%'),…"
      ]
     },
     "metadata": {},
     "output_type": "display_data"
    }
   ],
   "source": [
    "# Let's get rid of the auth Logged Out and Guest lines in the dataset\n",
    "dfc = spark.sql('''\n",
    "select artist\n",
    "    , auth \n",
    "    , firstName\n",
    "    , gender\n",
    "    , itemInSession\n",
    "    , lastName\n",
    "    , length\n",
    "    , level\n",
    "    , location\n",
    "    , method\n",
    "    , page\n",
    "    , registration\n",
    "    , sessionId\n",
    "    , song\n",
    "    , status\n",
    "    , ts\n",
    "    , sha(userAgent) as agentKey -- surrogate key\n",
    "    , userId\n",
    "from df\n",
    "where auth IN ( 'Logged In', 'Cancelled')\n",
    "''')\n",
    "dfc.persist()\n",
    "dfc.createOrReplaceTempView('dfc')"
   ]
  },
  {
   "cell_type": "markdown",
   "id": "584c4f19-545c-43df-a6cd-d094169e765e",
   "metadata": {},
   "source": [
    "## Funnel analysis\n",
    "\n",
    "Let's figure out if there are particular page/action flows around the downgrade and cancellation"
   ]
  },
  {
   "cell_type": "code",
   "execution_count": 10,
   "id": "88776768-7883-4fe0-935b-8a4261707822",
   "metadata": {
    "execution": {
     "iopub.execute_input": "2022-05-20T14:46:26.043645Z",
     "iopub.status.busy": "2022-05-20T14:46:26.043428Z",
     "iopub.status.idle": "2022-05-20T14:47:15.523616Z",
     "shell.execute_reply": "2022-05-20T14:47:15.522814Z",
     "shell.execute_reply.started": "2022-05-20T14:46:26.043621Z"
    },
    "tags": []
   },
   "outputs": [
    {
     "data": {
      "application/vnd.jupyter.widget-view+json": {
       "model_id": "3a48ea7d55d74b24adb88a80a11d625c",
       "version_major": 2,
       "version_minor": 0
      },
      "text/plain": [
       "VBox()"
      ]
     },
     "metadata": {},
     "output_type": "display_data"
    },
    {
     "data": {
      "application/vnd.jupyter.widget-view+json": {
       "model_id": "",
       "version_major": 2,
       "version_minor": 0
      },
      "text/plain": [
       "FloatProgress(value=0.0, bar_style='info', description='Progress:', layout=Layout(height='25px', width='50%'),…"
      ]
     },
     "metadata": {},
     "output_type": "display_data"
    },
    {
     "name": "stdout",
     "output_type": "stream",
     "text": [
      "+--------+-------------------------+\n",
      "|count(1)|page                     |\n",
      "+--------+-------------------------+\n",
      "|20850272|NextSong                 |\n",
      "|1151465 |Thumbs Up                |\n",
      "|933124  |Home                     |\n",
      "|597921  |Add to Playlist          |\n",
      "|385212  |Roll Advert              |\n",
      "|381664  |Add Friend               |\n",
      "|296005  |Logout                   |\n",
      "|239212  |Thumbs Down              |\n",
      "|184240  |Downgrade                |\n",
      "|147074  |Settings                 |\n",
      "|129448  |Help                     |\n",
      "|50507   |Upgrade                  |\n",
      "|48377   |About                    |\n",
      "|29516   |Save Settings            |\n",
      "|25048   |Error                    |\n",
      "|15135   |Submit Upgrade           |\n",
      "|6494    |Submit Downgrade         |\n",
      "|5003    |Cancel                   |\n",
      "|5003    |Cancellation Confirmation|\n",
      "+--------+-------------------------+"
     ]
    }
   ],
   "source": [
    "# which pages exist and how often are the presented\n",
    "spark.sql('''\n",
    "select count(*), page \n",
    "from dfc\n",
    "group by page\n",
    "order by count(*) desc\n",
    "''').show(truncate=False)"
   ]
  },
  {
   "cell_type": "code",
   "execution_count": 32,
   "id": "42f24b58-452f-497e-af2c-96324ffc1885",
   "metadata": {
    "execution": {
     "iopub.execute_input": "2022-05-20T13:13:59.693878Z",
     "iopub.status.busy": "2022-05-20T13:13:59.693527Z",
     "iopub.status.idle": "2022-05-20T13:15:01.204407Z",
     "shell.execute_reply": "2022-05-20T13:15:01.203712Z",
     "shell.execute_reply.started": "2022-05-20T13:13:59.693836Z"
    },
    "tags": []
   },
   "outputs": [
    {
     "data": {
      "application/vnd.jupyter.widget-view+json": {
       "model_id": "1dbc42f0317343f0822a429648b50daa",
       "version_major": 2,
       "version_minor": 0
      },
      "text/plain": [
       "VBox()"
      ]
     },
     "metadata": {},
     "output_type": "display_data"
    },
    {
     "data": {
      "application/vnd.jupyter.widget-view+json": {
       "model_id": "",
       "version_major": 2,
       "version_minor": 0
      },
      "text/plain": [
       "FloatProgress(value=0.0, bar_style='info', description='Progress:', layout=Layout(height='25px', width='50%'),…"
      ]
     },
     "metadata": {},
     "output_type": "display_data"
    },
    {
     "name": "stdout",
     "output_type": "stream",
     "text": [
      "+--------+------------------+-------------------+-----------+------------+------+-----+--------------------+-----------+----------------+-----------------+\n",
      "|count(1)|before_before_page|before_before_level|before_page|before_level|  page|level|          after_page|after_level|after_after_page|after_after_level|\n",
      "+--------+------------------+-------------------+-----------+------------+------+-----+--------------------+-----------+----------------+-----------------+\n",
      "|    1834|          NextSong|               paid|  Downgrade|        paid|Cancel| paid|Cancellation Conf...|       paid|            null|             null|\n",
      "|    1059|          NextSong|               free|Roll Advert|        free|Cancel| free|Cancellation Conf...|       free|            null|             null|\n",
      "|     468|          NextSong|               paid|   Settings|        paid|Cancel| paid|Cancellation Conf...|       paid|            null|             null|\n",
      "|     337|          NextSong|               paid|Roll Advert|        paid|Cancel| paid|Cancellation Conf...|       paid|            null|             null|\n",
      "|     312|          NextSong|               paid|Thumbs Down|        paid|Cancel| paid|Cancellation Conf...|       paid|            null|             null|\n",
      "|     224|          NextSong|               free|Thumbs Down|        free|Cancel| free|Cancellation Conf...|       free|            null|             null|\n",
      "|     169|         Downgrade|               paid|  Downgrade|        paid|Cancel| paid|Cancellation Conf...|       paid|            null|             null|\n",
      "|     159|          NextSong|               free|   Settings|        free|Cancel| free|Cancellation Conf...|       free|            null|             null|\n",
      "|      75|              Home|               paid|   Settings|        paid|Cancel| paid|Cancellation Conf...|       paid|            null|             null|\n",
      "|      51|       Roll Advert|               free|Roll Advert|        free|Cancel| free|Cancellation Conf...|       free|            null|             null|\n",
      "|      40|       Thumbs Down|               paid|  Downgrade|        paid|Cancel| paid|Cancellation Conf...|       paid|            null|             null|\n",
      "|      38|              Home|               paid|  Downgrade|        paid|Cancel| paid|Cancellation Conf...|       paid|            null|             null|\n",
      "|      30|       Roll Advert|               paid|  Downgrade|        paid|Cancel| paid|Cancellation Conf...|       paid|            null|             null|\n",
      "|      27|              Home|               free|   Settings|        free|Cancel| free|Cancellation Conf...|       free|            null|             null|\n",
      "|      24|          Settings|               paid|   Settings|        paid|Cancel| paid|Cancellation Conf...|       paid|            null|             null|\n",
      "|      24|       Thumbs Down|               paid|   Settings|        paid|Cancel| paid|Cancellation Conf...|       paid|            null|             null|\n",
      "|      24|        Add Friend|               free|   Settings|        free|Cancel| free|Cancellation Conf...|       free|            null|             null|\n",
      "|      21|          Settings|               free|   Settings|        free|Cancel| free|Cancellation Conf...|       free|            null|             null|\n",
      "|      18|          Settings|               paid|  Downgrade|        paid|Cancel| paid|Cancellation Conf...|       paid|            null|             null|\n",
      "|      16|       Roll Advert|               paid|Roll Advert|        paid|Cancel| paid|Cancellation Conf...|       paid|            null|             null|\n",
      "|      15|              Help|               paid|   Settings|        paid|Cancel| paid|Cancellation Conf...|       paid|            null|             null|\n",
      "|      15|     Save Settings|               paid|   Settings|        paid|Cancel| paid|Cancellation Conf...|       paid|            null|             null|\n",
      "|       8|              Help|               free|   Settings|        free|Cancel| free|Cancellation Conf...|       free|            null|             null|\n",
      "|       7|              Help|               paid|  Downgrade|        paid|Cancel| paid|Cancellation Conf...|       paid|            null|             null|\n",
      "|       4|     Save Settings|               free|   Settings|        free|Cancel| free|Cancellation Conf...|       free|            null|             null|\n",
      "|       2|             About|               paid|   Settings|        paid|Cancel| paid|Cancellation Conf...|       paid|            null|             null|\n",
      "|       2|             About|               free|   Settings|        free|Cancel| free|Cancellation Conf...|       free|            null|             null|\n",
      "+--------+------------------+-------------------+-----------+------------+------+-----+--------------------+-----------+----------------+-----------------+\n",
      "\n",
      "+--------+------------------+-------------------+-----------+------------+----------------+-----+----------+-----------+----------------+-----------------+\n",
      "|count(1)|before_before_page|before_before_level|before_page|before_level|            page|level|after_page|after_level|after_after_page|after_after_level|\n",
      "+--------+------------------+-------------------+-----------+------------+----------------+-----+----------+-----------+----------------+-----------------+\n",
      "|    4841|          NextSong|               paid|  Downgrade|        paid|Submit Downgrade| paid|      Home|       free|        NextSong|             free|\n",
      "|     405|         Downgrade|               paid|  Downgrade|        paid|Submit Downgrade| paid|      Home|       free|        NextSong|             free|\n",
      "|     274|          NextSong|               paid|  Downgrade|        paid|Submit Downgrade| paid|      Home|       free|            null|             null|\n",
      "|     266|          NextSong|               paid|  Downgrade|        paid|Submit Downgrade| paid|      Home|       free|      Add Friend|             free|\n",
      "|     119|       Thumbs Down|               paid|  Downgrade|        paid|Submit Downgrade| paid|      Home|       free|        NextSong|             free|\n",
      "|     116|          NextSong|               paid|  Downgrade|        paid|Submit Downgrade| paid|      Home|       free|        Settings|             free|\n",
      "|      97|              Home|               paid|  Downgrade|        paid|Submit Downgrade| paid|      Home|       free|        NextSong|             free|\n",
      "|      59|          NextSong|               paid|  Downgrade|        paid|Submit Downgrade| paid|      Home|       free|          Logout|             free|\n",
      "|      49|          NextSong|               paid|  Downgrade|        paid|Submit Downgrade| paid|      Home|       free|            Home|             free|\n",
      "|      48|       Roll Advert|               paid|  Downgrade|        paid|Submit Downgrade| paid|      Home|       free|        NextSong|             free|\n",
      "|      39|          NextSong|               paid|  Downgrade|        paid|Submit Downgrade| paid|      Home|       free|         Upgrade|             free|\n",
      "|      38|          Settings|               paid|  Downgrade|        paid|Submit Downgrade| paid|      Home|       free|        NextSong|             free|\n",
      "|      23|         Downgrade|               paid|  Downgrade|        paid|Submit Downgrade| paid|      Home|       free|            null|             null|\n",
      "|      17|         Downgrade|               paid|  Downgrade|        paid|Submit Downgrade| paid|      Home|       free|      Add Friend|             free|\n",
      "|      13|          NextSong|               paid|  Downgrade|        paid|Submit Downgrade| paid|      Home|       free|            Help|             free|\n",
      "|      11|              Help|               paid|  Downgrade|        paid|Submit Downgrade| paid|      Home|       free|        NextSong|             free|\n",
      "|      11|         Downgrade|               paid|  Downgrade|        paid|Submit Downgrade| paid|      Home|       free|        Settings|             free|\n",
      "|      10|       Thumbs Down|               paid|  Downgrade|        paid|Submit Downgrade| paid|      Home|       free|            null|             null|\n",
      "|      10|          NextSong|               paid|  Downgrade|        paid|Submit Downgrade| paid|      Home|       free|           About|             free|\n",
      "|       5|       Thumbs Down|               paid|  Downgrade|        paid|Submit Downgrade| paid|      Home|       free|      Add Friend|             free|\n",
      "|       5|              Home|               paid|  Downgrade|        paid|Submit Downgrade| paid|      Home|       free|            null|             null|\n",
      "|       4|              Home|               paid|  Downgrade|        paid|Submit Downgrade| paid|      Home|       free|      Add Friend|             free|\n",
      "|       4|         Downgrade|               paid|  Downgrade|        paid|Submit Downgrade| paid|      Home|       free|          Logout|             free|\n",
      "|       3|          NextSong|               paid|  Downgrade|        paid|Submit Downgrade| paid|      Home|       free|           Error|             free|\n",
      "|       3|       Roll Advert|               paid|  Downgrade|        paid|Submit Downgrade| paid|      Home|       free|      Add Friend|             free|\n",
      "|       3|         Downgrade|               paid|  Downgrade|        paid|Submit Downgrade| paid|      Home|       free|            Home|             free|\n",
      "|       2|       Thumbs Down|               paid|  Downgrade|        paid|Submit Downgrade| paid|      Home|       free|          Logout|             free|\n",
      "|       2|          Settings|               paid|  Downgrade|        paid|Submit Downgrade| paid|      Home|       free|      Add Friend|             free|\n",
      "|       2|              Home|               paid|  Downgrade|        paid|Submit Downgrade| paid|      Home|       free|        Settings|             free|\n",
      "|       2|       Roll Advert|               paid|  Downgrade|        paid|Submit Downgrade| paid|      Home|       free|            null|             null|\n",
      "+--------+------------------+-------------------+-----------+------------+----------------+-----+----------+-----------+----------------+-----------------+\n",
      "only showing top 30 rows\n",
      "\n",
      "+--------+------------------+-------------------+-----------+------------+---------+-----+----------------+-----------+--------------------+-----------------+\n",
      "|count(1)|before_before_page|before_before_level|before_page|before_level|     page|level|      after_page|after_level|    after_after_page|after_after_level|\n",
      "+--------+------------------+-------------------+-----------+------------+---------+-----+----------------+-----------+--------------------+-----------------+\n",
      "|   74328|          NextSong|               paid|   NextSong|        paid|Downgrade| paid|        NextSong|       paid|            NextSong|             paid|\n",
      "|   12515|          NextSong|               paid|   NextSong|        paid|Downgrade| paid|          Logout|       paid|                Home|             paid|\n",
      "|   11699|          NextSong|               paid|   NextSong|        paid|Downgrade| paid|            Home|       paid|            NextSong|             paid|\n",
      "|    6291|          NextSong|               paid|  Downgrade|        paid|Downgrade| paid|        NextSong|       paid|            NextSong|             paid|\n",
      "|    6274|          NextSong|               paid|   NextSong|        paid|Downgrade| paid|       Downgrade|       paid|            NextSong|             paid|\n",
      "|    4787|          NextSong|               paid|   NextSong|        paid|Downgrade| paid|Submit Downgrade|       paid|                Home|             free|\n",
      "|    4699|          NextSong|               paid|   NextSong|        paid|Downgrade| paid|        NextSong|       paid|           Thumbs Up|             paid|\n",
      "|    4091|         Thumbs Up|               paid|   NextSong|        paid|Downgrade| paid|        NextSong|       paid|            NextSong|             paid|\n",
      "|    3727|          NextSong|               paid|   NextSong|        paid|Downgrade| paid|            null|       null|                null|             null|\n",
      "|    2987|              Home|               paid|   NextSong|        paid|Downgrade| paid|        NextSong|       paid|            NextSong|             paid|\n",
      "|    2414|   Add to Playlist|               paid|   NextSong|        paid|Downgrade| paid|        NextSong|       paid|            NextSong|             paid|\n",
      "|    2255|          NextSong|               paid|   NextSong|        paid|Downgrade| paid|        NextSong|       paid|     Add to Playlist|             paid|\n",
      "|    1898|          NextSong|               paid|Thumbs Down|        paid|Downgrade| paid|        NextSong|       paid|            NextSong|             paid|\n",
      "|    1759|          NextSong|               paid|   NextSong|        paid|Downgrade| paid|        NextSong|       paid|                Home|             paid|\n",
      "|    1531|          NextSong|               paid|   NextSong|        paid|Downgrade| paid|          Cancel|       paid|Cancellation Conf...|             paid|\n",
      "|    1185|          NextSong|               paid|   NextSong|        paid|Downgrade| paid|          Logout|       paid|                null|             null|\n",
      "|    1105|          NextSong|               paid|  Downgrade|        paid|Downgrade| paid|          Logout|       paid|                Home|             paid|\n",
      "|    1051|        Add Friend|               paid|   NextSong|        paid|Downgrade| paid|        NextSong|       paid|            NextSong|             paid|\n",
      "|    1015|          NextSong|               paid|   NextSong|        paid|Downgrade| paid|       Downgrade|       paid|              Logout|             paid|\n",
      "|    1009|          NextSong|               paid|   NextSong|        paid|Downgrade| paid|        NextSong|       paid|         Thumbs Down|             paid|\n",
      "|     996|          NextSong|               paid|  Downgrade|        paid|Downgrade| paid|            Home|       paid|            NextSong|             paid|\n",
      "|     985|          NextSong|               paid|   NextSong|        paid|Downgrade| paid|       Downgrade|       paid|                Home|             paid|\n",
      "|     925|          NextSong|               paid|   NextSong|        paid|Downgrade| paid|        NextSong|       paid|              Logout|             paid|\n",
      "|     895|          NextSong|               paid|   NextSong|        paid|Downgrade| paid|        NextSong|       paid|           Downgrade|             paid|\n",
      "|     841|          NextSong|               paid|   NextSong|        paid|Downgrade| paid|        NextSong|       paid|          Add Friend|             paid|\n",
      "|     839|       Thumbs Down|               paid|   NextSong|        paid|Downgrade| paid|        NextSong|       paid|            NextSong|             paid|\n",
      "|     795|          NextSong|               paid|       Home|        paid|Downgrade| paid|        NextSong|       paid|            NextSong|             paid|\n",
      "|     730|         Thumbs Up|               paid|   NextSong|        paid|Downgrade| paid|          Logout|       paid|                Home|             paid|\n",
      "|     710|          NextSong|               paid|   NextSong|        paid|Downgrade| paid|       Downgrade|       paid|           Downgrade|             paid|\n",
      "|     690|          NextSong|               paid|   NextSong|        paid|Downgrade| paid|            Home|       paid|                null|             null|\n",
      "+--------+------------------+-------------------+-----------+------------+---------+-----+----------------+-----------+--------------------+-----------------+\n",
      "only showing top 30 rows"
     ]
    }
   ],
   "source": [
    "# what happens before and after downgrade and cancellation?\n",
    "def funnel_sql(page):\n",
    "    return '''\n",
    "        WITH surrounding_page AS (\n",
    "        select row_number() over user_sessions as row_number\n",
    "            , LAG(page, 2) over user_sessions as before_before_page\n",
    "            , LAG(level, 2) over user_sessions as before_before_level\n",
    "            , LAG(page, 1) over user_sessions as before_page\n",
    "            , LAG(level, 1) over user_sessions as before_level\n",
    "            , LEAD(page, 1) over user_sessions as after_page\n",
    "            , LEAD(level, 1) over user_sessions as after_level\n",
    "            , LEAD(page, 2) over user_sessions as after_after_page\n",
    "            , LEAD(level, 2) over user_sessions as after_after_level\n",
    "            , dfc.*\n",
    "        from dfc\n",
    "        window user_sessions as (partition by userId, sessionId order by itemInSession)\n",
    "    )\n",
    "\n",
    "    select count(*)\n",
    "        , before_before_page\n",
    "        , before_before_level\n",
    "        , before_page\n",
    "        , before_level\n",
    "        , page\n",
    "        , level\n",
    "        , after_page\n",
    "        , after_level\n",
    "        , after_after_page\n",
    "        , after_after_level\n",
    "    from surrounding_page \n",
    "    where page IN ( '{0}' )\n",
    "    group by before_before_page\n",
    "        , before_before_level\n",
    "        , before_page\n",
    "        , before_level\n",
    "        , page\n",
    "        , level\n",
    "        , after_page\n",
    "        , after_level\n",
    "        , after_after_page\n",
    "        , after_after_level\n",
    "    order by count(*) desc\n",
    "    '''.format(page)\n",
    "\n",
    "for p in ['Cancel', 'Submit Downgrade', 'Downgrade']:\n",
    "    spark.sql(funnel_sql(p)).show(30)"
   ]
  },
  {
   "cell_type": "markdown",
   "id": "b9a67212-02b4-4565-9dae-2d47ff4062ac",
   "metadata": {},
   "source": [
    "### Findings\n",
    "\n",
    "\n",
    "As it seems *Downgrade* is a page which features a downgrade button. The click is logged as *Submit Downgrade* and the user is directed to the *Home* page afterwards. \n",
    "\n",
    "Compared to that *Cancel* seems to be accessible from every page (which is a bit ridiculous as you typically would avoid churn by hiding the button somewhere deep in the settings or so). *Cancel* is followed by the *Cancel confirmation* page and the session ends.\n",
    "\n",
    "As a side finding it might happen that adverts are rolled in the paid level (even twice in a row), which might trigger cancellations. Let's look into this"
   ]
  },
  {
   "cell_type": "code",
   "execution_count": 35,
   "id": "1f897c87-8263-488e-b5a3-540136c2f418",
   "metadata": {
    "execution": {
     "iopub.execute_input": "2022-05-20T13:28:17.998145Z",
     "iopub.status.busy": "2022-05-20T13:28:17.997899Z",
     "iopub.status.idle": "2022-05-20T13:28:21.323607Z",
     "shell.execute_reply": "2022-05-20T13:28:21.322773Z",
     "shell.execute_reply.started": "2022-05-20T13:28:17.998120Z"
    },
    "tags": []
   },
   "outputs": [
    {
     "data": {
      "application/vnd.jupyter.widget-view+json": {
       "model_id": "96fc61d40af24952b5a02cf32875dcdb",
       "version_major": 2,
       "version_minor": 0
      },
      "text/plain": [
       "VBox()"
      ]
     },
     "metadata": {},
     "output_type": "display_data"
    },
    {
     "data": {
      "application/vnd.jupyter.widget-view+json": {
       "model_id": "",
       "version_major": 2,
       "version_minor": 0
      },
      "text/plain": [
       "FloatProgress(value=0.0, bar_style='info', description='Progress:', layout=Layout(height='25px', width='50%'),…"
      ]
     },
     "metadata": {},
     "output_type": "display_data"
    },
    {
     "name": "stdout",
     "output_type": "stream",
     "text": [
      "+-----+--------+\n",
      "|level|count(1)|\n",
      "+-----+--------+\n",
      "| free| 5408240|\n",
      "| paid|20072480|\n",
      "+-----+--------+\n",
      "\n",
      "+-----+--------+\n",
      "|level|count(1)|\n",
      "+-----+--------+\n",
      "| free|  363243|\n",
      "| paid|   21969|\n",
      "+-----+--------+"
     ]
    }
   ],
   "source": [
    "# let's see how many paid and free actions we have\n",
    "spark.sql('''\n",
    "select level, count(*)\n",
    "from dfc\n",
    "group by level\n",
    "''').show()\n",
    "\n",
    "# how many adverts do we roll on each level?\n",
    "spark.sql('''\n",
    "select level, count(*)\n",
    "from dfc\n",
    "where page = 'Roll Advert'\n",
    "group by level\n",
    "''').show()"
   ]
  },
  {
   "cell_type": "markdown",
   "id": "23c9cc94-eac9-48a3-9579-c04d681da204",
   "metadata": {},
   "source": [
    "## User Agent"
   ]
  },
  {
   "cell_type": "code",
   "execution_count": 43,
   "id": "665683b7-5924-4084-9179-0770850748f7",
   "metadata": {
    "execution": {
     "iopub.execute_input": "2022-05-23T09:10:47.213852Z",
     "iopub.status.busy": "2022-05-23T09:10:47.213632Z",
     "iopub.status.idle": "2022-05-23T09:10:52.519655Z",
     "shell.execute_reply": "2022-05-23T09:10:52.518804Z",
     "shell.execute_reply.started": "2022-05-23T09:10:47.213828Z"
    },
    "tags": []
   },
   "outputs": [
    {
     "data": {
      "application/vnd.jupyter.widget-view+json": {
       "model_id": "d16de7d384614bfdb7ade055a3dae625",
       "version_major": 2,
       "version_minor": 0
      },
      "text/plain": [
       "VBox()"
      ]
     },
     "metadata": {},
     "output_type": "display_data"
    },
    {
     "data": {
      "application/vnd.jupyter.widget-view+json": {
       "model_id": "",
       "version_major": 2,
       "version_minor": 0
      },
      "text/plain": [
       "FloatProgress(value=0.0, bar_style='info', description='Progress:', layout=Layout(height='25px', width='50%'),…"
      ]
     },
     "metadata": {},
     "output_type": "display_data"
    },
    {
     "name": "stdout",
     "output_type": "stream",
     "text": [
      "+-------------------------------------------------------------------------------------------------------------------------------------------+--------+\n",
      "|userAgent                                                                                                                                  |count(1)|\n",
      "+-------------------------------------------------------------------------------------------------------------------------------------------+--------+\n",
      "|\"Mozilla/5.0 (Windows NT 6.1; WOW64) AppleWebKit/537.36 (KHTML, like Gecko) Chrome/36.0.1985.143 Safari/537.36\"                            |2400726 |\n",
      "|Mozilla/5.0 (Windows NT 6.1; WOW64; rv:31.0) Gecko/20100101 Firefox/31.0                                                                   |1962722 |\n",
      "|\"Mozilla/5.0 (Windows NT 6.1; WOW64) AppleWebKit/537.36 (KHTML, like Gecko) Chrome/36.0.1985.125 Safari/537.36\"                            |1562542 |\n",
      "|\"Mozilla/5.0 (Macintosh; Intel Mac OS X 10_9_4) AppleWebKit/537.36 (KHTML, like Gecko) Chrome/36.0.1985.143 Safari/537.36\"                 |1523670 |\n",
      "|\"Mozilla/5.0 (Macintosh; Intel Mac OS X 10_9_4) AppleWebKit/537.78.2 (KHTML, like Gecko) Version/7.0.6 Safari/537.78.2\"                    |1354485 |\n",
      "|\"Mozilla/5.0 (Macintosh; Intel Mac OS X 10_9_4) AppleWebKit/537.36 (KHTML, like Gecko) Chrome/36.0.1985.125 Safari/537.36\"                 |1290830 |\n",
      "|\"Mozilla/5.0 (Macintosh; Intel Mac OS X 10_9_4) AppleWebKit/537.77.4 (KHTML, like Gecko) Version/7.0.5 Safari/537.77.4\"                    |1143199 |\n",
      "|Mozilla/5.0 (Macintosh; Intel Mac OS X 10.9; rv:31.0) Gecko/20100101 Firefox/31.0                                                          |1097003 |\n",
      "|\"Mozilla/5.0 (Macintosh; Intel Mac OS X 10_9_4) AppleWebKit/537.36 (KHTML, like Gecko) Chrome/37.0.2062.94 Safari/537.36\"                  |1050341 |\n",
      "|\"Mozilla/5.0 (Windows NT 6.3; WOW64) AppleWebKit/537.36 (KHTML, like Gecko) Chrome/36.0.1985.143 Safari/537.36\"                            |861096  |\n",
      "|null                                                                                                                                       |778479  |\n",
      "|\"Mozilla/5.0 (iPhone; CPU iPhone OS 7_1_2 like Mac OS X) AppleWebKit/537.51.2 (KHTML, like Gecko) Version/7.0 Mobile/11D257 Safari/9537.53\"|621097  |\n",
      "|Mozilla/5.0 (Windows NT 6.1; WOW64; Trident/7.0; rv:11.0) like Gecko                                                                       |605382  |\n",
      "|Mozilla/5.0 (Windows NT 6.3; WOW64; rv:31.0) Gecko/20100101 Firefox/31.0                                                                   |565967  |\n",
      "|\"Mozilla/5.0 (Windows NT 6.3; WOW64) AppleWebKit/537.36 (KHTML, like Gecko) Chrome/36.0.1985.125 Safari/537.36\"                            |558528  |\n",
      "|\"Mozilla/5.0 (Windows NT 6.1) AppleWebKit/537.36 (KHTML, like Gecko) Chrome/36.0.1985.143 Safari/537.36\"                                   |471226  |\n",
      "|Mozilla/5.0 (X11; Ubuntu; Linux x86_64; rv:31.0) Gecko/20100101 Firefox/31.0                                                               |418629  |\n",
      "|\"Mozilla/5.0 (Windows NT 6.1) AppleWebKit/537.36 (KHTML, like Gecko) Chrome/36.0.1985.125 Safari/537.36\"                                   |340499  |\n",
      "|Mozilla/5.0 (Windows NT 6.1; rv:31.0) Gecko/20100101 Firefox/31.0                                                                          |337408  |\n",
      "|\"Mozilla/5.0 (iPad; CPU OS 7_1_2 like Mac OS X) AppleWebKit/537.51.2 (KHTML, like Gecko) Version/7.0 Mobile/11D257 Safari/9537.53\"         |289900  |\n",
      "+-------------------------------------------------------------------------------------------------------------------------------------------+--------+\n",
      "only showing top 20 rows\n",
      "\n",
      "+-------------------------+\n",
      "|count(DISTINCT userAgent)|\n",
      "+-------------------------+\n",
      "|85                       |\n",
      "+-------------------------+"
     ]
    }
   ],
   "source": [
    "# which user agents are present in the dataset, how many?\n",
    "spark.sql('''\n",
    "select userAgent, count(*)\n",
    "from df\n",
    "where 1=1 \n",
    "group by userAgent\n",
    "order by count(*) desc\n",
    "''').show(truncate=False)\n",
    "\n",
    "spark.sql('''\n",
    "select count(distinct userAgent)\n",
    "from df\n",
    "''').show(50, truncate=False)"
   ]
  },
  {
   "cell_type": "code",
   "execution_count": 24,
   "id": "8d2b2f7b-5eed-42b7-ab68-24b47bfbf0e7",
   "metadata": {
    "execution": {
     "iopub.execute_input": "2022-05-23T09:02:51.006800Z",
     "iopub.status.busy": "2022-05-23T09:02:51.006463Z",
     "iopub.status.idle": "2022-05-23T09:02:53.349933Z",
     "shell.execute_reply": "2022-05-23T09:02:53.349207Z",
     "shell.execute_reply.started": "2022-05-23T09:02:51.006768Z"
    },
    "tags": []
   },
   "outputs": [
    {
     "data": {
      "application/vnd.jupyter.widget-view+json": {
       "model_id": "3319ddcae98a4b2f8676c170fc3fa43a",
       "version_major": 2,
       "version_minor": 0
      },
      "text/plain": [
       "VBox()"
      ]
     },
     "metadata": {},
     "output_type": "display_data"
    },
    {
     "data": {
      "application/vnd.jupyter.widget-view+json": {
       "model_id": "",
       "version_major": 2,
       "version_minor": 0
      },
      "text/plain": [
       "FloatProgress(value=0.0, bar_style='info', description='Progress:', layout=Layout(height='25px', width='50%'),…"
      ]
     },
     "metadata": {},
     "output_type": "display_data"
    },
    {
     "name": "stdout",
     "output_type": "stream",
     "text": [
      "+----------+-------------------+\n",
      "|auth      |page               |\n",
      "+----------+-------------------+\n",
      "|Logged Out|Login              |\n",
      "|Guest     |Register           |\n",
      "|Logged Out|Error              |\n",
      "|Guest     |About              |\n",
      "|Guest     |Error              |\n",
      "|Guest     |Submit Registration|\n",
      "|Logged Out|Home               |\n",
      "|Logged Out|Help               |\n",
      "|Guest     |Home               |\n",
      "|Logged Out|About              |\n",
      "|Guest     |Help               |\n",
      "+----------+-------------------+\n",
      "\n",
      "+----+----+\n",
      "|auth|page|\n",
      "+----+----+\n",
      "+----+----+"
     ]
    }
   ],
   "source": [
    "# how about the null user agent?\n",
    "spark.sql('''\n",
    "select distinct auth, page\n",
    "from df\n",
    "where useragent is null\n",
    "''').show(50, truncate=False)\n",
    "\n",
    "spark.sql('''\n",
    "select distinct auth, page\n",
    "from dfc\n",
    "where agentKey is null\n",
    "''').show(50, truncate=False)"
   ]
  },
  {
   "cell_type": "code",
   "execution_count": 5,
   "id": "01e39618-81b8-4049-82a4-8cea7a4b4f36",
   "metadata": {
    "execution": {
     "iopub.execute_input": "2022-05-23T10:38:17.552903Z",
     "iopub.status.busy": "2022-05-23T10:38:17.552683Z",
     "iopub.status.idle": "2022-05-23T10:38:17.827725Z",
     "shell.execute_reply": "2022-05-23T10:38:17.827002Z",
     "shell.execute_reply.started": "2022-05-23T10:38:17.552879Z"
    },
    "tags": []
   },
   "outputs": [
    {
     "data": {
      "application/vnd.jupyter.widget-view+json": {
       "model_id": "556e2f42bc8d4136a2b72b373e421390",
       "version_major": 2,
       "version_minor": 0
      },
      "text/plain": [
       "VBox()"
      ]
     },
     "metadata": {},
     "output_type": "display_data"
    },
    {
     "data": {
      "application/vnd.jupyter.widget-view+json": {
       "model_id": "",
       "version_major": 2,
       "version_minor": 0
      },
      "text/plain": [
       "FloatProgress(value=0.0, bar_style='info', description='Progress:', layout=Layout(height='25px', width='50%'),…"
      ]
     },
     "metadata": {},
     "output_type": "display_data"
    }
   ],
   "source": [
    "# get an extraction of the user agents to do the compute intensive parsing seperately\n",
    "agents = spark.sql('''\n",
    "select distinct sha(userAgent) as agentKey, userAgent\n",
    "from df\n",
    "where userAgent is not null\n",
    "''')\n",
    "agents.createOrReplaceTempView('agents')"
   ]
  },
  {
   "cell_type": "code",
   "execution_count": 6,
   "id": "c44dbd7c-eb8d-4836-9667-a96038f42987",
   "metadata": {
    "execution": {
     "iopub.execute_input": "2022-05-23T10:38:24.151421Z",
     "iopub.status.busy": "2022-05-23T10:38:24.151121Z",
     "iopub.status.idle": "2022-05-23T10:41:06.005932Z",
     "shell.execute_reply": "2022-05-23T10:41:06.005368Z",
     "shell.execute_reply.started": "2022-05-23T10:38:24.151392Z"
    },
    "tags": []
   },
   "outputs": [
    {
     "data": {
      "application/vnd.jupyter.widget-view+json": {
       "model_id": "612e838e4d1e4c11995de219b65ba269",
       "version_major": 2,
       "version_minor": 0
      },
      "text/plain": [
       "VBox()"
      ]
     },
     "metadata": {},
     "output_type": "display_data"
    },
    {
     "data": {
      "application/vnd.jupyter.widget-view+json": {
       "model_id": "",
       "version_major": 2,
       "version_minor": 0
      },
      "text/plain": [
       "FloatProgress(value=0.0, bar_style='info', description='Progress:', layout=Layout(height='25px', width='50%'),…"
      ]
     },
     "metadata": {},
     "output_type": "display_data"
    },
    {
     "name": "stdout",
     "output_type": "stream",
     "text": [
      "+--------------------+--------------------+\n",
      "|            agentKey|           userAgent|\n",
      "+--------------------+--------------------+\n",
      "|e28d9e118982f8bc9...|\"Mozilla/5.0 (Mac...|\n",
      "|65ca5417945672c2f...|\"Mozilla/5.0 (Win...|\n",
      "|55a623d0b13d10807...|\"Mozilla/5.0 (Mac...|\n",
      "|d7c4951bf12122a19...|\"Mozilla/5.0 (iPa...|\n",
      "|42c5d6a9cd00dc7a3...|Mozilla/5.0 (Wind...|\n",
      "|533c27032e49077a6...|Mozilla/5.0 (X11;...|\n",
      "|aa739e3aaaa1fbfc8...|Mozilla/5.0 (comp...|\n",
      "|8e31ab4aa4b512786...|\"Mozilla/5.0 (X11...|\n",
      "|6660d6e13c29fa993...|Mozilla/5.0 (Maci...|\n",
      "|a7aeb969fa9c35306...|Mozilla/5.0 (X11;...|\n",
      "|7e59df8b3d2e55069...|Mozilla/5.0 (Wind...|\n",
      "|a313b88168e79f7cc...|Mozilla/5.0 (Wind...|\n",
      "|970a85d655b7aad6d...|Mozilla/5.0 (X11;...|\n",
      "|bfa4fbf28a93a2268...|\"Mozilla/5.0 (Mac...|\n",
      "|60c99777c4a383749...|\"Mozilla/5.0 (Mac...|\n",
      "|145ca45d9bf38520c...|\"Mozilla/5.0 (Mac...|\n",
      "|6a1661efe3c936b49...|Mozilla/5.0 (comp...|\n",
      "|be6e1263118fc8e2f...|\"Mozilla/5.0 (Mac...|\n",
      "|bb58e0b82b2baac6d...|\"Mozilla/5.0 (Win...|\n",
      "|7b10b5771034cd7d2...|Mozilla/5.0 (Maci...|\n",
      "+--------------------+--------------------+\n",
      "only showing top 20 rows"
     ]
    }
   ],
   "source": [
    "agents.show()"
   ]
  },
  {
   "cell_type": "code",
   "execution_count": 37,
   "id": "4b8d0060-c475-4b2d-bb9e-85f2717e016d",
   "metadata": {
    "execution": {
     "iopub.execute_input": "2022-05-23T09:08:01.240717Z",
     "iopub.status.busy": "2022-05-23T09:08:01.240489Z",
     "iopub.status.idle": "2022-05-23T09:08:01.298245Z",
     "shell.execute_reply": "2022-05-23T09:08:01.297691Z",
     "shell.execute_reply.started": "2022-05-23T09:08:01.240694Z"
    },
    "tags": []
   },
   "outputs": [
    {
     "data": {
      "application/vnd.jupyter.widget-view+json": {
       "model_id": "19ae15796acd48fbab59bf7898790dae",
       "version_major": 2,
       "version_minor": 0
      },
      "text/plain": [
       "VBox()"
      ]
     },
     "metadata": {},
     "output_type": "display_data"
    },
    {
     "data": {
      "application/vnd.jupyter.widget-view+json": {
       "model_id": "",
       "version_major": 2,
       "version_minor": 0
      },
      "text/plain": [
       "FloatProgress(value=0.0, bar_style='info', description='Progress:', layout=Layout(height='25px', width='50%'),…"
      ]
     },
     "metadata": {},
     "output_type": "display_data"
    },
    {
     "name": "stdout",
     "output_type": "stream",
     "text": [
      "Chrome\n",
      "<class 'str'>"
     ]
    }
   ],
   "source": [
    "result = user_agents.parse(\"Mozilla/5.0 (Windows NT 6.1; WOW64) AppleWebKit/537.36 (KHTML, like Gecko) Chrome/36.0.1985.143 Safari/537.36\").browser.family\n",
    "print(result)\n",
    "type(result)"
   ]
  },
  {
   "cell_type": "code",
   "execution_count": 17,
   "id": "36a0ae8c-6045-4080-93bc-3a68b6867371",
   "metadata": {
    "execution": {
     "iopub.execute_input": "2022-05-23T10:52:46.010154Z",
     "iopub.status.busy": "2022-05-23T10:52:46.009911Z",
     "iopub.status.idle": "2022-05-23T10:52:46.306743Z",
     "shell.execute_reply": "2022-05-23T10:52:46.305871Z",
     "shell.execute_reply.started": "2022-05-23T10:52:46.010129Z"
    },
    "tags": []
   },
   "outputs": [
    {
     "data": {
      "application/vnd.jupyter.widget-view+json": {
       "model_id": "4824f95e96844d96814f5c4d8d996eeb",
       "version_major": 2,
       "version_minor": 0
      },
      "text/plain": [
       "VBox()"
      ]
     },
     "metadata": {},
     "output_type": "display_data"
    },
    {
     "data": {
      "application/vnd.jupyter.widget-view+json": {
       "model_id": "",
       "version_major": 2,
       "version_minor": 0
      },
      "text/plain": [
       "FloatProgress(value=0.0, bar_style='info', description='Progress:', layout=Layout(height='25px', width='50%'),…"
      ]
     },
     "metadata": {},
     "output_type": "display_data"
    },
    {
     "name": "stdout",
     "output_type": "stream",
     "text": [
      "<function <lambda> at 0x7f01799a9d40>"
     ]
    }
   ],
   "source": [
    "spark.udf.register(\"browser_from_agent\", lambda x: user_agents.parse(x).browser.family)\n",
    "spark.udf.register(\"os_from_agent\", lambda x: user_agents.parse(x).os.family)\n",
    "spark.udf.register(\"device_from_agent\", lambda x: user_agents.parse(x).device.family)\n",
    "spark.udf.register(\"mobile_from_agent\", lambda x: 1 if user_agents.parse(x).is_mobile else 0)\n",
    "spark.udf.register(\"tablet_from_agent\", lambda x: 1 if user_agents.parse(x).is_tablet else 0)\n",
    "spark.udf.register(\"pc_from_agent\", lambda x: 1 if user_agents.parse(x).is_pc else 0)\n",
    "spark.udf.register(\"brand_from_agent\", lambda x: 1 if user_agents.parse(x).device.brand == 'Apple' else 0)"
   ]
  },
  {
   "cell_type": "code",
   "execution_count": 19,
   "id": "34e938b6-50d0-4066-81a3-142ba9c630e7",
   "metadata": {
    "execution": {
     "iopub.execute_input": "2022-05-23T10:53:08.419117Z",
     "iopub.status.busy": "2022-05-23T10:53:08.418863Z",
     "iopub.status.idle": "2022-05-23T10:53:08.482380Z",
     "shell.execute_reply": "2022-05-23T10:53:08.481495Z",
     "shell.execute_reply.started": "2022-05-23T10:53:08.419089Z"
    },
    "tags": []
   },
   "outputs": [
    {
     "data": {
      "application/vnd.jupyter.widget-view+json": {
       "model_id": "b86cd7b1785a40e5b232aee54a8dd8f3",
       "version_major": 2,
       "version_minor": 0
      },
      "text/plain": [
       "VBox()"
      ]
     },
     "metadata": {},
     "output_type": "display_data"
    },
    {
     "data": {
      "application/vnd.jupyter.widget-view+json": {
       "model_id": "",
       "version_major": 2,
       "version_minor": 0
      },
      "text/plain": [
       "FloatProgress(value=0.0, bar_style='info', description='Progress:', layout=Layout(height='25px', width='50%'),…"
      ]
     },
     "metadata": {},
     "output_type": "display_data"
    }
   ],
   "source": [
    "agents = spark.sql('''\n",
    "select distinct sha(userAgent), userAgent\n",
    "from agents\n",
    "where userAgent is not null\n",
    "''')"
   ]
  },
  {
   "cell_type": "code",
   "execution_count": 20,
   "id": "cfe1cc85-97c7-4c4c-ad8e-b709d4435634",
   "metadata": {
    "execution": {
     "iopub.execute_input": "2022-05-23T10:53:16.457757Z",
     "iopub.status.busy": "2022-05-23T10:53:16.457535Z",
     "iopub.status.idle": "2022-05-23T10:53:16.720490Z",
     "shell.execute_reply": "2022-05-23T10:53:16.719769Z",
     "shell.execute_reply.started": "2022-05-23T10:53:16.457732Z"
    },
    "tags": []
   },
   "outputs": [
    {
     "data": {
      "application/vnd.jupyter.widget-view+json": {
       "model_id": "ac4427e04c784902b07ac3c8ecbf8e39",
       "version_major": 2,
       "version_minor": 0
      },
      "text/plain": [
       "VBox()"
      ]
     },
     "metadata": {},
     "output_type": "display_data"
    },
    {
     "data": {
      "application/vnd.jupyter.widget-view+json": {
       "model_id": "",
       "version_major": 2,
       "version_minor": 0
      },
      "text/plain": [
       "FloatProgress(value=0.0, bar_style='info', description='Progress:', layout=Layout(height='25px', width='50%'),…"
      ]
     },
     "metadata": {},
     "output_type": "display_data"
    }
   ],
   "source": [
    "agents_parsed = spark.sql('''\n",
    "select agentKey, userAgent\n",
    "    --, browser_from_agent(userAgent) as browser\n",
    "    --, os_from_agent(userAgent) as os\n",
    "    --, device_from_agent(userAgent) as device\n",
    "    , mobile_from_agent(userAgent) as mobile\n",
    "    , tablet_from_agent(userAgent) as tablet\n",
    "    , pc_from_agent(userAgent) as pc\n",
    "    , brand_from_agent(userAgent) as is_apple\n",
    "from agents \n",
    "''')\n",
    "agents_parsed.createOrReplaceTempView('agents_parsed')"
   ]
  },
  {
   "cell_type": "code",
   "execution_count": 23,
   "id": "f5c7943d-254d-4a84-a8ee-d6c1e22f0013",
   "metadata": {
    "execution": {
     "iopub.execute_input": "2022-05-23T10:53:58.228688Z",
     "iopub.status.busy": "2022-05-23T10:53:58.228470Z",
     "iopub.status.idle": "2022-05-23T10:54:07.524155Z",
     "shell.execute_reply": "2022-05-23T10:54:07.523459Z",
     "shell.execute_reply.started": "2022-05-23T10:53:58.228663Z"
    },
    "tags": []
   },
   "outputs": [
    {
     "data": {
      "application/vnd.jupyter.widget-view+json": {
       "model_id": "f8b0a59535924b4dbf559b6bd9fe390a",
       "version_major": 2,
       "version_minor": 0
      },
      "text/plain": [
       "VBox()"
      ]
     },
     "metadata": {},
     "output_type": "display_data"
    },
    {
     "data": {
      "application/vnd.jupyter.widget-view+json": {
       "model_id": "",
       "version_major": 2,
       "version_minor": 0
      },
      "text/plain": [
       "FloatProgress(value=0.0, bar_style='info', description='Progress:', layout=Layout(height='25px', width='50%'),…"
      ]
     },
     "metadata": {},
     "output_type": "display_data"
    },
    {
     "name": "stdout",
     "output_type": "stream",
     "text": [
      "+------+------+---+--------+--------+\n",
      "|mobile|tablet| pc|is_apple|count(1)|\n",
      "+------+------+---+--------+--------+\n",
      "|     1|     0|  0|       1|       4|\n",
      "|     0|     1|  0|       1|       2|\n",
      "|     0|     0|  1|       0|      42|\n",
      "|     0|     0|  1|       1|      37|\n",
      "+------+------+---+--------+--------+"
     ]
    }
   ],
   "source": [
    "spark.sql('''\n",
    "select mobile, tablet, pc, is_apple, count(*)\n",
    "from agents_parsed\n",
    "group by mobile, tablet, pc, is_apple\n",
    "''').show()"
   ]
  },
  {
   "cell_type": "code",
   "execution_count": 24,
   "id": "08086eae-37a6-45da-a9c4-83fe7dd80e44",
   "metadata": {
    "execution": {
     "iopub.execute_input": "2022-05-23T10:54:46.116739Z",
     "iopub.status.busy": "2022-05-23T10:54:46.116399Z",
     "iopub.status.idle": "2022-05-23T10:54:46.402213Z",
     "shell.execute_reply": "2022-05-23T10:54:46.401529Z",
     "shell.execute_reply.started": "2022-05-23T10:54:46.116700Z"
    },
    "tags": []
   },
   "outputs": [
    {
     "data": {
      "application/vnd.jupyter.widget-view+json": {
       "model_id": "d9f29d5441384eeeb41f367857ae3a18",
       "version_major": 2,
       "version_minor": 0
      },
      "text/plain": [
       "VBox()"
      ]
     },
     "metadata": {},
     "output_type": "display_data"
    },
    {
     "data": {
      "application/vnd.jupyter.widget-view+json": {
       "model_id": "",
       "version_major": 2,
       "version_minor": 0
      },
      "text/plain": [
       "FloatProgress(value=0.0, bar_style='info', description='Progress:', layout=Layout(height='25px', width='50%'),…"
      ]
     },
     "metadata": {},
     "output_type": "display_data"
    }
   ],
   "source": [
    "# join back on surrogate key\n",
    "dfe = spark.sql('''\n",
    "select * from dfc\n",
    "JOIN agents_parsed USING (agentKey)\n",
    "''')\n",
    "dfe.createOrReplaceTempView('dfe')"
   ]
  },
  {
   "cell_type": "code",
   "execution_count": 25,
   "id": "332faa13-6a92-475d-a30d-b072b67eb9f4",
   "metadata": {
    "execution": {
     "iopub.execute_input": "2022-05-23T10:54:48.974810Z",
     "iopub.status.busy": "2022-05-23T10:54:48.974567Z",
     "iopub.status.idle": "2022-05-23T10:55:16.329153Z",
     "shell.execute_reply": "2022-05-23T10:55:16.328464Z",
     "shell.execute_reply.started": "2022-05-23T10:54:48.974781Z"
    },
    "tags": []
   },
   "outputs": [
    {
     "data": {
      "application/vnd.jupyter.widget-view+json": {
       "model_id": "c486810bbaa545638f230843d9202cc1",
       "version_major": 2,
       "version_minor": 0
      },
      "text/plain": [
       "VBox()"
      ]
     },
     "metadata": {},
     "output_type": "display_data"
    },
    {
     "data": {
      "application/vnd.jupyter.widget-view+json": {
       "model_id": "",
       "version_major": 2,
       "version_minor": 0
      },
      "text/plain": [
       "FloatProgress(value=0.0, bar_style='info', description='Progress:', layout=Layout(height='25px', width='50%'),…"
      ]
     },
     "metadata": {},
     "output_type": "display_data"
    },
    {
     "name": "stdout",
     "output_type": "stream",
     "text": [
      "+--------------------+--------------------+---------+---------+------+-------------+---------+---------+-----+--------------------+------+---------+-------------+---------+--------------------+------+-------------+-------+--------------------+------+------+---+--------+\n",
      "|            agentKey|              artist|     auth|firstName|gender|itemInSession| lastName|   length|level|            location|method|     page| registration|sessionId|                song|status|           ts| userId|           userAgent|mobile|tablet| pc|is_apple|\n",
      "+--------------------+--------------------+---------+---------+------+-------------+---------+---------+-----+--------------------+------+---------+-------------+---------+--------------------+------+-------------+-------+--------------------+------+------+---+--------+\n",
      "|7e59df8b3d2e55069...|                null|Logged In|  Allyson|     F|          103|    Gibbs|     null| free|Phoenix-Mesa-Scot...|   PUT|   Logout|1535509827000|    37680|                null|   307|1538708657000|1977266|Mozilla/5.0 (Wind...|     0|     0|  1|       0|\n",
      "|7e59df8b3d2e55069...|          Arch Enemy|Logged In|    Tyler|     M|          293| Gonzalez|207.72526| paid|San Diego-Carlsba...|   PUT| NextSong|1538320633000|    16009|    Behind The Smile|   200|1538708658000|1360490|Mozilla/5.0 (Wind...|     0|     0|  1|       0|\n",
      "|7e59df8b3d2e55069...|Fort Minor [Featu...|Logged In|  Jacques|     M|           15|   Rivera|233.37751| free|Faribault-Northfi...|   PUT| NextSong|1531478585000|    38898|Where'd You Go (F...|   200|1538708659000|1334839|Mozilla/5.0 (Wind...|     0|     0|  1|       0|\n",
      "|7e59df8b3d2e55069...|Chris Botti featu...|Logged In|      Eli|     M|          159|  Summers|373.10649| paid|Orlando-Kissimmee...|   PUT| NextSong|1535398139000|    33765|Good Morning Hear...|   200|1538708665000|1910974|Mozilla/5.0 (Wind...|     0|     0|  1|       0|\n",
      "|7e59df8b3d2e55069...|    Michael BublÃÂ©|Logged In|    Brody|     M|          109| Gonzalez|220.26404| paid|Atlanta-Sandy Spr...|   PUT| NextSong|1537605954000|    42786|Grown-Up Christma...|   200|1538708669000|1329417|Mozilla/5.0 (Wind...|     0|     0|  1|       0|\n",
      "|7e59df8b3d2e55069...|        Taylor Swift|Logged In|   Wesley|     M|          145|     Rice|248.08444| paid|Houston-The Woodl...|   PUT| NextSong|1536499492000|    30854|Tied Together Wit...|   200|1538708672000|1920156|Mozilla/5.0 (Wind...|     0|     0|  1|       0|\n",
      "|7e59df8b3d2e55069...|       Justin Bieber|Logged In|    Logan|     M|          172|     Long|264.35873| paid|          Muncie, IN|   PUT| NextSong|1536032681000|      111|    Never Let You Go|   200|1538708674000|1144920|Mozilla/5.0 (Wind...|     0|     0|  1|       0|\n",
      "|7e59df8b3d2e55069...| Stone Temple Pilots|Logged In|    Molly|     F|           10|   Crosby|310.25587| paid|Washington-Arling...|   PUT| NextSong|1537064977000|    30920|Dead & Bloated (L...|   200|1538708680000|1189976|Mozilla/5.0 (Wind...|     0|     0|  1|       0|\n",
      "|7e59df8b3d2e55069...|                null|Logged In|    Molly|     F|           11|   Crosby|     null| paid|Washington-Arling...|   PUT|Thumbs Up|1537064977000|    30920|                null|   307|1538708681000|1189976|Mozilla/5.0 (Wind...|     0|     0|  1|       0|\n",
      "|7e59df8b3d2e55069...|        Daddy Yankee|Logged In|  Greyson|     M|           72|    Gomez|194.95138| paid|Washington-Arling...|   PUT| NextSong|1535772557000|    38881|             Temblor|   200|1538708688000|1141500|Mozilla/5.0 (Wind...|     0|     0|  1|       0|\n",
      "|7e59df8b3d2e55069...|      Frankie Avalon|Logged In|    Bella|     F|          226|   Little|238.99383| paid|Portland-Vancouve...|   PUT| NextSong|1517337545000|    39026|Beauty School Dro...|   200|1538708690000|1762462|Mozilla/5.0 (Wind...|     0|     0|  1|       0|\n",
      "|7e59df8b3d2e55069...|                null|Logged In|  Allyson|     F|          106|    Gibbs|     null| free|Phoenix-Mesa-Scot...|   GET|     Home|1535509827000|    37680|                null|   200|1538708690000|1977266|Mozilla/5.0 (Wind...|     0|     0|  1|       0|\n",
      "|7e59df8b3d2e55069...|                null|Logged In|    Bella|     F|          227|   Little|     null| paid|Portland-Vancouve...|   PUT|Thumbs Up|1517337545000|    39026|                null|   307|1538708691000|1762462|Mozilla/5.0 (Wind...|     0|     0|  1|       0|\n",
      "|7e59df8b3d2e55069...|       Elliott Smith|Logged In|  Leandra|     F|           26|   Strong| 256.7571| free|Minneapolis-St. P...|   PUT| NextSong|1537500979000|    38129|   Needle In The Hay|   200|1538708693000|1533479|Mozilla/5.0 (Wind...|     0|     0|  1|       0|\n",
      "|7e59df8b3d2e55069...|                null|Logged In|  Leandra|     F|           27|   Strong|     null| free|Minneapolis-St. P...|   PUT|   Logout|1537500979000|    38129|                null|   307|1538708694000|1533479|Mozilla/5.0 (Wind...|     0|     0|  1|       0|\n",
      "|7e59df8b3d2e55069...|         Pat Metheny|Logged In|    Kevin|     M|          239|      Fox|329.45587| free|  Chattanooga, TN-GA|   PUT| NextSong|1537107246000|    36354|Naked Moon - Live...|   200|1538708696000|1597869|Mozilla/5.0 (Wind...|     0|     0|  1|       0|\n",
      "|7e59df8b3d2e55069...|             Capdown|Logged In| Muhammad|     M|          341|    Reese| 99.39546| paid|  Elkhart-Goshen, IN|   PUT| NextSong|1536409610000|    40631|If Money's Your Life|   200|1538708697000|1200956|Mozilla/5.0 (Wind...|     0|     0|  1|       0|\n",
      "|7e59df8b3d2e55069...|    Alceu ValenÃÂ§a|Logged In|  Abigail|     F|           84|       Le|162.58567| paid|          Fresno, CA|   PUT| NextSong|1532867081000|    35048|Recado Falado (Me...|   200|1538708702000|1396135|Mozilla/5.0 (Wind...|     0|     0|  1|       0|\n",
      "|7e59df8b3d2e55069...|          Far Corner|Logged In|     Axel|     M|           84|Rodriguez|  399.882| free|     Bloomington, IN|   PUT| NextSong|1530088083000|    42344|Do You Think I'm ...|   200|1538708711000|1769414|Mozilla/5.0 (Wind...|     0|     0|  1|       0|\n",
      "|7e59df8b3d2e55069...|        Charlie Hall|Logged In|   Caylin|     F|           98|  Benitez|281.12934| free|Baltimore-Columbi...|   PUT| NextSong|1538073497000|    44251|Waking Up (On The...|   200|1538708717000|1870214|Mozilla/5.0 (Wind...|     0|     0|  1|       0|\n",
      "+--------------------+--------------------+---------+---------+------+-------------+---------+---------+-----+--------------------+------+---------+-------------+---------+--------------------+------+-------------+-------+--------------------+------+------+---+--------+\n",
      "only showing top 20 rows"
     ]
    }
   ],
   "source": [
    "dfe.show()"
   ]
  },
  {
   "cell_type": "code",
   "execution_count": 86,
   "id": "1b6adfa9-5b7f-42a7-8546-6f9b580d9831",
   "metadata": {
    "execution": {
     "iopub.execute_input": "2022-05-23T11:41:04.009998Z",
     "iopub.status.busy": "2022-05-23T11:41:04.009773Z",
     "iopub.status.idle": "2022-05-23T11:41:25.429619Z",
     "shell.execute_reply": "2022-05-23T11:41:25.428961Z",
     "shell.execute_reply.started": "2022-05-23T11:41:04.009976Z"
    },
    "tags": []
   },
   "outputs": [
    {
     "data": {
      "application/vnd.jupyter.widget-view+json": {
       "model_id": "ca8abee6c07b426dbc0c16e3a15685e2",
       "version_major": 2,
       "version_minor": 0
      },
      "text/plain": [
       "VBox()"
      ]
     },
     "metadata": {},
     "output_type": "display_data"
    },
    {
     "data": {
      "application/vnd.jupyter.widget-view+json": {
       "model_id": "",
       "version_major": 2,
       "version_minor": 0
      },
      "text/plain": [
       "FloatProgress(value=0.0, bar_style='info', description='Progress:', layout=Layout(height='25px', width='50%'),…"
      ]
     },
     "metadata": {},
     "output_type": "display_data"
    }
   ],
   "source": [
    "per_device_activity = spark.sql('''\n",
    "select sum(mobile) as mobile, sum(tablet) as tablet, sum(pc) as pc\n",
    "from dfe\n",
    "''').toPandas()"
   ]
  },
  {
   "cell_type": "code",
   "execution_count": 87,
   "id": "3b804f94-dff7-4814-b28b-e9ec7714fff9",
   "metadata": {
    "execution": {
     "iopub.execute_input": "2022-05-23T11:41:27.527248Z",
     "iopub.status.busy": "2022-05-23T11:41:27.526952Z",
     "iopub.status.idle": "2022-05-23T11:41:27.813769Z",
     "shell.execute_reply": "2022-05-23T11:41:27.812960Z",
     "shell.execute_reply.started": "2022-05-23T11:41:27.527220Z"
    },
    "tags": []
   },
   "outputs": [
    {
     "data": {
      "application/vnd.jupyter.widget-view+json": {
       "model_id": "131025891cef45b4a96b44e9f4bcee70",
       "version_major": 2,
       "version_minor": 0
      },
      "text/plain": [
       "VBox()"
      ]
     },
     "metadata": {},
     "output_type": "display_data"
    },
    {
     "data": {
      "application/vnd.jupyter.widget-view+json": {
       "model_id": "",
       "version_major": 2,
       "version_minor": 0
      },
      "text/plain": [
       "FloatProgress(value=0.0, bar_style='info', description='Progress:', layout=Layout(height='25px', width='50%'),…"
      ]
     },
     "metadata": {},
     "output_type": "display_data"
    },
    {
     "data": {
      "image/png": "[encoded data removed]",
      "text/plain": [
       "<IPython.core.display.Image object>"
      ]
     },
     "metadata": {},
     "output_type": "display_data"
    }
   ],
   "source": [
    "per_device_activity.plot.bar()\n",
    "%matplot plt"
   ]
  },
  {
   "cell_type": "markdown",
   "id": "96dcbfae-0bae-4201-81d2-03dfc502767d",
   "metadata": {},
   "source": [
    "## Get some insight into the timeseries"
   ]
  },
  {
   "cell_type": "code",
   "execution_count": 26,
   "id": "154be40d-4dc6-46af-9ea9-56a26093fb3f",
   "metadata": {
    "execution": {
     "iopub.execute_input": "2022-05-23T10:57:08.194273Z",
     "iopub.status.busy": "2022-05-23T10:57:08.194041Z",
     "iopub.status.idle": "2022-05-23T10:57:29.610701Z",
     "shell.execute_reply": "2022-05-23T10:57:29.610090Z",
     "shell.execute_reply.started": "2022-05-23T10:57:08.194249Z"
    },
    "tags": []
   },
   "outputs": [
    {
     "data": {
      "application/vnd.jupyter.widget-view+json": {
       "model_id": "3c1520258fad478aa1b45c1366bd4481",
       "version_major": 2,
       "version_minor": 0
      },
      "text/plain": [
       "VBox()"
      ]
     },
     "metadata": {},
     "output_type": "display_data"
    },
    {
     "data": {
      "application/vnd.jupyter.widget-view+json": {
       "model_id": "",
       "version_major": 2,
       "version_minor": 0
      },
      "text/plain": [
       "FloatProgress(value=0.0, bar_style='info', description='Progress:', layout=Layout(height='25px', width='50%'),…"
      ]
     },
     "metadata": {},
     "output_type": "display_data"
    },
    {
     "name": "stdout",
     "output_type": "stream",
     "text": [
      "+----------------------+\n",
      "|count(DISTINCT userId)|\n",
      "+----------------------+\n",
      "|                 22277|\n",
      "+----------------------+"
     ]
    }
   ],
   "source": [
    "# how many users do we have in the data\n",
    "spark.sql('''\n",
    "select count(distinct userId)\n",
    "from dfe\n",
    "''').show()"
   ]
  },
  {
   "cell_type": "code",
   "execution_count": 73,
   "id": "aadc4234-2e0e-4ede-8bb1-58d0aa4a48de",
   "metadata": {
    "execution": {
     "iopub.execute_input": "2022-05-23T11:33:33.409943Z",
     "iopub.status.busy": "2022-05-23T11:33:33.409711Z",
     "iopub.status.idle": "2022-05-23T11:33:50.733327Z",
     "shell.execute_reply": "2022-05-23T11:33:50.732763Z",
     "shell.execute_reply.started": "2022-05-23T11:33:33.409919Z"
    },
    "tags": []
   },
   "outputs": [
    {
     "data": {
      "application/vnd.jupyter.widget-view+json": {
       "model_id": "e1afa20d35df46b2ba312ad8e3e1c20f",
       "version_major": 2,
       "version_minor": 0
      },
      "text/plain": [
       "VBox()"
      ]
     },
     "metadata": {},
     "output_type": "display_data"
    },
    {
     "data": {
      "application/vnd.jupyter.widget-view+json": {
       "model_id": "",
       "version_major": 2,
       "version_minor": 0
      },
      "text/plain": [
       "FloatProgress(value=0.0, bar_style='info', description='Progress:', layout=Layout(height='25px', width='50%'),…"
      ]
     },
     "metadata": {},
     "output_type": "display_data"
    },
    {
     "name": "stdout",
     "output_type": "stream",
     "text": [
      "+-------------------+-------------------+\n",
      "|start              |end                |\n",
      "+-------------------+-------------------+\n",
      "|2018-10-01 00:00:01|2018-12-01 00:00:02|\n",
      "+-------------------+-------------------+"
     ]
    }
   ],
   "source": [
    "# which timespan is covered?\n",
    "spark.sql('''\n",
    "select from_unixtime(min(ts) / 1000) as start\n",
    "    , from_unixtime(max(ts) / 1000) as end\n",
    "from dfe\n",
    "''').show(truncate=False)"
   ]
  },
  {
   "cell_type": "code",
   "execution_count": 74,
   "id": "5040cbbd-0bf2-4993-aa54-945ce293921a",
   "metadata": {
    "execution": {
     "iopub.execute_input": "2022-05-23T11:33:51.620415Z",
     "iopub.status.busy": "2022-05-23T11:33:51.620187Z",
     "iopub.status.idle": "2022-05-23T11:34:25.175840Z",
     "shell.execute_reply": "2022-05-23T11:34:25.175211Z",
     "shell.execute_reply.started": "2022-05-23T11:33:51.620389Z"
    },
    "tags": []
   },
   "outputs": [
    {
     "data": {
      "application/vnd.jupyter.widget-view+json": {
       "model_id": "cd7bd5f25e3b486d95d4fc5876c8d7d1",
       "version_major": 2,
       "version_minor": 0
      },
      "text/plain": [
       "VBox()"
      ]
     },
     "metadata": {},
     "output_type": "display_data"
    },
    {
     "data": {
      "application/vnd.jupyter.widget-view+json": {
       "model_id": "",
       "version_major": 2,
       "version_minor": 0
      },
      "text/plain": [
       "FloatProgress(value=0.0, bar_style='info', description='Progress:', layout=Layout(height='25px', width='50%'),…"
      ]
     },
     "metadata": {},
     "output_type": "display_data"
    },
    {
     "name": "stdout",
     "output_type": "stream",
     "text": [
      "+---------+----------------------+\n",
      "|sessionId|count(DISTINCT userId)|\n",
      "+---------+----------------------+\n",
      "|        1|                     3|\n",
      "|        2|                     1|\n",
      "|        3|                     2|\n",
      "|        4|                     1|\n",
      "|        5|                     2|\n",
      "|        6|                     2|\n",
      "|        7|                     1|\n",
      "|        9|                     3|\n",
      "|       10|                     3|\n",
      "|       11|                     3|\n",
      "+---------+----------------------+\n",
      "only showing top 10 rows\n",
      "\n",
      "+---------+-------+\n",
      "|sessionId| userId|\n",
      "+---------+-------+\n",
      "|        1|1265018|\n",
      "|        1|1551454|\n",
      "|        1|1071257|\n",
      "+---------+-------+"
     ]
    }
   ],
   "source": [
    "# sanity check: is the sessionId unique or can multiple users have the same sessionId ?\n",
    "spark.sql('''\n",
    "select sessionId, count(distinct userId)\n",
    "from dfe\n",
    "group by sessionId\n",
    "order by sessionId\n",
    "''').show(10)\n",
    "\n",
    "spark.sql('''\n",
    "select distinct sessionId,  userId\n",
    "from dfe\n",
    "where sessionId=1\n",
    "''').show(10)"
   ]
  },
  {
   "cell_type": "code",
   "execution_count": 75,
   "id": "28558061-e4c6-42fd-8fe3-b9c6820764ba",
   "metadata": {
    "execution": {
     "iopub.execute_input": "2022-05-23T11:34:44.209911Z",
     "iopub.status.busy": "2022-05-23T11:34:44.209684Z",
     "iopub.status.idle": "2022-05-23T11:35:09.628030Z",
     "shell.execute_reply": "2022-05-23T11:35:09.627418Z",
     "shell.execute_reply.started": "2022-05-23T11:34:44.209887Z"
    },
    "tags": []
   },
   "outputs": [
    {
     "data": {
      "application/vnd.jupyter.widget-view+json": {
       "model_id": "62c65b15186c48669e39c20dc648f2f1",
       "version_major": 2,
       "version_minor": 0
      },
      "text/plain": [
       "VBox()"
      ]
     },
     "metadata": {},
     "output_type": "display_data"
    },
    {
     "data": {
      "application/vnd.jupyter.widget-view+json": {
       "model_id": "",
       "version_major": 2,
       "version_minor": 0
      },
      "text/plain": [
       "FloatProgress(value=0.0, bar_style='info', description='Progress:', layout=Layout(height='25px', width='50%'),…"
      ]
     },
     "metadata": {},
     "output_type": "display_data"
    },
    {
     "name": "stdout",
     "output_type": "stream",
     "text": [
      "+---------+\n",
      "|deltatime|\n",
      "+---------+\n",
      "+---------+"
     ]
    }
   ],
   "source": [
    "# is itemInSession ascending as the timestamp?\n",
    "spark.sql('''\n",
    "WITH timedeltas AS (\n",
    "    select ts - LAG(ts, 1) over user_sessions as deltatime\n",
    "    from dfe\n",
    "    window user_sessions as (partition by userId, sessionId order by itemInSession)\n",
    ")\n",
    "\n",
    "select * from timedeltas\n",
    "where deltatime < 0\n",
    "''').show(10)"
   ]
  },
  {
   "cell_type": "code",
   "execution_count": 76,
   "id": "c95bf6ad-34b5-4ddf-95d5-12e53fbea76f",
   "metadata": {
    "execution": {
     "iopub.execute_input": "2022-05-23T11:36:37.133621Z",
     "iopub.status.busy": "2022-05-23T11:36:37.133393Z",
     "iopub.status.idle": "2022-05-23T11:36:52.451505Z",
     "shell.execute_reply": "2022-05-23T11:36:52.450679Z",
     "shell.execute_reply.started": "2022-05-23T11:36:37.133598Z"
    },
    "tags": []
   },
   "outputs": [
    {
     "data": {
      "application/vnd.jupyter.widget-view+json": {
       "model_id": "4358130dddef42438117ce11abde765f",
       "version_major": 2,
       "version_minor": 0
      },
      "text/plain": [
       "VBox()"
      ]
     },
     "metadata": {},
     "output_type": "display_data"
    },
    {
     "data": {
      "application/vnd.jupyter.widget-view+json": {
       "model_id": "",
       "version_major": 2,
       "version_minor": 0
      },
      "text/plain": [
       "FloatProgress(value=0.0, bar_style='info', description='Progress:', layout=Layout(height='25px', width='50%'),…"
      ]
     },
     "metadata": {},
     "output_type": "display_data"
    },
    {
     "name": "stdout",
     "output_type": "stream",
     "text": [
      "+-------+--------+\n",
      "| userId|count(1)|\n",
      "+-------+--------+\n",
      "|1662781|       7|\n",
      "|1782082|       6|\n",
      "|1287039|       6|\n",
      "|1343763|       6|\n",
      "|1747195|       6|\n",
      "|1481390|       5|\n",
      "|1876006|       5|\n",
      "|1663631|       5|\n",
      "|1305128|       5|\n",
      "|1249037|       5|\n",
      "+-------+--------+"
     ]
    }
   ],
   "source": [
    "# do users downgrade multiple times?\n",
    "spark.sql('''\n",
    "select userId, count(*)\n",
    "from dfe\n",
    "where 1=1 \n",
    "and page IN ('Submit Downgrade')\n",
    "group by userId\n",
    "order by count(*) desc\n",
    "''').limit(10).show()"
   ]
  },
  {
   "cell_type": "code",
   "execution_count": 64,
   "id": "a9498c54-0133-440e-a8ee-36fbc6657aa2",
   "metadata": {
    "execution": {
     "iopub.execute_input": "2022-05-23T11:17:58.177223Z",
     "iopub.status.busy": "2022-05-23T11:17:58.176986Z",
     "iopub.status.idle": "2022-05-23T11:18:25.594409Z",
     "shell.execute_reply": "2022-05-23T11:18:25.590684Z",
     "shell.execute_reply.started": "2022-05-23T11:17:58.177197Z"
    },
    "tags": []
   },
   "outputs": [
    {
     "data": {
      "application/vnd.jupyter.widget-view+json": {
       "model_id": "4c7286b9e5aa49ccbbf253500a8e3c53",
       "version_major": 2,
       "version_minor": 0
      },
      "text/plain": [
       "VBox()"
      ]
     },
     "metadata": {},
     "output_type": "display_data"
    },
    {
     "data": {
      "application/vnd.jupyter.widget-view+json": {
       "model_id": "",
       "version_major": 2,
       "version_minor": 0
      },
      "text/plain": [
       "FloatProgress(value=0.0, bar_style='info', description='Progress:', layout=Layout(height='25px', width='50%'),…"
      ]
     },
     "metadata": {},
     "output_type": "display_data"
    }
   ],
   "source": [
    "# how much activity is in the log ?\n",
    "daily_activity = spark.sql('''\n",
    "select date_trunc('day', from_unixtime(ts / 1000)) as day, count(*) activity_count\n",
    "from dfe\n",
    "group by day\n",
    "order by day\n",
    "''').toPandas().set_index('day')"
   ]
  },
  {
   "cell_type": "code",
   "execution_count": 79,
   "id": "2b5642b7-123c-476f-917d-47e122e231fe",
   "metadata": {
    "execution": {
     "iopub.execute_input": "2022-05-23T11:37:24.737891Z",
     "iopub.status.busy": "2022-05-23T11:37:24.737553Z",
     "iopub.status.idle": "2022-05-23T11:37:27.043833Z",
     "shell.execute_reply": "2022-05-23T11:37:27.035207Z",
     "shell.execute_reply.started": "2022-05-23T11:37:24.737848Z"
    },
    "tags": []
   },
   "outputs": [
    {
     "data": {
      "application/vnd.jupyter.widget-view+json": {
       "model_id": "8291883346a24c949825640174ce6bb7",
       "version_major": 2,
       "version_minor": 0
      },
      "text/plain": [
       "VBox()"
      ]
     },
     "metadata": {},
     "output_type": "display_data"
    },
    {
     "data": {
      "application/vnd.jupyter.widget-view+json": {
       "model_id": "",
       "version_major": 2,
       "version_minor": 0
      },
      "text/plain": [
       "FloatProgress(value=0.0, bar_style='info', description='Progress:', layout=Layout(height='25px', width='50%'),…"
      ]
     },
     "metadata": {},
     "output_type": "display_data"
    },
    {
     "data": {
      "image/png": "[encoded data removed]",
      "text/plain": [
       "<IPython.core.display.Image object>"
      ]
     },
     "metadata": {},
     "output_type": "display_data"
    }
   ],
   "source": [
    "plt.rcParams['figure.constrained_layout.use'] = True\n",
    "daily_activity.plot.bar(figsize=(12,8))\n",
    "\n",
    "%matplot plt"
   ]
  },
  {
   "cell_type": "code",
   "execution_count": 71,
   "id": "a4f51c1e-4b1c-418b-91e1-c80490ea5265",
   "metadata": {
    "execution": {
     "iopub.execute_input": "2022-05-23T11:27:17.603791Z",
     "iopub.status.busy": "2022-05-23T11:27:17.603571Z",
     "iopub.status.idle": "2022-05-23T11:27:32.925910Z",
     "shell.execute_reply": "2022-05-23T11:27:32.925302Z",
     "shell.execute_reply.started": "2022-05-23T11:27:17.603768Z"
    }
   },
   "outputs": [
    {
     "data": {
      "application/vnd.jupyter.widget-view+json": {
       "model_id": "e44052f2f8ba42c3b642d8626fc28617",
       "version_major": 2,
       "version_minor": 0
      },
      "text/plain": [
       "VBox()"
      ]
     },
     "metadata": {},
     "output_type": "display_data"
    },
    {
     "data": {
      "application/vnd.jupyter.widget-view+json": {
       "model_id": "",
       "version_major": 2,
       "version_minor": 0
      },
      "text/plain": [
       "FloatProgress(value=0.0, bar_style='info', description='Progress:', layout=Layout(height='25px', width='50%'),…"
      ]
     },
     "metadata": {},
     "output_type": "display_data"
    }
   ],
   "source": [
    "# when do churns happen ?\n",
    "churn_activity = spark.sql('''\n",
    "select date_trunc('day', from_unixtime(ts / 1000)) as day, count(*) churn_activity\n",
    "from dfe\n",
    "where page = 'Cancel'\n",
    "group by day\n",
    "order by day\n",
    "''').toPandas().set_index('day')"
   ]
  },
  {
   "cell_type": "code",
   "execution_count": 81,
   "id": "aa40745f-f6e2-468e-ad06-a1d90d682192",
   "metadata": {
    "execution": {
     "iopub.execute_input": "2022-05-23T11:37:52.771328Z",
     "iopub.status.busy": "2022-05-23T11:37:52.771104Z",
     "iopub.status.idle": "2022-05-23T11:37:55.067251Z",
     "shell.execute_reply": "2022-05-23T11:37:55.066336Z",
     "shell.execute_reply.started": "2022-05-23T11:37:52.771305Z"
    },
    "tags": []
   },
   "outputs": [
    {
     "data": {
      "application/vnd.jupyter.widget-view+json": {
       "model_id": "fba2d4381c79442f8b31688f1d5db427",
       "version_major": 2,
       "version_minor": 0
      },
      "text/plain": [
       "VBox()"
      ]
     },
     "metadata": {},
     "output_type": "display_data"
    },
    {
     "data": {
      "application/vnd.jupyter.widget-view+json": {
       "model_id": "",
       "version_major": 2,
       "version_minor": 0
      },
      "text/plain": [
       "FloatProgress(value=0.0, bar_style='info', description='Progress:', layout=Layout(height='25px', width='50%'),…"
      ]
     },
     "metadata": {},
     "output_type": "display_data"
    },
    {
     "data": {
      "image/png": "[encoded data removed]",
      "text/plain": [
       "<IPython.core.display.Image object>"
      ]
     },
     "metadata": {},
     "output_type": "display_data"
    }
   ],
   "source": [
    "\n",
    "churn_activity.plot.bar(figsize=(12,8))\n",
    "\n",
    "%matplot plt"
   ]
  },
  {
   "cell_type": "code",
   "execution_count": 92,
   "id": "d2ce6f12-cef5-4fa5-8c92-05e2bb1ca2f1",
   "metadata": {
    "execution": {
     "iopub.execute_input": "2022-05-23T11:46:28.741584Z",
     "iopub.status.busy": "2022-05-23T11:46:28.741349Z",
     "iopub.status.idle": "2022-05-23T11:46:52.132480Z",
     "shell.execute_reply": "2022-05-23T11:46:52.131721Z",
     "shell.execute_reply.started": "2022-05-23T11:46:28.741559Z"
    },
    "tags": []
   },
   "outputs": [
    {
     "data": {
      "application/vnd.jupyter.widget-view+json": {
       "model_id": "e3f7cbe7f790452db5c41e666ff16e2d",
       "version_major": 2,
       "version_minor": 0
      },
      "text/plain": [
       "VBox()"
      ]
     },
     "metadata": {},
     "output_type": "display_data"
    },
    {
     "data": {
      "application/vnd.jupyter.widget-view+json": {
       "model_id": "",
       "version_major": 2,
       "version_minor": 0
      },
      "text/plain": [
       "FloatProgress(value=0.0, bar_style='info', description='Progress:', layout=Layout(height='25px', width='50%'),…"
      ]
     },
     "metadata": {},
     "output_type": "display_data"
    }
   ],
   "source": [
    "hourly_activity = spark.sql('''\n",
    "select hour(from_unixtime(ts / 1000)) as hour, count(*) hourly_activity\n",
    "from dfe\n",
    "group by hour\n",
    "order by hour\n",
    "''').toPandas().set_index('hour')"
   ]
  },
  {
   "cell_type": "code",
   "execution_count": 93,
   "id": "6dbcb275-acf9-450d-8a10-32a76073002d",
   "metadata": {
    "execution": {
     "iopub.execute_input": "2022-05-23T11:46:54.490918Z",
     "iopub.status.busy": "2022-05-23T11:46:54.490624Z",
     "iopub.status.idle": "2022-05-23T11:46:55.284808Z",
     "shell.execute_reply": "2022-05-23T11:46:55.284157Z",
     "shell.execute_reply.started": "2022-05-23T11:46:54.490891Z"
    },
    "tags": []
   },
   "outputs": [
    {
     "data": {
      "application/vnd.jupyter.widget-view+json": {
       "model_id": "8e1d4b98eb0341878b369ececeded2ca",
       "version_major": 2,
       "version_minor": 0
      },
      "text/plain": [
       "VBox()"
      ]
     },
     "metadata": {},
     "output_type": "display_data"
    },
    {
     "data": {
      "application/vnd.jupyter.widget-view+json": {
       "model_id": "",
       "version_major": 2,
       "version_minor": 0
      },
      "text/plain": [
       "FloatProgress(value=0.0, bar_style='info', description='Progress:', layout=Layout(height='25px', width='50%'),…"
      ]
     },
     "metadata": {},
     "output_type": "display_data"
    },
    {
     "data": {
      "image/png": "[encoded data removed]",
      "text/plain": [
       "<IPython.core.display.Image object>"
      ]
     },
     "metadata": {},
     "output_type": "display_data"
    }
   ],
   "source": [
    "hourly_activity.plot.bar(figsize=(12,8))\n",
    "\n",
    "%matplot plt"
   ]
  },
  {
   "cell_type": "code",
   "execution_count": 117,
   "id": "94fe060e-265a-43d0-9af5-70ce3565e76d",
   "metadata": {
    "execution": {
     "iopub.execute_input": "2022-05-23T12:17:39.803371Z",
     "iopub.status.busy": "2022-05-23T12:17:39.803141Z",
     "iopub.status.idle": "2022-05-23T12:17:41.082004Z",
     "shell.execute_reply": "2022-05-23T12:17:41.081318Z",
     "shell.execute_reply.started": "2022-05-23T12:17:39.803348Z"
    },
    "tags": []
   },
   "outputs": [
    {
     "data": {
      "application/vnd.jupyter.widget-view+json": {
       "model_id": "f4a68a4db2c041f1b44d1d1d4565d585",
       "version_major": 2,
       "version_minor": 0
      },
      "text/plain": [
       "VBox()"
      ]
     },
     "metadata": {},
     "output_type": "display_data"
    },
    {
     "data": {
      "application/vnd.jupyter.widget-view+json": {
       "model_id": "",
       "version_major": 2,
       "version_minor": 0
      },
      "text/plain": [
       "FloatProgress(value=0.0, bar_style='info', description='Progress:', layout=Layout(height='25px', width='50%'),…"
      ]
     },
     "metadata": {},
     "output_type": "display_data"
    },
    {
     "name": "stdout",
     "output_type": "stream",
     "text": [
      "+-------------------+-------------------+\n",
      "|            min_reg|            max_reg|\n",
      "+-------------------+-------------------+\n",
      "|2017-10-14 22:05:25|2018-12-03 07:23:42|\n",
      "+-------------------+-------------------+"
     ]
    }
   ],
   "source": [
    "# time span for registration\n",
    "spark.sql('''\n",
    "select from_unixtime(min(registration) / 1000) min_reg, from_unixtime(max(registration) / 1000) max_reg\n",
    "from dfh\n",
    "''').show()"
   ]
  },
  {
   "cell_type": "code",
   "execution_count": 122,
   "id": "e065968f-63ae-4716-9122-5da1ec1095dc",
   "metadata": {
    "execution": {
     "iopub.execute_input": "2022-05-23T12:21:20.764000Z",
     "iopub.status.busy": "2022-05-23T12:21:20.763771Z",
     "iopub.status.idle": "2022-05-23T12:21:22.042118Z",
     "shell.execute_reply": "2022-05-23T12:21:22.041425Z",
     "shell.execute_reply.started": "2022-05-23T12:21:20.763977Z"
    },
    "tags": []
   },
   "outputs": [
    {
     "data": {
      "application/vnd.jupyter.widget-view+json": {
       "model_id": "c5697d45b5c04fdfa339be9be5a39533",
       "version_major": 2,
       "version_minor": 0
      },
      "text/plain": [
       "VBox()"
      ]
     },
     "metadata": {},
     "output_type": "display_data"
    },
    {
     "data": {
      "application/vnd.jupyter.widget-view+json": {
       "model_id": "",
       "version_major": 2,
       "version_minor": 0
      },
      "text/plain": [
       "FloatProgress(value=0.0, bar_style='info', description='Progress:', layout=Layout(height='25px', width='50%'),…"
      ]
     },
     "metadata": {},
     "output_type": "display_data"
    },
    {
     "name": "stdout",
     "output_type": "stream",
     "text": [
      "+----------------------+\n",
      "|count(DISTINCT userId)|\n",
      "+----------------------+\n",
      "|                   144|\n",
      "+----------------------+"
     ]
    }
   ],
   "source": [
    "spark.sql('''\n",
    "select count(distinct userId)\n",
    "from dfh\n",
    "where registration > ts\n",
    "''').show()"
   ]
  },
  {
   "cell_type": "markdown",
   "id": "345a5840-5f58-4753-948c-f0d1897b3a15",
   "metadata": {
    "execution": {
     "iopub.execute_input": "2022-05-20T13:46:55.102684Z",
     "iopub.status.busy": "2022-05-20T13:46:55.102454Z",
     "iopub.status.idle": "2022-05-20T13:46:55.166242Z",
     "shell.execute_reply": "2022-05-20T13:46:55.165660Z",
     "shell.execute_reply.started": "2022-05-20T13:46:55.102661Z"
    }
   },
   "source": [
    "## Churn analysis"
   ]
  },
  {
   "cell_type": "code",
   "execution_count": 96,
   "id": "1db1b13b-0232-465c-b40a-202c9f1a7c27",
   "metadata": {
    "execution": {
     "iopub.execute_input": "2022-05-23T11:49:12.559037Z",
     "iopub.status.busy": "2022-05-23T11:49:12.558777Z",
     "iopub.status.idle": "2022-05-23T11:49:12.823584Z",
     "shell.execute_reply": "2022-05-23T11:49:12.822913Z",
     "shell.execute_reply.started": "2022-05-23T11:49:12.558983Z"
    },
    "tags": []
   },
   "outputs": [
    {
     "data": {
      "application/vnd.jupyter.widget-view+json": {
       "model_id": "ddd319dab9914a1089869a127bfbd856",
       "version_major": 2,
       "version_minor": 0
      },
      "text/plain": [
       "VBox()"
      ]
     },
     "metadata": {},
     "output_type": "display_data"
    },
    {
     "data": {
      "application/vnd.jupyter.widget-view+json": {
       "model_id": "",
       "version_major": 2,
       "version_minor": 0
      },
      "text/plain": [
       "FloatProgress(value=0.0, bar_style='info', description='Progress:', layout=Layout(height='25px', width='50%'),…"
      ]
     },
     "metadata": {},
     "output_type": "display_data"
    }
   ],
   "source": [
    "# mark churn users in column churn\n",
    "dfh = spark.sql('''\n",
    "with cancel_flagged_df as (\n",
    "    select dfe.*\n",
    "        , case page when 'Cancellation Confirmation' then 1 else 0 end as cancel_event \n",
    "        from dfe\n",
    "        where userId is not null and sessionId is not null\n",
    ")\n",
    "\n",
    "select *, sum(cancel_event) over (partition by userId rows between unbounded preceding and unbounded following) as churn\n",
    "    from cancel_flagged_df\n",
    "''')\n",
    "dfh.persist()\n",
    "dfh.createOrReplaceTempView('dfh')"
   ]
  },
  {
   "cell_type": "code",
   "execution_count": 98,
   "id": "510d03e5-4a3c-4ff6-91f8-f33a929949cb",
   "metadata": {
    "execution": {
     "iopub.execute_input": "2022-05-23T11:49:35.728602Z",
     "iopub.status.busy": "2022-05-23T11:49:35.728367Z",
     "iopub.status.idle": "2022-05-23T11:51:15.495065Z",
     "shell.execute_reply": "2022-05-23T11:51:15.458539Z",
     "shell.execute_reply.started": "2022-05-23T11:49:35.728577Z"
    },
    "tags": []
   },
   "outputs": [
    {
     "data": {
      "application/vnd.jupyter.widget-view+json": {
       "model_id": "5c7037c9be894d5d86dd438b82fc2104",
       "version_major": 2,
       "version_minor": 0
      },
      "text/plain": [
       "VBox()"
      ]
     },
     "metadata": {},
     "output_type": "display_data"
    },
    {
     "data": {
      "application/vnd.jupyter.widget-view+json": {
       "model_id": "",
       "version_major": 2,
       "version_minor": 0
      },
      "text/plain": [
       "FloatProgress(value=0.0, bar_style='info', description='Progress:', layout=Layout(height='25px', width='50%'),…"
      ]
     },
     "metadata": {},
     "output_type": "display_data"
    },
    {
     "name": "stdout",
     "output_type": "stream",
     "text": [
      "+-----+----------------------+\n",
      "|churn|count(DISTINCT userId)|\n",
      "+-----+----------------------+\n",
      "|    1|                  5003|\n",
      "|    0|                 17274|\n",
      "+-----+----------------------+"
     ]
    }
   ],
   "source": [
    "# sanity check number of churn users\n",
    "spark.sql('''\n",
    "select churn, count(distinct userId) \n",
    "from dfh\n",
    "group by churn\n",
    "''').show()"
   ]
  },
  {
   "cell_type": "code",
   "execution_count": null,
   "id": "cbc3f0a8-c6aa-4819-a3ac-417bedba4460",
   "metadata": {},
   "outputs": [],
   "source": [
    "# how old are churn users when they leave ?"
   ]
  },
  {
   "cell_type": "code",
   "execution_count": 99,
   "id": "ce8f5ad0-5b96-4999-91e9-fd655d5ac354",
   "metadata": {
    "execution": {
     "iopub.execute_input": "2022-05-23T11:51:43.785605Z",
     "iopub.status.busy": "2022-05-23T11:51:43.785367Z",
     "iopub.status.idle": "2022-05-23T11:51:49.385743Z",
     "shell.execute_reply": "2022-05-23T11:51:49.282276Z",
     "shell.execute_reply.started": "2022-05-23T11:51:43.785580Z"
    },
    "tags": []
   },
   "outputs": [
    {
     "data": {
      "application/vnd.jupyter.widget-view+json": {
       "model_id": "227fd16d39c84c3fb4bb40ad7f23e920",
       "version_major": 2,
       "version_minor": 0
      },
      "text/plain": [
       "VBox()"
      ]
     },
     "metadata": {},
     "output_type": "display_data"
    },
    {
     "data": {
      "application/vnd.jupyter.widget-view+json": {
       "model_id": "",
       "version_major": 2,
       "version_minor": 0
      },
      "text/plain": [
       "FloatProgress(value=0.0, bar_style='info', description='Progress:', layout=Layout(height='25px', width='50%'),…"
      ]
     },
     "metadata": {},
     "output_type": "display_data"
    }
   ],
   "source": [
    "# do churn users hit some pages more often than others?\n",
    "page_use_by_churn = spark.sql('''\n",
    "with page_activity as (\n",
    "    select page, churn, count(*) as interaction_count\n",
    "    from dfh\n",
    "    group by page, churn\n",
    "    order by page, churn\n",
    ")\n",
    "\n",
    "select page, churn, interaction_count / sum(interaction_count)  over (partition by churn) * 100 as percent\n",
    "from page_activity\n",
    "where page != 'NextSong'\n",
    "order by page, churn\n",
    "''').toPandas().pivot(index='page', columns='churn', values='percent')"
   ]
  },
  {
   "cell_type": "code",
   "execution_count": 101,
   "id": "7f82ae74-5cb3-4b01-ad96-adaac432fe0b",
   "metadata": {
    "execution": {
     "iopub.execute_input": "2022-05-23T11:52:35.134696Z",
     "iopub.status.busy": "2022-05-23T11:52:35.134472Z",
     "iopub.status.idle": "2022-05-23T11:52:35.902046Z",
     "shell.execute_reply": "2022-05-23T11:52:35.901485Z",
     "shell.execute_reply.started": "2022-05-23T11:52:35.134672Z"
    },
    "tags": []
   },
   "outputs": [
    {
     "data": {
      "application/vnd.jupyter.widget-view+json": {
       "model_id": "d604f0b412994be598787891a5dec475",
       "version_major": 2,
       "version_minor": 0
      },
      "text/plain": [
       "VBox()"
      ]
     },
     "metadata": {},
     "output_type": "display_data"
    },
    {
     "data": {
      "application/vnd.jupyter.widget-view+json": {
       "model_id": "",
       "version_major": 2,
       "version_minor": 0
      },
      "text/plain": [
       "FloatProgress(value=0.0, bar_style='info', description='Progress:', layout=Layout(height='25px', width='50%'),…"
      ]
     },
     "metadata": {},
     "output_type": "display_data"
    },
    {
     "data": {
      "image/png": "[encoded data removed]",
      "text/plain": [
       "<IPython.core.display.Image object>"
      ]
     },
     "metadata": {},
     "output_type": "display_data"
    }
   ],
   "source": [
    "page_use_by_churn.plot.barh(figsize=(8,7))\n",
    "%matplot plt"
   ]
  },
  {
   "cell_type": "code",
   "execution_count": 102,
   "id": "7463f980-9f41-4d42-8a15-4a9a46ff277f",
   "metadata": {
    "execution": {
     "iopub.execute_input": "2022-05-23T11:53:10.368362Z",
     "iopub.status.busy": "2022-05-23T11:53:10.368133Z",
     "iopub.status.idle": "2022-05-23T11:53:12.646429Z",
     "shell.execute_reply": "2022-05-23T11:53:12.645772Z",
     "shell.execute_reply.started": "2022-05-23T11:53:10.368338Z"
    },
    "tags": []
   },
   "outputs": [
    {
     "data": {
      "application/vnd.jupyter.widget-view+json": {
       "model_id": "1f714d189560463cb557548f8ea3df93",
       "version_major": 2,
       "version_minor": 0
      },
      "text/plain": [
       "VBox()"
      ]
     },
     "metadata": {},
     "output_type": "display_data"
    },
    {
     "data": {
      "application/vnd.jupyter.widget-view+json": {
       "model_id": "",
       "version_major": 2,
       "version_minor": 0
      },
      "text/plain": [
       "FloatProgress(value=0.0, bar_style='info', description='Progress:', layout=Layout(height='25px', width='50%'),…"
      ]
     },
     "metadata": {},
     "output_type": "display_data"
    },
    {
     "name": "stdout",
     "output_type": "stream",
     "text": [
      "+-----+----------+----------+----+\n",
      "|churn|free_usage|paid_usage|both|\n",
      "+-----+----------+----------+----+\n",
      "|    1|      4147|      3891|3035|\n",
      "|    0|     14645|     12293|9664|\n",
      "+-----+----------+----------+----+"
     ]
    }
   ],
   "source": [
    "# do churn users have an affinity to the free or paid level ?\n",
    "spark.sql('''with user_levels as (\n",
    "    select userId, churn, sum(case when level = 'free' then 1 else 0 end) as free\n",
    "    , sum(case when level = 'paid' then 1 else 0 end) as paid, count(*) c\n",
    "    from dfh\n",
    "    group by userId,  churn\n",
    ")\n",
    "\n",
    "select churn, sum(case when free > 0 then 1 else 0 end) as free_usage\n",
    ", sum(case when paid > 0 then 1 else 0 end) as paid_usage\n",
    ", sum(case when paid > 0 and free > 0 then 1 else 0 end) as both\n",
    "from user_levels\n",
    "group by churn\n",
    "''').show()"
   ]
  },
  {
   "cell_type": "code",
   "execution_count": 106,
   "id": "ac72efc5-bea6-4bca-bef5-29add5f10852",
   "metadata": {
    "execution": {
     "iopub.execute_input": "2022-05-23T11:57:53.385139Z",
     "iopub.status.busy": "2022-05-23T11:57:53.384792Z",
     "iopub.status.idle": "2022-05-23T11:57:56.697620Z",
     "shell.execute_reply": "2022-05-23T11:57:56.696913Z",
     "shell.execute_reply.started": "2022-05-23T11:57:53.385099Z"
    },
    "tags": []
   },
   "outputs": [
    {
     "data": {
      "application/vnd.jupyter.widget-view+json": {
       "model_id": "94568b4e46474de2bae236be9471df1a",
       "version_major": 2,
       "version_minor": 0
      },
      "text/plain": [
       "VBox()"
      ]
     },
     "metadata": {},
     "output_type": "display_data"
    },
    {
     "data": {
      "application/vnd.jupyter.widget-view+json": {
       "model_id": "",
       "version_major": 2,
       "version_minor": 0
      },
      "text/plain": [
       "FloatProgress(value=0.0, bar_style='info', description='Progress:', layout=Layout(height='25px', width='50%'),…"
      ]
     },
     "metadata": {},
     "output_type": "display_data"
    },
    {
     "name": "stdout",
     "output_type": "stream",
     "text": [
      "+-----+--------------------+-------------------+------------------+\n",
      "|churn|              mobile|             tablet|                pc|\n",
      "+-----+--------------------+-------------------+------------------+\n",
      "|    1| 0.04358094531745387|0.01493051420473177|0.9414885404778144|\n",
      "|    0|0.035050409605252755|0.01418466570203888|0.9507649246927083|\n",
      "+-----+--------------------+-------------------+------------------+"
     ]
    }
   ],
   "source": [
    "# do churn users use some devices more often?\n",
    "spark.sql('''\n",
    "select churn\n",
    "    , sum(mobile) / count(*) as mobile\n",
    "    , sum(tablet) / count(*) as tablet\n",
    "    , sum(pc)     / count(*) as pc\n",
    "from dfh\n",
    "group by churn\n",
    "''').show()"
   ]
  },
  {
   "cell_type": "code",
   "execution_count": 108,
   "id": "de291236-9997-420f-b45b-d8d06fef815b",
   "metadata": {
    "execution": {
     "iopub.execute_input": "2022-05-23T12:06:50.942875Z",
     "iopub.status.busy": "2022-05-23T12:06:50.942639Z",
     "iopub.status.idle": "2022-05-23T12:06:53.260707Z",
     "shell.execute_reply": "2022-05-23T12:06:53.259586Z",
     "shell.execute_reply.started": "2022-05-23T12:06:50.942850Z"
    },
    "tags": []
   },
   "outputs": [
    {
     "data": {
      "application/vnd.jupyter.widget-view+json": {
       "model_id": "5430cfb092634b16b56aec681af4a031",
       "version_major": 2,
       "version_minor": 0
      },
      "text/plain": [
       "VBox()"
      ]
     },
     "metadata": {},
     "output_type": "display_data"
    },
    {
     "data": {
      "application/vnd.jupyter.widget-view+json": {
       "model_id": "",
       "version_major": 2,
       "version_minor": 0
      },
      "text/plain": [
       "FloatProgress(value=0.0, bar_style='info', description='Progress:', layout=Layout(height='25px', width='50%'),…"
      ]
     },
     "metadata": {},
     "output_type": "display_data"
    }
   ],
   "source": [
    "# page use on paid level ?\n",
    "page_use_by_churn_paid = spark.sql('''\n",
    "with page_activity as (\n",
    "    select page, churn, count(*) as interaction_count\n",
    "    from dfh\n",
    "    where level = 'paid'\n",
    "    group by page, churn\n",
    "    order by page, churn\n",
    ")\n",
    "\n",
    "select page, churn, interaction_count / sum(interaction_count)  over (partition by churn) * 100 as percent\n",
    "from page_activity\n",
    "where page != 'NextSong'\n",
    "order by page, churn\n",
    "''').toPandas().pivot(index='page', columns='churn', values='percent')"
   ]
  },
  {
   "cell_type": "code",
   "execution_count": 111,
   "id": "e7d3976b-363c-4233-a58f-483aed7e7384",
   "metadata": {
    "execution": {
     "iopub.execute_input": "2022-05-23T12:09:33.832799Z",
     "iopub.status.busy": "2022-05-23T12:09:33.832563Z",
     "iopub.status.idle": "2022-05-23T12:09:34.603363Z",
     "shell.execute_reply": "2022-05-23T12:09:34.602759Z",
     "shell.execute_reply.started": "2022-05-23T12:09:33.832769Z"
    },
    "tags": []
   },
   "outputs": [
    {
     "data": {
      "application/vnd.jupyter.widget-view+json": {
       "model_id": "3e6978d9a8d640f18a576f36c30a34cd",
       "version_major": 2,
       "version_minor": 0
      },
      "text/plain": [
       "VBox()"
      ]
     },
     "metadata": {},
     "output_type": "display_data"
    },
    {
     "data": {
      "application/vnd.jupyter.widget-view+json": {
       "model_id": "",
       "version_major": 2,
       "version_minor": 0
      },
      "text/plain": [
       "FloatProgress(value=0.0, bar_style='info', description='Progress:', layout=Layout(height='25px', width='50%'),…"
      ]
     },
     "metadata": {},
     "output_type": "display_data"
    },
    {
     "data": {
      "image/png": "[encoded data removed]",
      "text/plain": [
       "<IPython.core.display.Image object>"
      ]
     },
     "metadata": {},
     "output_type": "display_data"
    }
   ],
   "source": [
    "page_use_by_churn_paid.plot.barh(figsize=(8,7))\n",
    "%matplot plt"
   ]
  },
  {
   "cell_type": "code",
   "execution_count": 110,
   "id": "4fa4b716-3cc9-4fe3-a697-33de8b4191fa",
   "metadata": {
    "execution": {
     "iopub.execute_input": "2022-05-23T12:09:20.610756Z",
     "iopub.status.busy": "2022-05-23T12:09:20.610540Z",
     "iopub.status.idle": "2022-05-23T12:09:22.899452Z",
     "shell.execute_reply": "2022-05-23T12:09:22.898712Z",
     "shell.execute_reply.started": "2022-05-23T12:09:20.610733Z"
    }
   },
   "outputs": [
    {
     "data": {
      "application/vnd.jupyter.widget-view+json": {
       "model_id": "999d044c2cb94bf589ec018df685a95a",
       "version_major": 2,
       "version_minor": 0
      },
      "text/plain": [
       "VBox()"
      ]
     },
     "metadata": {},
     "output_type": "display_data"
    },
    {
     "data": {
      "application/vnd.jupyter.widget-view+json": {
       "model_id": "",
       "version_major": 2,
       "version_minor": 0
      },
      "text/plain": [
       "FloatProgress(value=0.0, bar_style='info', description='Progress:', layout=Layout(height='25px', width='50%'),…"
      ]
     },
     "metadata": {},
     "output_type": "display_data"
    }
   ],
   "source": [
    "# page use on free level\n",
    "page_use_by_churn_free = spark.sql('''\n",
    "with page_activity as (\n",
    "    select page, churn, count(*) as interaction_count\n",
    "    from dfh\n",
    "    where level = 'free'\n",
    "    group by page, churn\n",
    "    order by page, churn\n",
    ")\n",
    "\n",
    "select page, churn, interaction_count / sum(interaction_count)  over (partition by churn) * 100 as percent\n",
    "from page_activity\n",
    "where page != 'NextSong'\n",
    "order by page, churn\n",
    "''').toPandas().pivot(index='page', columns='churn', values='percent')"
   ]
  },
  {
   "cell_type": "code",
   "execution_count": 112,
   "id": "d5087bb0-3e03-4da8-bc90-ce18533d9413",
   "metadata": {
    "execution": {
     "iopub.execute_input": "2022-05-23T12:10:08.044738Z",
     "iopub.status.busy": "2022-05-23T12:10:08.044507Z",
     "iopub.status.idle": "2022-05-23T12:10:08.848076Z",
     "shell.execute_reply": "2022-05-23T12:10:08.847264Z",
     "shell.execute_reply.started": "2022-05-23T12:10:08.044715Z"
    }
   },
   "outputs": [
    {
     "data": {
      "application/vnd.jupyter.widget-view+json": {
       "model_id": "3340b2a62472403e932afc46eb881a47",
       "version_major": 2,
       "version_minor": 0
      },
      "text/plain": [
       "VBox()"
      ]
     },
     "metadata": {},
     "output_type": "display_data"
    },
    {
     "data": {
      "application/vnd.jupyter.widget-view+json": {
       "model_id": "",
       "version_major": 2,
       "version_minor": 0
      },
      "text/plain": [
       "FloatProgress(value=0.0, bar_style='info', description='Progress:', layout=Layout(height='25px', width='50%'),…"
      ]
     },
     "metadata": {},
     "output_type": "display_data"
    },
    {
     "data": {
      "image/png": "[encoded data removed]",
      "text/plain": [
       "<IPython.core.display.Image object>"
      ]
     },
     "metadata": {},
     "output_type": "display_data"
    }
   ],
   "source": [
    "page_use_by_churn_free.plot.barh(figsize=(8,7))\n",
    "%matplot plt"
   ]
  },
  {
   "cell_type": "code",
   "execution_count": 139,
   "id": "13c105c4-001c-42d7-8e09-a76acc3e2d77",
   "metadata": {
    "execution": {
     "iopub.execute_input": "2022-05-23T12:34:40.748196Z",
     "iopub.status.busy": "2022-05-23T12:34:40.747962Z",
     "iopub.status.idle": "2022-05-23T12:34:46.072297Z",
     "shell.execute_reply": "2022-05-23T12:34:46.071604Z",
     "shell.execute_reply.started": "2022-05-23T12:34:40.748170Z"
    },
    "tags": []
   },
   "outputs": [
    {
     "data": {
      "application/vnd.jupyter.widget-view+json": {
       "model_id": "ae6b4cce59c14beaa7c1294dd223cd59",
       "version_major": 2,
       "version_minor": 0
      },
      "text/plain": [
       "VBox()"
      ]
     },
     "metadata": {},
     "output_type": "display_data"
    },
    {
     "data": {
      "application/vnd.jupyter.widget-view+json": {
       "model_id": "",
       "version_major": 2,
       "version_minor": 0
      },
      "text/plain": [
       "FloatProgress(value=0.0, bar_style='info', description='Progress:', layout=Layout(height='25px', width='50%'),…"
      ]
     },
     "metadata": {},
     "output_type": "display_data"
    },
    {
     "name": "stdout",
     "output_type": "stream",
     "text": [
      "+----------+------------------+--------+-------+-----+\n",
      "|min(delta)|        avg(delta)|count(1)| userid|churn|\n",
      "+----------+------------------+--------+-------+-----+\n",
      "|     63000|         4360750.0|      13|1421885|    0|\n",
      "|    406000| 2885590.909090909|      37|1815994|    0|\n",
      "|      4000|         2006875.0|      55|1543335|    1|\n",
      "|    155000| 2333153.846153846|      24|1906066|    0|\n",
      "|     41000|         2613300.0|      24|1164484|    1|\n",
      "|     74000| 6670230.769230769|      45|1365300|    1|\n",
      "|         0|         2806150.0|      29|1923708|    0|\n",
      "|    160000|         1428750.0|       5|1542149|    0|\n",
      "|    226000|         2114440.0|      38|1200956|    0|\n",
      "|     53000|         3002000.0|      18|1309494|    0|\n",
      "|    143000| 1653142.857142857|      36|1544711|    0|\n",
      "|    158000|         2344875.0|      14|1678851|    0|\n",
      "|    287000|         1126000.0|      16|1867528|    0|\n",
      "|     21000|1805819.6721311475|      84|1126004|    1|\n",
      "|    179000|         1844400.0|      14|1150021|    0|\n",
      "|    437000|         2939200.0|      15|1228965|    0|\n",
      "|   3602000|         3602000.0|       4|1231735|    0|\n",
      "|     12000|1309555.5555555555|      44|1327191|    1|\n",
      "|   1190000|         1190000.0|       3|1968903|    1|\n",
      "|     22000| 2531918.918918919|      58|1080843|    0|\n",
      "+----------+------------------+--------+-------+-----+\n",
      "only showing top 20 rows"
     ]
    }
   ],
   "source": [
    "# time distance between to adverts played\n",
    "spark.sql('''\n",
    "WITH rolled_adverts AS (\n",
    "    select itemInSession, sessionId, ts, userId, churn \n",
    "    from dfh\n",
    "    where page = 'Roll Advert' \n",
    "    order by userId, sessionId, itemInSession\n",
    "),\n",
    "adverts_delta AS (\n",
    "    select \n",
    "        userid, churn\n",
    "        , ts - LAG(ts) over (partition by userid, sessionId order by itemInSession) delta\n",
    "    from rolled_adverts\n",
    ")\n",
    "\n",
    "select min(delta), avg(delta), count(*), userid, churn \n",
    "from adverts_delta\n",
    "group by userid, churn\n",
    "''').show()"
   ]
  },
  {
   "cell_type": "code",
   "execution_count": 141,
   "id": "e0e3b967-2f1d-460b-af4c-dc2479daf187",
   "metadata": {
    "execution": {
     "iopub.execute_input": "2022-05-23T12:38:40.787923Z",
     "iopub.status.busy": "2022-05-23T12:38:40.787702Z",
     "iopub.status.idle": "2022-05-23T12:38:42.085954Z",
     "shell.execute_reply": "2022-05-23T12:38:42.085091Z",
     "shell.execute_reply.started": "2022-05-23T12:38:40.787900Z"
    },
    "tags": []
   },
   "outputs": [
    {
     "data": {
      "application/vnd.jupyter.widget-view+json": {
       "model_id": "d18109d4f6b0460e93c48cba3b4cf575",
       "version_major": 2,
       "version_minor": 0
      },
      "text/plain": [
       "VBox()"
      ]
     },
     "metadata": {},
     "output_type": "display_data"
    },
    {
     "data": {
      "application/vnd.jupyter.widget-view+json": {
       "model_id": "",
       "version_major": 2,
       "version_minor": 0
      },
      "text/plain": [
       "FloatProgress(value=0.0, bar_style='info', description='Progress:', layout=Layout(height='25px', width='50%'),…"
      ]
     },
     "metadata": {},
     "output_type": "display_data"
    },
    {
     "name": "stdout",
     "output_type": "stream",
     "text": [
      "+--------------------+-----+\n",
      "|    adverts_per_song|churn|\n",
      "+--------------------+-----+\n",
      "|0.022868146008139936|    1|\n",
      "| 0.01730479040446803|    0|\n",
      "+--------------------+-----+"
     ]
    }
   ],
   "source": [
    "# number of adverts played per song\n",
    "spark.sql('''\n",
    "select sum(case when page='Roll Advert' then 1 else 0 end) /\n",
    "    sum(case when page='NextSong' then 1 else 0 end) adverts_per_song,\n",
    "    churn\n",
    "from dfh\n",
    "group by churn\n",
    "''').show()"
   ]
  },
  {
   "cell_type": "code",
   "execution_count": 164,
   "id": "ce0402f4-3627-41fe-b947-65358978b401",
   "metadata": {
    "execution": {
     "iopub.execute_input": "2022-05-23T13:12:15.309045Z",
     "iopub.status.busy": "2022-05-23T13:12:15.308720Z",
     "iopub.status.idle": "2022-05-23T13:12:18.634608Z",
     "shell.execute_reply": "2022-05-23T13:12:18.634020Z",
     "shell.execute_reply.started": "2022-05-23T13:12:15.309004Z"
    },
    "tags": []
   },
   "outputs": [
    {
     "data": {
      "application/vnd.jupyter.widget-view+json": {
       "model_id": "b10d68e2245c40918d0910a34ce3a911",
       "version_major": 2,
       "version_minor": 0
      },
      "text/plain": [
       "VBox()"
      ]
     },
     "metadata": {},
     "output_type": "display_data"
    },
    {
     "data": {
      "application/vnd.jupyter.widget-view+json": {
       "model_id": "",
       "version_major": 2,
       "version_minor": 0
      },
      "text/plain": [
       "FloatProgress(value=0.0, bar_style='info', description='Progress:', layout=Layout(height='25px', width='50%'),…"
      ]
     },
     "metadata": {},
     "output_type": "display_data"
    },
    {
     "name": "stdout",
     "output_type": "stream",
     "text": [
      "+-------------------+--------------------+-----------------+------------------+------------------+-----------------+--------------------+------------------+------------------+-----+\n",
      "| thumbs_up_per_song|thumbs_down_per_song|playlist_per_user|           friends|    upgrade_visits| downgrade_visits|submitted_downgrades|  general_activity|            errors|churn|\n",
      "+-------------------+--------------------+-----------------+------------------+------------------+-----------------+--------------------+------------------+------------------+-----+\n",
      "|0.05117598618965154|0.012688668018154808|24.91625024985009| 15.99240455726564| 2.244853088147112|8.679592244653207|  0.3002198680791525|1075.8478912652408|1.0653607835298822|    1|\n",
      "|0.05630425323232586|0.011148933709653476|27.39753386592567|17.462892207942573|2.2737061479680443|8.151904596503416|  0.2889892323723515|1163.4973370383234| 1.141484311682297|    0|\n",
      "+-------------------+--------------------+-----------------+------------------+------------------+-----------------+--------------------+------------------+------------------+-----+"
     ]
    }
   ],
   "source": [
    "# some page ratios based on churn\n",
    "spark.sql('''\n",
    "select sum(case when page='Thumbs Up' then 1 else 0 end) /\n",
    "    sum(case when page='NextSong' then 1 else 0 end) thumbs_up_per_song,\n",
    "    sum(case when page='Thumbs Down' then 1 else 0 end) /\n",
    "    sum(case when page='NextSong' then 1 else 0 end) thumbs_down_per_song,\n",
    "    sum(case when page='Add to Playlist' then 1 else 0 end) /  count(distinct userId) playlist_per_user,\n",
    "    sum(case when page='Add Friend' then 1 else 0 end) / count(distinct userId) friends,\n",
    "    sum(case when page='Upgrade' then 1 else 0 end) / count(distinct userId) upgrade_visits,\n",
    "    sum(case when page='Downgrade' then 1 else 0 end) / count(distinct userId) downgrade_visits,\n",
    "    sum(case when page='Submit Downgrade' then 1 else 0 end) / count(distinct userId) submitted_downgrades,\n",
    "    count(*) / count(distinct userId) general_activity,\n",
    "    sum(case when page='Error' then 1 else 0 end) / count(distinct userId) errors,\n",
    "    churn\n",
    "from dfh\n",
    "group by churn\n",
    "''').show()"
   ]
  },
  {
   "cell_type": "markdown",
   "id": "0c8c70a4-d536-4cb7-851e-ffdb2731e065",
   "metadata": {
    "execution": {
     "iopub.execute_input": "2022-05-23T12:40:17.694008Z",
     "iopub.status.busy": "2022-05-23T12:40:17.693786Z",
     "iopub.status.idle": "2022-05-23T12:40:18.982391Z",
     "shell.execute_reply": "2022-05-23T12:40:18.981811Z",
     "shell.execute_reply.started": "2022-05-23T12:40:17.693985Z"
    }
   },
   "source": [
    "# Feature Creation\n",
    "\n",
    "## Page activity ratios"
   ]
  },
  {
   "cell_type": "code",
   "execution_count": 221,
   "id": "fdef69c5-d51d-46ec-84e3-44b0a28ac87f",
   "metadata": {
    "execution": {
     "iopub.execute_input": "2022-05-23T14:12:59.920714Z",
     "iopub.status.busy": "2022-05-23T14:12:59.920475Z",
     "iopub.status.idle": "2022-05-23T14:13:00.685199Z",
     "shell.execute_reply": "2022-05-23T14:13:00.684497Z",
     "shell.execute_reply.started": "2022-05-23T14:12:59.920689Z"
    },
    "tags": []
   },
   "outputs": [
    {
     "data": {
      "application/vnd.jupyter.widget-view+json": {
       "model_id": "eb894c9705234a25baa4fa83995c11f1",
       "version_major": 2,
       "version_minor": 0
      },
      "text/plain": [
       "VBox()"
      ]
     },
     "metadata": {},
     "output_type": "display_data"
    },
    {
     "data": {
      "application/vnd.jupyter.widget-view+json": {
       "model_id": "",
       "version_major": 2,
       "version_minor": 0
      },
      "text/plain": [
       "FloatProgress(value=0.0, bar_style='info', description='Progress:', layout=Layout(height='25px', width='50%'),…"
      ]
     },
     "metadata": {},
     "output_type": "display_data"
    },
    {
     "name": "stdout",
     "output_type": "stream",
     "text": [
      "+-------+--------------------+--------------------+--------------------+---------------------+---------------------+-----------------+-------------+--------------+----------------+--------------------+------------------------+------------------------+--------------------+\n",
      "| userId|  thumbs_up_per_song|thumbs_down_per_song|    adverts_per_song|adverts_per_song_paid|adverts_per_song_free|songs_in_playlist|friends_added|upgrade_visits|downgrade_visits|submitted_downgrades|home_visits_per_activity|help_visits_per_activity| errors_per_activity|\n",
      "+-------+--------------------+--------------------+--------------------+---------------------+---------------------+-----------------+-------------+--------------+----------------+--------------------+------------------------+------------------------+--------------------+\n",
      "|1000280| 0.05185909980430528| 0.03228962818003914| 0.07240704500978473|                  0.0|  0.07240704500978473|               25|           14|             9|               3|                   1|    0.033409263477600606|    0.006074411541381929|0.002277904328018223|\n",
      "|1002185| 0.05174353205849269|0.007874015748031496|5.624296962879641E-4| 5.624296962879641E-4|                  0.0|               49|           25|             0|              14|                   0|    0.029326923076923077|    0.005769230769230...|9.615384615384616E-4|\n",
      "|1017805|               0.028|               0.016|               0.024|                0.024|                  0.0|                5|           13|             0|               5|                   0|                0.053125|                0.003125|                 0.0|\n",
      "|1030587| 0.04483695652173913|0.010869565217391304|                 0.0|                  0.0|                  0.0|               46|           23|             1|              15|                   0|    0.037100456621004564|    0.005707762557077625|5.707762557077625E-4|\n",
      "|1033297|  0.0423728813559322|0.012711864406779662|  0.0423728813559322|                  0.0|   0.0423728813559322|                7|            4|             2|               1|                   0|     0.05016722408026756|    0.006688963210702341|                 0.0|\n",
      "|1057724| 0.05198856251624642|0.007538341564855732|0.017416168442942553| 7.798284377436964E-4| 0.016636340005198855|              135|           76|             7|              33|                   0|     0.03512529449560934|    0.004069393874491326|2.141786249732276...|\n",
      "|1059049|  0.0518783542039356| 0.01073345259391771|0.008944543828264758| 0.008944543828264758|                  0.0|               16|           10|             0|               3|                   0|    0.030211480362537766|    0.006042296072507553|                 0.0|\n",
      "|1069552| 0.05714285714285714|0.013186813186813187| 0.06593406593406594|                  0.0|  0.06593406593406594|               11|            7|             2|               1|                   1|      0.0429553264604811|    0.006872852233676976|0.001718213058419244|\n",
      "|1071308|  0.0525195173882186|0.008516678495386799|  0.0014194464158978|                  0.0|   0.0014194464158978|               26|           31|             1|              18|                   0|    0.039574719432959246|    0.004725339633786178|5.906674542232723E-4|\n",
      "|1076191|  0.0851063829787234| 0.02127659574468085| 0.10638297872340426|                  0.0|  0.10638297872340426|                1|            0|             0|               0|                   0|                0.046875|                     0.0|                 0.0|\n",
      "|1083324| 0.05053908355795148|0.007412398921832884|0.003369272237196...| 0.001347708894878...| 0.002021563342318...|               43|           26|             2|              17|                   1|     0.04091928251121076|    0.003923766816143498|0.001121076233183...|\n",
      "|1102913| 0.05046480743691899| 0.01195219123505976|                 0.0|                  0.0|                  0.0|               23|           18|             0|               9|                   0|    0.032079646017699116|    0.007743362831858407|0.002212389380530...|\n",
      "|1114507|0.055424528301886794|0.012971698113207548|0.015330188679245283| 0.003537735849056604|  0.01179245283018868|               13|           19|             1|              10|                   0|     0.04784688995215311|    0.005741626794258373|                 0.0|\n",
      "|1133196| 0.09575923392612859|0.008207934336525308|0.030095759233926128| 0.001367989056087...| 0.028727770177838577|               24|           10|             6|               7|                   1|    0.043663471778487756|    0.002129925452609159|0.001064962726304...|\n",
      "|1142513| 0.04583333333333333|0.008333333333333333|               0.075|                  0.0|                0.075|               19|           16|             4|               0|                   0|     0.02912621359223301|    0.006472491909385114|0.001618122977346...|\n",
      "|1151194| 0.04608294930875576|0.010752688172043012|0.021505376344086023|                  0.0| 0.021505376344086023|               37|           27|             3|              11|                   0|     0.03170577045022194|    0.006975269499048827|0.001268230818008...|\n",
      "|1156065| 0.04329004329004329|0.017316017316017316| 0.18614718614718614|                  0.0|  0.18614718614718614|                2|            2|             3|               0|                   0|    0.051829268292682924|    0.009146341463414634|                 0.0|\n",
      "|1178731|  0.0552009012392039|0.010138941043935411|0.002628614344723...| 0.002628614344723...|                  0.0|               84|           35|             0|              23|                   0|      0.0315955766192733|    0.006635071090047393|0.002211690363349...|\n",
      "|1180406|0.041666666666666664|0.010869565217391304|0.043478260869565216| 0.001811594202898...| 0.041666666666666664|               19|            7|             1|               5|                   1|    0.030927835051546393|    0.005891016200294551|0.002945508100147...|\n",
      "|1190352|0.050992779783393505| 0.01263537906137184|4.512635379061372E-4| 4.512635379061372E-4|                  0.0|               63|           40|             0|              23|                   0|    0.028985507246376812|    0.004576659038901602|0.001144164759725...|\n",
      "+-------+--------------------+--------------------+--------------------+---------------------+---------------------+-----------------+-------------+--------------+----------------+--------------------+------------------------+------------------------+--------------------+\n",
      "only showing top 20 rows"
     ]
    }
   ],
   "source": [
    "feature_page_activity = spark.sql('''\n",
    "select userId\n",
    "    , sum(case when page='Thumbs Up' then 1 else 0 end) /\n",
    "      sum(case when page='NextSong' then 1 else 0 end) thumbs_up_per_song\n",
    "    , sum(case when page='Thumbs Down' then 1 else 0 end) /\n",
    "      sum(case when page='NextSong' then 1 else 0 end) thumbs_down_per_song\n",
    "    , sum(case when page='Roll Advert' then 1 else 0 end) /\n",
    "      sum(case when page='NextSong' then 1 else 0 end) adverts_per_song\n",
    "    , sum(case when page='Roll Advert' and level = 'paid' then 1 else 0 end) /\n",
    "      sum(case when page='NextSong' then 1 else 0 end) adverts_per_song_paid\n",
    "    , sum(case when page='Roll Advert' and level = 'free' then 1 else 0 end) /\n",
    "      sum(case when page='NextSong' then 1 else 0 end) adverts_per_song_free\n",
    "    , sum(case when page='Add to Playlist' then 1 else 0 end) songs_in_playlist\n",
    "    , sum(case when page='Add Friend' then 1 else 0 end) friends_added\n",
    "    , sum(case when page='Upgrade' then 1 else 0 end)  upgrade_visits\n",
    "    , sum(case when page='Downgrade' then 1 else 0 end)  downgrade_visits\n",
    "    , sum(case when page='Submit Downgrade' then 1 else 0 end) submitted_downgrades\n",
    "    , sum(case when page='Home' then 1 else 0 end) / count(*) home_visits_per_activity\n",
    "    , sum(case when page='Help' then 1 else 0 end) / count(*) help_visits_per_activity\n",
    "    , sum(case when page='Error' then 1 else 0 end) / count(*) errors_per_activity\n",
    "from dfh\n",
    "group by userId\n",
    "''')\n",
    "feature_page_activity.createOrReplaceTempView('feature_page_activity')\n",
    "feature_page_activity.persist()\n",
    "feature_page_activity.show()\n"
   ]
  },
  {
   "cell_type": "markdown",
   "id": "cc0d5bf4-f3d4-4c97-91ff-d0572a81e522",
   "metadata": {},
   "source": [
    "## Music related parameters"
   ]
  },
  {
   "cell_type": "code",
   "execution_count": 222,
   "id": "11ea1d0b-59c8-447d-ab1b-6c6dff4ce28e",
   "metadata": {
    "execution": {
     "iopub.execute_input": "2022-05-23T14:13:13.375743Z",
     "iopub.status.busy": "2022-05-23T14:13:13.375520Z",
     "iopub.status.idle": "2022-05-23T14:13:32.765239Z",
     "shell.execute_reply": "2022-05-23T14:13:32.764588Z",
     "shell.execute_reply.started": "2022-05-23T14:13:13.375718Z"
    },
    "tags": []
   },
   "outputs": [
    {
     "data": {
      "application/vnd.jupyter.widget-view+json": {
       "model_id": "c10148508cbf47b49030aacddd02400e",
       "version_major": 2,
       "version_minor": 0
      },
      "text/plain": [
       "VBox()"
      ]
     },
     "metadata": {},
     "output_type": "display_data"
    },
    {
     "data": {
      "application/vnd.jupyter.widget-view+json": {
       "model_id": "",
       "version_major": 2,
       "version_minor": 0
      },
      "text/plain": [
       "FloatProgress(value=0.0, bar_style='info', description='Progress:', layout=Layout(height='25px', width='50%'),…"
      ]
     },
     "metadata": {},
     "output_type": "display_data"
    },
    {
     "name": "stdout",
     "output_type": "stream",
     "text": [
      "+-------+------------------+------------------+------------------+\n",
      "| userId|  artist_diversity|    song_diversity|  songs_per_artist|\n",
      "+-------+------------------+------------------+------------------+\n",
      "|1000280|0.7504892367906066|0.9275929549902152|1.2359843546284224|\n",
      "|1002185|0.6777277840269966| 0.889763779527559| 1.312863070539419|\n",
      "|1017805|             0.892|              0.98|1.0986547085201794|\n",
      "|1030587|0.7275815217391305|0.9137228260869565|1.2558356676003735|\n",
      "|1057724|0.5606966467377177|0.8292175721341305|1.4789058878071395|\n",
      "|1059049|0.8121645796064401|0.9570661896243292|1.1784140969162995|\n",
      "|1069552|0.8549450549450549|0.9714285714285714|1.1362467866323906|\n",
      "|1071308|0.7146912704045423|0.9027679205110007| 1.263157894736842|\n",
      "|1076191|               1.0|               1.0|               1.0|\n",
      "|1083324|0.7149595687331537|0.9150943396226415|1.2799245994344957|\n",
      "|1102913|0.8300132802124834|0.9375830013280213|            1.1296|\n",
      "|1114507|0.7735849056603774|0.9339622641509434|1.2073170731707317|\n",
      "|1133196|0.8303693570451436|0.9411764705882353|1.1334431630971993|\n",
      "|1142513|0.8791666666666667|           0.95625|1.0876777251184835|\n",
      "|1151194|0.7488479262672811|0.9254992319508448| 1.235897435897436|\n",
      "|1156065| 0.922077922077922|0.9696969696969697| 1.051643192488263|\n",
      "|1178731|0.6323695080736011|0.8802102891475779|1.3919239904988123|\n",
      "|1180406|0.8514492753623188|0.9402173913043478|1.1042553191489362|\n",
      "|1190352|0.6471119133574007|0.8907942238267148|1.3765690376569037|\n",
      "|1200956|0.5778035352071863|0.8455520139090119|1.4633901705115346|\n",
      "+-------+------------------+------------------+------------------+\n",
      "only showing top 20 rows"
     ]
    }
   ],
   "source": [
    "feature_music_activity = spark.sql('''\n",
    "select userId\n",
    "    , count(distinct Artist) / sum(case when page='NextSong' then 1 else 0 end) artist_diversity\n",
    "    , count(distinct Artist, Song) / sum(case when page='NextSong' then 1 else 0 end) song_diversity\n",
    "    , count(distinct Artist, Song) / count(distinct Artist) songs_per_artist\n",
    "from dfh\n",
    "group by userId\n",
    "''')\n",
    "feature_music_activity.createOrReplaceTempView('feature_music_activity')\n",
    "feature_music_activity.persist()\n",
    "feature_music_activity.show()"
   ]
  },
  {
   "cell_type": "code",
   "execution_count": 223,
   "id": "dfc8359d-9dd6-4bf5-bf40-bae094f33e23",
   "metadata": {
    "execution": {
     "iopub.execute_input": "2022-05-23T14:13:50.164869Z",
     "iopub.status.busy": "2022-05-23T14:13:50.164648Z",
     "iopub.status.idle": "2022-05-23T14:13:51.035738Z",
     "shell.execute_reply": "2022-05-23T14:13:51.034752Z",
     "shell.execute_reply.started": "2022-05-23T14:13:50.164844Z"
    },
    "tags": []
   },
   "outputs": [
    {
     "data": {
      "application/vnd.jupyter.widget-view+json": {
       "model_id": "49077b217b1b4c518091cd649a17c3e9",
       "version_major": 2,
       "version_minor": 0
      },
      "text/plain": [
       "VBox()"
      ]
     },
     "metadata": {},
     "output_type": "display_data"
    },
    {
     "data": {
      "application/vnd.jupyter.widget-view+json": {
       "model_id": "",
       "version_major": 2,
       "version_minor": 0
      },
      "text/plain": [
       "FloatProgress(value=0.0, bar_style='info', description='Progress:', layout=Layout(height='25px', width='50%'),…"
      ]
     },
     "metadata": {},
     "output_type": "display_data"
    },
    {
     "name": "stdout",
     "output_type": "stream",
     "text": [
      "+-------+--------------------+\n",
      "| userId| skip_ahead_per_song|\n",
      "+-------+--------------------+\n",
      "|1000280|0.015655577299412915|\n",
      "|1002185|0.008998875140607425|\n",
      "|1017805|               0.028|\n",
      "|1030587|0.002038043478260...|\n",
      "|1033297|  0.0211864406779661|\n",
      "|1057724|0.008318170002599427|\n",
      "|1059049|                 0.0|\n",
      "|1069552|0.004395604395604396|\n",
      "|1071308|                 0.0|\n",
      "|1076191| 0.02127659574468085|\n",
      "|1083324|                 0.0|\n",
      "|1102913|0.002656042496679...|\n",
      "|1114507|                 0.0|\n",
      "|1133196|                 0.0|\n",
      "|1142513|                 0.0|\n",
      "|1151194|0.002304147465437788|\n",
      "|1156065|                 0.0|\n",
      "|1178731|0.046188509200150205|\n",
      "|1180406|                 0.0|\n",
      "|1190352|0.002256317689530686|\n",
      "+-------+--------------------+\n",
      "only showing top 20 rows"
     ]
    }
   ],
   "source": [
    "# how often does a use skips to the next song though it wasn't completely played?\n",
    "feature_skip_aheads = spark.sql('''\n",
    "    with time_deltas AS (\n",
    "    select userId\n",
    "        , length + (ts - LEAD(ts) over (partition by userId, sessionId order by itemInSession)) / 1000 as delta  \n",
    "    from dfh\n",
    "    where page = 'NextSong'\n",
    ")\n",
    "select userId, sum(case when delta < -5 then 1 else 0 end) / count(*) as skip_ahead_per_song\n",
    "from time_deltas\n",
    "group by userId\n",
    "''')\n",
    "feature_skip_aheads.createOrReplaceTempView('feature_skip_aheads')\n",
    "feature_skip_aheads.persist()\n",
    "feature_skip_aheads.show()"
   ]
  },
  {
   "cell_type": "markdown",
   "id": "dbfc6a14-405a-4559-902a-74d4db42f570",
   "metadata": {},
   "source": [
    "## Devices used"
   ]
  },
  {
   "cell_type": "code",
   "execution_count": 224,
   "id": "8999f6ca-b6cf-4f82-888a-a1e19558dbd6",
   "metadata": {
    "execution": {
     "iopub.execute_input": "2022-05-23T14:14:02.381005Z",
     "iopub.status.busy": "2022-05-23T14:14:02.380783Z",
     "iopub.status.idle": "2022-05-23T14:14:03.230079Z",
     "shell.execute_reply": "2022-05-23T14:14:03.229512Z",
     "shell.execute_reply.started": "2022-05-23T14:14:02.380982Z"
    },
    "tags": []
   },
   "outputs": [
    {
     "data": {
      "application/vnd.jupyter.widget-view+json": {
       "model_id": "2e5a195b281c4cd69dacbea30a9360b4",
       "version_major": 2,
       "version_minor": 0
      },
      "text/plain": [
       "VBox()"
      ]
     },
     "metadata": {},
     "output_type": "display_data"
    },
    {
     "data": {
      "application/vnd.jupyter.widget-view+json": {
       "model_id": "",
       "version_major": 2,
       "version_minor": 0
      },
      "text/plain": [
       "FloatProgress(value=0.0, bar_style='info', description='Progress:', layout=Layout(height='25px', width='50%'),…"
      ]
     },
     "metadata": {},
     "output_type": "display_data"
    },
    {
     "name": "stdout",
     "output_type": "stream",
     "text": [
      "+-------+------+------+---+\n",
      "| userId|mobile|tablet| pc|\n",
      "+-------+------+------+---+\n",
      "|1000280|   0.0|   0.0|1.0|\n",
      "|1002185|   0.0|   0.0|1.0|\n",
      "|1017805|   0.0|   0.0|1.0|\n",
      "|1030587|   0.0|   0.0|1.0|\n",
      "|1033297|   0.0|   0.0|1.0|\n",
      "|1057724|   0.0|   0.0|1.0|\n",
      "|1059049|   0.0|   0.0|1.0|\n",
      "|1069552|   0.0|   0.0|1.0|\n",
      "|1071308|   0.0|   0.0|1.0|\n",
      "|1076191|   0.0|   0.0|1.0|\n",
      "|1083324|   1.0|   0.0|0.0|\n",
      "|1102913|   0.0|   0.0|1.0|\n",
      "|1114507|   0.0|   0.0|1.0|\n",
      "|1133196|   0.0|   0.0|1.0|\n",
      "|1142513|   0.0|   0.0|1.0|\n",
      "|1151194|   0.0|   0.0|1.0|\n",
      "|1156065|   0.0|   0.0|1.0|\n",
      "|1178731|   0.0|   0.0|1.0|\n",
      "|1180406|   0.0|   0.0|1.0|\n",
      "|1190352|   0.0|   0.0|1.0|\n",
      "+-------+------+------+---+\n",
      "only showing top 20 rows"
     ]
    }
   ],
   "source": [
    "# relative device activity per user\n",
    "feature_devices_used = spark.sql('''\n",
    "select userId \n",
    "    , sum(mobile) / count(*) as mobile\n",
    "    , sum(tablet) / count(*) as tablet\n",
    "    , sum(pc) / count(*) as pc\n",
    "from dfh\n",
    "group by userId\n",
    "''')\n",
    "feature_devices_used.createOrReplaceTempView('feature_devices_used')\n",
    "feature_devices_used.persist()\n",
    "feature_devices_used.show()"
   ]
  },
  {
   "cell_type": "markdown",
   "id": "fcfb8acf-ad62-4be8-bcd4-3cafbdd868c3",
   "metadata": {},
   "source": [
    "## Location and Gender"
   ]
  },
  {
   "cell_type": "code",
   "execution_count": 213,
   "id": "a1c8ceba-6db1-46bf-87c8-a00cd4ff0bfc",
   "metadata": {
    "execution": {
     "iopub.execute_input": "2022-05-23T14:05:38.181606Z",
     "iopub.status.busy": "2022-05-23T14:05:38.181377Z",
     "iopub.status.idle": "2022-05-23T14:05:41.608232Z",
     "shell.execute_reply": "2022-05-23T14:05:41.607652Z",
     "shell.execute_reply.started": "2022-05-23T14:05:38.181581Z"
    },
    "tags": []
   },
   "outputs": [
    {
     "data": {
      "application/vnd.jupyter.widget-view+json": {
       "model_id": "110737e1f0314c34b27b6d055d076cb5",
       "version_major": 2,
       "version_minor": 0
      },
      "text/plain": [
       "VBox()"
      ]
     },
     "metadata": {},
     "output_type": "display_data"
    },
    {
     "data": {
      "application/vnd.jupyter.widget-view+json": {
       "model_id": "",
       "version_major": 2,
       "version_minor": 0
      },
      "text/plain": [
       "FloatProgress(value=0.0, bar_style='info', description='Progress:', layout=Layout(height='25px', width='50%'),…"
      ]
     },
     "metadata": {},
     "output_type": "display_data"
    },
    {
     "name": "stdout",
     "output_type": "stream",
     "text": [
      "+------+---+\n",
      "|userId|  n|\n",
      "+------+---+\n",
      "+------+---+\n",
      "\n",
      "+------+---+\n",
      "|userId|  n|\n",
      "+------+---+\n",
      "+------+---+"
     ]
    }
   ],
   "source": [
    "# some sanity checks\n",
    "spark.sql('''\n",
    "select userId, count(distinct gender) n\n",
    "from dfh\n",
    "group by userId\n",
    "having n > 1\n",
    "''').show()\n",
    "\n",
    "spark.sql('''\n",
    "select userId, count(distinct location) n\n",
    "from dfh\n",
    "group by userId\n",
    "having n > 1\n",
    "''').show()"
   ]
  },
  {
   "cell_type": "code",
   "execution_count": 225,
   "id": "3b537062-59c5-456e-a861-08cb2ea4928a",
   "metadata": {
    "execution": {
     "iopub.execute_input": "2022-05-23T14:14:17.950137Z",
     "iopub.status.busy": "2022-05-23T14:14:17.949914Z",
     "iopub.status.idle": "2022-05-23T14:14:18.505041Z",
     "shell.execute_reply": "2022-05-23T14:14:18.499942Z",
     "shell.execute_reply.started": "2022-05-23T14:14:17.950111Z"
    },
    "tags": []
   },
   "outputs": [
    {
     "data": {
      "application/vnd.jupyter.widget-view+json": {
       "model_id": "6276f318c90d49548e6b40a7a58f1660",
       "version_major": 2,
       "version_minor": 0
      },
      "text/plain": [
       "VBox()"
      ]
     },
     "metadata": {},
     "output_type": "display_data"
    },
    {
     "data": {
      "application/vnd.jupyter.widget-view+json": {
       "model_id": "",
       "version_major": 2,
       "version_minor": 0
      },
      "text/plain": [
       "FloatProgress(value=0.0, bar_style='info', description='Progress:', layout=Layout(height='25px', width='50%'),…"
      ]
     },
     "metadata": {},
     "output_type": "display_data"
    },
    {
     "name": "stdout",
     "output_type": "stream",
     "text": [
      "+-------+-----+------+-------------------------------------+\n",
      "|userId |churn|gender|location                             |\n",
      "+-------+-----+------+-------------------------------------+\n",
      "|1000280|1    |M     |Findlay, OH                          |\n",
      "|1002185|0    |F     |Boston-Cambridge-Newton, MA-NH       |\n",
      "|1017805|0    |F     |Augusta-Richmond County, GA-SC       |\n",
      "|1030587|0    |F     |Boise City, ID                       |\n",
      "|1033297|0    |M     |Peoria, IL                           |\n",
      "|1057724|0    |M     |New York-Newark-Jersey City, NY-NJ-PA|\n",
      "|1059049|0    |M     |San Francisco-Oakland-Hayward, CA    |\n",
      "|1069552|0    |F     |Los Angeles-Long Beach-Anaheim, CA   |\n",
      "|1071308|1    |F     |Milwaukee-Waukesha-West Allis, WI    |\n",
      "|1076191|1    |M     |Fresno, CA                           |\n",
      "|1083324|0    |M     |Arcadia, FL                          |\n",
      "|1102913|0    |M     |New York-Newark-Jersey City, NY-NJ-PA|\n",
      "|1114507|0    |F     |Santa Cruz-Watsonville, CA           |\n",
      "|1133196|0    |F     |Dallas-Fort Worth-Arlington, TX      |\n",
      "|1142513|0    |M     |Memphis, TN-MS-AR                    |\n",
      "|1151194|0    |F     |Chattanooga, TN-GA                   |\n",
      "|1156065|1    |M     |Salt Lake City, UT                   |\n",
      "|1178731|0    |F     |New York-Newark-Jersey City, NY-NJ-PA|\n",
      "|1180406|0    |M     |Detroit-Warren-Dearborn, MI          |\n",
      "|1190352|0    |M     |Chattanooga, TN-GA                   |\n",
      "+-------+-----+------+-------------------------------------+\n",
      "only showing top 20 rows"
     ]
    }
   ],
   "source": [
    "feature_location_gender = spark.sql('''\n",
    "select userId, max(churn) churn, max(gender) gender, max(location) location\n",
    "from dfh\n",
    "group by userId\n",
    "''')\n",
    "feature_location_gender.createOrReplaceTempView('feature_location_gender')\n",
    "feature_location_gender.persist()\n",
    "feature_location_gender.show(truncate=False)"
   ]
  },
  {
   "cell_type": "markdown",
   "id": "3f7844f6-235e-41aa-bf98-0a5b6400caf7",
   "metadata": {},
   "source": [
    "## Join and safe"
   ]
  },
  {
   "cell_type": "code",
   "execution_count": 227,
   "id": "2591adc3-1761-4cf5-b411-3e48009d72ce",
   "metadata": {
    "execution": {
     "iopub.execute_input": "2022-05-23T14:15:51.792231Z",
     "iopub.status.busy": "2022-05-23T14:15:51.791970Z",
     "iopub.status.idle": "2022-05-23T14:15:57.162718Z",
     "shell.execute_reply": "2022-05-23T14:15:57.162029Z",
     "shell.execute_reply.started": "2022-05-23T14:15:51.792203Z"
    },
    "tags": []
   },
   "outputs": [
    {
     "data": {
      "application/vnd.jupyter.widget-view+json": {
       "model_id": "cd9ade31221943c4b48dc1cea045fd8c",
       "version_major": 2,
       "version_minor": 0
      },
      "text/plain": [
       "VBox()"
      ]
     },
     "metadata": {},
     "output_type": "display_data"
    },
    {
     "data": {
      "application/vnd.jupyter.widget-view+json": {
       "model_id": "",
       "version_major": 2,
       "version_minor": 0
      },
      "text/plain": [
       "FloatProgress(value=0.0, bar_style='info', description='Progress:', layout=Layout(height='25px', width='50%'),…"
      ]
     },
     "metadata": {},
     "output_type": "display_data"
    },
    {
     "name": "stdout",
     "output_type": "stream",
     "text": [
      "+-------+-----+------+--------------------+------+------+---+--------------------+------------------+------------------+------------------+--------------------+--------------------+--------------------+---------------------+---------------------+-----------------+-------------+--------------+----------------+--------------------+------------------------+------------------------+--------------------+\n",
      "| userId|churn|gender|            location|mobile|tablet| pc| skip_ahead_per_song|  artist_diversity|    song_diversity|  songs_per_artist|  thumbs_up_per_song|thumbs_down_per_song|    adverts_per_song|adverts_per_song_paid|adverts_per_song_free|songs_in_playlist|friends_added|upgrade_visits|downgrade_visits|submitted_downgrades|home_visits_per_activity|help_visits_per_activity| errors_per_activity|\n",
      "+-------+-----+------+--------------------+------+------+---+--------------------+------------------+------------------+------------------+--------------------+--------------------+--------------------+---------------------+---------------------+-----------------+-------------+--------------+----------------+--------------------+------------------------+------------------------+--------------------+\n",
      "|1000280|    1|     M|         Findlay, OH|   0.0|   0.0|1.0|0.015655577299412915|0.7504892367906066|0.9275929549902152|1.2359843546284224| 0.05185909980430528| 0.03228962818003914| 0.07240704500978473|                  0.0|  0.07240704500978473|               25|           14|             9|               3|                   1|    0.033409263477600606|    0.006074411541381929|0.002277904328018223|\n",
      "|1002185|    0|     F|Boston-Cambridge-...|   0.0|   0.0|1.0|0.008998875140607425|0.6777277840269966| 0.889763779527559| 1.312863070539419| 0.05174353205849269|0.007874015748031496|5.624296962879641E-4| 5.624296962879641E-4|                  0.0|               49|           25|             0|              14|                   0|    0.029326923076923077|    0.005769230769230...|9.615384615384616E-4|\n",
      "|1017805|    0|     F|Augusta-Richmond ...|   0.0|   0.0|1.0|               0.028|             0.892|              0.98|1.0986547085201794|               0.028|               0.016|               0.024|                0.024|                  0.0|                5|           13|             0|               5|                   0|                0.053125|                0.003125|                 0.0|\n",
      "|1030587|    0|     F|      Boise City, ID|   0.0|   0.0|1.0|0.002038043478260...|0.7275815217391305|0.9137228260869565|1.2558356676003735| 0.04483695652173913|0.010869565217391304|                 0.0|                  0.0|                  0.0|               46|           23|             1|              15|                   0|    0.037100456621004564|    0.005707762557077625|5.707762557077625E-4|\n",
      "|1033297|    0|     M|          Peoria, IL|   0.0|   0.0|1.0|  0.0211864406779661|0.9110169491525424|0.9915254237288136|1.0883720930232559|  0.0423728813559322|0.012711864406779662|  0.0423728813559322|                  0.0|   0.0423728813559322|                7|            4|             2|               1|                   0|     0.05016722408026756|    0.006688963210702341|                 0.0|\n",
      "|1057724|    0|     M|New York-Newark-J...|   0.0|   0.0|1.0|0.008318170002599427|0.5606966467377177|0.8292175721341305|1.4789058878071395| 0.05198856251624642|0.007538341564855732|0.017416168442942553| 7.798284377436964E-4| 0.016636340005198855|              135|           76|             7|              33|                   0|     0.03512529449560934|    0.004069393874491326|2.141786249732276...|\n",
      "|1059049|    0|     M|San Francisco-Oak...|   0.0|   0.0|1.0|                 0.0|0.8121645796064401|0.9570661896243292|1.1784140969162995|  0.0518783542039356| 0.01073345259391771|0.008944543828264758| 0.008944543828264758|                  0.0|               16|           10|             0|               3|                   0|    0.030211480362537766|    0.006042296072507553|                 0.0|\n",
      "|1069552|    0|     F|Los Angeles-Long ...|   0.0|   0.0|1.0|0.004395604395604396|0.8549450549450549|0.9714285714285714|1.1362467866323906| 0.05714285714285714|0.013186813186813187| 0.06593406593406594|                  0.0|  0.06593406593406594|               11|            7|             2|               1|                   1|      0.0429553264604811|    0.006872852233676976|0.001718213058419244|\n",
      "|1071308|    1|     F|Milwaukee-Waukesh...|   0.0|   0.0|1.0|                 0.0|0.7146912704045423|0.9027679205110007| 1.263157894736842|  0.0525195173882186|0.008516678495386799|  0.0014194464158978|                  0.0|   0.0014194464158978|               26|           31|             1|              18|                   0|    0.039574719432959246|    0.004725339633786178|5.906674542232723E-4|\n",
      "|1076191|    1|     M|          Fresno, CA|   0.0|   0.0|1.0| 0.02127659574468085|               1.0|               1.0|               1.0|  0.0851063829787234| 0.02127659574468085| 0.10638297872340426|                  0.0|  0.10638297872340426|                1|            0|             0|               0|                   0|                0.046875|                     0.0|                 0.0|\n",
      "|1083324|    0|     M|         Arcadia, FL|   1.0|   0.0|0.0|                 0.0|0.7149595687331537|0.9150943396226415|1.2799245994344957| 0.05053908355795148|0.007412398921832884|0.003369272237196...| 0.001347708894878...| 0.002021563342318...|               43|           26|             2|              17|                   1|     0.04091928251121076|    0.003923766816143498|0.001121076233183...|\n",
      "|1102913|    0|     M|New York-Newark-J...|   0.0|   0.0|1.0|0.002656042496679...|0.8300132802124834|0.9375830013280213|            1.1296| 0.05046480743691899| 0.01195219123505976|                 0.0|                  0.0|                  0.0|               23|           18|             0|               9|                   0|    0.032079646017699116|    0.007743362831858407|0.002212389380530...|\n",
      "|1114507|    0|     F|Santa Cruz-Watson...|   0.0|   0.0|1.0|                 0.0|0.7735849056603774|0.9339622641509434|1.2073170731707317|0.055424528301886794|0.012971698113207548|0.015330188679245283| 0.003537735849056604|  0.01179245283018868|               13|           19|             1|              10|                   0|     0.04784688995215311|    0.005741626794258373|                 0.0|\n",
      "|1133196|    0|     F|Dallas-Fort Worth...|   0.0|   0.0|1.0|                 0.0|0.8303693570451436|0.9411764705882353|1.1334431630971993| 0.09575923392612859|0.008207934336525308|0.030095759233926128| 0.001367989056087...| 0.028727770177838577|               24|           10|             6|               7|                   1|    0.043663471778487756|    0.002129925452609159|0.001064962726304...|\n",
      "|1142513|    0|     M|   Memphis, TN-MS-AR|   0.0|   0.0|1.0|                 0.0|0.8791666666666667|           0.95625|1.0876777251184835| 0.04583333333333333|0.008333333333333333|               0.075|                  0.0|                0.075|               19|           16|             4|               0|                   0|     0.02912621359223301|    0.006472491909385114|0.001618122977346...|\n",
      "|1151194|    0|     F|  Chattanooga, TN-GA|   0.0|   0.0|1.0|0.002304147465437788|0.7488479262672811|0.9254992319508448| 1.235897435897436| 0.04608294930875576|0.010752688172043012|0.021505376344086023|                  0.0| 0.021505376344086023|               37|           27|             3|              11|                   0|     0.03170577045022194|    0.006975269499048827|0.001268230818008...|\n",
      "|1156065|    1|     M|  Salt Lake City, UT|   0.0|   0.0|1.0|                 0.0| 0.922077922077922|0.9696969696969697| 1.051643192488263| 0.04329004329004329|0.017316017316017316| 0.18614718614718614|                  0.0|  0.18614718614718614|                2|            2|             3|               0|                   0|    0.051829268292682924|    0.009146341463414634|                 0.0|\n",
      "|1178731|    0|     F|New York-Newark-J...|   0.0|   0.0|1.0|0.046188509200150205|0.6323695080736011|0.8802102891475779|1.3919239904988123|  0.0552009012392039|0.010138941043935411|0.002628614344723...| 0.002628614344723...|                  0.0|               84|           35|             0|              23|                   0|      0.0315955766192733|    0.006635071090047393|0.002211690363349...|\n",
      "|1180406|    0|     M|Detroit-Warren-De...|   0.0|   0.0|1.0|                 0.0|0.8514492753623188|0.9402173913043478|1.1042553191489362|0.041666666666666664|0.010869565217391304|0.043478260869565216| 0.001811594202898...| 0.041666666666666664|               19|            7|             1|               5|                   1|    0.030927835051546393|    0.005891016200294551|0.002945508100147...|\n",
      "|1190352|    0|     M|  Chattanooga, TN-GA|   0.0|   0.0|1.0|0.002256317689530686|0.6471119133574007|0.8907942238267148|1.3765690376569037|0.050992779783393505| 0.01263537906137184|4.512635379061372E-4| 4.512635379061372E-4|                  0.0|               63|           40|             0|              23|                   0|    0.028985507246376812|    0.004576659038901602|0.001144164759725...|\n",
      "+-------+-----+------+--------------------+------+------+---+--------------------+------------------+------------------+------------------+--------------------+--------------------+--------------------+---------------------+---------------------+-----------------+-------------+--------------+----------------+--------------------+------------------------+------------------------+--------------------+\n",
      "only showing top 20 rows"
     ]
    }
   ],
   "source": [
    "features = spark.sql('''\n",
    "select *\n",
    "from feature_location_gender\n",
    "JOIN feature_devices_used USING (userId)\n",
    "JOIN feature_skip_aheads USING (userId)\n",
    "JOIN feature_music_activity USING (userId)\n",
    "JOIN feature_page_activity USING (userId)\n",
    "''')\n",
    "features.createOrReplaceTempView('features')\n",
    "features.show()"
   ]
  },
  {
   "cell_type": "code",
   "execution_count": 232,
   "id": "0d35d8b9-0f0d-46e7-8b34-5a920d41e4b7",
   "metadata": {
    "execution": {
     "iopub.execute_input": "2022-05-23T14:25:27.760302Z",
     "iopub.status.busy": "2022-05-23T14:25:27.760068Z",
     "iopub.status.idle": "2022-05-23T14:25:31.050850Z",
     "shell.execute_reply": "2022-05-23T14:25:31.050263Z",
     "shell.execute_reply.started": "2022-05-23T14:25:27.760277Z"
    },
    "tags": []
   },
   "outputs": [
    {
     "data": {
      "application/vnd.jupyter.widget-view+json": {
       "model_id": "1e1729d5dd5a44e9aa2a60728891a064",
       "version_major": 2,
       "version_minor": 0
      },
      "text/plain": [
       "VBox()"
      ]
     },
     "metadata": {},
     "output_type": "display_data"
    },
    {
     "data": {
      "application/vnd.jupyter.widget-view+json": {
       "model_id": "",
       "version_major": 2,
       "version_minor": 0
      },
      "text/plain": [
       "FloatProgress(value=0.0, bar_style='info', description='Progress:', layout=Layout(height='25px', width='50%'),…"
      ]
     },
     "metadata": {},
     "output_type": "display_data"
    }
   ],
   "source": [
    "features.repartition(1).write.format('json').save('s3n://aws-emr-resources-978450172755-eu-central-1/user_features.json')"
   ]
  },
  {
   "cell_type": "code",
   "execution_count": null,
   "id": "9b1d9cd6-9d2c-4da1-b2c0-e40446adaff7",
   "metadata": {},
   "outputs": [],
   "source": []
  }
 ],
 "metadata": {
  "kernelspec": {
   "display_name": "PySpark",
   "language": "",
   "name": "pysparkkernel"
  },
  "language_info": {
   "codemirror_mode": {
    "name": "python",
    "version": 3
   },
   "mimetype": "text/x-python",
   "name": "pyspark",
   "pygments_lexer": "python3"
  }
 },
 "nbformat": 4,
 "nbformat_minor": 5
}
