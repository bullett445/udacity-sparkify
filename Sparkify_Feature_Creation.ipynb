{
 "cells": [
  {
   "cell_type": "code",
   "execution_count": null,
   "id": "524d55e2-28bc-46c7-9dd1-0f8646d648e1",
   "metadata": {
    "tags": []
   },
   "outputs": [],
   "source": [
    "print(\"Welcome to my EMR Notebook!\")\n",
    "sc.list_packages()"
   ]
  },
  {
   "cell_type": "code",
   "execution_count": 37,
   "id": "4e033421-cba6-46a3-a1e6-128d4daebc9f",
   "metadata": {
    "execution": {
     "iopub.execute_input": "2022-05-19T11:54:48.474108Z",
     "iopub.status.busy": "2022-05-19T11:54:48.473835Z",
     "iopub.status.idle": "2022-05-19T11:54:48.593543Z",
     "shell.execute_reply": "2022-05-19T11:54:48.591170Z",
     "shell.execute_reply.started": "2022-05-19T11:54:48.474075Z"
    }
   },
   "outputs": [
    {
     "data": {
      "application/vnd.jupyter.widget-view+json": {
       "model_id": "05b6c00eb2c8424da17e8d615618602c",
       "version_major": 2,
       "version_minor": 0
      },
      "text/plain": [
       "VBox()"
      ]
     },
     "metadata": {},
     "output_type": "display_data"
    },
    {
     "data": {
      "application/vnd.jupyter.widget-view+json": {
       "model_id": "",
       "version_major": 2,
       "version_minor": 0
      },
      "text/plain": [
       "FloatProgress(value=0.0, bar_style='info', description='Progress:', layout=Layout(height='25px', width='50%'),…"
      ]
     },
     "metadata": {},
     "output_type": "display_data"
    },
    {
     "name": "stderr",
     "output_type": "stream",
     "text": [
      "An error was encountered:\n",
      "Package already installed for current Spark context!\n",
      "Traceback (most recent call last):\n",
      "  File \"/mnt1/yarn/usercache/livy/appcache/application_1652955775613_0001/container_1652955775613_0001_01_000001/pyspark.zip/pyspark/context.py\", line 1289, in install_pypi_package\n",
      "    raise ValueError(\"Package already installed for current Spark context!\")\n",
      "ValueError: Package already installed for current Spark context!\n",
      "\n"
     ]
    }
   ],
   "source": [
    "sc.install_pypi_package(\"cython\")"
   ]
  },
  {
   "cell_type": "code",
   "execution_count": 38,
   "id": "f145ea74-49fd-40b3-aefb-85b1210a2863",
   "metadata": {
    "execution": {
     "iopub.execute_input": "2022-05-19T11:54:59.662862Z",
     "iopub.status.busy": "2022-05-19T11:54:59.662557Z",
     "iopub.status.idle": "2022-05-19T11:56:29.303253Z",
     "shell.execute_reply": "2022-05-19T11:56:29.302370Z",
     "shell.execute_reply.started": "2022-05-19T11:54:59.662827Z"
    }
   },
   "outputs": [
    {
     "data": {
      "application/vnd.jupyter.widget-view+json": {
       "model_id": "cc139d55fd384f53afe7c76980b86150",
       "version_major": 2,
       "version_minor": 0
      },
      "text/plain": [
       "VBox()"
      ]
     },
     "metadata": {},
     "output_type": "display_data"
    },
    {
     "data": {
      "application/vnd.jupyter.widget-view+json": {
       "model_id": "",
       "version_major": 2,
       "version_minor": 0
      },
      "text/plain": [
       "FloatProgress(value=0.0, bar_style='info', description='Progress:', layout=Layout(height='25px', width='50%'),…"
      ]
     },
     "metadata": {},
     "output_type": "display_data"
    },
    {
     "name": "stdout",
     "output_type": "stream",
     "text": [
      "Collecting pandas\n",
      "  Downloading https://files.pythonhosted.org/packages/99/f0/f99700ef327e51d291efdf4a6de29e685c4d198cbf8531541fc84d169e0e/pandas-1.3.5.tar.gz (4.7MB)\n",
      "Installing collected packages: unknown\n",
      "  Running setup.py install for unknown: started\n",
      "    Running setup.py install for unknown: finished with status 'error'\n",
      "    Complete output from command /mnt1/yarn/usercache/livy/appcache/application_1652955775613_0001/container_1652955775613_0001_01_000001/tmp/1652960399139-0/bin/python -u -c \"import setuptools, tokenize;__file__='/mnt/tmp/pip-build-97x9dyee/pandas/setup.py';f=getattr(tokenize, 'open', open)(__file__);code=f.read().replace('\\r\\n', '\\n');f.close();exec(compile(code, __file__, 'exec'))\" install --record /tmp/pip-wmy4itnz-record/install-record.txt --single-version-externally-managed --compile --install-headers /mnt1/yarn/usercache/livy/appcache/application_1652955775613_0001/container_1652955775613_0001_01_000001/tmp/1652960399139-0/include/site/python3.7/unknown:\n",
      "    running install\n",
      "    running build\n",
      "    running build_ext\n",
      "    building 'pandas._libs.algos' extension\n",
      "    creating build\n",
      "    creating build/temp.linux-x86_64-3.7\n",
      "    creating build/temp.linux-x86_64-3.7/pandas\n",
      "    creating build/temp.linux-x86_64-3.7/pandas/_libs\n",
      "    gcc -pthread -Wno-unused-result -Wsign-compare -DNDEBUG -O2 -g -pipe -Wall -Wp,-D_FORTIFY_SOURCE=2 -fexceptions -fstack-protector-strong --param=ssp-buffer-size=4 -grecord-gcc-switches -m64 -mtune=generic -D_GNU_SOURCE -fPIC -fwrapv -fPIC -DNPY_NO_DEPRECATED_API=0 -I./pandas/_libs -Ipandas/_libs/src/klib -I/usr/local/lib64/python3.7/site-packages/numpy/core/include -I/usr/include/python3.7m -c pandas/_libs/algos.c -o build/temp.linux-x86_64-3.7/pandas/_libs/algos.o\n",
      "    pandas/_libs/algos.c:42:10: fatal error: Python.h: No such file or directory\n",
      "     #include \"Python.h\"\n",
      "              ^~~~~~~~~~\n",
      "    compilation terminated.\n",
      "    error: command 'gcc' failed with exit status 1\n",
      "    \n",
      "    ----------------------------------------\n",
      "\n",
      "The directory '/home/.cache/pip/http' or its parent directory is not owned by the current user and the cache has been disabled. Please check the permissions and owner of that directory. If executing pip with sudo, you may want sudo's -H flag.\n",
      "The directory '/home/.cache/pip' or its parent directory is not owned by the current user and caching wheels has been disabled. check the permissions and owner of that directory. If executing pip with sudo, you may want sudo's -H flag.\n",
      "  Running setup.py (path:/mnt/tmp/pip-build-97x9dyee/pandas/setup.py) egg_info for package pandas produced metadata for project name unknown. Fix your #egg=pandas fragments.\n",
      "Command \"/mnt1/yarn/usercache/livy/appcache/application_1652955775613_0001/container_1652955775613_0001_01_000001/tmp/1652960399139-0/bin/python -u -c \"import setuptools, tokenize;__file__='/mnt/tmp/pip-build-97x9dyee/pandas/setup.py';f=getattr(tokenize, 'open', open)(__file__);code=f.read().replace('\\r\\n', '\\n');f.close();exec(compile(code, __file__, 'exec'))\" install --record /tmp/pip-wmy4itnz-record/install-record.txt --single-version-externally-managed --compile --install-headers /mnt1/yarn/usercache/livy/appcache/application_1652955775613_0001/container_1652955775613_0001_01_000001/tmp/1652960399139-0/include/site/python3.7/unknown\" failed with error code 1 in /mnt/tmp/pip-build-97x9dyee/pandas/\n",
      "You are using pip version 9.0.1, however version 22.1 is available.\n",
      "You should consider upgrading via the 'pip install --upgrade pip' command."
     ]
    }
   ],
   "source": [
    "sc.install_pypi_package(\"pandas\")"
   ]
  },
  {
   "cell_type": "code",
   "execution_count": 35,
   "id": "9c48ba4a-6bee-4d0d-a4de-5819562c4a16",
   "metadata": {
    "execution": {
     "iopub.execute_input": "2022-05-19T11:52:02.322056Z",
     "iopub.status.busy": "2022-05-19T11:52:02.321782Z",
     "iopub.status.idle": "2022-05-19T11:53:48.060767Z",
     "shell.execute_reply": "2022-05-19T11:53:48.059652Z",
     "shell.execute_reply.started": "2022-05-19T11:52:02.322022Z"
    },
    "tags": []
   },
   "outputs": [
    {
     "data": {
      "application/vnd.jupyter.widget-view+json": {
       "model_id": "738194d9b1544cc3aa97953e5115ccbd",
       "version_major": 2,
       "version_minor": 0
      },
      "text/plain": [
       "VBox()"
      ]
     },
     "metadata": {},
     "output_type": "display_data"
    },
    {
     "data": {
      "application/vnd.jupyter.widget-view+json": {
       "model_id": "",
       "version_major": 2,
       "version_minor": 0
      },
      "text/plain": [
       "FloatProgress(value=0.0, bar_style='info', description='Progress:', layout=Layout(height='25px', width='50%'),…"
      ]
     },
     "metadata": {},
     "output_type": "display_data"
    },
    {
     "name": "stderr",
     "output_type": "stream",
     "text": [
      "An error was encountered:\n",
      "Package already installed for current Spark context!\n",
      "Traceback (most recent call last):\n",
      "  File \"/mnt1/yarn/usercache/livy/appcache/application_1652955775613_0001/container_1652955775613_0001_01_000001/pyspark.zip/pyspark/context.py\", line 1289, in install_pypi_package\n",
      "    raise ValueError(\"Package already installed for current Spark context!\")\n",
      "ValueError: Package already installed for current Spark context!\n",
      "\n"
     ]
    }
   ],
   "source": [
    "\n",
    " \n",
    "sc.install_pypi_package(\"matplotlib\")\n",
    "sc.install_pypi_package(\"user_agents\")"
   ]
  },
  {
   "cell_type": "code",
   "execution_count": 31,
   "id": "78a86154-88d1-4de7-bdce-d8a771b430df",
   "metadata": {
    "execution": {
     "iopub.execute_input": "2022-05-19T11:42:05.432945Z",
     "iopub.status.busy": "2022-05-19T11:42:05.432672Z",
     "iopub.status.idle": "2022-05-19T11:42:40.925086Z",
     "shell.execute_reply": "2022-05-19T11:42:40.923905Z",
     "shell.execute_reply.started": "2022-05-19T11:42:05.432912Z"
    },
    "tags": []
   },
   "outputs": [
    {
     "data": {
      "application/vnd.jupyter.widget-view+json": {
       "model_id": "5767bfeac74c4e28bdfcac1d8e485644",
       "version_major": 2,
       "version_minor": 0
      },
      "text/plain": [
       "VBox()"
      ]
     },
     "metadata": {},
     "output_type": "display_data"
    },
    {
     "data": {
      "application/vnd.jupyter.widget-view+json": {
       "model_id": "",
       "version_major": 2,
       "version_minor": 0
      },
      "text/plain": [
       "FloatProgress(value=0.0, bar_style='info', description='Progress:', layout=Layout(height='25px', width='50%'),…"
      ]
     },
     "metadata": {},
     "output_type": "display_data"
    },
    {
     "name": "stdout",
     "output_type": "stream",
     "text": [
      "Row(artist='Martha Tilston', auth='Logged In', firstName='Colin', gender='M', itemInSession=50, lastName='Freeman', length=277.89016, level='paid', location='Bakersfield, CA', method='PUT', page='NextSong', registration=1538173362000, sessionId=29, song='Rockpools', status=200, ts=1538352117000, userAgent='Mozilla/5.0 (Windows NT 6.1; WOW64; rv:31.0) Gecko/20100101 Firefox/31.0', userId='30')"
     ]
    }
   ],
   "source": [
    "# Starter code\n",
    "\n",
    "from pyspark.sql import SparkSession\n",
    "\n",
    "#os.environ['PYSPARK_PYTHON'] = \"./pyspark_venv/bin/python\"\n",
    "# Create spark session\n",
    "spark = SparkSession \\\n",
    "    .builder \\\n",
    "    .appName(\"Sparkify\") \\\n",
    "    .getOrCreate()\n",
    "\n",
    "#    .config( \\\n",
    "#    \"spark.archives\",  \\\n",
    "#    \"pyspark_venv.tar.gz#environment\") \\\n",
    "\n",
    "# Read in full sparkify dataset\n",
    "#event_data = \"./mini_sparkify_event_data.json\"\n",
    "event_data = \"s3n://udacity-dsnd/sparkify/mini_sparkify_event_data.json\"\n",
    "#event_data = \"s3n://udacity-dsnd/sparkify/sparkify_event_data.json\"\n",
    "df = spark.read.json(event_data)\n",
    "df.persist()\n",
    "df.createOrReplaceTempView('df')\n",
    "df.head()"
   ]
  },
  {
   "cell_type": "code",
   "execution_count": 36,
   "id": "9b8453a6-d250-4cad-958d-1838e9806fa0",
   "metadata": {
    "execution": {
     "iopub.execute_input": "2022-05-19T11:54:22.648579Z",
     "iopub.status.busy": "2022-05-19T11:54:22.648260Z",
     "iopub.status.idle": "2022-05-19T11:54:23.429692Z",
     "shell.execute_reply": "2022-05-19T11:54:23.428696Z",
     "shell.execute_reply.started": "2022-05-19T11:54:22.648514Z"
    },
    "tags": []
   },
   "outputs": [
    {
     "data": {
      "application/vnd.jupyter.widget-view+json": {
       "model_id": "7ff03e6b214b456eabc26d0744cd7c2d",
       "version_major": 2,
       "version_minor": 0
      },
      "text/plain": [
       "VBox()"
      ]
     },
     "metadata": {},
     "output_type": "display_data"
    },
    {
     "data": {
      "application/vnd.jupyter.widget-view+json": {
       "model_id": "",
       "version_major": 2,
       "version_minor": 0
      },
      "text/plain": [
       "FloatProgress(value=0.0, bar_style='info', description='Progress:', layout=Layout(height='25px', width='50%'),…"
      ]
     },
     "metadata": {},
     "output_type": "display_data"
    },
    {
     "name": "stderr",
     "output_type": "stream",
     "text": [
      "An error was encountered:\n",
      "No module named 'matplotlib'\n",
      "Traceback (most recent call last):\n",
      "ModuleNotFoundError: No module named 'matplotlib'\n",
      "\n"
     ]
    }
   ],
   "source": [
    "from datetime import datetime\n",
    "import user_agents \n",
    "from pyspark.sql.types import IntegerType\n",
    "import matplotlib as plt\n",
    "import seaborn as sns"
   ]
  },
  {
   "cell_type": "code",
   "execution_count": 32,
   "id": "58fde272-14e7-4f3a-bc5f-c1891e97395d",
   "metadata": {
    "execution": {
     "iopub.execute_input": "2022-05-19T11:43:03.727019Z",
     "iopub.status.busy": "2022-05-19T11:43:03.726689Z",
     "iopub.status.idle": "2022-05-19T11:43:04.015424Z",
     "shell.execute_reply": "2022-05-19T11:43:04.014411Z",
     "shell.execute_reply.started": "2022-05-19T11:43:03.726966Z"
    },
    "tags": []
   },
   "outputs": [
    {
     "data": {
      "application/vnd.jupyter.widget-view+json": {
       "model_id": "b793e5e0808948db86391cfe222e4c4b",
       "version_major": 2,
       "version_minor": 0
      },
      "text/plain": [
       "VBox()"
      ]
     },
     "metadata": {},
     "output_type": "display_data"
    },
    {
     "data": {
      "application/vnd.jupyter.widget-view+json": {
       "model_id": "",
       "version_major": 2,
       "version_minor": 0
      },
      "text/plain": [
       "FloatProgress(value=0.0, bar_style='info', description='Progress:', layout=Layout(height='25px', width='50%'),…"
      ]
     },
     "metadata": {},
     "output_type": "display_data"
    },
    {
     "name": "stderr",
     "output_type": "stream",
     "text": [
      "An error was encountered:\n",
      "Pandas >= 0.23.2 must be installed; however, it was not found.\n",
      "Traceback (most recent call last):\n",
      "  File \"/mnt1/yarn/usercache/livy/appcache/application_1652955775613_0001/container_1652955775613_0001_01_000001/pyspark.zip/pyspark/sql/pandas/conversion.py\", line 62, in toPandas\n",
      "    require_minimum_pandas_version()\n",
      "  File \"/mnt1/yarn/usercache/livy/appcache/application_1652955775613_0001/container_1652955775613_0001_01_000001/pyspark.zip/pyspark/sql/pandas/utils.py\", line 34, in require_minimum_pandas_version\n",
      "    \"it was not found.\" % minimum_pandas_version) from raised_error\n",
      "ImportError: Pandas >= 0.23.2 must be installed; however, it was not found.\n",
      "\n"
     ]
    }
   ],
   "source": [
    "df.limit(10).toPandas()"
   ]
  },
  {
   "cell_type": "code",
   "execution_count": 4,
   "id": "88776768-7883-4fe0-935b-8a4261707822",
   "metadata": {
    "execution": {
     "iopub.execute_input": "2022-05-19T11:40:05.984869Z",
     "iopub.status.busy": "2022-05-19T11:40:05.984262Z",
     "iopub.status.idle": "2022-05-19T11:40:08.375604Z",
     "shell.execute_reply": "2022-05-19T11:40:08.374667Z",
     "shell.execute_reply.started": "2022-05-19T11:40:05.984762Z"
    }
   },
   "outputs": [
    {
     "data": {
      "application/vnd.jupyter.widget-view+json": {
       "model_id": "4faf8f7d25c9465d90c338d647a679f3",
       "version_major": 2,
       "version_minor": 0
      },
      "text/plain": [
       "VBox()"
      ]
     },
     "metadata": {},
     "output_type": "display_data"
    },
    {
     "data": {
      "application/vnd.jupyter.widget-view+json": {
       "model_id": "",
       "version_major": 2,
       "version_minor": 0
      },
      "text/plain": [
       "FloatProgress(value=0.0, bar_style='info', description='Progress:', layout=Layout(height='25px', width='50%'),…"
      ]
     },
     "metadata": {},
     "output_type": "display_data"
    },
    {
     "name": "stderr",
     "output_type": "stream",
     "text": [
      "An error was encountered:\n",
      "Table or view not found: df; line 3 pos 5;\n",
      "'Sort [count(1) DESC NULLS LAST], true\n",
      "+- 'Aggregate ['page], [unresolvedalias(count(1), None), 'page]\n",
      "   +- 'UnresolvedRelation [df], [], false\n",
      "\n",
      "Traceback (most recent call last):\n",
      "  File \"/mnt1/yarn/usercache/livy/appcache/application_1652955775613_0001/container_1652955775613_0001_01_000001/pyspark.zip/pyspark/sql/session.py\", line 723, in sql\n",
      "    return DataFrame(self._jsparkSession.sql(sqlQuery), self._wrapped)\n",
      "  File \"/mnt1/yarn/usercache/livy/appcache/application_1652955775613_0001/container_1652955775613_0001_01_000001/py4j-0.10.9.2-src.zip/py4j/java_gateway.py\", line 1310, in __call__\n",
      "    answer, self.gateway_client, self.target_id, self.name)\n",
      "  File \"/mnt1/yarn/usercache/livy/appcache/application_1652955775613_0001/container_1652955775613_0001_01_000001/pyspark.zip/pyspark/sql/utils.py\", line 117, in deco\n",
      "    raise converted from None\n",
      "pyspark.sql.utils.AnalysisException: Table or view not found: df; line 3 pos 5;\n",
      "'Sort [count(1) DESC NULLS LAST], true\n",
      "+- 'Aggregate ['page], [unresolvedalias(count(1), None), 'page]\n",
      "   +- 'UnresolvedRelation [df], [], false\n",
      "\n",
      "\n"
     ]
    }
   ],
   "source": [
    "spark.sql('''\n",
    "select count(*), page \n",
    "from df\n",
    "group by page\n",
    "order by count(*) desc\n",
    "''').toPandas()"
   ]
  },
  {
   "cell_type": "code",
   "execution_count": 5,
   "id": "1f897c87-8263-488e-b5a3-540136c2f418",
   "metadata": {
    "execution": {
     "iopub.execute_input": "2022-05-19T11:40:08.376936Z",
     "iopub.status.busy": "2022-05-19T11:40:08.376705Z",
     "iopub.status.idle": "2022-05-19T11:40:08.665587Z",
     "shell.execute_reply": "2022-05-19T11:40:08.664626Z",
     "shell.execute_reply.started": "2022-05-19T11:40:08.376904Z"
    }
   },
   "outputs": [
    {
     "data": {
      "application/vnd.jupyter.widget-view+json": {
       "model_id": "09c672e40d7949aa94fb6ef4bf6d5036",
       "version_major": 2,
       "version_minor": 0
      },
      "text/plain": [
       "VBox()"
      ]
     },
     "metadata": {},
     "output_type": "display_data"
    },
    {
     "data": {
      "application/vnd.jupyter.widget-view+json": {
       "model_id": "",
       "version_major": 2,
       "version_minor": 0
      },
      "text/plain": [
       "FloatProgress(value=0.0, bar_style='info', description='Progress:', layout=Layout(height='25px', width='50%'),…"
      ]
     },
     "metadata": {},
     "output_type": "display_data"
    },
    {
     "name": "stderr",
     "output_type": "stream",
     "text": [
      "An error was encountered:\n",
      "Table or view not found: df; line 3 pos 5;\n",
      "'Aggregate ['level], ['level, unresolvedalias(count(1), None)]\n",
      "+- 'UnresolvedRelation [df], [], false\n",
      "\n",
      "Traceback (most recent call last):\n",
      "  File \"/mnt1/yarn/usercache/livy/appcache/application_1652955775613_0001/container_1652955775613_0001_01_000001/pyspark.zip/pyspark/sql/session.py\", line 723, in sql\n",
      "    return DataFrame(self._jsparkSession.sql(sqlQuery), self._wrapped)\n",
      "  File \"/mnt1/yarn/usercache/livy/appcache/application_1652955775613_0001/container_1652955775613_0001_01_000001/py4j-0.10.9.2-src.zip/py4j/java_gateway.py\", line 1310, in __call__\n",
      "    answer, self.gateway_client, self.target_id, self.name)\n",
      "  File \"/mnt1/yarn/usercache/livy/appcache/application_1652955775613_0001/container_1652955775613_0001_01_000001/pyspark.zip/pyspark/sql/utils.py\", line 117, in deco\n",
      "    raise converted from None\n",
      "pyspark.sql.utils.AnalysisException: Table or view not found: df; line 3 pos 5;\n",
      "'Aggregate ['level], ['level, unresolvedalias(count(1), None)]\n",
      "+- 'UnresolvedRelation [df], [], false\n",
      "\n",
      "\n"
     ]
    }
   ],
   "source": [
    "spark.sql('''\n",
    "select level, count(*)\n",
    "from df\n",
    "group by level\n",
    "''').toPandas()"
   ]
  },
  {
   "cell_type": "code",
   "execution_count": 6,
   "id": "154be40d-4dc6-46af-9ea9-56a26093fb3f",
   "metadata": {
    "execution": {
     "iopub.execute_input": "2022-05-19T11:40:08.667429Z",
     "iopub.status.busy": "2022-05-19T11:40:08.667067Z",
     "iopub.status.idle": "2022-05-19T11:40:08.958496Z",
     "shell.execute_reply": "2022-05-19T11:40:08.957559Z",
     "shell.execute_reply.started": "2022-05-19T11:40:08.667378Z"
    }
   },
   "outputs": [
    {
     "data": {
      "application/vnd.jupyter.widget-view+json": {
       "model_id": "21d5817cf5a14af49676bae879a59733",
       "version_major": 2,
       "version_minor": 0
      },
      "text/plain": [
       "VBox()"
      ]
     },
     "metadata": {},
     "output_type": "display_data"
    },
    {
     "data": {
      "application/vnd.jupyter.widget-view+json": {
       "model_id": "",
       "version_major": 2,
       "version_minor": 0
      },
      "text/plain": [
       "FloatProgress(value=0.0, bar_style='info', description='Progress:', layout=Layout(height='25px', width='50%'),…"
      ]
     },
     "metadata": {},
     "output_type": "display_data"
    },
    {
     "name": "stderr",
     "output_type": "stream",
     "text": [
      "An error was encountered:\n",
      "Table or view not found: df; line 3 pos 5;\n",
      "'Project [unresolvedalias('count(distinct 'userId), None)]\n",
      "+- 'UnresolvedRelation [df], [], false\n",
      "\n",
      "Traceback (most recent call last):\n",
      "  File \"/mnt1/yarn/usercache/livy/appcache/application_1652955775613_0001/container_1652955775613_0001_01_000001/pyspark.zip/pyspark/sql/session.py\", line 723, in sql\n",
      "    return DataFrame(self._jsparkSession.sql(sqlQuery), self._wrapped)\n",
      "  File \"/mnt1/yarn/usercache/livy/appcache/application_1652955775613_0001/container_1652955775613_0001_01_000001/py4j-0.10.9.2-src.zip/py4j/java_gateway.py\", line 1310, in __call__\n",
      "    answer, self.gateway_client, self.target_id, self.name)\n",
      "  File \"/mnt1/yarn/usercache/livy/appcache/application_1652955775613_0001/container_1652955775613_0001_01_000001/pyspark.zip/pyspark/sql/utils.py\", line 117, in deco\n",
      "    raise converted from None\n",
      "pyspark.sql.utils.AnalysisException: Table or view not found: df; line 3 pos 5;\n",
      "'Project [unresolvedalias('count(distinct 'userId), None)]\n",
      "+- 'UnresolvedRelation [df], [], false\n",
      "\n",
      "\n"
     ]
    }
   ],
   "source": [
    "spark.sql('''\n",
    "select count(distinct userId)\n",
    "from df\n",
    "''').toPandas()"
   ]
  },
  {
   "cell_type": "code",
   "execution_count": 7,
   "id": "aadc4234-2e0e-4ede-8bb1-58d0aa4a48de",
   "metadata": {
    "execution": {
     "iopub.execute_input": "2022-05-19T11:40:08.959867Z",
     "iopub.status.busy": "2022-05-19T11:40:08.959631Z",
     "iopub.status.idle": "2022-05-19T11:40:09.269585Z",
     "shell.execute_reply": "2022-05-19T11:40:09.268632Z",
     "shell.execute_reply.started": "2022-05-19T11:40:08.959818Z"
    }
   },
   "outputs": [
    {
     "data": {
      "application/vnd.jupyter.widget-view+json": {
       "model_id": "ce39b19edb49460a82478ffe93725194",
       "version_major": 2,
       "version_minor": 0
      },
      "text/plain": [
       "VBox()"
      ]
     },
     "metadata": {},
     "output_type": "display_data"
    },
    {
     "data": {
      "application/vnd.jupyter.widget-view+json": {
       "model_id": "",
       "version_major": 2,
       "version_minor": 0
      },
      "text/plain": [
       "FloatProgress(value=0.0, bar_style='info', description='Progress:', layout=Layout(height='25px', width='50%'),…"
      ]
     },
     "metadata": {},
     "output_type": "display_data"
    },
    {
     "name": "stderr",
     "output_type": "stream",
     "text": [
      "An error was encountered:\n",
      "Table or view not found: df; line 3 pos 5;\n",
      "'Project [unresolvedalias('min('ts), None), unresolvedalias('max('ts), None)]\n",
      "+- 'UnresolvedRelation [df], [], false\n",
      "\n",
      "Traceback (most recent call last):\n",
      "  File \"/mnt1/yarn/usercache/livy/appcache/application_1652955775613_0001/container_1652955775613_0001_01_000001/pyspark.zip/pyspark/sql/session.py\", line 723, in sql\n",
      "    return DataFrame(self._jsparkSession.sql(sqlQuery), self._wrapped)\n",
      "  File \"/mnt1/yarn/usercache/livy/appcache/application_1652955775613_0001/container_1652955775613_0001_01_000001/py4j-0.10.9.2-src.zip/py4j/java_gateway.py\", line 1310, in __call__\n",
      "    answer, self.gateway_client, self.target_id, self.name)\n",
      "  File \"/mnt1/yarn/usercache/livy/appcache/application_1652955775613_0001/container_1652955775613_0001_01_000001/pyspark.zip/pyspark/sql/utils.py\", line 117, in deco\n",
      "    raise converted from None\n",
      "pyspark.sql.utils.AnalysisException: Table or view not found: df; line 3 pos 5;\n",
      "'Project [unresolvedalias('min('ts), None), unresolvedalias('max('ts), None)]\n",
      "+- 'UnresolvedRelation [df], [], false\n",
      "\n",
      "\n"
     ]
    }
   ],
   "source": [
    "spark.sql('''\n",
    "select min(ts), max(ts)\n",
    "from df\n",
    "''').toPandas()"
   ]
  },
  {
   "cell_type": "code",
   "execution_count": 8,
   "id": "5040cbbd-0bf2-4993-aa54-945ce293921a",
   "metadata": {
    "execution": {
     "iopub.execute_input": "2022-05-19T11:40:09.273244Z",
     "iopub.status.busy": "2022-05-19T11:40:09.273034Z",
     "iopub.status.idle": "2022-05-19T11:40:09.562830Z",
     "shell.execute_reply": "2022-05-19T11:40:09.561723Z",
     "shell.execute_reply.started": "2022-05-19T11:40:09.273213Z"
    }
   },
   "outputs": [
    {
     "data": {
      "application/vnd.jupyter.widget-view+json": {
       "model_id": "929f62abacba4164876932057a57c86a",
       "version_major": 2,
       "version_minor": 0
      },
      "text/plain": [
       "VBox()"
      ]
     },
     "metadata": {},
     "output_type": "display_data"
    },
    {
     "data": {
      "application/vnd.jupyter.widget-view+json": {
       "model_id": "",
       "version_major": 2,
       "version_minor": 0
      },
      "text/plain": [
       "FloatProgress(value=0.0, bar_style='info', description='Progress:', layout=Layout(height='25px', width='50%'),…"
      ]
     },
     "metadata": {},
     "output_type": "display_data"
    },
    {
     "name": "stderr",
     "output_type": "stream",
     "text": [
      "An error was encountered:\n",
      "Table or view not found: df; line 3 pos 5;\n",
      "'Sort ['sessionId ASC NULLS FIRST, 'itemInSession ASC NULLS FIRST], true\n",
      "+- 'Project [*]\n",
      "   +- 'Filter ('userId = 30)\n",
      "      +- 'UnresolvedRelation [df], [], false\n",
      "\n",
      "Traceback (most recent call last):\n",
      "  File \"/mnt1/yarn/usercache/livy/appcache/application_1652955775613_0001/container_1652955775613_0001_01_000001/pyspark.zip/pyspark/sql/session.py\", line 723, in sql\n",
      "    return DataFrame(self._jsparkSession.sql(sqlQuery), self._wrapped)\n",
      "  File \"/mnt1/yarn/usercache/livy/appcache/application_1652955775613_0001/container_1652955775613_0001_01_000001/py4j-0.10.9.2-src.zip/py4j/java_gateway.py\", line 1310, in __call__\n",
      "    answer, self.gateway_client, self.target_id, self.name)\n",
      "  File \"/mnt1/yarn/usercache/livy/appcache/application_1652955775613_0001/container_1652955775613_0001_01_000001/pyspark.zip/pyspark/sql/utils.py\", line 117, in deco\n",
      "    raise converted from None\n",
      "pyspark.sql.utils.AnalysisException: Table or view not found: df; line 3 pos 5;\n",
      "'Sort ['sessionId ASC NULLS FIRST, 'itemInSession ASC NULLS FIRST], true\n",
      "+- 'Project [*]\n",
      "   +- 'Filter ('userId = 30)\n",
      "      +- 'UnresolvedRelation [df], [], false\n",
      "\n",
      "\n"
     ]
    }
   ],
   "source": [
    "spark.sql('''\n",
    "select *\n",
    "from df\n",
    "where userId = 30\n",
    "order by sessionId, itemInSession\n",
    "''').toPandas()"
   ]
  },
  {
   "cell_type": "code",
   "execution_count": 9,
   "id": "2e1d0d37-5def-455e-a882-70c35bba4674",
   "metadata": {
    "execution": {
     "iopub.execute_input": "2022-05-19T11:40:09.564866Z",
     "iopub.status.busy": "2022-05-19T11:40:09.564616Z",
     "iopub.status.idle": "2022-05-19T11:40:09.854853Z",
     "shell.execute_reply": "2022-05-19T11:40:09.853899Z",
     "shell.execute_reply.started": "2022-05-19T11:40:09.564834Z"
    }
   },
   "outputs": [
    {
     "data": {
      "application/vnd.jupyter.widget-view+json": {
       "model_id": "09d5c2b91da44bafac54dc060142d778",
       "version_major": 2,
       "version_minor": 0
      },
      "text/plain": [
       "VBox()"
      ]
     },
     "metadata": {},
     "output_type": "display_data"
    },
    {
     "data": {
      "application/vnd.jupyter.widget-view+json": {
       "model_id": "",
       "version_major": 2,
       "version_minor": 0
      },
      "text/plain": [
       "FloatProgress(value=0.0, bar_style='info', description='Progress:', layout=Layout(height='25px', width='50%'),…"
      ]
     },
     "metadata": {},
     "output_type": "display_data"
    },
    {
     "name": "stderr",
     "output_type": "stream",
     "text": [
      "An error was encountered:\n",
      "Table or view not found: df; line 3 pos 5;\n",
      "'Sort ['sessionId ASC NULLS FIRST, 'itemInSession ASC NULLS FIRST], true\n",
      "+- 'Project [*]\n",
      "   +- 'Filter (((1 = 1) AND ('userId = 2)) AND (('sessionId = 1) AND NOT ('page = NextSong)))\n",
      "      +- 'UnresolvedRelation [df], [], false\n",
      "\n",
      "Traceback (most recent call last):\n",
      "  File \"/mnt1/yarn/usercache/livy/appcache/application_1652955775613_0001/container_1652955775613_0001_01_000001/pyspark.zip/pyspark/sql/session.py\", line 723, in sql\n",
      "    return DataFrame(self._jsparkSession.sql(sqlQuery), self._wrapped)\n",
      "  File \"/mnt1/yarn/usercache/livy/appcache/application_1652955775613_0001/container_1652955775613_0001_01_000001/py4j-0.10.9.2-src.zip/py4j/java_gateway.py\", line 1310, in __call__\n",
      "    answer, self.gateway_client, self.target_id, self.name)\n",
      "  File \"/mnt1/yarn/usercache/livy/appcache/application_1652955775613_0001/container_1652955775613_0001_01_000001/pyspark.zip/pyspark/sql/utils.py\", line 117, in deco\n",
      "    raise converted from None\n",
      "pyspark.sql.utils.AnalysisException: Table or view not found: df; line 3 pos 5;\n",
      "'Sort ['sessionId ASC NULLS FIRST, 'itemInSession ASC NULLS FIRST], true\n",
      "+- 'Project [*]\n",
      "   +- 'Filter (((1 = 1) AND ('userId = 2)) AND (('sessionId = 1) AND NOT ('page = NextSong)))\n",
      "      +- 'UnresolvedRelation [df], [], false\n",
      "\n",
      "\n"
     ]
    }
   ],
   "source": [
    "spark.sql('''\n",
    "select *\n",
    "from df\n",
    "where 1=1 \n",
    "--and page IN ('Downgrade')\n",
    "and userId = 2\n",
    "and sessionId = 1\n",
    "and page != 'NextSong'\n",
    "order by sessionId, itemInSession\n",
    "''').limit(10).toPandas()"
   ]
  },
  {
   "cell_type": "code",
   "execution_count": 10,
   "id": "a7cb35e3-98b4-4222-96a5-79c0ca1dc95e",
   "metadata": {
    "execution": {
     "iopub.execute_input": "2022-05-19T11:40:09.856192Z",
     "iopub.status.busy": "2022-05-19T11:40:09.855973Z",
     "iopub.status.idle": "2022-05-19T11:40:10.659804Z",
     "shell.execute_reply": "2022-05-19T11:40:10.658837Z",
     "shell.execute_reply.started": "2022-05-19T11:40:09.856162Z"
    }
   },
   "outputs": [
    {
     "data": {
      "application/vnd.jupyter.widget-view+json": {
       "model_id": "e13d2850b4b143568822d966e832f578",
       "version_major": 2,
       "version_minor": 0
      },
      "text/plain": [
       "VBox()"
      ]
     },
     "metadata": {},
     "output_type": "display_data"
    },
    {
     "data": {
      "application/vnd.jupyter.widget-view+json": {
       "model_id": "",
       "version_major": 2,
       "version_minor": 0
      },
      "text/plain": [
       "FloatProgress(value=0.0, bar_style='info', description='Progress:', layout=Layout(height='25px', width='50%'),…"
      ]
     },
     "metadata": {},
     "output_type": "display_data"
    },
    {
     "name": "stderr",
     "output_type": "stream",
     "text": [
      "An error was encountered:\n",
      "Table or view not found: df; line 13 pos 9;\n",
      "'WithCTE\n",
      ":- 'CTERelationDef 0\n",
      ":  +- 'SubqueryAlias surrounding_page\n",
      ":     +- 'Project [row_number() windowspecdefinition('userId, 'sessionId ASC NULLS FIRST, 'itemInSession ASC NULLS FIRST, specifiedwindowframe(RowFrame, unboundedpreceding$(), currentrow$())) AS row_number#3, 'LAG('page, 2) windowspecdefinition('userId, 'sessionId ASC NULLS FIRST, 'itemInSession ASC NULLS FIRST, unspecifiedframe$()) AS before_before_page#4, 'LAG('level, 2) windowspecdefinition('userId, 'sessionId ASC NULLS FIRST, 'itemInSession ASC NULLS FIRST, unspecifiedframe$()) AS before_before_level#5, 'LAG('page, 1) windowspecdefinition('userId, 'sessionId ASC NULLS FIRST, 'itemInSession ASC NULLS FIRST, unspecifiedframe$()) AS before_page#6, 'LAG('level, 1) windowspecdefinition('userId, 'sessionId ASC NULLS FIRST, 'itemInSession ASC NULLS FIRST, unspecifiedframe$()) AS before_level#7, 'LEAD('page, 1) windowspecdefinition('userId, 'sessionId ASC NULLS FIRST, 'itemInSession ASC NULLS FIRST, unspecifiedframe$()) AS after_page#8, 'LEAD('level, 1) windowspecdefinition('userId, 'sessionId ASC NULLS FIRST, 'itemInSession ASC NULLS FIRST, unspecifiedframe$()) AS after_level#9, 'LEAD('page, 2) windowspecdefinition('userId, 'sessionId ASC NULLS FIRST, 'itemInSession ASC NULLS FIRST, unspecifiedframe$()) AS after_after_page#10, 'LEAD('level, 2) windowspecdefinition('userId, 'sessionId ASC NULLS FIRST, 'itemInSession ASC NULLS FIRST, unspecifiedframe$()) AS after_after_level#11, ArrayBuffer(df).*]\n",
      ":        +- 'Filter (1 = 1)\n",
      ":           +- 'UnresolvedRelation [df], [], false\n",
      "+- 'Sort [count(1) DESC NULLS LAST], true\n",
      "   +- 'Aggregate ['before_before_page, 'before_before_level, 'before_page, 'before_level, 'page, 'level, 'after_page, 'after_level, 'after_after_page, 'after_after_level], [unresolvedalias(count(1), None), 'before_before_page, 'before_before_level, 'before_page, 'before_level, 'page, 'level, 'after_page, 'after_level, 'after_after_page, 'after_after_level]\n",
      "      +- 'Filter 'page IN (Cancel)\n",
      "         +- 'SubqueryAlias surrounding_page\n",
      "            +- 'CTERelationRef 0, false\n",
      "\n",
      "Traceback (most recent call last):\n",
      "  File \"/mnt1/yarn/usercache/livy/appcache/application_1652955775613_0001/container_1652955775613_0001_01_000001/pyspark.zip/pyspark/sql/session.py\", line 723, in sql\n",
      "    return DataFrame(self._jsparkSession.sql(sqlQuery), self._wrapped)\n",
      "  File \"/mnt1/yarn/usercache/livy/appcache/application_1652955775613_0001/container_1652955775613_0001_01_000001/py4j-0.10.9.2-src.zip/py4j/java_gateway.py\", line 1310, in __call__\n",
      "    answer, self.gateway_client, self.target_id, self.name)\n",
      "  File \"/mnt1/yarn/usercache/livy/appcache/application_1652955775613_0001/container_1652955775613_0001_01_000001/pyspark.zip/pyspark/sql/utils.py\", line 117, in deco\n",
      "    raise converted from None\n",
      "pyspark.sql.utils.AnalysisException: Table or view not found: df; line 13 pos 9;\n",
      "'WithCTE\n",
      ":- 'CTERelationDef 0\n",
      ":  +- 'SubqueryAlias surrounding_page\n",
      ":     +- 'Project [row_number() windowspecdefinition('userId, 'sessionId ASC NULLS FIRST, 'itemInSession ASC NULLS FIRST, specifiedwindowframe(RowFrame, unboundedpreceding$(), currentrow$())) AS row_number#3, 'LAG('page, 2) windowspecdefinition('userId, 'sessionId ASC NULLS FIRST, 'itemInSession ASC NULLS FIRST, unspecifiedframe$()) AS before_before_page#4, 'LAG('level, 2) windowspecdefinition('userId, 'sessionId ASC NULLS FIRST, 'itemInSession ASC NULLS FIRST, unspecifiedframe$()) AS before_before_level#5, 'LAG('page, 1) windowspecdefinition('userId, 'sessionId ASC NULLS FIRST, 'itemInSession ASC NULLS FIRST, unspecifiedframe$()) AS before_page#6, 'LAG('level, 1) windowspecdefinition('userId, 'sessionId ASC NULLS FIRST, 'itemInSession ASC NULLS FIRST, unspecifiedframe$()) AS before_level#7, 'LEAD('page, 1) windowspecdefinition('userId, 'sessionId ASC NULLS FIRST, 'itemInSession ASC NULLS FIRST, unspecifiedframe$()) AS after_page#8, 'LEAD('level, 1) windowspecdefinition('userId, 'sessionId ASC NULLS FIRST, 'itemInSession ASC NULLS FIRST, unspecifiedframe$()) AS after_level#9, 'LEAD('page, 2) windowspecdefinition('userId, 'sessionId ASC NULLS FIRST, 'itemInSession ASC NULLS FIRST, unspecifiedframe$()) AS after_after_page#10, 'LEAD('level, 2) windowspecdefinition('userId, 'sessionId ASC NULLS FIRST, 'itemInSession ASC NULLS FIRST, unspecifiedframe$()) AS after_after_level#11, ArrayBuffer(df).*]\n",
      ":        +- 'Filter (1 = 1)\n",
      ":           +- 'UnresolvedRelation [df], [], false\n",
      "+- 'Sort [count(1) DESC NULLS LAST], true\n",
      "   +- 'Aggregate ['before_before_page, 'before_before_level, 'before_page, 'before_level, 'page, 'level, 'after_page, 'after_level, 'after_after_page, 'after_after_level], [unresolvedalias(count(1), None), 'before_before_page, 'before_before_level, 'before_page, 'before_level, 'page, 'level, 'after_page, 'after_level, 'after_after_page, 'after_after_level]\n",
      "      +- 'Filter 'page IN (Cancel)\n",
      "         +- 'SubqueryAlias surrounding_page\n",
      "            +- 'CTERelationRef 0, false\n",
      "\n",
      "\n"
     ]
    }
   ],
   "source": [
    "spark.sql('''\n",
    "    WITH surrounding_page AS (\n",
    "    select row_number() over user_sessions as row_number\n",
    "        , LAG(page, 2) over user_sessions as before_before_page\n",
    "        , LAG(level, 2) over user_sessions as before_before_level\n",
    "        , LAG(page, 1) over user_sessions as before_page\n",
    "        , LAG(level, 1) over user_sessions as before_level\n",
    "        , LEAD(page, 1) over user_sessions as after_page\n",
    "        , LEAD(level, 1) over user_sessions as after_level\n",
    "        , LEAD(page, 2) over user_sessions as after_after_page\n",
    "        , LEAD(level, 2) over user_sessions as after_after_level\n",
    "        , df.*\n",
    "    from df\n",
    "    where 1=1 \n",
    "    --and page IN ('Submit Downgrade')\n",
    "    --and userId = 2\n",
    "    --and sessionId = 1\n",
    "    --and page != 'NextSong'\n",
    "    window user_sessions as (partition by userId order by sessionId, itemInSession)\n",
    "    \n",
    ")\n",
    "\n",
    "select count(*)\n",
    "    , before_before_page\n",
    "    , before_before_level\n",
    "    , before_page\n",
    "    , before_level\n",
    "    , page\n",
    "    , level\n",
    "    , after_page\n",
    "    , after_level\n",
    "    , after_after_page\n",
    "    , after_after_level\n",
    "from surrounding_page \n",
    "where page IN (\n",
    "--'Submit Downgrade'\n",
    "--'Cancellation Confirmation'\n",
    "'Cancel'\n",
    ")\n",
    "group by before_before_page\n",
    "    , before_before_level\n",
    "    , before_page\n",
    "    , before_level\n",
    "    , page\n",
    "    , level\n",
    "    , after_page\n",
    "    , after_level\n",
    "    , after_after_page\n",
    "    , after_after_level\n",
    "order by count(*) desc\n",
    "''').limit(20).toPandas()"
   ]
  },
  {
   "cell_type": "code",
   "execution_count": 11,
   "id": "c95bf6ad-34b5-4ddf-95d5-12e53fbea76f",
   "metadata": {
    "execution": {
     "iopub.execute_input": "2022-05-19T11:40:10.661184Z",
     "iopub.status.busy": "2022-05-19T11:40:10.660949Z",
     "iopub.status.idle": "2022-05-19T11:40:10.957007Z",
     "shell.execute_reply": "2022-05-19T11:40:10.955951Z",
     "shell.execute_reply.started": "2022-05-19T11:40:10.661153Z"
    }
   },
   "outputs": [
    {
     "data": {
      "application/vnd.jupyter.widget-view+json": {
       "model_id": "2e05717ab2ad45c7a9c36e80cab9047f",
       "version_major": 2,
       "version_minor": 0
      },
      "text/plain": [
       "VBox()"
      ]
     },
     "metadata": {},
     "output_type": "display_data"
    },
    {
     "data": {
      "application/vnd.jupyter.widget-view+json": {
       "model_id": "",
       "version_major": 2,
       "version_minor": 0
      },
      "text/plain": [
       "FloatProgress(value=0.0, bar_style='info', description='Progress:', layout=Layout(height='25px', width='50%'),…"
      ]
     },
     "metadata": {},
     "output_type": "display_data"
    },
    {
     "name": "stderr",
     "output_type": "stream",
     "text": [
      "An error was encountered:\n",
      "Table or view not found: df; line 3 pos 5;\n",
      "'Sort [count(1) DESC NULLS LAST], true\n",
      "+- 'Aggregate ['userId], ['userId, unresolvedalias(count(1), None)]\n",
      "   +- 'Filter ((1 = 1) AND 'page IN (Submit Downgrade))\n",
      "      +- 'UnresolvedRelation [df], [], false\n",
      "\n",
      "Traceback (most recent call last):\n",
      "  File \"/mnt1/yarn/usercache/livy/appcache/application_1652955775613_0001/container_1652955775613_0001_01_000001/pyspark.zip/pyspark/sql/session.py\", line 723, in sql\n",
      "    return DataFrame(self._jsparkSession.sql(sqlQuery), self._wrapped)\n",
      "  File \"/mnt1/yarn/usercache/livy/appcache/application_1652955775613_0001/container_1652955775613_0001_01_000001/py4j-0.10.9.2-src.zip/py4j/java_gateway.py\", line 1310, in __call__\n",
      "    answer, self.gateway_client, self.target_id, self.name)\n",
      "  File \"/mnt1/yarn/usercache/livy/appcache/application_1652955775613_0001/container_1652955775613_0001_01_000001/pyspark.zip/pyspark/sql/utils.py\", line 117, in deco\n",
      "    raise converted from None\n",
      "pyspark.sql.utils.AnalysisException: Table or view not found: df; line 3 pos 5;\n",
      "'Sort [count(1) DESC NULLS LAST], true\n",
      "+- 'Aggregate ['userId], ['userId, unresolvedalias(count(1), None)]\n",
      "   +- 'Filter ((1 = 1) AND 'page IN (Submit Downgrade))\n",
      "      +- 'UnresolvedRelation [df], [], false\n",
      "\n",
      "\n"
     ]
    }
   ],
   "source": [
    "spark.sql('''\n",
    "select userId, count(*)\n",
    "from df\n",
    "where 1=1 \n",
    "and page IN ('Submit Downgrade')\n",
    "group by userId\n",
    "order by count(*) desc\n",
    "--and userId = 2\n",
    "--and sessionId = 1\n",
    "--and page != 'NextSong'\n",
    "--order by sessionId, itemInSession\n",
    "''').limit(10).toPandas()"
   ]
  },
  {
   "cell_type": "code",
   "execution_count": 12,
   "id": "124ad220-0440-43e5-8590-cf847cef9ac9",
   "metadata": {
    "execution": {
     "iopub.execute_input": "2022-05-19T11:40:10.958648Z",
     "iopub.status.busy": "2022-05-19T11:40:10.958324Z",
     "iopub.status.idle": "2022-05-19T11:40:11.247348Z",
     "shell.execute_reply": "2022-05-19T11:40:11.246299Z",
     "shell.execute_reply.started": "2022-05-19T11:40:10.958599Z"
    }
   },
   "outputs": [
    {
     "data": {
      "application/vnd.jupyter.widget-view+json": {
       "model_id": "ff015d3ef69e4ab4ac3bc90d8ce3aeaf",
       "version_major": 2,
       "version_minor": 0
      },
      "text/plain": [
       "VBox()"
      ]
     },
     "metadata": {},
     "output_type": "display_data"
    },
    {
     "data": {
      "application/vnd.jupyter.widget-view+json": {
       "model_id": "",
       "version_major": 2,
       "version_minor": 0
      },
      "text/plain": [
       "FloatProgress(value=0.0, bar_style='info', description='Progress:', layout=Layout(height='25px', width='50%'),…"
      ]
     },
     "metadata": {},
     "output_type": "display_data"
    },
    {
     "name": "stderr",
     "output_type": "stream",
     "text": [
      "An error was encountered:\n",
      "Table or view not found: df; line 3 pos 5;\n",
      "'Project [*]\n",
      "+- 'Filter (((1 = 1) AND 'page IN (Submit Downgrade)) AND ('userId = 140))\n",
      "   +- 'UnresolvedRelation [df], [], false\n",
      "\n",
      "Traceback (most recent call last):\n",
      "  File \"/mnt1/yarn/usercache/livy/appcache/application_1652955775613_0001/container_1652955775613_0001_01_000001/pyspark.zip/pyspark/sql/session.py\", line 723, in sql\n",
      "    return DataFrame(self._jsparkSession.sql(sqlQuery), self._wrapped)\n",
      "  File \"/mnt1/yarn/usercache/livy/appcache/application_1652955775613_0001/container_1652955775613_0001_01_000001/py4j-0.10.9.2-src.zip/py4j/java_gateway.py\", line 1310, in __call__\n",
      "    answer, self.gateway_client, self.target_id, self.name)\n",
      "  File \"/mnt1/yarn/usercache/livy/appcache/application_1652955775613_0001/container_1652955775613_0001_01_000001/pyspark.zip/pyspark/sql/utils.py\", line 117, in deco\n",
      "    raise converted from None\n",
      "pyspark.sql.utils.AnalysisException: Table or view not found: df; line 3 pos 5;\n",
      "'Project [*]\n",
      "+- 'Filter (((1 = 1) AND 'page IN (Submit Downgrade)) AND ('userId = 140))\n",
      "   +- 'UnresolvedRelation [df], [], false\n",
      "\n",
      "\n"
     ]
    }
   ],
   "source": [
    "spark.sql('''\n",
    "select *\n",
    "from df\n",
    "where 1=1 \n",
    "and page IN ('Submit Downgrade')\n",
    "and userId = 140\n",
    "--and sessionId = 1\n",
    "--and page != 'NextSong'\n",
    "--order by sessionId, itemInSession\n",
    "''').limit(10).toPandas()"
   ]
  },
  {
   "cell_type": "code",
   "execution_count": 13,
   "id": "4d224e31-cf54-461f-a4af-7a5368b38578",
   "metadata": {
    "execution": {
     "iopub.execute_input": "2022-05-19T11:40:11.249286Z",
     "iopub.status.busy": "2022-05-19T11:40:11.248939Z",
     "iopub.status.idle": "2022-05-19T11:40:11.540158Z",
     "shell.execute_reply": "2022-05-19T11:40:11.539053Z",
     "shell.execute_reply.started": "2022-05-19T11:40:11.249234Z"
    }
   },
   "outputs": [
    {
     "data": {
      "application/vnd.jupyter.widget-view+json": {
       "model_id": "1e9666563b6c4884aa64fd9dcee795d6",
       "version_major": 2,
       "version_minor": 0
      },
      "text/plain": [
       "VBox()"
      ]
     },
     "metadata": {},
     "output_type": "display_data"
    },
    {
     "data": {
      "application/vnd.jupyter.widget-view+json": {
       "model_id": "",
       "version_major": 2,
       "version_minor": 0
      },
      "text/plain": [
       "FloatProgress(value=0.0, bar_style='info', description='Progress:', layout=Layout(height='25px', width='50%'),…"
      ]
     },
     "metadata": {},
     "output_type": "display_data"
    },
    {
     "name": "stderr",
     "output_type": "stream",
     "text": [
      "An error was encountered:\n",
      "Table or view not found: df; line 3 pos 5;\n",
      "'Sort ['sessionId ASC NULLS FIRST, 'itemInSession ASC NULLS FIRST], true\n",
      "+- 'Project [*]\n",
      "   +- 'Filter (((1 = 1) AND ('userId = 140)) AND (('sessionId = 1643) AND (('itemInSession >= 153) AND ('itemInSession <= 170))))\n",
      "      +- 'UnresolvedRelation [df], [], false\n",
      "\n",
      "Traceback (most recent call last):\n",
      "  File \"/mnt1/yarn/usercache/livy/appcache/application_1652955775613_0001/container_1652955775613_0001_01_000001/pyspark.zip/pyspark/sql/session.py\", line 723, in sql\n",
      "    return DataFrame(self._jsparkSession.sql(sqlQuery), self._wrapped)\n",
      "  File \"/mnt1/yarn/usercache/livy/appcache/application_1652955775613_0001/container_1652955775613_0001_01_000001/py4j-0.10.9.2-src.zip/py4j/java_gateway.py\", line 1310, in __call__\n",
      "    answer, self.gateway_client, self.target_id, self.name)\n",
      "  File \"/mnt1/yarn/usercache/livy/appcache/application_1652955775613_0001/container_1652955775613_0001_01_000001/pyspark.zip/pyspark/sql/utils.py\", line 117, in deco\n",
      "    raise converted from None\n",
      "pyspark.sql.utils.AnalysisException: Table or view not found: df; line 3 pos 5;\n",
      "'Sort ['sessionId ASC NULLS FIRST, 'itemInSession ASC NULLS FIRST], true\n",
      "+- 'Project [*]\n",
      "   +- 'Filter (((1 = 1) AND ('userId = 140)) AND (('sessionId = 1643) AND (('itemInSession >= 153) AND ('itemInSession <= 170))))\n",
      "      +- 'UnresolvedRelation [df], [], false\n",
      "\n",
      "\n"
     ]
    }
   ],
   "source": [
    "spark.sql('''\n",
    "select *\n",
    "from df\n",
    "where 1=1 \n",
    "--and page IN ('Submit Downgrade')\n",
    "and userId = 140\n",
    "and sessionId = 1643\n",
    "and itemInSession between 153 and 170\n",
    "--and page != 'NextSong'\n",
    "order by sessionId, itemInSession\n",
    "''').limit(20).toPandas()"
   ]
  },
  {
   "cell_type": "code",
   "execution_count": 14,
   "id": "21f01ff1-79dd-4d0e-bed6-be450f6fd8e2",
   "metadata": {
    "execution": {
     "iopub.execute_input": "2022-05-19T11:40:11.542058Z",
     "iopub.status.busy": "2022-05-19T11:40:11.541730Z",
     "iopub.status.idle": "2022-05-19T11:40:11.837241Z",
     "shell.execute_reply": "2022-05-19T11:40:11.836315Z",
     "shell.execute_reply.started": "2022-05-19T11:40:11.542008Z"
    }
   },
   "outputs": [
    {
     "data": {
      "application/vnd.jupyter.widget-view+json": {
       "model_id": "6231954bd6ef429aa44f7ce1f2c2994c",
       "version_major": 2,
       "version_minor": 0
      },
      "text/plain": [
       "VBox()"
      ]
     },
     "metadata": {},
     "output_type": "display_data"
    },
    {
     "data": {
      "application/vnd.jupyter.widget-view+json": {
       "model_id": "",
       "version_major": 2,
       "version_minor": 0
      },
      "text/plain": [
       "FloatProgress(value=0.0, bar_style='info', description='Progress:', layout=Layout(height='25px', width='50%'),…"
      ]
     },
     "metadata": {},
     "output_type": "display_data"
    },
    {
     "name": "stderr",
     "output_type": "stream",
     "text": [
      "An error was encountered:\n",
      "Table or view not found: df; line 3 pos 5;\n",
      "'Sort [count(1) DESC NULLS LAST], true\n",
      "+- 'Aggregate ['userAgent], ['userAgent, unresolvedalias(count(1), None)]\n",
      "   +- 'Filter (1 = 1)\n",
      "      +- 'UnresolvedRelation [df], [], false\n",
      "\n",
      "Traceback (most recent call last):\n",
      "  File \"/mnt1/yarn/usercache/livy/appcache/application_1652955775613_0001/container_1652955775613_0001_01_000001/pyspark.zip/pyspark/sql/session.py\", line 723, in sql\n",
      "    return DataFrame(self._jsparkSession.sql(sqlQuery), self._wrapped)\n",
      "  File \"/mnt1/yarn/usercache/livy/appcache/application_1652955775613_0001/container_1652955775613_0001_01_000001/py4j-0.10.9.2-src.zip/py4j/java_gateway.py\", line 1310, in __call__\n",
      "    answer, self.gateway_client, self.target_id, self.name)\n",
      "  File \"/mnt1/yarn/usercache/livy/appcache/application_1652955775613_0001/container_1652955775613_0001_01_000001/pyspark.zip/pyspark/sql/utils.py\", line 117, in deco\n",
      "    raise converted from None\n",
      "pyspark.sql.utils.AnalysisException: Table or view not found: df; line 3 pos 5;\n",
      "'Sort [count(1) DESC NULLS LAST], true\n",
      "+- 'Aggregate ['userAgent], ['userAgent, unresolvedalias(count(1), None)]\n",
      "   +- 'Filter (1 = 1)\n",
      "      +- 'UnresolvedRelation [df], [], false\n",
      "\n",
      "\n"
     ]
    }
   ],
   "source": [
    "spark.sql('''\n",
    "select userAgent, count(*)\n",
    "from df\n",
    "where 1=1 \n",
    "group by userAgent\n",
    "order by count(*) desc\n",
    "''').limit(20).collect()"
   ]
  },
  {
   "cell_type": "code",
   "execution_count": 15,
   "id": "54d55c22-8bed-4632-b1dd-f031254b6ed0",
   "metadata": {
    "execution": {
     "iopub.execute_input": "2022-05-19T11:40:11.838700Z",
     "iopub.status.busy": "2022-05-19T11:40:11.838439Z",
     "iopub.status.idle": "2022-05-19T11:40:11.939591Z",
     "shell.execute_reply": "2022-05-19T11:40:11.938769Z",
     "shell.execute_reply.started": "2022-05-19T11:40:11.838668Z"
    }
   },
   "outputs": [
    {
     "data": {
      "application/vnd.jupyter.widget-view+json": {
       "model_id": "a402e12a8b104b718242477e2d460ed5",
       "version_major": 2,
       "version_minor": 0
      },
      "text/plain": [
       "VBox()"
      ]
     },
     "metadata": {},
     "output_type": "display_data"
    },
    {
     "data": {
      "application/vnd.jupyter.widget-view+json": {
       "model_id": "",
       "version_major": 2,
       "version_minor": 0
      },
      "text/plain": [
       "FloatProgress(value=0.0, bar_style='info', description='Progress:', layout=Layout(height='25px', width='50%'),…"
      ]
     },
     "metadata": {},
     "output_type": "display_data"
    },
    {
     "name": "stderr",
     "output_type": "stream",
     "text": [
      "An error was encountered:\n",
      "name 'parse' is not defined\n",
      "Traceback (most recent call last):\n",
      "NameError: name 'parse' is not defined\n",
      "\n"
     ]
    }
   ],
   "source": [
    "result = parse(\"Mozilla/5.0 (Windows NT 6.1; WOW64) AppleWebKit/537.36 (KHTML, like Gecko) Chrome/36.0.1985.143 Safari/537.36\").browser.family\n",
    "type(result)"
   ]
  },
  {
   "cell_type": "code",
   "execution_count": 16,
   "id": "88154c12-3780-4f7d-a745-9a962fcc83d5",
   "metadata": {
    "execution": {
     "iopub.execute_input": "2022-05-19T11:40:11.940936Z",
     "iopub.status.busy": "2022-05-19T11:40:11.940675Z",
     "iopub.status.idle": "2022-05-19T11:40:12.024363Z",
     "shell.execute_reply": "2022-05-19T11:40:12.023361Z",
     "shell.execute_reply.started": "2022-05-19T11:40:11.940904Z"
    }
   },
   "outputs": [
    {
     "data": {
      "application/vnd.jupyter.widget-view+json": {
       "model_id": "e799f4fa79ad4682863c7b8141017481",
       "version_major": 2,
       "version_minor": 0
      },
      "text/plain": [
       "VBox()"
      ]
     },
     "metadata": {},
     "output_type": "display_data"
    },
    {
     "data": {
      "application/vnd.jupyter.widget-view+json": {
       "model_id": "",
       "version_major": 2,
       "version_minor": 0
      },
      "text/plain": [
       "FloatProgress(value=0.0, bar_style='info', description='Progress:', layout=Layout(height='25px', width='50%'),…"
      ]
     },
     "metadata": {},
     "output_type": "display_data"
    },
    {
     "name": "stderr",
     "output_type": "stream",
     "text": [
      "An error was encountered:\n",
      "name 'IntegerType' is not defined\n",
      "Traceback (most recent call last):\n",
      "NameError: name 'IntegerType' is not defined\n",
      "\n"
     ]
    }
   ],
   "source": [
    "spark.udf.register(\"get_hour\", lambda x: int(datetime.utcfromtimestamp(x / 1000.0).hour), IntegerType())\n",
    "spark.udf.register(\"get_day_of_month\", lambda x: int(datetime.utcfromtimestamp(x / 1000.0).day), IntegerType())"
   ]
  },
  {
   "cell_type": "code",
   "execution_count": 17,
   "id": "012ddd3e-30d2-4e69-9dea-413441bdb16e",
   "metadata": {
    "execution": {
     "iopub.execute_input": "2022-05-19T11:40:12.026250Z",
     "iopub.status.busy": "2022-05-19T11:40:12.025925Z",
     "iopub.status.idle": "2022-05-19T11:40:12.312095Z",
     "shell.execute_reply": "2022-05-19T11:40:12.310953Z",
     "shell.execute_reply.started": "2022-05-19T11:40:12.026201Z"
    }
   },
   "outputs": [
    {
     "data": {
      "application/vnd.jupyter.widget-view+json": {
       "model_id": "d4e43039e33943679e478825ccf250f3",
       "version_major": 2,
       "version_minor": 0
      },
      "text/plain": [
       "VBox()"
      ]
     },
     "metadata": {},
     "output_type": "display_data"
    },
    {
     "data": {
      "application/vnd.jupyter.widget-view+json": {
       "model_id": "",
       "version_major": 2,
       "version_minor": 0
      },
      "text/plain": [
       "FloatProgress(value=0.0, bar_style='info', description='Progress:', layout=Layout(height='25px', width='50%'),…"
      ]
     },
     "metadata": {},
     "output_type": "display_data"
    },
    {
     "name": "stdout",
     "output_type": "stream",
     "text": [
      "<function <lambda> at 0x7fae4d528d40>"
     ]
    }
   ],
   "source": [
    "spark.udf.register(\"browser_from_agent\", lambda x: user_agents.parse(x).browser.family)\n",
    "spark.udf.register(\"os_from_agent\", lambda x: user_agents.parse(x).os.family)\n",
    "spark.udf.register(\"device_from_agent\", lambda x: user_agents.parse(x).device.family)\n",
    "spark.udf.register(\"mobile_from_agent\", lambda x: user_agents.parse(x).is_mobile)\n",
    "spark.udf.register(\"tablet_from_agent\", lambda x: user_agents.parse(x).is_tablet)\n",
    "spark.udf.register(\"pc_from_agent\", lambda x: user_agents.parse(x).is_pc)"
   ]
  },
  {
   "cell_type": "code",
   "execution_count": 18,
   "id": "9c02313b-12a4-4245-8f03-38d46808ed54",
   "metadata": {
    "execution": {
     "iopub.execute_input": "2022-05-19T11:40:12.314184Z",
     "iopub.status.busy": "2022-05-19T11:40:12.313857Z",
     "iopub.status.idle": "2022-05-19T11:40:12.627154Z",
     "shell.execute_reply": "2022-05-19T11:40:12.626101Z",
     "shell.execute_reply.started": "2022-05-19T11:40:12.314132Z"
    }
   },
   "outputs": [
    {
     "data": {
      "application/vnd.jupyter.widget-view+json": {
       "model_id": "049f0311f79441daadc2a5567831e6c0",
       "version_major": 2,
       "version_minor": 0
      },
      "text/plain": [
       "VBox()"
      ]
     },
     "metadata": {},
     "output_type": "display_data"
    },
    {
     "data": {
      "application/vnd.jupyter.widget-view+json": {
       "model_id": "",
       "version_major": 2,
       "version_minor": 0
      },
      "text/plain": [
       "FloatProgress(value=0.0, bar_style='info', description='Progress:', layout=Layout(height='25px', width='50%'),…"
      ]
     },
     "metadata": {},
     "output_type": "display_data"
    },
    {
     "name": "stderr",
     "output_type": "stream",
     "text": [
      "An error was encountered:\n",
      "Table or view not found: df; line 9 pos 5;\n",
      "'Sort [count(1) DESC NULLS LAST], true\n",
      "+- 'Aggregate ['browser, 'os, 'device, 'mobile, 'tablet, 'pc], [unresolvedalias(count(1), None), 'browser_from_agent('userAgent) AS browser#19, 'os_from_agent('userAgent) AS os#20, 'device_from_agent('userAgent) AS device#21, 'mobile_from_agent('userAgent) AS mobile#22, 'tablet_from_agent('userAgent) AS tablet#23, 'pc_from_agent('userAgent) AS pc#24]\n",
      "   +- 'Filter isnotnull('userAgent)\n",
      "      +- 'UnresolvedRelation [df], [], false\n",
      "\n",
      "Traceback (most recent call last):\n",
      "  File \"/mnt1/yarn/usercache/livy/appcache/application_1652955775613_0001/container_1652955775613_0001_01_000001/pyspark.zip/pyspark/sql/session.py\", line 723, in sql\n",
      "    return DataFrame(self._jsparkSession.sql(sqlQuery), self._wrapped)\n",
      "  File \"/mnt1/yarn/usercache/livy/appcache/application_1652955775613_0001/container_1652955775613_0001_01_000001/py4j-0.10.9.2-src.zip/py4j/java_gateway.py\", line 1310, in __call__\n",
      "    answer, self.gateway_client, self.target_id, self.name)\n",
      "  File \"/mnt1/yarn/usercache/livy/appcache/application_1652955775613_0001/container_1652955775613_0001_01_000001/pyspark.zip/pyspark/sql/utils.py\", line 117, in deco\n",
      "    raise converted from None\n",
      "pyspark.sql.utils.AnalysisException: Table or view not found: df; line 9 pos 5;\n",
      "'Sort [count(1) DESC NULLS LAST], true\n",
      "+- 'Aggregate ['browser, 'os, 'device, 'mobile, 'tablet, 'pc], [unresolvedalias(count(1), None), 'browser_from_agent('userAgent) AS browser#19, 'os_from_agent('userAgent) AS os#20, 'device_from_agent('userAgent) AS device#21, 'mobile_from_agent('userAgent) AS mobile#22, 'tablet_from_agent('userAgent) AS tablet#23, 'pc_from_agent('userAgent) AS pc#24]\n",
      "   +- 'Filter isnotnull('userAgent)\n",
      "      +- 'UnresolvedRelation [df], [], false\n",
      "\n",
      "\n"
     ]
    }
   ],
   "source": [
    "spark.sql('''\n",
    "select count(*)\n",
    "    , browser_from_agent(userAgent) as browser\n",
    "    , os_from_agent(userAgent) as os\n",
    "    , device_from_agent(userAgent) as device\n",
    "    , mobile_from_agent(userAgent) as mobile\n",
    "    , tablet_from_agent(userAgent) as tablet\n",
    "    , pc_from_agent(userAgent) as pc\n",
    "from df \n",
    "where userAgent is not null\n",
    "group by browser, os, device, mobile, tablet, pc\n",
    "order by count(*) desc\n",
    "''').toPandas()"
   ]
  },
  {
   "cell_type": "code",
   "execution_count": 19,
   "id": "fed7b3a3-a8c5-43e1-b951-d297e4077fa0",
   "metadata": {
    "execution": {
     "iopub.execute_input": "2022-05-19T11:40:12.629518Z",
     "iopub.status.busy": "2022-05-19T11:40:12.629287Z",
     "iopub.status.idle": "2022-05-19T11:40:12.936274Z",
     "shell.execute_reply": "2022-05-19T11:40:12.935107Z",
     "shell.execute_reply.started": "2022-05-19T11:40:12.629487Z"
    }
   },
   "outputs": [
    {
     "data": {
      "application/vnd.jupyter.widget-view+json": {
       "model_id": "84cee711929141548bf06905a9b0af25",
       "version_major": 2,
       "version_minor": 0
      },
      "text/plain": [
       "VBox()"
      ]
     },
     "metadata": {},
     "output_type": "display_data"
    },
    {
     "data": {
      "application/vnd.jupyter.widget-view+json": {
       "model_id": "",
       "version_major": 2,
       "version_minor": 0
      },
      "text/plain": [
       "FloatProgress(value=0.0, bar_style='info', description='Progress:', layout=Layout(height='25px', width='50%'),…"
      ]
     },
     "metadata": {},
     "output_type": "display_data"
    },
    {
     "name": "stderr",
     "output_type": "stream",
     "text": [
      "An error was encountered:\n",
      "Undefined function: 'get_hour'. This function is neither a registered temporary function nor a permanent function registered in the database 'default'.; line 2 pos 7\n",
      "Traceback (most recent call last):\n",
      "  File \"/mnt1/yarn/usercache/livy/appcache/application_1652955775613_0001/container_1652955775613_0001_01_000001/pyspark.zip/pyspark/sql/session.py\", line 723, in sql\n",
      "    return DataFrame(self._jsparkSession.sql(sqlQuery), self._wrapped)\n",
      "  File \"/mnt1/yarn/usercache/livy/appcache/application_1652955775613_0001/container_1652955775613_0001_01_000001/py4j-0.10.9.2-src.zip/py4j/java_gateway.py\", line 1310, in __call__\n",
      "    answer, self.gateway_client, self.target_id, self.name)\n",
      "  File \"/mnt1/yarn/usercache/livy/appcache/application_1652955775613_0001/container_1652955775613_0001_01_000001/pyspark.zip/pyspark/sql/utils.py\", line 117, in deco\n",
      "    raise converted from None\n",
      "pyspark.sql.utils.AnalysisException: Undefined function: 'get_hour'. This function is neither a registered temporary function nor a permanent function registered in the database 'default'.; line 2 pos 7\n",
      "\n"
     ]
    }
   ],
   "source": [
    "hourly_usage = spark.sql('''\n",
    "select get_hour(ts) as hour, count(*) as interaction_count from df\n",
    "group by hour\n",
    "order by hour\n",
    "''').toPandas()"
   ]
  },
  {
   "cell_type": "code",
   "execution_count": 20,
   "id": "22c983e3-ad8c-4a83-a108-d0d64c13ae74",
   "metadata": {
    "execution": {
     "iopub.execute_input": "2022-05-19T11:40:12.938035Z",
     "iopub.status.busy": "2022-05-19T11:40:12.937757Z",
     "iopub.status.idle": "2022-05-19T11:40:13.045212Z",
     "shell.execute_reply": "2022-05-19T11:40:13.043176Z",
     "shell.execute_reply.started": "2022-05-19T11:40:12.938002Z"
    }
   },
   "outputs": [
    {
     "data": {
      "application/vnd.jupyter.widget-view+json": {
       "model_id": "9ca41ed3581c4b2888e0d62a95d48c92",
       "version_major": 2,
       "version_minor": 0
      },
      "text/plain": [
       "VBox()"
      ]
     },
     "metadata": {},
     "output_type": "display_data"
    },
    {
     "data": {
      "application/vnd.jupyter.widget-view+json": {
       "model_id": "",
       "version_major": 2,
       "version_minor": 0
      },
      "text/plain": [
       "FloatProgress(value=0.0, bar_style='info', description='Progress:', layout=Layout(height='25px', width='50%'),…"
      ]
     },
     "metadata": {},
     "output_type": "display_data"
    },
    {
     "name": "stderr",
     "output_type": "stream",
     "text": [
      "An error was encountered:\n",
      "name 'sns' is not defined\n",
      "Traceback (most recent call last):\n",
      "NameError: name 'sns' is not defined\n",
      "\n"
     ]
    }
   ],
   "source": [
    "sns.barplot(data=hourly_usage, x=\"hour\", y=\"interaction_count\")"
   ]
  },
  {
   "cell_type": "code",
   "execution_count": 21,
   "id": "7c631c0f-597c-4d7a-b00e-f2433c398ab9",
   "metadata": {
    "execution": {
     "iopub.execute_input": "2022-05-19T11:40:13.048956Z",
     "iopub.status.busy": "2022-05-19T11:40:13.047661Z",
     "iopub.status.idle": "2022-05-19T11:40:13.357873Z",
     "shell.execute_reply": "2022-05-19T11:40:13.356871Z",
     "shell.execute_reply.started": "2022-05-19T11:40:13.048897Z"
    }
   },
   "outputs": [
    {
     "data": {
      "application/vnd.jupyter.widget-view+json": {
       "model_id": "2af03189fb24489384a3b0bf8584e949",
       "version_major": 2,
       "version_minor": 0
      },
      "text/plain": [
       "VBox()"
      ]
     },
     "metadata": {},
     "output_type": "display_data"
    },
    {
     "data": {
      "application/vnd.jupyter.widget-view+json": {
       "model_id": "",
       "version_major": 2,
       "version_minor": 0
      },
      "text/plain": [
       "FloatProgress(value=0.0, bar_style='info', description='Progress:', layout=Layout(height='25px', width='50%'),…"
      ]
     },
     "metadata": {},
     "output_type": "display_data"
    },
    {
     "name": "stderr",
     "output_type": "stream",
     "text": [
      "An error was encountered:\n",
      "Undefined function: 'get_day_of_month'. This function is neither a registered temporary function nor a permanent function registered in the database 'default'.; line 2 pos 7\n",
      "Traceback (most recent call last):\n",
      "  File \"/mnt1/yarn/usercache/livy/appcache/application_1652955775613_0001/container_1652955775613_0001_01_000001/pyspark.zip/pyspark/sql/session.py\", line 723, in sql\n",
      "    return DataFrame(self._jsparkSession.sql(sqlQuery), self._wrapped)\n",
      "  File \"/mnt1/yarn/usercache/livy/appcache/application_1652955775613_0001/container_1652955775613_0001_01_000001/py4j-0.10.9.2-src.zip/py4j/java_gateway.py\", line 1310, in __call__\n",
      "    answer, self.gateway_client, self.target_id, self.name)\n",
      "  File \"/mnt1/yarn/usercache/livy/appcache/application_1652955775613_0001/container_1652955775613_0001_01_000001/pyspark.zip/pyspark/sql/utils.py\", line 117, in deco\n",
      "    raise converted from None\n",
      "pyspark.sql.utils.AnalysisException: Undefined function: 'get_day_of_month'. This function is neither a registered temporary function nor a permanent function registered in the database 'default'.; line 2 pos 7\n",
      "\n"
     ]
    }
   ],
   "source": [
    "monthly_usage = spark.sql('''\n",
    "select get_day_of_month(ts) as day, sum(case when page IN('Submit Downgrade', 'Cancellation Confirmation') then 1 else 0 end) as churn, count(*) as interaction_count from df\n",
    "group by day\n",
    "order by day\n",
    "''').toPandas()"
   ]
  },
  {
   "cell_type": "code",
   "execution_count": 22,
   "id": "64e38c8b-48a9-4363-8304-4f6ef9f605d2",
   "metadata": {
    "execution": {
     "iopub.execute_input": "2022-05-19T11:40:13.359187Z",
     "iopub.status.busy": "2022-05-19T11:40:13.358956Z",
     "iopub.status.idle": "2022-05-19T11:40:13.456722Z",
     "shell.execute_reply": "2022-05-19T11:40:13.455467Z",
     "shell.execute_reply.started": "2022-05-19T11:40:13.359156Z"
    }
   },
   "outputs": [
    {
     "data": {
      "application/vnd.jupyter.widget-view+json": {
       "model_id": "2c1e9de6b6624ca19097417660f6b25d",
       "version_major": 2,
       "version_minor": 0
      },
      "text/plain": [
       "VBox()"
      ]
     },
     "metadata": {},
     "output_type": "display_data"
    },
    {
     "data": {
      "application/vnd.jupyter.widget-view+json": {
       "model_id": "",
       "version_major": 2,
       "version_minor": 0
      },
      "text/plain": [
       "FloatProgress(value=0.0, bar_style='info', description='Progress:', layout=Layout(height='25px', width='50%'),…"
      ]
     },
     "metadata": {},
     "output_type": "display_data"
    },
    {
     "name": "stderr",
     "output_type": "stream",
     "text": [
      "An error was encountered:\n",
      "name 'monthly_usage' is not defined\n",
      "Traceback (most recent call last):\n",
      "NameError: name 'monthly_usage' is not defined\n",
      "\n"
     ]
    }
   ],
   "source": [
    "monthly_usage"
   ]
  },
  {
   "cell_type": "code",
   "execution_count": 23,
   "id": "95d3d692-4968-4465-9887-4193edd4668f",
   "metadata": {
    "execution": {
     "iopub.execute_input": "2022-05-19T11:40:13.461453Z",
     "iopub.status.busy": "2022-05-19T11:40:13.461176Z",
     "iopub.status.idle": "2022-05-19T11:40:13.563706Z",
     "shell.execute_reply": "2022-05-19T11:40:13.551856Z",
     "shell.execute_reply.started": "2022-05-19T11:40:13.461412Z"
    }
   },
   "outputs": [
    {
     "data": {
      "application/vnd.jupyter.widget-view+json": {
       "model_id": "0b82747760ef4bbf9776ff256421057b",
       "version_major": 2,
       "version_minor": 0
      },
      "text/plain": [
       "VBox()"
      ]
     },
     "metadata": {},
     "output_type": "display_data"
    },
    {
     "data": {
      "application/vnd.jupyter.widget-view+json": {
       "model_id": "",
       "version_major": 2,
       "version_minor": 0
      },
      "text/plain": [
       "FloatProgress(value=0.0, bar_style='info', description='Progress:', layout=Layout(height='25px', width='50%'),…"
      ]
     },
     "metadata": {},
     "output_type": "display_data"
    },
    {
     "name": "stderr",
     "output_type": "stream",
     "text": [
      "An error was encountered:\n",
      "name 'sns' is not defined\n",
      "Traceback (most recent call last):\n",
      "NameError: name 'sns' is not defined\n",
      "\n"
     ]
    }
   ],
   "source": [
    "sns.barplot(data=monthly_usage, x=\"day\", y=\"interaction_count\")"
   ]
  },
  {
   "cell_type": "code",
   "execution_count": 24,
   "id": "1db1b13b-0232-465c-b40a-202c9f1a7c27",
   "metadata": {
    "execution": {
     "iopub.execute_input": "2022-05-19T11:40:13.567716Z",
     "iopub.status.busy": "2022-05-19T11:40:13.567384Z",
     "iopub.status.idle": "2022-05-19T11:40:13.874509Z",
     "shell.execute_reply": "2022-05-19T11:40:13.873591Z",
     "shell.execute_reply.started": "2022-05-19T11:40:13.567662Z"
    }
   },
   "outputs": [
    {
     "data": {
      "application/vnd.jupyter.widget-view+json": {
       "model_id": "2f9bfb5d8e2345b7bfbcb1374f96caf0",
       "version_major": 2,
       "version_minor": 0
      },
      "text/plain": [
       "VBox()"
      ]
     },
     "metadata": {},
     "output_type": "display_data"
    },
    {
     "data": {
      "application/vnd.jupyter.widget-view+json": {
       "model_id": "",
       "version_major": 2,
       "version_minor": 0
      },
      "text/plain": [
       "FloatProgress(value=0.0, bar_style='info', description='Progress:', layout=Layout(height='25px', width='50%'),…"
      ]
     },
     "metadata": {},
     "output_type": "display_data"
    },
    {
     "name": "stderr",
     "output_type": "stream",
     "text": [
      "An error was encountered:\n",
      "Table or view not found: df; line 5 pos 13;\n",
      "'WithCTE\n",
      ":- 'CTERelationDef 1\n",
      ":  +- 'SubqueryAlias cancel_flagged_df\n",
      ":     +- 'Project [ArrayBuffer(df).*, CASE WHEN ('page = Cancellation Confirmation) THEN 1 ELSE 0 END AS cancel_event#33]\n",
      ":        +- 'Filter (isnotnull('userId) AND isnotnull('sessionId))\n",
      ":           +- 'UnresolvedRelation [df], [], false\n",
      "+- 'Project ['auth, 'gender, 'itemInSession, 'length, 'level, 'page, 'registration, 'sessionId, 'status, 'ts, 'userAgent, 'userId, 'sum('cancel_event) windowspecdefinition('userId, specifiedwindowframe(RowFrame, unboundedpreceding$(), unboundedfollowing$())) AS churn#32]\n",
      "   +- 'SubqueryAlias cancel_flagged_df\n",
      "      +- 'CTERelationRef 1, false\n",
      "\n",
      "Traceback (most recent call last):\n",
      "  File \"/mnt1/yarn/usercache/livy/appcache/application_1652955775613_0001/container_1652955775613_0001_01_000001/pyspark.zip/pyspark/sql/session.py\", line 723, in sql\n",
      "    return DataFrame(self._jsparkSession.sql(sqlQuery), self._wrapped)\n",
      "  File \"/mnt1/yarn/usercache/livy/appcache/application_1652955775613_0001/container_1652955775613_0001_01_000001/py4j-0.10.9.2-src.zip/py4j/java_gateway.py\", line 1310, in __call__\n",
      "    answer, self.gateway_client, self.target_id, self.name)\n",
      "  File \"/mnt1/yarn/usercache/livy/appcache/application_1652955775613_0001/container_1652955775613_0001_01_000001/pyspark.zip/pyspark/sql/utils.py\", line 117, in deco\n",
      "    raise converted from None\n",
      "pyspark.sql.utils.AnalysisException: Table or view not found: df; line 5 pos 13;\n",
      "'WithCTE\n",
      ":- 'CTERelationDef 1\n",
      ":  +- 'SubqueryAlias cancel_flagged_df\n",
      ":     +- 'Project [ArrayBuffer(df).*, CASE WHEN ('page = Cancellation Confirmation) THEN 1 ELSE 0 END AS cancel_event#33]\n",
      ":        +- 'Filter (isnotnull('userId) AND isnotnull('sessionId))\n",
      ":           +- 'UnresolvedRelation [df], [], false\n",
      "+- 'Project ['auth, 'gender, 'itemInSession, 'length, 'level, 'page, 'registration, 'sessionId, 'status, 'ts, 'userAgent, 'userId, 'sum('cancel_event) windowspecdefinition('userId, specifiedwindowframe(RowFrame, unboundedpreceding$(), unboundedfollowing$())) AS churn#32]\n",
      "   +- 'SubqueryAlias cancel_flagged_df\n",
      "      +- 'CTERelationRef 1, false\n",
      "\n",
      "\n"
     ]
    }
   ],
   "source": [
    "dfc = spark.sql('''\n",
    "with cancel_flagged_df as (\n",
    "    select df.*\n",
    "        , case page when 'Cancellation Confirmation' then 1 else 0 end as cancel_event \n",
    "        from df\n",
    "        where userId is not null and sessionId is not null\n",
    ")\n",
    "\n",
    "select auth, gender, itemInSession, length, level, page, registration, sessionId, status, ts, userAgent, userId\n",
    "    , sum(cancel_event) over (partition by userId rows between unbounded preceding and unbounded following) as churn\n",
    "    from cancel_flagged_df\n",
    "''')"
   ]
  },
  {
   "cell_type": "code",
   "execution_count": 25,
   "id": "164b4d1c-c2c1-45bc-b952-95376f7f9c48",
   "metadata": {
    "execution": {
     "iopub.execute_input": "2022-05-19T11:40:13.875978Z",
     "iopub.status.busy": "2022-05-19T11:40:13.875732Z",
     "iopub.status.idle": "2022-05-19T11:40:13.963258Z",
     "shell.execute_reply": "2022-05-19T11:40:13.962187Z",
     "shell.execute_reply.started": "2022-05-19T11:40:13.875946Z"
    }
   },
   "outputs": [
    {
     "data": {
      "application/vnd.jupyter.widget-view+json": {
       "model_id": "931d6f9d6d364046bdbac67a1c448219",
       "version_major": 2,
       "version_minor": 0
      },
      "text/plain": [
       "VBox()"
      ]
     },
     "metadata": {},
     "output_type": "display_data"
    },
    {
     "data": {
      "application/vnd.jupyter.widget-view+json": {
       "model_id": "",
       "version_major": 2,
       "version_minor": 0
      },
      "text/plain": [
       "FloatProgress(value=0.0, bar_style='info', description='Progress:', layout=Layout(height='25px', width='50%'),…"
      ]
     },
     "metadata": {},
     "output_type": "display_data"
    },
    {
     "name": "stderr",
     "output_type": "stream",
     "text": [
      "An error was encountered:\n",
      "name 'dfc' is not defined\n",
      "Traceback (most recent call last):\n",
      "NameError: name 'dfc' is not defined\n",
      "\n"
     ]
    }
   ],
   "source": [
    "dfc.persist()\n",
    "dfc.createOrReplaceTempView('dfc')"
   ]
  },
  {
   "cell_type": "code",
   "execution_count": 26,
   "id": "510d03e5-4a3c-4ff6-91f8-f33a929949cb",
   "metadata": {
    "execution": {
     "iopub.execute_input": "2022-05-19T11:40:13.964459Z",
     "iopub.status.busy": "2022-05-19T11:40:13.964256Z",
     "iopub.status.idle": "2022-05-19T11:40:14.082914Z",
     "shell.execute_reply": "2022-05-19T11:40:14.081854Z",
     "shell.execute_reply.started": "2022-05-19T11:40:13.964430Z"
    }
   },
   "outputs": [
    {
     "data": {
      "application/vnd.jupyter.widget-view+json": {
       "model_id": "85a6de3748f644f59f5c435dbd00bb0c",
       "version_major": 2,
       "version_minor": 0
      },
      "text/plain": [
       "VBox()"
      ]
     },
     "metadata": {},
     "output_type": "display_data"
    },
    {
     "data": {
      "application/vnd.jupyter.widget-view+json": {
       "model_id": "",
       "version_major": 2,
       "version_minor": 0
      },
      "text/plain": [
       "FloatProgress(value=0.0, bar_style='info', description='Progress:', layout=Layout(height='25px', width='50%'),…"
      ]
     },
     "metadata": {},
     "output_type": "display_data"
    },
    {
     "name": "stderr",
     "output_type": "stream",
     "text": [
      "An error was encountered:\n",
      "Table or view not found: dfc; line 3 pos 5;\n",
      "'Aggregate ['churn], ['churn, unresolvedalias('count(distinct 'userId), None)]\n",
      "+- 'UnresolvedRelation [dfc], [], false\n",
      "\n",
      "Traceback (most recent call last):\n",
      "  File \"/mnt1/yarn/usercache/livy/appcache/application_1652955775613_0001/container_1652955775613_0001_01_000001/pyspark.zip/pyspark/sql/session.py\", line 723, in sql\n",
      "    return DataFrame(self._jsparkSession.sql(sqlQuery), self._wrapped)\n",
      "  File \"/mnt1/yarn/usercache/livy/appcache/application_1652955775613_0001/container_1652955775613_0001_01_000001/py4j-0.10.9.2-src.zip/py4j/java_gateway.py\", line 1310, in __call__\n",
      "    answer, self.gateway_client, self.target_id, self.name)\n",
      "  File \"/mnt1/yarn/usercache/livy/appcache/application_1652955775613_0001/container_1652955775613_0001_01_000001/pyspark.zip/pyspark/sql/utils.py\", line 117, in deco\n",
      "    raise converted from None\n",
      "pyspark.sql.utils.AnalysisException: Table or view not found: dfc; line 3 pos 5;\n",
      "'Aggregate ['churn], ['churn, unresolvedalias('count(distinct 'userId), None)]\n",
      "+- 'UnresolvedRelation [dfc], [], false\n",
      "\n",
      "\n"
     ]
    }
   ],
   "source": [
    "spark.sql('''\n",
    "select churn, count(distinct userId) \n",
    "from dfc\n",
    "group by churn\n",
    "''').toPandas()"
   ]
  },
  {
   "cell_type": "code",
   "execution_count": 27,
   "id": "ce8f5ad0-5b96-4999-91e9-fd655d5ac354",
   "metadata": {
    "execution": {
     "iopub.execute_input": "2022-05-19T11:40:14.084960Z",
     "iopub.status.busy": "2022-05-19T11:40:14.084630Z",
     "iopub.status.idle": "2022-05-19T11:40:14.403205Z",
     "shell.execute_reply": "2022-05-19T11:40:14.402136Z",
     "shell.execute_reply.started": "2022-05-19T11:40:14.084909Z"
    }
   },
   "outputs": [
    {
     "data": {
      "application/vnd.jupyter.widget-view+json": {
       "model_id": "8497553c64cd471b968baf01a1cf6bbc",
       "version_major": 2,
       "version_minor": 0
      },
      "text/plain": [
       "VBox()"
      ]
     },
     "metadata": {},
     "output_type": "display_data"
    },
    {
     "data": {
      "application/vnd.jupyter.widget-view+json": {
       "model_id": "",
       "version_major": 2,
       "version_minor": 0
      },
      "text/plain": [
       "FloatProgress(value=0.0, bar_style='info', description='Progress:', layout=Layout(height='25px', width='50%'),…"
      ]
     },
     "metadata": {},
     "output_type": "display_data"
    },
    {
     "name": "stderr",
     "output_type": "stream",
     "text": [
      "An error was encountered:\n",
      "Table or view not found: dfc; line 4 pos 9;\n",
      "'WithCTE\n",
      ":- 'CTERelationDef 2\n",
      ":  +- 'SubqueryAlias page_activity\n",
      ":     +- 'Sort ['page ASC NULLS FIRST, 'churn ASC NULLS FIRST], true\n",
      ":        +- 'Aggregate ['page, 'churn], ['page, 'churn, count(1) AS interaction_count#35L]\n",
      ":           +- 'UnresolvedRelation [dfc], [], false\n",
      "+- 'Sort ['page ASC NULLS FIRST, 'churn ASC NULLS FIRST], true\n",
      "   +- 'Project ['page, 'churn, (('interaction_count / 'sum('interaction_count) windowspecdefinition('churn, unspecifiedframe$())) * 100) AS percent#34]\n",
      "      +- 'Filter NOT ('page = NextSong)\n",
      "         +- 'SubqueryAlias page_activity\n",
      "            +- 'CTERelationRef 2, false\n",
      "\n",
      "Traceback (most recent call last):\n",
      "  File \"/mnt1/yarn/usercache/livy/appcache/application_1652955775613_0001/container_1652955775613_0001_01_000001/pyspark.zip/pyspark/sql/session.py\", line 723, in sql\n",
      "    return DataFrame(self._jsparkSession.sql(sqlQuery), self._wrapped)\n",
      "  File \"/mnt1/yarn/usercache/livy/appcache/application_1652955775613_0001/container_1652955775613_0001_01_000001/py4j-0.10.9.2-src.zip/py4j/java_gateway.py\", line 1310, in __call__\n",
      "    answer, self.gateway_client, self.target_id, self.name)\n",
      "  File \"/mnt1/yarn/usercache/livy/appcache/application_1652955775613_0001/container_1652955775613_0001_01_000001/pyspark.zip/pyspark/sql/utils.py\", line 117, in deco\n",
      "    raise converted from None\n",
      "pyspark.sql.utils.AnalysisException: Table or view not found: dfc; line 4 pos 9;\n",
      "'WithCTE\n",
      ":- 'CTERelationDef 2\n",
      ":  +- 'SubqueryAlias page_activity\n",
      ":     +- 'Sort ['page ASC NULLS FIRST, 'churn ASC NULLS FIRST], true\n",
      ":        +- 'Aggregate ['page, 'churn], ['page, 'churn, count(1) AS interaction_count#35L]\n",
      ":           +- 'UnresolvedRelation [dfc], [], false\n",
      "+- 'Sort ['page ASC NULLS FIRST, 'churn ASC NULLS FIRST], true\n",
      "   +- 'Project ['page, 'churn, (('interaction_count / 'sum('interaction_count) windowspecdefinition('churn, unspecifiedframe$())) * 100) AS percent#34]\n",
      "      +- 'Filter NOT ('page = NextSong)\n",
      "         +- 'SubqueryAlias page_activity\n",
      "            +- 'CTERelationRef 2, false\n",
      "\n",
      "\n"
     ]
    }
   ],
   "source": [
    "page_use_by_churn = spark.sql('''\n",
    "with page_activity as (\n",
    "    select page, churn, count(*) as interaction_count\n",
    "    from dfc\n",
    "    group by page, churn\n",
    "    order by page, churn\n",
    ")\n",
    "\n",
    "select page, churn, interaction_count / sum(interaction_count)  over (partition by churn) * 100 as percent\n",
    "from page_activity\n",
    "where page != 'NextSong'\n",
    "order by page, churn\n",
    "''').toPandas().pivot(index='page', columns='churn', values='percent')"
   ]
  },
  {
   "cell_type": "code",
   "execution_count": 28,
   "id": "7f82ae74-5cb3-4b01-ad96-adaac432fe0b",
   "metadata": {
    "execution": {
     "iopub.execute_input": "2022-05-19T11:40:14.405458Z",
     "iopub.status.busy": "2022-05-19T11:40:14.404881Z",
     "iopub.status.idle": "2022-05-19T11:40:14.491668Z",
     "shell.execute_reply": "2022-05-19T11:40:14.490661Z",
     "shell.execute_reply.started": "2022-05-19T11:40:14.405406Z"
    }
   },
   "outputs": [
    {
     "data": {
      "application/vnd.jupyter.widget-view+json": {
       "model_id": "0ad1f60feb8147f1b5e72eb8ef699f4c",
       "version_major": 2,
       "version_minor": 0
      },
      "text/plain": [
       "VBox()"
      ]
     },
     "metadata": {},
     "output_type": "display_data"
    },
    {
     "data": {
      "application/vnd.jupyter.widget-view+json": {
       "model_id": "",
       "version_major": 2,
       "version_minor": 0
      },
      "text/plain": [
       "FloatProgress(value=0.0, bar_style='info', description='Progress:', layout=Layout(height='25px', width='50%'),…"
      ]
     },
     "metadata": {},
     "output_type": "display_data"
    },
    {
     "name": "stderr",
     "output_type": "stream",
     "text": [
      "An error was encountered:\n",
      "name 'page_use_by_churn' is not defined\n",
      "Traceback (most recent call last):\n",
      "NameError: name 'page_use_by_churn' is not defined\n",
      "\n"
     ]
    }
   ],
   "source": [
    "page_use_by_churn.plot.barh(figsize=(8,12));"
   ]
  },
  {
   "cell_type": "code",
   "execution_count": 29,
   "id": "5ce37011-4d96-4340-9d40-e2baa00f2664",
   "metadata": {
    "execution": {
     "iopub.execute_input": "2022-05-19T11:40:14.493775Z",
     "iopub.status.busy": "2022-05-19T11:40:14.493189Z",
     "iopub.status.idle": "2022-05-19T11:40:14.608015Z",
     "shell.execute_reply": "2022-05-19T11:40:14.606304Z",
     "shell.execute_reply.started": "2022-05-19T11:40:14.493720Z"
    }
   },
   "outputs": [
    {
     "data": {
      "application/vnd.jupyter.widget-view+json": {
       "model_id": "9c001139b65f4df5b0416057fa7b9151",
       "version_major": 2,
       "version_minor": 0
      },
      "text/plain": [
       "VBox()"
      ]
     },
     "metadata": {},
     "output_type": "display_data"
    },
    {
     "data": {
      "application/vnd.jupyter.widget-view+json": {
       "model_id": "",
       "version_major": 2,
       "version_minor": 0
      },
      "text/plain": [
       "FloatProgress(value=0.0, bar_style='info', description='Progress:', layout=Layout(height='25px', width='50%'),…"
      ]
     },
     "metadata": {},
     "output_type": "display_data"
    },
    {
     "name": "stderr",
     "output_type": "stream",
     "text": [
      "An error was encountered:\n",
      "name 'dfc' is not defined\n",
      "Traceback (most recent call last):\n",
      "NameError: name 'dfc' is not defined\n",
      "\n"
     ]
    }
   ],
   "source": [
    "dfc.printSchema()"
   ]
  },
  {
   "cell_type": "code",
   "execution_count": 30,
   "id": "7463f980-9f41-4d42-8a15-4a9a46ff277f",
   "metadata": {
    "execution": {
     "iopub.execute_input": "2022-05-19T11:40:14.610230Z",
     "iopub.status.busy": "2022-05-19T11:40:14.609596Z",
     "iopub.status.idle": "2022-05-19T11:40:14.938460Z",
     "shell.execute_reply": "2022-05-19T11:40:14.937244Z",
     "shell.execute_reply.started": "2022-05-19T11:40:14.610178Z"
    }
   },
   "outputs": [
    {
     "data": {
      "application/vnd.jupyter.widget-view+json": {
       "model_id": "f90464d470a24c0a8fd1b8420e356c29",
       "version_major": 2,
       "version_minor": 0
      },
      "text/plain": [
       "VBox()"
      ]
     },
     "metadata": {},
     "output_type": "display_data"
    },
    {
     "data": {
      "application/vnd.jupyter.widget-view+json": {
       "model_id": "",
       "version_major": 2,
       "version_minor": 0
      },
      "text/plain": [
       "FloatProgress(value=0.0, bar_style='info', description='Progress:', layout=Layout(height='25px', width='50%'),…"
      ]
     },
     "metadata": {},
     "output_type": "display_data"
    },
    {
     "name": "stderr",
     "output_type": "stream",
     "text": [
      "An error was encountered:\n",
      "Table or view not found: dfc; line 4 pos 9;\n",
      "'WithCTE\n",
      ":- 'CTERelationDef 3\n",
      ":  +- 'SubqueryAlias user_levels\n",
      ":     +- 'Aggregate ['userId, 'churn], ['userId, 'churn, 'sum(CASE WHEN ('level = free) THEN 1 ELSE 0 END) AS free#40, 'sum(CASE WHEN ('level = paid) THEN 1 ELSE 0 END) AS paid#41, count(1) AS c#42L]\n",
      ":        +- 'UnresolvedRelation [dfc], [], false\n",
      "+- 'Aggregate ['churn], ['churn, 'sum(CASE WHEN ('free > 0) THEN 1 ELSE 0 END) AS free_usage#37, 'sum(CASE WHEN ('paid > 0) THEN 1 ELSE 0 END) AS paid_usage#38, 'sum(CASE WHEN (('paid > 0) AND ('free > 0)) THEN 1 ELSE 0 END) AS both#39]\n",
      "   +- 'SubqueryAlias user_levels\n",
      "      +- 'CTERelationRef 3, false\n",
      "\n",
      "Traceback (most recent call last):\n",
      "  File \"/mnt1/yarn/usercache/livy/appcache/application_1652955775613_0001/container_1652955775613_0001_01_000001/pyspark.zip/pyspark/sql/session.py\", line 723, in sql\n",
      "    return DataFrame(self._jsparkSession.sql(sqlQuery), self._wrapped)\n",
      "  File \"/mnt1/yarn/usercache/livy/appcache/application_1652955775613_0001/container_1652955775613_0001_01_000001/py4j-0.10.9.2-src.zip/py4j/java_gateway.py\", line 1310, in __call__\n",
      "    answer, self.gateway_client, self.target_id, self.name)\n",
      "  File \"/mnt1/yarn/usercache/livy/appcache/application_1652955775613_0001/container_1652955775613_0001_01_000001/pyspark.zip/pyspark/sql/utils.py\", line 117, in deco\n",
      "    raise converted from None\n",
      "pyspark.sql.utils.AnalysisException: Table or view not found: dfc; line 4 pos 9;\n",
      "'WithCTE\n",
      ":- 'CTERelationDef 3\n",
      ":  +- 'SubqueryAlias user_levels\n",
      ":     +- 'Aggregate ['userId, 'churn], ['userId, 'churn, 'sum(CASE WHEN ('level = free) THEN 1 ELSE 0 END) AS free#40, 'sum(CASE WHEN ('level = paid) THEN 1 ELSE 0 END) AS paid#41, count(1) AS c#42L]\n",
      ":        +- 'UnresolvedRelation [dfc], [], false\n",
      "+- 'Aggregate ['churn], ['churn, 'sum(CASE WHEN ('free > 0) THEN 1 ELSE 0 END) AS free_usage#37, 'sum(CASE WHEN ('paid > 0) THEN 1 ELSE 0 END) AS paid_usage#38, 'sum(CASE WHEN (('paid > 0) AND ('free > 0)) THEN 1 ELSE 0 END) AS both#39]\n",
      "   +- 'SubqueryAlias user_levels\n",
      "      +- 'CTERelationRef 3, false\n",
      "\n",
      "\n"
     ]
    }
   ],
   "source": [
    "spark.sql('''with user_levels as (\n",
    "    select userId, churn, sum(case when level = 'free' then 1 else 0 end) as free\n",
    "    , sum(case when level = 'paid' then 1 else 0 end) as paid, count(*) c\n",
    "    from dfc\n",
    "    group by userId,  churn\n",
    ")\n",
    "\n",
    "select churn, sum(case when free > 0 then 1 else 0 end) as free_usage\n",
    ", sum(case when paid > 0 then 1 else 0 end) as paid_usage\n",
    ", sum(case when paid > 0 and free > 0 then 1 else 0 end) as both\n",
    "from user_levels\n",
    "group by churn\n",
    "''').toPandas()"
   ]
  },
  {
   "cell_type": "code",
   "execution_count": null,
   "id": "ac72efc5-bea6-4bca-bef5-29add5f10852",
   "metadata": {},
   "outputs": [],
   "source": []
  }
 ],
 "metadata": {
  "kernelspec": {
   "display_name": "PySpark",
   "language": "python",
   "name": "pysparkkernel"
  },
  "language_info": {
   "codemirror_mode": {
    "name": "python",
    "version": 3
   },
   "file_extension": ".py",
   "mimetype": "text/x-python",
   "name": "pyspark",
   "pygments_lexer": "python3"
  }
 },
 "nbformat": 4,
 "nbformat_minor": 5
}
