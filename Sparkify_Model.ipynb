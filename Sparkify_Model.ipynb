{
 "cells": [
  {
   "cell_type": "code",
   "execution_count": 280,
   "id": "3078fea1-fea1-48ea-a100-41d19229bb36",
   "metadata": {},
   "outputs": [],
   "source": [
    "import numpy as np\n",
    "import pandas as pd\n",
    "from pyspark.sql.types import IntegerType\n",
    "import matplotlib.pyplot as plt\n",
    "import seaborn as sns\n",
    "from pyspark.sql import SparkSession\n",
    "from pyspark.ml.feature import OneHotEncoder, StringIndexer, VectorAssembler, MinMaxScaler\n",
    "from pyspark.ml import Pipeline\n",
    "from pyspark.ml.classification import RandomForestClassifier, GBTClassifier, LinearSVC\n",
    "from pyspark.mllib.evaluation import MulticlassMetrics\n",
    "from pyspark.sql.functions import col\n",
    "from pyspark.ml.evaluation import MultilabelClassificationEvaluator, MulticlassClassificationEvaluator\n",
    "from pyspark.ml.tuning import CrossValidator, ParamGridBuilder"
   ]
  },
  {
   "cell_type": "code",
   "execution_count": 165,
   "id": "f775de9f-33a1-494f-9b39-d19ef72259e7",
   "metadata": {},
   "outputs": [
    {
     "data": {
      "text/plain": [
       "Row(adverts_per_song=0.07240704500978473, adverts_per_song_free=0.07240704500978473, adverts_per_song_paid=0.0, artist_diversity=0.7504892367906066, churn=1, downgrade_visits=3, errors_per_activity=0.002277904328018223, friends_added=14, gender='M', help_visits_per_activity=0.006074411541381929, home_visits_per_activity=0.033409263477600606, location='Findlay, OH', mobile=0.0, pc=1.0, skip_ahead_per_song=0.015655577299412915, song_diversity=0.9275929549902152, songs_in_playlist=25, songs_per_artist=1.2359843546284224, submitted_downgrades=1, tablet=0.0, thumbs_down_per_song=0.03228962818003914, thumbs_up_per_song=0.05185909980430528, upgrade_visits=9, userId='1000280')"
      ]
     },
     "execution_count": 165,
     "metadata": {},
     "output_type": "execute_result"
    }
   ],
   "source": [
    "# Create spark session\n",
    "spark = SparkSession \\\n",
    "    .builder \\\n",
    "    .appName(\"Sparkify\") \\\n",
    "    .getOrCreate()\n",
    "\n",
    "#    .config( \\\n",
    "#    \"spark.archives\",  \\\n",
    "#    \"pyspark_venv.tar.gz#environment\") \\\n",
    "\n",
    "# Read in full sparkify dataset\n",
    "feature_data = \"./features.json\"\n",
    "\n",
    "df = spark.read.json(feature_data)\n",
    "df.persist()\n",
    "df.createOrReplaceTempView('df')\n",
    "df.head()"
   ]
  },
  {
   "cell_type": "code",
   "execution_count": 166,
   "id": "b8afe191-5e72-4ea4-ae36-caab41d04326",
   "metadata": {},
   "outputs": [
    {
     "name": "stdout",
     "output_type": "stream",
     "text": [
      "root\n",
      " |-- adverts_per_song: double (nullable = true)\n",
      " |-- adverts_per_song_free: double (nullable = true)\n",
      " |-- adverts_per_song_paid: double (nullable = true)\n",
      " |-- artist_diversity: double (nullable = true)\n",
      " |-- churn: long (nullable = true)\n",
      " |-- downgrade_visits: long (nullable = true)\n",
      " |-- errors_per_activity: double (nullable = true)\n",
      " |-- friends_added: long (nullable = true)\n",
      " |-- gender: string (nullable = true)\n",
      " |-- help_visits_per_activity: double (nullable = true)\n",
      " |-- home_visits_per_activity: double (nullable = true)\n",
      " |-- location: string (nullable = true)\n",
      " |-- mobile: double (nullable = true)\n",
      " |-- pc: double (nullable = true)\n",
      " |-- skip_ahead_per_song: double (nullable = true)\n",
      " |-- song_diversity: double (nullable = true)\n",
      " |-- songs_in_playlist: long (nullable = true)\n",
      " |-- songs_per_artist: double (nullable = true)\n",
      " |-- submitted_downgrades: long (nullable = true)\n",
      " |-- tablet: double (nullable = true)\n",
      " |-- thumbs_down_per_song: double (nullable = true)\n",
      " |-- thumbs_up_per_song: double (nullable = true)\n",
      " |-- upgrade_visits: long (nullable = true)\n",
      " |-- userId: string (nullable = true)\n",
      "\n"
     ]
    }
   ],
   "source": [
    "df.printSchema()"
   ]
  },
  {
   "cell_type": "code",
   "execution_count": 246,
   "id": "6dc5e0a8-d347-49a3-b42d-14fe0b31227c",
   "metadata": {},
   "outputs": [],
   "source": [
    "(trainingData, testData) = df.randomSplit([0.75, 0.25])"
   ]
  },
  {
   "cell_type": "markdown",
   "id": "2ea7f346-b093-463a-a434-4a751ac042c7",
   "metadata": {},
   "source": [
    "## DataFrame preparation and scaling"
   ]
  },
  {
   "cell_type": "code",
   "execution_count": 250,
   "id": "1f720e70-b80a-4faf-9f39-c2a632bc7931",
   "metadata": {},
   "outputs": [],
   "source": [
    "# common functions\n",
    "def get_metrics(prediction):\n",
    "    predictionAndLabels = prediction.withColumn(\"churnD\",col(\"churn\").cast(\"Double\")).select(['prediction', 'churnD']).rdd\n",
    "    return MulticlassMetrics(predictionAndLabels)\n",
    "\n",
    "def display_metrics(metrics):\n",
    "    display(metrics.confusionMatrix().toArray())\n",
    "    print('precision: ', metrics.precision(1.0))\n",
    "    print('   recall: ', metrics.recall(1.0))\n",
    "    print(' accuracy: ', metrics.accuracy)\n",
    "    print('       f1: ', metrics.fMeasure(1.0, 1.0)) # label, beta\n",
    "    ax = sns.heatmap(metrics.confusionMatrix().toArray(), annot=True, fmt='g')\n",
    "    ax.set(xlabel='Predicted Churn', ylabel='True Churn', title='Confusion Matrix')"
   ]
  },
  {
   "cell_type": "code",
   "execution_count": 247,
   "id": "921f92dc-1046-4d80-90de-8475f1c9f35f",
   "metadata": {},
   "outputs": [],
   "source": [
    "def build_pipeline(classifier):\n",
    "    stages = [StringIndexer(inputCol=column, outputCol=column+\"IDX\") for column in ['gender', 'location']]\n",
    "    onehotencoder = OneHotEncoder(inputCols=[\"locationIDX\"], outputCols=[\"locationVec\"])\n",
    "    stages.append(onehotencoder)\n",
    "\n",
    "    assembler = VectorAssembler(\n",
    "        inputCols=[\"adverts_per_song\", \"adverts_per_song_free\", \"adverts_per_song_paid\", \"artist_diversity\", \"downgrade_visits\", \"errors_per_activity\", \"friends_added\",  \n",
    "                   \"help_visits_per_activity\", \"home_visits_per_activity\", \"mobile\", \"pc\", \"skip_ahead_per_song\", \"song_diversity\", \"songs_in_playlist\", \"songs_per_artist\", \"submitted_downgrades\", \n",
    "                   \"tablet\", \"thumbs_down_per_song\", \"thumbs_up_per_song\", \"upgrade_visits\", \"genderIDX\"],\n",
    "        outputCol=\"features\")\n",
    "\n",
    "    stages.append(assembler)\n",
    "\n",
    "    scaler = MinMaxScaler(inputCol='features', outputCol='scaledFeatures')\n",
    "    stages.append(scaler)\n",
    "    stages.append(classifier)\n",
    "\n",
    "    return Pipeline(stages=stages)"
   ]
  },
  {
   "cell_type": "markdown",
   "id": "5de555d4-0e64-4994-b215-09f8aba0df90",
   "metadata": {},
   "source": [
    "## Random Forest Classifier"
   ]
  },
  {
   "cell_type": "code",
   "execution_count": 276,
   "id": "79e3f955-0646-4f6f-b46b-7f8b4a44ff21",
   "metadata": {},
   "outputs": [],
   "source": [
    "rf = RandomForestClassifier(labelCol=\"churn\", featuresCol=\"scaledFeatures\")\n",
    "pipeline = build_pipeline(rf)"
   ]
  },
  {
   "cell_type": "code",
   "execution_count": 277,
   "id": "5c8ac084-1f0b-46fb-900f-ebdf281be02e",
   "metadata": {},
   "outputs": [],
   "source": [
    "paramGrid = ParamGridBuilder() \\\n",
    "    .addGrid(rf.maxDepth, [3, 5, 10]) \\\n",
    "    .addGrid(rf.numTrees, [5, 10, 20]) \\\n",
    "    .build()\n",
    "\n",
    "crossval = CrossValidator(estimator=pipeline,\n",
    "                          estimatorParamMaps=paramGrid,\n",
    "                          evaluator=MulticlassClassificationEvaluator(labelCol='churn', metricLabel=1.0, metricName='fMeasureByLabel'),\n",
    "                          numFolds=5)  \n",
    "\n",
    "rf_model = crossval.fit(trainingData)"
   ]
  },
  {
   "cell_type": "code",
   "execution_count": 278,
   "id": "1b361f8c-fb80-4299-b43f-8fb947e340de",
   "metadata": {},
   "outputs": [
    {
     "data": {
      "text/plain": [
       "array([[12820.,   140.],\n",
       "       [ 2630.,  1095.]])"
      ]
     },
     "metadata": {},
     "output_type": "display_data"
    },
    {
     "name": "stdout",
     "output_type": "stream",
     "text": [
      "precision:  0.8866396761133604\n",
      "   recall:  0.29395973154362415\n",
      " accuracy:  0.8339826191189691\n",
      "       f1:  0.44153225806451607\n"
     ]
    },
    {
     "data": {
      "image/png": "[encoded data removed]",
      "text/plain": [
       "<Figure size 432x288 with 2 Axes>"
      ]
     },
     "metadata": {
      "needs_background": "light"
     },
     "output_type": "display_data"
    }
   ],
   "source": [
    "trainPred = rf_model.transform(trainingData)\n",
    "trainMetrics = get_metrics(trainPred)\n",
    "display_metrics(trainMetrics)"
   ]
  },
  {
   "cell_type": "code",
   "execution_count": 279,
   "id": "fc968229-789c-412e-af72-e75e18d9420c",
   "metadata": {},
   "outputs": [
    {
     "data": {
      "text/plain": [
       "array([[4134.,  165.],\n",
       "       [1048.,  229.]])"
      ]
     },
     "metadata": {},
     "output_type": "display_data"
    },
    {
     "name": "stdout",
     "output_type": "stream",
     "text": [
      "precision:  0.5812182741116751\n",
      "   recall:  0.1793265465935787\n",
      " accuracy:  0.7824605451936872\n",
      "       f1:  0.27408737283064033\n"
     ]
    },
    {
     "data": {
      "image/png": "[encoded data removed]",
      "text/plain": [
       "<Figure size 432x288 with 2 Axes>"
      ]
     },
     "metadata": {
      "needs_background": "light"
     },
     "output_type": "display_data"
    }
   ],
   "source": [
    "testPred = rf_model.transform(testData)\n",
    "testMetrics = get_metrics(testPred)\n",
    "display_metrics(testMetrics)"
   ]
  },
  {
   "cell_type": "markdown",
   "id": "afb8b067-9814-4d50-8104-dc4afade89e5",
   "metadata": {},
   "source": [
    "## Gradient Boosted Tree"
   ]
  },
  {
   "cell_type": "code",
   "execution_count": 265,
   "id": "97622043-f3f1-4273-888d-df4b1d8839ad",
   "metadata": {},
   "outputs": [],
   "source": [
    "gbt = GBTClassifier(labelCol=\"churn\", featuresCol=\"scaledFeatures\")\n",
    "pipeline = build_pipeline(gbt)"
   ]
  },
  {
   "cell_type": "code",
   "execution_count": 266,
   "id": "ec6a631e-42bc-452c-8193-2e155f052b53",
   "metadata": {},
   "outputs": [],
   "source": [
    "paramGrid = ParamGridBuilder() \\\n",
    "    .addGrid(gbt.maxDepth, [3, 5, 10]) \\\n",
    "    .addGrid(gbt.maxIter, [5, 10, 20]) \\\n",
    "    .build()\n",
    "\n",
    "crossval = CrossValidator(estimator=pipeline,\n",
    "                          estimatorParamMaps=paramGrid,\n",
    "                          evaluator=MulticlassClassificationEvaluator(labelCol='churn', metricLabel=1.0, metricName='fMeasureByLabel'),\n",
    "                          numFolds=5)  \n",
    "\n",
    "model = crossval.fit(trainingData)"
   ]
  },
  {
   "cell_type": "code",
   "execution_count": 267,
   "id": "bddad595-7446-4840-94d5-ef4f4074e064",
   "metadata": {},
   "outputs": [
    {
     "data": {
      "text/plain": [
       "array([[12558.,   402.],\n",
       "       [ 2690.,  1035.]])"
      ]
     },
     "metadata": {},
     "output_type": "display_data"
    },
    {
     "name": "stdout",
     "output_type": "stream",
     "text": [
      "precision:  0.7202505219206681\n",
      "   recall:  0.2778523489932886\n",
      " accuracy:  0.8146838477674558\n",
      "       f1:  0.4010073614877954\n"
     ]
    },
    {
     "data": {
      "image/png": "[encoded data removed]",
      "text/plain": [
       "<Figure size 432x288 with 2 Axes>"
      ]
     },
     "metadata": {
      "needs_background": "light"
     },
     "output_type": "display_data"
    }
   ],
   "source": [
    "trainPred = model.transform(trainingData)\n",
    "trainMetrics = get_metrics(trainPred)\n",
    "display_metrics(trainMetrics)"
   ]
  },
  {
   "cell_type": "code",
   "execution_count": 268,
   "id": "0e7a816a-426c-46bd-8f56-c3439c4f6101",
   "metadata": {},
   "outputs": [
    {
     "data": {
      "text/plain": [
       "array([[4109.,  190.],\n",
       "       [1017.,  260.]])"
      ]
     },
     "metadata": {},
     "output_type": "display_data"
    },
    {
     "name": "stdout",
     "output_type": "stream",
     "text": [
      "precision:  0.5777777777777777\n",
      "   recall:  0.20360219263899765\n",
      " accuracy:  0.7835365853658537\n",
      "       f1:  0.30110017371163866\n"
     ]
    },
    {
     "data": {
      "image/png": "[encoded data removed]",
      "text/plain": [
       "<Figure size 432x288 with 2 Axes>"
      ]
     },
     "metadata": {
      "needs_background": "light"
     },
     "output_type": "display_data"
    }
   ],
   "source": [
    "testPred = model.transform(testData)\n",
    "testMetrics = get_metrics(testPred)\n",
    "display_metrics(testMetrics)"
   ]
  },
  {
   "cell_type": "markdown",
   "id": "a99907a8-d0fd-4040-8b44-4fbe5a72e315",
   "metadata": {},
   "source": [
    "## Linear Support Vector Machine"
   ]
  },
  {
   "cell_type": "code",
   "execution_count": 281,
   "id": "3a70ba15-dcc3-4830-aac8-7df31d6449d9",
   "metadata": {},
   "outputs": [],
   "source": [
    "svc = LinearSVC(labelCol=\"churn\", featuresCol=\"scaledFeatures\")\n",
    "pipeline = build_pipeline(svc)\n"
   ]
  },
  {
   "cell_type": "code",
   "execution_count": null,
   "id": "c67ee5ff-6fcf-424b-ae30-38a06576e207",
   "metadata": {},
   "outputs": [],
   "source": [
    "paramGrid = ParamGridBuilder() \\\n",
    "    .addGrid(svc.maxIter, [5, 10, 20, 50]) \\\n",
    "    .build()\n",
    "\n",
    "crossval = CrossValidator(estimator=pipeline,\n",
    "                          estimatorParamMaps=paramGrid,\n",
    "                          evaluator=MulticlassClassificationEvaluator(labelCol='churn', metricLabel=1.0, metricName='fMeasureByLabel'),\n",
    "                          numFolds=5)  \n",
    "\n",
    "svc_model = crossval.fit(trainingData)"
   ]
  },
  {
   "cell_type": "code",
   "execution_count": 284,
   "id": "cc927544-ebe5-45cb-acb3-265692fab024",
   "metadata": {},
   "outputs": [
    {
     "data": {
      "text/plain": [
       "array([[1.2959e+04, 1.0000e+00],\n",
       "       [3.7240e+03, 1.0000e+00]])"
      ]
     },
     "metadata": {},
     "output_type": "display_data"
    },
    {
     "name": "stdout",
     "output_type": "stream",
     "text": [
      "precision:  0.5\n",
      "   recall:  0.00026845637583892615\n",
      " accuracy:  0.7767455798621516\n",
      "       f1:  0.0005366246310705661\n"
     ]
    },
    {
     "data": {
      "image/png": "[encoded data removed]",
      "text/plain": [
       "<Figure size 432x288 with 2 Axes>"
      ]
     },
     "metadata": {
      "needs_background": "light"
     },
     "output_type": "display_data"
    }
   ],
   "source": [
    "trainPred = svc_model.transform(trainingData)\n",
    "trainMetrics = get_metrics(trainPred)\n",
    "display_metrics(trainMetrics)"
   ]
  },
  {
   "cell_type": "code",
   "execution_count": 285,
   "id": "e1a6d45b-72d5-4049-8f90-4e94f3eeb0c6",
   "metadata": {},
   "outputs": [
    {
     "data": {
      "text/plain": [
       "array([[4299.,    0.],\n",
       "       [1277.,    0.]])"
      ]
     },
     "metadata": {},
     "output_type": "display_data"
    },
    {
     "name": "stdout",
     "output_type": "stream",
     "text": [
      "precision:  0.0\n",
      "   recall:  0.0\n",
      " accuracy:  0.7709827833572453\n",
      "       f1:  0.0\n"
     ]
    },
    {
     "data": {
      "image/png": "[encoded data removed]",
      "text/plain": [
       "<Figure size 432x288 with 2 Axes>"
      ]
     },
     "metadata": {
      "needs_background": "light"
     },
     "output_type": "display_data"
    }
   ],
   "source": [
    "testPred = svc_model.transform(testData)\n",
    "testMetrics = get_metrics(testPred)\n",
    "display_metrics(testMetrics)"
   ]
  },
  {
   "cell_type": "markdown",
   "id": "a8551a9c-b850-4693-b241-d822cd3c0f1b",
   "metadata": {},
   "source": [
    "## Baseline informed random guess"
   ]
  },
  {
   "cell_type": "code",
   "execution_count": null,
   "id": "a1f272c1-a2ee-4687-a1ed-5a8951920cec",
   "metadata": {},
   "outputs": [],
   "source": []
  },
  {
   "cell_type": "code",
   "execution_count": 253,
   "id": "500fbe94-2d97-44cd-ba74-b766ee77ce3f",
   "metadata": {},
   "outputs": [
    {
     "name": "stdout",
     "output_type": "stream",
     "text": [
      "+-----------------------+\n",
      "|(sum(churn) / count(1))|\n",
      "+-----------------------+\n",
      "|    0.22469790216072952|\n",
      "+-----------------------+\n",
      "\n",
      "+--------+\n",
      "|count(1)|\n",
      "+--------+\n",
      "|    5576|\n",
      "+--------+\n",
      "\n"
     ]
    }
   ],
   "source": [
    "spark.sql('''\n",
    "select sum(churn) / count(*) from df\n",
    "''').show()\n",
    "\n",
    "testPred.createOrReplaceTempView('testPred')\n",
    "spark.sql('''\n",
    "select  count(*) from testPred\n",
    "''').show()"
   ]
  },
  {
   "cell_type": "code",
   "execution_count": 256,
   "id": "f010ed0c-2ba8-48a0-b3f0-fd3397a6c80c",
   "metadata": {},
   "outputs": [],
   "source": [
    "p = 0.22469790216072952 # overall likelyhood of churn in dataset\n",
    "random_pred = np.random.choice([0,1], size=(5576), p=[1-p, p])\n",
    "randomPred = testPred.select('churn').toPandas()\n",
    "randomPred['prediction'] = random_pred\n",
    "df_randomPred = spark.createDataFrame(randomPred.astype('double'))"
   ]
  },
  {
   "cell_type": "code",
   "execution_count": 258,
   "id": "2123bfa6-bb9b-46e1-9d28-9330bd6d1724",
   "metadata": {
    "tags": []
   },
   "outputs": [
    {
     "name": "stdout",
     "output_type": "stream",
     "text": [
      "+-----+----------+\n",
      "|churn|prediction|\n",
      "+-----+----------+\n",
      "|  1.0|       0.0|\n",
      "|  0.0|       0.0|\n",
      "|  1.0|       1.0|\n",
      "|  0.0|       0.0|\n",
      "|  0.0|       0.0|\n",
      "|  0.0|       1.0|\n",
      "|  0.0|       0.0|\n",
      "|  0.0|       0.0|\n",
      "|  0.0|       1.0|\n",
      "|  0.0|       1.0|\n",
      "|  0.0|       0.0|\n",
      "|  0.0|       1.0|\n",
      "|  0.0|       0.0|\n",
      "|  0.0|       0.0|\n",
      "|  0.0|       0.0|\n",
      "+-----+----------+\n",
      "only showing top 15 rows\n",
      "\n"
     ]
    }
   ],
   "source": [
    "df_randomPred.show(15)"
   ]
  },
  {
   "cell_type": "code",
   "execution_count": 259,
   "id": "c1030673-4499-419a-8e22-75d898303c52",
   "metadata": {},
   "outputs": [
    {
     "name": "stderr",
     "output_type": "stream",
     "text": [
      "/usr/local/spark/python/pyspark/sql/context.py:125: FutureWarning: Deprecated in 3.0.0. Use SparkSession.builder.getOrCreate() instead.\n",
      "  warnings.warn(\n"
     ]
    },
    {
     "data": {
      "text/plain": [
       "array([[3317.,  982.],\n",
       "       [ 984.,  293.]])"
      ]
     },
     "metadata": {},
     "output_type": "display_data"
    },
    {
     "name": "stdout",
     "output_type": "stream",
     "text": [
      "precision:  0.22980392156862745\n",
      "   recall:  0.22944400939702428\n",
      " accuracy:  0.6474175035868006\n",
      "       f1:  0.22962382445141064\n"
     ]
    },
    {
     "data": {
      "image/png": "[encoded data removed]",
      "text/plain": [
       "<Figure size 432x288 with 2 Axes>"
      ]
     },
     "metadata": {
      "needs_background": "light"
     },
     "output_type": "display_data"
    }
   ],
   "source": [
    "display_metrics(get_metrics(df_randomPred))"
   ]
  },
  {
   "cell_type": "code",
   "execution_count": 197,
   "id": "de5a96ab-6aae-4b28-8019-2d83973ec733",
   "metadata": {},
   "outputs": [
    {
     "data": {
      "text/plain": [
       "churn         1522\n",
       "prediction    1523\n",
       "dtype: int64"
      ]
     },
     "execution_count": 197,
     "metadata": {},
     "output_type": "execute_result"
    }
   ],
   "source": [
    "randomPred.sum()"
   ]
  },
  {
   "cell_type": "code",
   "execution_count": null,
   "id": "f96339f5-b5f0-4d29-8527-0417dc733ce2",
   "metadata": {},
   "outputs": [],
   "source": []
  }
 ],
 "metadata": {
  "kernelspec": {
   "display_name": "Python 3 (ipykernel)",
   "language": "python",
   "name": "python3"
  },
  "language_info": {
   "codemirror_mode": {
    "name": "ipython",
    "version": 3
   },
   "file_extension": ".py",
   "mimetype": "text/x-python",
   "name": "python",
   "nbconvert_exporter": "python",
   "pygments_lexer": "ipython3",
   "version": "3.9.12"
  }
 },
 "nbformat": 4,
 "nbformat_minor": 5
}
