{
 "cells": [
  {
   "cell_type": "code",
   "execution_count": null,
   "id": "3078fea1-fea1-48ea-a100-41d19229bb36",
   "metadata": {},
   "outputs": [],
   "source": [
    "import numpy as np\n",
    "import pandas as pd\n",
    "from pyspark.sql.types import IntegerType\n",
    "import matplotlib.pyplot as plt\n",
    "import seaborn as sns\n",
    "from pyspark.sql import SparkSession"
   ]
  },
  {
   "cell_type": "code",
   "execution_count": null,
   "id": "f775de9f-33a1-494f-9b39-d19ef72259e7",
   "metadata": {},
   "outputs": [],
   "source": [
    "# Create spark session\n",
    "spark = SparkSession \\\n",
    "    .builder \\\n",
    "    .appName(\"Sparkify\") \\\n",
    "    .getOrCreate()\n",
    "\n",
    "#    .config( \\\n",
    "#    \"spark.archives\",  \\\n",
    "#    \"pyspark_venv.tar.gz#environment\") \\\n",
    "\n",
    "# Read in full sparkify dataset\n",
    "feature_data = \"./features.json\"\n",
    "\n",
    "df = spark.read.json(event_data)\n",
    "df.persist()\n",
    "df.createOrReplaceTempView('df')\n",
    "df.head()"
   ]
  }
 ],
 "metadata": {
  "kernelspec": {
   "display_name": "Python 3 (ipykernel)",
   "language": "python",
   "name": "python3"
  },
  "language_info": {
   "codemirror_mode": {
    "name": "ipython",
    "version": 3
   },
   "file_extension": ".py",
   "mimetype": "text/x-python",
   "name": "python",
   "nbconvert_exporter": "python",
   "pygments_lexer": "ipython3",
   "version": "3.9.12"
  }
 },
 "nbformat": 4,
 "nbformat_minor": 5
}
